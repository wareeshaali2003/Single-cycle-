{
 "cells": [
 {
   "cell_type": "markdown",
   "id": "starting-eugene",
   "metadata": {},
   "source": [
    "Before you turn this problem in, make sure everything runs as expected. First, **restart the kernel** (in the menubar, select Kernel$\\rightarrow$Restart) and then **run all cells** (in the menubar, select Cell$\\rightarrow$Run All).\n",
    "\n",
    "Make sure you fill in any place that says `YOUR CODE HERE` or \"YOUR ANSWER HERE\", as well as your name and collaborators below:"
   ]
  },
  {
   "cell_type": "code",
   "execution_count": null,
   "id": "billion-baker",
   "metadata": {},
   "outputs": [],
   "source": [
    "val NAME = \"\"\n",
    "val COLLABORATORS = \"\""
   ]
  },
  {
   "cell_type": "markdown",
   "id": "extensive-midwest",
   "metadata": {},
   "source": [
    "---"
   ]
  },
  {
   "cell_type": "markdown",
   "id": "thick-battery",
   "metadata": {
    "cell_style": "center",
    "deletable": false,
    "editable": false,
    "nbgrader": {
     "cell_type": "markdown",
     "checksum": "e742e9f55692d0f9a63b54c35a528d4f",
     "grade": false,
     "grade_id": "header",
     "locked": true,
     "schema_version": 3,
     "solution": false,
     "task": false
    },
    "slideshow": {
     "slide_type": "slide"
    }
   },
   "source": [
    "# Lab2 Sequential Logic\n",
    "> Labs will be due each week before the homeworks. They are not intended take a significant amount of time but rather to provide examples/practice on specific and isolated features in the language. Labs are autograded so you can get quick feedback."
   ]
  },
  {
   "cell_type": "markdown",
   "id": "dramatic-checklist",
   "metadata": {
    "deletable": false,
    "editable": false,
    "nbgrader": {
     "cell_type": "markdown",
     "checksum": "9f555f0f7ac7048748fcf1a467a08721",
     "grade": false,
     "grade_id": "imports-header",
     "locked": true,
     "schema_version": 3,
     "solution": false,
     "task": false
    }
   },
   "source": [
    "### Import the necessary Chisel dependencies. \n",
    "> There will be a cell like this in every lab. Make sure you run it before proceeding to bring the Chisel Library into the Jupyter Notebook scope!"
   ]
  },
  {
   "cell_type": "code",
   "execution_count": null,
   "id": "imposed-egypt",
   "metadata": {
    "deletable": false,
    "editable": false,
    "nbgrader": {
     "cell_type": "code",
     "checksum": "21f209c2374499cd3c6c5043e35a7f90",
     "grade": false,
     "grade_id": "imports1",
     "locked": true,
     "schema_version": 3,
     "solution": false,
     "task": false
    }
   },
   "outputs": [],
   "source": [
    "val path = System.getProperty(\"user.dir\") + \"/resource/chisel_deps.sc\"\n",
    "interp.load.module(ammonite.ops.Path(java.nio.file.FileSystems.getDefault().getPath(path)))"
   ]
  },
  {
   "cell_type": "code",
   "execution_count": null,
   "id": "respiratory-board",
   "metadata": {
    "deletable": false,
    "editable": false,
    "nbgrader": {
     "cell_type": "code",
     "checksum": "983b6f254eef272a20e1a6a44677fe6b",
     "grade": false,
     "grade_id": "imports",
     "locked": true,
     "schema_version": 3,
     "solution": false,
     "task": false
    }
   },
   "outputs": [],
   "source": [
    "import chisel3._\n",
    "import chisel3.util._\n",
    "import chiseltest._\n",
    "import chisel3.tester.RawTester.test"
   ]
  },
  {
   "cell_type": "markdown",
   "id": "sharp-desperate",
   "metadata": {
    "deletable": false,
    "editable": false,
    "nbgrader": {
     "cell_type": "markdown",
     "checksum": "2e18601908f9b79b143461ca283ebc9d",
     "grade": false,
     "grade_id": "register-header",
     "locked": true,
     "schema_version": 3,
     "solution": false,
     "task": false
    }
   },
   "source": [
    "## Problem 1 (2 pts) - State\n",
    "> We can use registers to store state across multiple cycles. In Chisel, to build registers we use `Reg` as well as `RegNext` and `RegInit` ([more info](https://www.chisel-lang.org/chisel3/docs/explanations/sequential-circuits.html)). Fill in the `Delay2` module such that `out` signal is equal to the `in` signal delayed by 2 cycles."
   ]
  },
  {
   "cell_type": "code",
   "execution_count": null,
   "id": "damaged-asbestos",
   "metadata": {
    "deletable": false,
    "nbgrader": {
     "cell_type": "code",
     "checksum": "2510ffc5837458a4086ba03c17f22c91",
     "grade": false,
     "grade_id": "delay2",
     "locked": false,
     "schema_version": 3,
     "solution": true,
     "task": false
    }
   },
   "outputs": [],
   "source": [
    "class Delay2 extends Module {\n",
    "    val io = IO(new Bundle {\n",
    "        val in  = Input(UInt(5.W))\n",
    "        val out = Output(UInt(5.W))\n",
    "    })\n",
    "    \n",
    "    // YOUR CODE HERE\n",
    "    ???\n",
    "}"
   ]
  },
  {
   "cell_type": "code",
   "execution_count": null,
   "id": "embedded-division",
   "metadata": {
    "deletable": false,
    "editable": false,
    "nbgrader": {
     "cell_type": "code",
     "checksum": "f18694071a9f4d651c90365471aed233",
     "grade": true,
     "grade_id": "test-delay2",
     "locked": true,
     "points": 2,
     "schema_version": 3,
     "solution": false,
     "task": false
    }
   },
   "outputs": [],
   "source": [
    "def testDelay2: Boolean = {\n",
    "    test(new Delay2) { dut =>\n",
    "        // Cycle0\n",
    "        dut.io.in.poke(5.U)\n",
    "        dut.io.out.expect(0.U)\n",
    "        dut.clock.step(1)\n",
    "        \n",
    "        \n",
    "        // Cycle1\n",
    "        dut.io.in.poke(4.U)\n",
    "        dut.io.out.expect(0.U)\n",
    "        dut.clock.step(1)\n",
    "        \n",
    "        \n",
    "        // Cycle2\n",
    "        dut.io.in.poke(3.U)\n",
    "        dut.io.out.expect(5.U)\n",
    "        dut.clock.step(1)\n",
    "        \n",
    "        // Cycle3\n",
    "        dut.io.out.expect(4.U)\n",
    "        dut.clock.step(1)\n",
    "        \n",
    "        // Cycle4\n",
    "        dut.io.out.expect(3.U)\n",
    "        dut.clock.step(1)\n",
    "    }\n",
    "    true\n",
    "}\n",
    "assert(testDelay2)"
   ]
  },
  {
   "cell_type": "markdown",
   "id": "unlike-novelty",
   "metadata": {
    "deletable": false,
    "editable": false,
    "nbgrader": {
     "cell_type": "markdown",
     "checksum": "a96f741f0e1ab10e5e401e45cc01efee",
     "grade": false,
     "grade_id": "accum-header",
     "locked": true,
     "schema_version": 3,
     "solution": false,
     "task": false
    }
   },
   "source": [
    "## Problem 2 (3 pts) - Accumulator\n",
    "> Let's build an _accumulator_. Each cycle `en` is high, it will add `in` to it's internal total. The internal total is visible as the output `out`. The internal total should initialize to 0 on reset."
   ]
  },
  {
   "cell_type": "code",
   "execution_count": null,
   "id": "relative-simulation",
   "metadata": {
    "deletable": false,
    "nbgrader": {
     "cell_type": "code",
     "checksum": "100fc25d3ecda8bf21f909ec581c9f70",
     "grade": false,
     "grade_id": "Accumulator",
     "locked": false,
     "schema_version": 3,
     "solution": true,
     "task": false
    }
   },
   "outputs": [],
   "source": [
    "class Accumulator(n: Int) extends Module {\n",
    "    val io = IO(new Bundle {\n",
    "        val in  = Input(UInt(n.W))\n",
    "        val en  = Input(Bool())\n",
    "        val out = Output(UInt(n.W))\n",
    "    })\n",
    "    \n",
    "    // YOUR CODE HERE\n",
    "    ???\n",
    "    \n",
    "}"
   ]
  },
  {
   "cell_type": "code",
   "execution_count": null,
   "id": "trained-tuition",
   "metadata": {
    "deletable": false,
    "editable": false,
    "nbgrader": {
     "cell_type": "code",
     "checksum": "706e40265b3601d0f15e009201204c48",
     "grade": true,
     "grade_id": "test-accumulator",
     "locked": true,
     "points": 3,
     "schema_version": 3,
     "solution": false,
     "task": false
    }
   },
   "outputs": [],
   "source": [
    "def testAccumulator: Boolean = {\n",
    "    test(new Accumulator(4)) { dut =>\n",
    "        // Cycle 0\n",
    "        dut.io.in.poke(0.U)\n",
    "        dut.io.en.poke(0.B)\n",
    "        dut.clock.step(1)\n",
    "        dut.io.out.expect(0.U)\n",
    "\n",
    "        // Cycle 1\n",
    "        dut.io.in.poke(0.U)\n",
    "        dut.io.en.poke(0.B)\n",
    "        dut.clock.step(1)\n",
    "        dut.io.out.expect(0.U)\n",
    "\n",
    "        // Cycle 2\n",
    "        dut.io.in.poke(3.U)\n",
    "        dut.io.en.poke(0.B)\n",
    "        dut.clock.step(1)\n",
    "        dut.io.out.expect(0.U)\n",
    "\n",
    "        // Cycle 3\n",
    "        dut.io.in.poke(3.U)\n",
    "        dut.io.en.poke(1.B)\n",
    "        dut.clock.step(1)\n",
    "        dut.io.out.expect(3.U)\n",
    "\n",
    "        // Cycle 3\n",
    "        dut.io.in.poke(4.U)\n",
    "        dut.io.en.poke(1.B)\n",
    "        dut.clock.step(1)\n",
    "        dut.io.out.expect(7.U)        \n",
    "    }\n",
    "    true\n",
    "}\n",
    "\n",
    "assert(testAccumulator)"
   ]
  },
  {
   "cell_type": "markdown",
   "id": "exposed-combination",
   "metadata": {
    "deletable": false,
    "editable": false,
    "nbgrader": {
     "cell_type": "markdown",
     "checksum": "e088736ec97ef7b103b01e08cb42c7cc",
     "grade": false,
     "grade_id": "cell-4310bf1dd699ea36",
     "locked": true,
     "schema_version": 3,
     "solution": false,
     "task": false
    }
   },
   "source": [
    "## Problem 3 (2 pts) - Scala Loops\n",
    "> To familiarize ourselves with looping in Scala, we will attempt a variant of the game [_Fizz buzz_](https://en.wikipedia.org/wiki/Fizz_buzz):\n",
    "\n",
    "* Count from 1 until `max` (exclusive)\n",
    "* Maintain three sums: `fizz`, `buzz`, and `fizzbuzz`\n",
    "* If the current count is divisible by ...\n",
    "    * `15` add count to `fizzbuzz`\n",
    "    * `5` add count to `buzz`\n",
    "    * `3` add count to `fizz`\n",
    "    * Add to the sums with the precedence rules given, so for example, if the count is `15`, only add to `fizzbuzz`."
   ]
  },
  {
   "cell_type": "code",
   "execution_count": null,
   "id": "coupled-personal",
   "metadata": {
    "deletable": false,
    "nbgrader": {
     "cell_type": "code",
     "checksum": "139fe9e48e22e24f0249d4c3262fa905",
     "grade": false,
     "grade_id": "fizzbuzz",
     "locked": false,
     "schema_version": 3,
     "solution": true,
     "task": false
    }
   },
   "outputs": [],
   "source": [
    "def fizzbuzz(max: Int): (Int, Int, Int) = {\n",
    "    var (fizz, buzz, fizzbuzz) = (0, 0, 0)\n",
    "    \n",
    "    // YOUR CODE HERE\n",
    "    ???\n",
    "}\n",
    "\n",
    "fizzbuzz(20)"
   ]
  },
  {
   "cell_type": "code",
   "execution_count": null,
   "id": "celtic-statistics",
   "metadata": {
    "deletable": false,
    "editable": false,
    "nbgrader": {
     "cell_type": "code",
     "checksum": "673abbadab0e2e675e68ae2576fe05ac",
     "grade": true,
     "grade_id": "testfizzbuzz",
     "locked": true,
     "points": 2,
     "schema_version": 3,
     "solution": false,
     "task": false
    }
   },
   "outputs": [],
   "source": [
    "assert(fizzbuzz(2) == (0, 0, 0))\n",
    "assert(fizzbuzz(20) == (48, 15, 15))\n",
    "assert(fizzbuzz(35) == (153, 60, 45))\n"
   ]
  },
  {
   "cell_type": "markdown",
   "id": "announced-triangle",
   "metadata": {
    "deletable": false,
    "editable": false,
    "nbgrader": {
     "cell_type": "markdown",
     "checksum": "9cc9f8fdda7aea52c580553111fed516",
     "grade": false,
     "grade_id": "chiselvec-header",
     "locked": true,
     "schema_version": 3,
     "solution": false,
     "task": false
    }
   },
   "source": [
    "## Problem 4 (3 pts) - ROM\n",
    "> Vecs allow us to dynamically index into a Chisel collection during operation in the generated hardware. The `ROM` module provided below stores 32 read-only UInts (0.U to 31.U) and selects one to output via the `select` signal. Fill in the tester `testROM` to exhaustively test all of `ROM`'s inputs."
   ]
  },
  {
   "cell_type": "code",
   "execution_count": null,
   "id": "random-marijuana",
   "metadata": {
    "deletable": false,
    "editable": false,
    "nbgrader": {
     "cell_type": "code",
     "checksum": "175562bad4f477c2caf2770ac4012aad",
     "grade": false,
     "grade_id": "ROM",
     "locked": true,
     "schema_version": 3,
     "solution": false,
     "task": false
    }
   },
   "outputs": [],
   "source": [
    "class ROM extends Module {\n",
    "    val io = IO(new Bundle {\n",
    "        val select = Input(UInt(5.W))\n",
    "        val out = Output(UInt(5.W))\n",
    "    })\n",
    "    \n",
    "    // 0.U, 1.U, ..., 31.U\n",
    "    val romData = Seq.tabulate(32)(i => i.U(5.W))\n",
    "    show(s\"romData: $romData\")\n",
    "    \n",
    "    val ROM: Vec[UInt] = VecInit(romData)\n",
    "    \n",
    "    io.out := ROM(io.select)\n",
    "}"
   ]
  },
  {
   "cell_type": "code",
   "execution_count": null,
   "id": "based-aggregate",
   "metadata": {
    "deletable": false,
    "nbgrader": {
     "cell_type": "code",
     "checksum": "fbc445f3f10848cb6732d12cedcf908f",
     "grade": false,
     "grade_id": "testROM",
     "locked": false,
     "schema_version": 3,
     "solution": true,
     "task": false
    }
   },
   "outputs": [],
   "source": [
    "def testROM: Boolean = {\n",
    "    test(new ROM) { dut =>\n",
    "        \n",
    "        // YOUR CODE HERE\n",
    "        ???\n",
    "    }\n",
    "    true\n",
    "}"
   ]
  },
  {
   "cell_type": "code",
   "execution_count": null,
   "id": "czech-payday",
   "metadata": {
    "deletable": false,
    "editable": false,
    "nbgrader": {
     "cell_type": "code",
     "checksum": "8ae9e6078a09d1c7535eb4d2b4e297e1",
     "grade": true,
     "grade_id": "test-testROM",
     "locked": true,
     "points": 3,
     "schema_version": 3,
     "solution": false,
     "task": false
    }
   },
   "outputs": [],
   "source": [
    "assert(testROM)"
   ]
  },
  {
   "cell_type": "markdown",
   "id": "designed-stevens",
   "metadata": {
    "deletable": false,
    "editable": false,
    "nbgrader": {
     "cell_type": "markdown",
     "checksum": "d739e81a42fb5a548ad5fb9036d08234",
     "grade": false,
     "grade_id": "chiselvec2-header",
     "locked": true,
     "schema_version": 3,
     "solution": false,
     "task": false
    }
   },
   "source": [
    "## Problem 5 (5 pts) - Parameterized ROM\n",
    "> In this problem we will revise the module `ROM` from the previous problem, so ensure your tester for it is complete and correct first. Write a `ROM2` module below that takes a Scala Int `size` as a parameter. `ROM2` will generates `size` read-only UInts stored as a `Vec`. The `select` input signal will determine which UInt to set output `out` to. Ensure the widths are correct. `ROM2` behaves the same as `ROM`, except its size is a configurable parameter. You will also need to make a tester for it (`testROM2`)."
   ]
  },
  {
   "cell_type": "code",
   "execution_count": null,
   "id": "occasional-generic",
   "metadata": {
    "deletable": false,
    "nbgrader": {
     "cell_type": "code",
     "checksum": "e590d7da3f90a4b47be66c70621f8dda",
     "grade": false,
     "grade_id": "Rom2",
     "locked": false,
     "schema_version": 3,
     "solution": true,
     "task": false
    }
   },
   "outputs": [],
   "source": [
    "// YOUR CODE HERE\n",
    "???"
   ]
  },
  {
   "cell_type": "code",
   "execution_count": null,
   "id": "recorded-caribbean",
   "metadata": {
    "deletable": false,
    "nbgrader": {
     "cell_type": "code",
     "checksum": "34eed9faad8f9c99ce910e1c9a8b7e19",
     "grade": false,
     "grade_id": "testRom2",
     "locked": false,
     "schema_version": 3,
     "solution": true,
     "task": false
    }
   },
   "outputs": [],
   "source": [
    "def testROM2: Boolean = {\n",
    "    for (size <- Seq(16, 17, 32, 33)) {\n",
    "        test(new ROM2(size)) { dut =>\n",
    "\n",
    "            // YOUR CODE HERE\n",
    "            ???\n",
    "        }\n",
    "    }\n",
    "    true\n",
    "}"
   ]
  },
  {
   "cell_type": "code",
   "execution_count": null,
   "id": "dried-problem",
   "metadata": {
    "deletable": false,
    "editable": false,
    "nbgrader": {
     "cell_type": "code",
     "checksum": "ae3494b3d69b8a60aab0839b2e49b4b1",
     "grade": true,
     "grade_id": "test-testRom2",
     "locked": true,
     "points": 5,
     "schema_version": 3,
     "solution": false,
     "task": false
    }
   },
   "outputs": [],
   "source": [
    "assert(testROM2)\n"
   ]
  },
  {
   "cell_type": "markdown",
   "id": "whole-outside",
   "metadata": {
    "deletable": false,
    "editable": false,
    "nbgrader": {
     "cell_type": "markdown",
     "checksum": "29bdebf2c1d950f98f4aa97fd10bc728",
     "grade": false,
     "grade_id": "scalafunc-header",
     "locked": true,
     "schema_version": 3,
     "solution": false,
     "task": false
    }
   },
   "source": [
    "## Problem 6 (2 pts) - Scala functions\n",
    "> We can write Chisel logic within a Scala function and use them within our modules. Write a Scala function named `sum` that takes two UInts as arguments and returns the sum (with width growth). You might find the [Chisel Cheat Sheet](https://github.com/freechipsproject/chisel-cheatsheet/releases/latest/download/chisel_cheatsheet.pdf) a helpful reference."
   ]
  },
  {
   "cell_type": "code",
   "execution_count": null,
   "id": "alike-contribution",
   "metadata": {
    "deletable": false,
    "nbgrader": {
     "cell_type": "code",
     "checksum": "6c992528fce61fcdf10291ca6b6592af",
     "grade": false,
     "grade_id": "ScalaCondPractice",
     "locked": false,
     "schema_version": 3,
     "solution": true,
     "task": false
    }
   },
   "outputs": [],
   "source": [
    "// YOUR CODE HERE\n",
    "???"
   ]
  },
  {
   "cell_type": "code",
   "execution_count": null,
   "id": "liquid-monster",
   "metadata": {
    "deletable": false,
    "editable": false,
    "nbgrader": {
     "cell_type": "code",
     "checksum": "b95cc90c550f2ca608e9769af5fc9471",
     "grade": true,
     "grade_id": "testSum",
     "locked": true,
     "points": 2,
     "schema_version": 3,
     "solution": false,
     "task": false
    }
   },
   "outputs": [],
   "source": [
    "def testSum(): Boolean = {\n",
    "    test(new Module {\n",
    "            val io = IO(new Bundle {\n",
    "                val in1 = Input(UInt(4.W))\n",
    "                val in2 = Input(UInt(4.W))\n",
    "                val out = Output(UInt())\n",
    "            })\n",
    "            io.out := sum(io.in1, io.in2)\n",
    "        }) { dut => \n",
    "            for (in1 <- 0 until 16) {\n",
    "                for (in2 <- 0 until 16) {\n",
    "                    dut.io.in1.poke(in1.U)\n",
    "                    dut.io.in2.poke(in2.U)\n",
    "                    dut.io.out.expect((in1 + in2).U)\n",
    "                }\n",
    "            }\n",
    "    }\n",
    "    true\n",
    "}\n",
    "\n",
    "assert(testSum)"
   ]
  },
  {
   "cell_type": "markdown",
   "id": "lesbian-corner",
   "metadata": {
    "deletable": false,
    "editable": false,
    "nbgrader": {
     "cell_type": "markdown",
     "checksum": "6c1987126e44cc9cf6b525718b25d180",
     "grade": false,
     "grade_id": "histo-header",
     "locked": true,
     "schema_version": 3,
     "solution": false,
     "task": false
    }
   },
   "source": [
    "## Problem 7 (5 pts) - Histogram\n",
    "> Let's put `Reg`s and `Vec`s together to build a `Histogram` generator. The generated hardware will maintain `n` (a parameter) sums. Inside the generated hardware, there will be `n` registers. Each cycle the `sel` input chooses which register to add `in` input to. The `out` output should provide the new accumulation value that will written into the register by next cycle. In other words, `out` has no delay to show the new value."
   ]
  },
  {
   "cell_type": "code",
   "execution_count": null,
   "id": "stuffed-fighter",
   "metadata": {
    "deletable": false,
    "nbgrader": {
     "cell_type": "code",
     "checksum": "533aea84581ba01d601e9ccab9c543cf",
     "grade": false,
     "grade_id": "Histogram",
     "locked": false,
     "schema_version": 3,
     "solution": true,
     "task": false
    }
   },
   "outputs": [],
   "source": [
    "class Histogram(n: Int) extends Module {\n",
    "    val io = IO(new Bundle {\n",
    "        val in  = Input(UInt(1.W))\n",
    "        val sel = Input(UInt(log2Ceil(n).W))\n",
    "        val out = Output(UInt(5.W))\n",
    "    })\n",
    "    \n",
    "    // YOUR CODE HERE\n",
    "    ???\n",
    "    \n",
    "}"
   ]
  },
  {
   "cell_type": "code",
   "execution_count": null,
   "id": "center-ceiling",
   "metadata": {
    "deletable": false,
    "editable": false,
    "nbgrader": {
     "cell_type": "code",
     "checksum": "95710200f76608813ee6c88a7918903d",
     "grade": true,
     "grade_id": "test-histogram",
     "locked": true,
     "points": 5,
     "schema_version": 3,
     "solution": false,
     "task": false
    }
   },
   "outputs": [],
   "source": [
    "def testHistogram: Boolean = {\n",
    "    test(new Histogram(2)) { dut =>\n",
    "        // Cycle0\n",
    "        dut.io.in.poke(1.U)\n",
    "        dut.io.sel.poke(0.U)\n",
    "        dut.io.out.expect(1.U)\n",
    "        dut.clock.step(1)\n",
    "        \n",
    "        \n",
    "        // Cycle1\n",
    "        dut.io.in.poke(1.U)\n",
    "        dut.io.sel.poke(0.U)\n",
    "        dut.io.out.expect(2.U)\n",
    "        dut.clock.step(1)\n",
    "        \n",
    "        \n",
    "        dut.io.in.poke(0.U)\n",
    "        dut.io.sel.poke(1.U)\n",
    "        dut.io.out.expect(0.U)\n",
    "        dut.clock.step(1)\n",
    "        \n",
    "        // Cycle 3\n",
    "        dut.io.in.poke(1.U)\n",
    "        dut.io.sel.poke(1.U)\n",
    "        dut.io.out.expect(1.U)\n",
    "    }\n",
    "    true\n",
    "}\n",
    "\n",
    "assert(testHistogram)"
   ]
  }
 ],
 "metadata": {
  "kernelspec": {
   "display_name": "Scala",
   "language": "scala",
   "name": "scala"
  },
  "language_info": {
   "codemirror_mode": "text/x-scala",
   "file_extension": ".sc",
   "mimetype": "text/x-scala",
   "name": "scala",
   "nbconvert_exporter": "script",
   "version": "2.13.4"
  }
 },
 "nbformat": 4,
 "nbformat_minor": 5
}
