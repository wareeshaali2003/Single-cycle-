{
 "cells": [
 {
   "cell_type": "markdown",
   "id": "starting-eugene",
   "metadata": {},
   "source": [
    "Before you turn this problem in, make sure everything runs as expected. First, **restart the kernel** (in the menubar, select Kernel$\\rightarrow$Restart) and then **run all cells** (in the menubar, select Cell$\\rightarrow$Run All).\n",
    "\n",
    "Make sure you fill in any place that says `YOUR CODE HERE` or \"YOUR ANSWER HERE\", as well as your name and collaborators below:"
   ]
  },
  {
   "cell_type": "code",
   "execution_count": null,
   "id": "billion-baker",
   "metadata": {},
   "outputs": [],
   "source": [
    "val NAME = \"\"\n",
    "val COLLABORATORS = \"\""
   ]
  },
  {
   "cell_type": "markdown",
   "id": "extensive-midwest",
   "metadata": {},
   "source": [
    "---"
   ]
  },
  {
   "cell_type": "markdown",
   "id": "committed-psychology",
   "metadata": {
    "cell_style": "center",
    "deletable": false,
    "editable": false,
    "nbgrader": {
     "cell_type": "markdown",
     "checksum": "6ccb16d70f26af83e793006a5ff6c21b",
     "grade": false,
     "grade_id": "header",
     "locked": true,
     "schema_version": 3,
     "solution": false,
     "task": false
    },
    "slideshow": {
     "slide_type": "slide"
    }
   },
   "source": [
    "# Lab 4 - Functional Programming\n",
    "> Labs will be due each week before the homeworks. They are not intended take a significant amount of time but rather to provide examples/practice on specific and isolated features in the language. Labs are autograded so you can get quick feedback."
   ]
  },
  {
   "cell_type": "markdown",
   "id": "expanded-dance",
   "metadata": {
    "deletable": false,
    "editable": false,
    "nbgrader": {
     "cell_type": "markdown",
     "checksum": "9f555f0f7ac7048748fcf1a467a08721",
     "grade": false,
     "grade_id": "imports-header",
     "locked": true,
     "schema_version": 3,
     "solution": false,
     "task": false
    }
   },
   "source": [
    "### Import the necessary Chisel dependencies. \n",
    "> There will be a cell like this in every lab. Make sure you run it before proceeding to bring the Chisel Library into the Jupyter Notebook scope!"
   ]
  },
  {
   "cell_type": "code",
   "execution_count": null,
   "id": "private-consistency",
   "metadata": {
    "deletable": false,
    "editable": false,
    "nbgrader": {
     "cell_type": "code",
     "checksum": "21f209c2374499cd3c6c5043e35a7f90",
     "grade": false,
     "grade_id": "imports1",
     "locked": true,
     "schema_version": 3,
     "solution": false,
     "task": false
    }
   },
   "outputs": [],
   "source": [
    "val path = System.getProperty(\"user.dir\") + \"/resource/chisel_deps.sc\"\n",
    "interp.load.module(ammonite.ops.Path(java.nio.file.FileSystems.getDefault().getPath(path)))"
   ]
  },
  {
   "cell_type": "code",
   "execution_count": null,
   "id": "adequate-entrepreneur",
   "metadata": {
    "deletable": false,
    "editable": false,
    "nbgrader": {
     "cell_type": "code",
     "checksum": "983b6f254eef272a20e1a6a44677fe6b",
     "grade": false,
     "grade_id": "imports",
     "locked": true,
     "schema_version": 3,
     "solution": false,
     "task": false
    }
   },
   "outputs": [],
   "source": [
    "import chisel3._\n",
    "import chisel3.util._\n",
    "import chiseltest._\n",
    "import chisel3.tester.RawTester.test"
   ]
  },
  {
   "cell_type": "markdown",
   "id": "reverse-vocabulary",
   "metadata": {
    "deletable": false,
    "editable": false,
    "nbgrader": {
     "cell_type": "markdown",
     "checksum": "d306d2e462b9525bc64a2c3477922d6f",
     "grade": false,
     "grade_id": "prob1-header",
     "locked": true,
     "schema_version": 3,
     "solution": false,
     "task": false
    }
   },
   "source": [
    "## Problem 1 (3 pts) - Seq addition\n",
    "> Use Scala `zip` and `map` to add the contents two `Seq`s (element by element)."
   ]
  },
  {
   "cell_type": "code",
   "execution_count": null,
   "id": "noticed-rochester",
   "metadata": {
    "deletable": false,
    "nbgrader": {
     "cell_type": "code",
     "checksum": "f64dacbdff80d8a428cff3bc5e78a47e",
     "grade": false,
     "grade_id": "prob1",
     "locked": false,
     "schema_version": 3,
     "solution": true,
     "task": false
    }
   },
   "outputs": [],
   "source": [
    "def addSeqs(a: Seq[Int], b: Seq[Int]): Seq[Int] = {\n",
    "    // YOUR CODE HERE\n",
    "    ???\n",
    "}"
   ]
  },
  {
   "cell_type": "code",
   "execution_count": null,
   "id": "wicked-healthcare",
   "metadata": {
    "deletable": false,
    "editable": false,
    "nbgrader": {
     "cell_type": "code",
     "checksum": "5e08a3fbd3d6a86a4b301997ca8c90d0",
     "grade": true,
     "grade_id": "prob1-test",
     "locked": true,
     "points": 3,
     "schema_version": 3,
     "solution": false,
     "task": false
    }
   },
   "outputs": [],
   "source": [
    "val a = Seq.tabulate(8)(_.toInt)\n",
    "val b = Seq.tabulate(8)(_.toInt)\n",
    "assert(addSeqs(a, b) == Seq(0, 2, 4, 6, 8, 10, 12, 14))\n"
   ]
  },
  {
   "cell_type": "markdown",
   "id": "valid-gathering",
   "metadata": {
    "deletable": false,
    "editable": false,
    "nbgrader": {
     "cell_type": "markdown",
     "checksum": "4a1cc8e2a8d2b16a5fccfd2ee54b58cd",
     "grade": false,
     "grade_id": "prob2-header",
     "locked": true,
     "schema_version": 3,
     "solution": false,
     "task": false
    }
   },
   "source": [
    "## Problem 2 (3 pts) - foreach with Chisel\n",
    "> The `VecRotate` module below shifts its input `Vec` by a constant `offset` (wraps around). Complete it by using `foreach`."
   ]
  },
  {
   "cell_type": "code",
   "execution_count": null,
   "id": "regular-medicare",
   "metadata": {
    "deletable": false,
    "nbgrader": {
     "cell_type": "code",
     "checksum": "9497d51b8b579ad3b49658c50ee35ddf",
     "grade": false,
     "grade_id": "prob2",
     "locked": false,
     "schema_version": 3,
     "solution": true,
     "task": false
    }
   },
   "outputs": [],
   "source": [
    "class VecRotate(numElems: Int, width: Int, offset: Int) extends Module {\n",
    "    val io = IO(new Bundle {\n",
    "        val in  = Input(Vec(numElems, UInt(width.W)))\n",
    "        val out = Output(Vec(numElems, UInt(width.W)))\n",
    "    })\n",
    "    val rotated = io.in.drop(offset) ++ io.in.take(offset)\n",
    "    // YOUR CODE HERE\n",
    "    ???\n",
    "}"
   ]
  },
  {
   "cell_type": "code",
   "execution_count": null,
   "id": "typical-priority",
   "metadata": {
    "deletable": false,
    "editable": false,
    "nbgrader": {
     "cell_type": "code",
     "checksum": "cef2ceebd7f927668dc6c055a9a3f3d7",
     "grade": true,
     "grade_id": "prob2-tests",
     "locked": true,
     "points": 0,
     "schema_version": 3,
     "solution": false,
     "task": false
    }
   },
   "outputs": [],
   "source": [
    "def testVecRotate(numElems: Int, width: Int): Boolean = {\n",
    "    for (offset <- 0 until numElems) {\n",
    "        val input = 0 until numElems\n",
    "        val expected = input.drop(offset) ++ input.take(offset)\n",
    "        test(new VecRotate(numElems, width, offset)) { dut =>\n",
    "            (0 until numElems).foreach{ i => dut.io.in(i).poke(input(i).U) }\n",
    "            (0 until numElems).foreach{ i => dut.io.out(i).expect(expected(i).U) }\n",
    "        }\n",
    "    }\n",
    "    true\n",
    "}\n",
    "\n",
    "assert(testVecRotate(4,8))"
   ]
  },
  {
   "cell_type": "markdown",
   "id": "tight-oakland",
   "metadata": {
    "deletable": false,
    "editable": false,
    "nbgrader": {
     "cell_type": "markdown",
     "checksum": "e6d09fb421bb413f0b7fb2cfbe6c4312",
     "grade": false,
     "grade_id": "prob3-header",
     "locked": true,
     "schema_version": 3,
     "solution": false,
     "task": false
    }
   },
   "source": [
    "## Problem 3 (4 pts) - zipWithIndex\n",
    "> First, use `foldLeft` to implement the `exp` function (computes exponent). Then use `zipWithIndex`, `map`, `exp`, and `reduce`/`foldLeft` to concisely evaluate a polynomial. The index in the sequence is the degree in the polynomial (e.g. _coefs(i) * x^i_)"
   ]
  },
  {
   "cell_type": "code",
   "execution_count": null,
   "id": "living-semester",
   "metadata": {
    "deletable": false,
    "nbgrader": {
     "cell_type": "code",
     "checksum": "e611f5f21719c38d7e0ecaa9e84b375c",
     "grade": false,
     "grade_id": "prob3",
     "locked": false,
     "schema_version": 3,
     "solution": true,
     "task": false
    }
   },
   "outputs": [],
   "source": [
    "def exp(base: Int, deg: Int): Int = {\n",
    "    // YOUR CODE HERE\n",
    "    ???\n",
    "}\n",
    "\n",
    "def polyEval(coefs: Seq[Int], x: Int): Int = {\n",
    "    // YOUR CODE HERE\n",
    "    ???\n",
    "}"
   ]
  },
  {
   "cell_type": "code",
   "execution_count": null,
   "id": "moving-indie",
   "metadata": {
    "deletable": false,
    "editable": false,
    "nbgrader": {
     "cell_type": "code",
     "checksum": "8b15a1ce56c8859fc5b30f17a8af360e",
     "grade": true,
     "grade_id": "prob3-test",
     "locked": true,
     "points": 4,
     "schema_version": 3,
     "solution": false,
     "task": false
    }
   },
   "outputs": [],
   "source": [
    "assert (exp(5, 0) == 1)\n",
    "assert (exp(2, 5) == 32)\n",
    "assert (exp(4, 3) == 64)\n",
    "// 0*x^0 + 1*x^1 + 2*x^2\n",
    "assert(polyEval(Seq(0, 1, 2), 5) == 55)\n",
    "assert(polyEval(Seq(0, 1, 2), 0) == 0)\n"
   ]
  },
  {
   "cell_type": "markdown",
   "id": "therapeutic-confidentiality",
   "metadata": {
    "deletable": false,
    "editable": false,
    "nbgrader": {
     "cell_type": "markdown",
     "checksum": "d9a606701c1aaacbd730eeb23f0fdae8",
     "grade": false,
     "grade_id": "prob4-header",
     "locked": true,
     "schema_version": 3,
     "solution": false,
     "task": false
    }
   },
   "source": [
    "## Problem 4 (5 pts) - map on matrix\n",
    "> Given a `n` x `n` matrix (`Seq[Seq[Int]]`), use `map` and `zipWithIndex` to add `x` to the diagonal (other cells unchanged). The matrix is in row-major order. For example if `x=4`: \n",
    "``` \n",
    "    List(1, 1, 1, 1, 1) -> List(5, 1, 1, 1, 1)\n",
    "    List(1, 1, 1, 1, 1) -> List(1, 5, 1, 1, 1)\n",
    "    List(1, 1, 1, 1, 1) -> List(1, 1, 5, 1, 1)\n",
    "    List(1, 1, 1, 1, 1) -> List(1, 1, 1, 5, 1)\n",
    "    List(1, 1, 1, 1, 1) -> List(1, 1, 1, 1, 5)\n",
    "```"
   ]
  },
  {
   "cell_type": "code",
   "execution_count": null,
   "id": "appointed-bracelet",
   "metadata": {
    "deletable": false,
    "nbgrader": {
     "cell_type": "code",
     "checksum": "439faeb3471edcae0eb83285495001b1",
     "grade": false,
     "grade_id": "prob4",
     "locked": false,
     "schema_version": 3,
     "solution": true,
     "task": false
    }
   },
   "outputs": [],
   "source": [
    "// YOUR CODE HERE\n",
    "???"
   ]
  },
  {
   "cell_type": "code",
   "execution_count": null,
   "id": "verbal-committee",
   "metadata": {
    "deletable": false,
    "editable": false,
    "nbgrader": {
     "cell_type": "code",
     "checksum": "2e40d32c614a07e9677f51a266c0b730",
     "grade": true,
     "grade_id": "prob4-test",
     "locked": true,
     "points": 5,
     "schema_version": 3,
     "solution": false,
     "task": false
    }
   },
   "outputs": [],
   "source": [
    "val in = List(\n",
    "  List(1, 1, 1, 1, 1),\n",
    "  List(1, 1, 1, 1, 1),\n",
    "  List(1, 1, 1, 1, 1),\n",
    "  List(1, 1, 1, 1, 1),\n",
    "  List(1, 1, 1, 1, 1)\n",
    ")\n",
    "\n",
    "val out = List(\n",
    "  List(5, 1, 1, 1, 1),\n",
    "  List(1, 5, 1, 1, 1),\n",
    "  List(1, 1, 5, 1, 1),\n",
    "  List(1, 1, 1, 5, 1),\n",
    "  List(1, 1, 1, 1, 5)\n",
    ")\n",
    "assert(incDiag(in, 4) == out)\n",
    "\n"
   ]
  },
  {
   "cell_type": "markdown",
   "id": "filled-hampton",
   "metadata": {
    "deletable": false,
    "editable": false,
    "nbgrader": {
     "cell_type": "markdown",
     "checksum": "8c6613f4231b66b01803b22c6651e52c",
     "grade": false,
     "grade_id": "prob5-header",
     "locked": true,
     "schema_version": 3,
     "solution": false,
     "task": false
    }
   },
   "source": [
    "## Problem 5 (7 pts) - flatMap and reduce with Chisel\n",
    "> Let's put together what we've covered so far. Complete the `MatrixSearch` module below that looks for the input `searchFor` by comparing all of the elements of the input matrix `mat` (2D `Vec`). If (and only if) `searchFor` matches any of the elements in `mat`, the output `found` should be _true_. Your solution should use `flatMap`, `reduce`, and possibly `map`."
   ]
  },
  {
   "cell_type": "code",
   "execution_count": null,
   "id": "taken-disease",
   "metadata": {
    "deletable": false,
    "nbgrader": {
     "cell_type": "code",
     "checksum": "b89e5cf33cf24e619f805cf0c6756b39",
     "grade": false,
     "grade_id": "prob5",
     "locked": false,
     "schema_version": 3,
     "solution": true,
     "task": false
    }
   },
   "outputs": [],
   "source": [
    "class MatrixSearch(numRows: Int, numCols: Int, width: Int) extends Module {\n",
    "    require(numRows > 1)\n",
    "    require(numCols > 1)\n",
    "    val io = IO(new Bundle {\n",
    "        val mat = Input(Vec(numRows, Vec(numCols, UInt(width.W))))\n",
    "        val searchFor = Input(UInt(width.W))\n",
    "        val found = Output(Bool())\n",
    "    })\n",
    "    // YOUR CODE HERE\n",
    "    ???\n",
    "}"
   ]
  },
  {
   "cell_type": "code",
   "execution_count": null,
   "id": "native-proposition",
   "metadata": {
    "deletable": false,
    "editable": false,
    "nbgrader": {
     "cell_type": "code",
     "checksum": "ffea5325026b1ced5a8136b2295056c5",
     "grade": true,
     "grade_id": "prob5-test",
     "locked": true,
     "points": 10,
     "schema_version": 3,
     "solution": false,
     "task": false
    }
   },
   "outputs": [],
   "source": [
    "def testMatrixSearch(numRows: Int, numCols: Int, width: Int): Boolean = {\n",
    "    require(log2Ceil(numRows) < width)\n",
    "    test(new MatrixSearch(numRows, numCols, width)) { dut =>\n",
    "        (0 until numRows) foreach {\n",
    "             r => (0 until numCols) foreach { \n",
    "                c => dut.io.mat(r)(c).poke(r.U)\n",
    "            }\n",
    "        }\n",
    "        for (r <- 0 until numRows) {\n",
    "            dut.io.searchFor.poke(r.U)\n",
    "            dut.io.found.expect(true.B)\n",
    "        }\n",
    "        dut.io.searchFor.poke(numRows.U)\n",
    "        dut.io.found.expect(false.B)\n",
    "    }\n",
    "    true\n",
    "}\n",
    "\n",
    "assert(testMatrixSearch(2,2,8))\n"
   ]
  }
 ],
 "metadata": {
  "kernelspec": {
   "display_name": "Scala",
   "language": "scala",
   "name": "scala"
  },
  "language_info": {
   "codemirror_mode": "text/x-scala",
   "file_extension": ".sc",
   "mimetype": "text/x-scala",
   "name": "scala",
   "nbconvert_exporter": "script",
   "version": "2.13.4"
  }
 },
 "nbformat": 4,
 "nbformat_minor": 5
}
