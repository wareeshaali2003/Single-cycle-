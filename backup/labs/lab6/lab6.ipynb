{
 "cells": [
  {
   "cell_type": "markdown",
   "id": "supposed-hayes",
   "metadata": {},
   "source": [
    "Before you turn this problem in, make sure everything runs as expected. First, **restart the kernel** (in the menubar, select Kernel$\\rightarrow$Restart) and then **run all cells** (in the menubar, select Cell$\\rightarrow$Run All).\n",
    "\n",
    "Make sure you fill in any place that says `YOUR CODE HERE` or \"YOUR ANSWER HERE\", as well as your name and collaborators below:"
   ]
  },
  {
   "cell_type": "code",
   "execution_count": null,
   "id": "basic-watts",
   "metadata": {},
   "outputs": [],
   "source": [
    "val NAME = \"\"\n",
    "val COLLABORATORS = \"\""
   ]
  },
  {
   "cell_type": "markdown",
   "id": "fewer-perception",
   "metadata": {},
   "source": [
    "---"
   ]
  },
  {
   "cell_type": "markdown",
   "id": "proprietary-stewart",
   "metadata": {
    "cell_style": "center",
    "deletable": false,
    "editable": false,
    "nbgrader": {
     "cell_type": "markdown",
     "checksum": "b07393149d1bed01e6a1e1c98929101a",
     "grade": false,
     "grade_id": "header",
     "locked": true,
     "schema_version": 3,
     "solution": false,
     "task": false
    },
    "slideshow": {
     "slide_type": "slide"
    }
   },
   "source": [
    "# Lab 6 - Advanced Memory\n",
    "> Labs will be due each week before the homeworks. They are not intended take a significant amount of time but rather to provide examples/practice on specific and isolated features in the language. Labs are autograded so you can get quick feedback.\n",
    "\n",
    "> In this lab, you will be working your way up to building a multi-ported memory generator. It will be parameterized on the memory details (capacity & word size) as well as the number and type of ports (e.g. read or write). In the problems, you will work your way from defining parameters and interfaces to finally implementing the generator."
   ]
  },
  {
   "cell_type": "markdown",
   "id": "robust-dream",
   "metadata": {
    "deletable": false,
    "editable": false,
    "nbgrader": {
     "cell_type": "markdown",
     "checksum": "9f555f0f7ac7048748fcf1a467a08721",
     "grade": false,
     "grade_id": "imports-header",
     "locked": true,
     "schema_version": 3,
     "solution": false,
     "task": false
    }
   },
   "source": [
    "### Import the necessary Chisel dependencies. \n",
    "> There will be a cell like this in every lab. Make sure you run it before proceeding to bring the Chisel Library into the Jupyter Notebook scope!"
   ]
  },
  {
   "cell_type": "code",
   "execution_count": null,
   "id": "romantic-elizabeth",
   "metadata": {
    "deletable": false,
    "editable": false,
    "nbgrader": {
     "cell_type": "code",
     "checksum": "21f209c2374499cd3c6c5043e35a7f90",
     "grade": false,
     "grade_id": "imports1",
     "locked": true,
     "schema_version": 3,
     "solution": false,
     "task": false
    }
   },
   "outputs": [],
   "source": [
    "val path = System.getProperty(\"user.dir\") + \"/resource/chisel_deps.sc\"\n",
    "interp.load.module(ammonite.ops.Path(java.nio.file.FileSystems.getDefault().getPath(path)))"
   ]
  },
  {
   "cell_type": "code",
   "execution_count": null,
   "id": "neutral-tractor",
   "metadata": {
    "deletable": false,
    "editable": false,
    "nbgrader": {
     "cell_type": "code",
     "checksum": "983b6f254eef272a20e1a6a44677fe6b",
     "grade": false,
     "grade_id": "imports",
     "locked": true,
     "schema_version": 3,
     "solution": false,
     "task": false
    }
   },
   "outputs": [],
   "source": [
    "import chisel3._\n",
    "import chisel3.util._\n",
    "import chiseltest._\n",
    "import chisel3.tester.RawTester.test"
   ]
  },
  {
   "cell_type": "markdown",
   "id": "marked-ancient",
   "metadata": {
    "deletable": false,
    "editable": false,
    "nbgrader": {
     "cell_type": "markdown",
     "checksum": "6be6b3450c848317edd2fcece9cff9bf",
     "grade": false,
     "grade_id": "prob2-header",
     "locked": true,
     "schema_version": 3,
     "solution": false,
     "task": false
    }
   },
   "source": [
    "## Problem 1 (5 pts) - MemParams\n",
    "> Write a case class `MemParams` that will be used to parameterize a memory module. Derive the case class's fields and their types from the supplied tests. Assume that if there are both read and write ports, there will be the same number of each."
   ]
  },
  {
   "cell_type": "code",
   "execution_count": null,
   "id": "conditional-validity",
   "metadata": {
    "deletable": false,
    "nbgrader": {
     "cell_type": "code",
     "checksum": "a2a3eac01ce84672211e145c0273b771",
     "grade": false,
     "grade_id": "prob2",
     "locked": false,
     "schema_version": 3,
     "solution": true,
     "task": false
    }
   },
   "outputs": [],
   "source": [
    "// YOUR CODE HERE\n",
    "???"
   ]
  },
  {
   "cell_type": "code",
   "execution_count": null,
   "id": "frozen-peeing",
   "metadata": {
    "deletable": false,
    "editable": false,
    "nbgrader": {
     "cell_type": "code",
     "checksum": "dc846cd2476ceaad432cfc494ac8279e",
     "grade": true,
     "grade_id": "prob2-test",
     "locked": true,
     "points": 5,
     "schema_version": 3,
     "solution": false,
     "task": false
    }
   },
   "outputs": [],
   "source": [
    "val p0 = MemParams(32, 64, 1, 0)\n",
    "assert(p0.about == \"2048b capacity, 1 read port(s), 0 write port(s)\")\n",
    "assert(p0.numWords == 32)\n",
    "assert(p0.wordSize == 64)\n",
    "assert(p0.totalPorts == 1)\n",
    "assert(p0.addrWidth == 5)\n",
    "\n",
    "val p1 = MemParams(1024, 64, 0, 4)\n",
    "assert(p1.about == \"65536b capacity, 0 read port(s), 4 write port(s)\")\n",
    "assert(p1.numWords == 1024)\n",
    "assert(p1.wordSize == 64)\n",
    "assert(p1.totalPorts == 4)\n",
    "assert(p1.addrWidth == 10)\n",
    "\n",
    "val p2 = MemParams(16, 32, 2, 2)\n",
    "assert(p2.about == \"512b capacity, 2 read port(s), 2 write port(s)\")\n",
    "assert(p2.numWords == 16)\n",
    "assert(p2.wordSize == 32)\n",
    "assert(p2.totalPorts == 4)\n",
    "assert(p2.addrWidth == 4)"
   ]
  },
  {
   "cell_type": "markdown",
   "id": "dangerous-strengthening",
   "metadata": {
    "deletable": false,
    "editable": false,
    "nbgrader": {
     "cell_type": "markdown",
     "checksum": "5453a1147bdea90f15bacb5df46fac24",
     "grade": false,
     "grade_id": "prob1-header",
     "locked": true,
     "schema_version": 3,
     "solution": false,
     "task": false
    }
   },
   "source": [
    "## Problem 2 (3 pts) - ReadPort \n",
    "> Create a `ReadPort` bundle with a 3 fields, `rAddr`, `rEn`, and `rData` that represents a single read port using parameters from `MemParams p` and IO directions that make sense. The `Data` type of `rData` will be of type `Bits`."
   ]
  },
  {
   "cell_type": "code",
   "execution_count": null,
   "id": "clean-median",
   "metadata": {
    "deletable": false,
    "nbgrader": {
     "cell_type": "code",
     "checksum": "68ab1ddf1fdc76d2aa4d49d87dd2af2e",
     "grade": false,
     "grade_id": "prob1",
     "locked": false,
     "schema_version": 3,
     "solution": true,
     "task": false
    }
   },
   "outputs": [],
   "source": [
    "class ReadPort(val p: MemParams) extends Bundle {\n",
    "  // YOUR CODE HERE\n",
    "  ???\n",
    "  override def cloneType = (new ReadPort(p)).asInstanceOf[this.type]\n",
    "}"
   ]
  },
  {
   "cell_type": "code",
   "execution_count": null,
   "id": "labeled-commons",
   "metadata": {
    "deletable": false,
    "editable": false,
    "nbgrader": {
     "cell_type": "code",
     "checksum": "dceb83b848acbbdeaca435fab1c9676f",
     "grade": true,
     "grade_id": "prob1-test",
     "locked": true,
     "points": 3,
     "schema_version": 3,
     "solution": false,
     "task": false
    }
   },
   "outputs": [],
   "source": [
    "val p0 = MemParams(32, 64, 1, 0)\n",
    "val rp0 = new ReadPort(p0) \n",
    "val elems0 = rp0.elements\n",
    "assert(elems0(\"rEn\").toString == \"Bool\")\n",
    "assert(elems0(\"rData\").toString == \"UInt<64>\")\n",
    "assert(elems0(\"rAddr\").toString == \"UInt<5>\")\n",
    "\n",
    "val p1 = MemParams(128, 32, 2, 1)\n",
    "val rp1 = new ReadPort(p1) \n",
    "val elems1 = rp1.elements\n",
    "assert(elems1(\"rEn\").toString == \"Bool\")\n",
    "assert(elems1(\"rData\").toString == \"UInt<32>\")\n",
    "assert(elems1(\"rAddr\").toString == \"UInt<7>\")"
   ]
  },
  {
   "cell_type": "markdown",
   "id": "duplicate-shepherd",
   "metadata": {
    "deletable": false,
    "editable": false,
    "nbgrader": {
     "cell_type": "markdown",
     "checksum": "06518dc334ec3ea8d11919a2348aae46",
     "grade": false,
     "grade_id": "prob6-header",
     "locked": true,
     "schema_version": 3,
     "solution": false,
     "task": false
    }
   },
   "source": [
    "## Problem 3 (3 pts) - WritePort\n",
    "> Create a `WritePort` bundle with a 3 fields, `wAddr`, `wEn`, and `wData` that represents a single write port using parameters from `MemParams p` and IO directions that make sense. The `Data` type of `wData` will be of type `Bits`."
   ]
  },
  {
   "cell_type": "code",
   "execution_count": null,
   "id": "naval-procedure",
   "metadata": {
    "deletable": false,
    "nbgrader": {
     "cell_type": "code",
     "checksum": "95ffde5b3212ef926131619386bd56dd",
     "grade": false,
     "grade_id": "prob6",
     "locked": false,
     "schema_version": 3,
     "solution": true,
     "task": false
    }
   },
   "outputs": [],
   "source": [
    "class WritePort(val p: MemParams) extends Bundle {\n",
    "  // YOUR CODE HERE\n",
    "  ???\n",
    "  override def cloneType = (new WritePort(p)).asInstanceOf[this.type]\n",
    "}"
   ]
  },
  {
   "cell_type": "code",
   "execution_count": null,
   "id": "sealed-flash",
   "metadata": {
    "deletable": false,
    "editable": false,
    "nbgrader": {
     "cell_type": "code",
     "checksum": "78e5e97c31022ec7ac24e55303ce7ee7",
     "grade": true,
     "grade_id": "prob6-tests",
     "locked": true,
     "points": 3,
     "schema_version": 3,
     "solution": false,
     "task": false
    }
   },
   "outputs": [],
   "source": [
    "val p0 = MemParams(32, 64, 0, 1)\n",
    "val wp0 = new WritePort(p0) \n",
    "val elems0 = wp0.elements\n",
    "assert(elems0(\"wEn\").toString == \"Bool\")\n",
    "assert(elems0(\"wData\").toString == \"UInt<64>\")\n",
    "assert(elems0(\"wAddr\").toString == \"UInt<5>\")\n",
    "\n",
    "val p1 = MemParams(128, 32, 2, 2)\n",
    "val wp1 = new WritePort(p1) \n",
    "val elems1 = wp1.elements\n",
    "assert(elems1(\"wEn\").toString == \"Bool\")\n",
    "assert(elems1(\"wData\").toString == \"UInt<32>\")\n",
    "assert(elems1(\"wAddr\").toString == \"UInt<7>\")"
   ]
  },
  {
   "cell_type": "markdown",
   "id": "genetic-escape",
   "metadata": {
    "deletable": false,
    "editable": false,
    "nbgrader": {
     "cell_type": "markdown",
     "checksum": "aafb4fc4946be6ad07f6bc09b5069f3e",
     "grade": false,
     "grade_id": "cell-9ce62d22d30e0c4d",
     "locked": true,
     "schema_version": 3,
     "solution": false,
     "task": false
    }
   },
   "source": [
    "## Problem 4 (5 pts) - MemIO\n",
    "> Complete the `MemIO` bundle that has two fields `rports` and `wports`. Use types `Option[Vec[ReadPort]]` and `Option[Vec[WritePort]]` so the ports are pruned if there are 0 ports in that direction."
   ]
  },
  {
   "cell_type": "code",
   "execution_count": null,
   "id": "demanding-assist",
   "metadata": {
    "deletable": false,
    "nbgrader": {
     "cell_type": "code",
     "checksum": "57b0e544bcb09f7ce6c38513dd7558cf",
     "grade": false,
     "grade_id": "cell-9462fd72f515c372",
     "locked": false,
     "schema_version": 3,
     "solution": true,
     "task": false
    }
   },
   "outputs": [],
   "source": [
    "class MemIO(p: MemParams) extends Bundle {\n",
    "    // YOUR CODE HERE\n",
    "    ???\n",
    "    override def cloneType = (new MemIO(p)).asInstanceOf[this.type]\n",
    "}"
   ]
  },
  {
   "cell_type": "code",
   "execution_count": null,
   "id": "alone-skiing",
   "metadata": {
    "deletable": false,
    "editable": false,
    "nbgrader": {
     "cell_type": "code",
     "checksum": "14ec5b24bd347baeb6cc69c208413476",
     "grade": true,
     "grade_id": "cell-576259bd57fce35f",
     "locked": true,
     "points": 5,
     "schema_version": 3,
     "solution": false,
     "task": false
    }
   },
   "outputs": [],
   "source": [
    "val p0 = MemParams(32, 64, 1, 1)\n",
    "val mio0 = new MemIO(p0)\n",
    "val elems0 = mio0.elements\n",
    "assert(elems0(\"rports\").toString == \"ReadPort[1]\")\n",
    "assert(elems0(\"wports\").toString == \"WritePort[1]\")\n",
    "\n",
    "\n",
    "val p1 = MemParams(32, 64, 2, 0)\n",
    "val mio1 = new MemIO(p1)\n",
    "val elems1 = mio1.elements\n",
    "assert(elems1(\"rports\").toString == \"ReadPort[2]\")\n",
    "println(elems0(\"wports\").toString)\n",
    "\n",
    "val p2 = MemParams(32, 64, 0, 8)\n",
    "val mio2 = new MemIO(p2)\n",
    "mio2.elements\n",
    "val elems2 = mio2.elements\n",
    "assert(elems2(\"wports\").toString == \"WritePort[8]\")"
   ]
  },
  {
   "cell_type": "markdown",
   "id": "orange-salmon",
   "metadata": {
    "deletable": false,
    "editable": false,
    "nbgrader": {
     "cell_type": "markdown",
     "checksum": "64a9e62fd0815fb8867e1f9528a61c8c",
     "grade": false,
     "grade_id": "cell-861c9be0426e67f2",
     "locked": true,
     "schema_version": 3,
     "solution": false,
     "task": false
    }
   },
   "source": [
    "\n",
    "## Problem 5 (10 pts) - MultiPortMem\n",
    "> Write a module that uses `MemParams`, `MemIO`, and `SyncReadMem` to create a synchronous memory with parameterizable ports and capacity.\n"
   ]
  },
  {
   "cell_type": "code",
   "execution_count": null,
   "id": "assumed-expense",
   "metadata": {
    "deletable": false,
    "nbgrader": {
     "cell_type": "code",
     "checksum": "fda35bcc6e73ff02c7f735ba1020d124",
     "grade": false,
     "grade_id": "cell-3552b99eb3659acb",
     "locked": false,
     "schema_version": 3,
     "solution": true,
     "task": false
    }
   },
   "outputs": [],
   "source": [
    "class MultiPortMem(p: MemParams) extends Module {\n",
    "    val io = IO(new MemIO(p))\n",
    "    // YOUR CODE HERE\n",
    "    ???\n",
    "}"
   ]
  },
  {
   "cell_type": "code",
   "execution_count": null,
   "id": "talented-titanium",
   "metadata": {
    "deletable": false,
    "editable": false,
    "nbgrader": {
     "cell_type": "code",
     "checksum": "1f6a8fc59d1fc17c6d521875e92dda1c",
     "grade": true,
     "grade_id": "cell-f81abc8f009ef425",
     "locked": true,
     "points": 10,
     "schema_version": 3,
     "solution": false,
     "task": false
    }
   },
   "outputs": [],
   "source": [
    "def testMultiPortMem(p: MemParams): Boolean = {\n",
    "    test(new MultiPortMem(p)) { dut =>\n",
    "        \n",
    "        for (a <- 0 until p.numWords by p.totalPorts) { \n",
    "            // Send write req\n",
    "            for (w <- 0 until p.numWritePorts) {\n",
    "                dut.io.wports.get(w).wEn.poke(true.B)\n",
    "                dut.io.wports.get(w).wAddr.poke((a + w).U)\n",
    "                dut.io.wports.get(w).wData.poke((a + w).U)\n",
    "            }\n",
    "            dut.clock.step()\n",
    "            \n",
    "            // Send read req\n",
    "            for (r <- 0 until p.numReadPorts) {\n",
    "                dut.io.rports.get(r).rEn.poke(true.B)\n",
    "                dut.io.rports.get(r).rAddr.poke((a + r).U)\n",
    "            }\n",
    "            \n",
    "            dut.clock.step()\n",
    "            \n",
    "            // Check read req\n",
    "            for (r <- 0 until p.numReadPorts) {\n",
    "                dut.io.rports.get(r).rEn.poke(false.B) // turn off for next cycle\n",
    "                dut.io.rports.get(r).rData.expect((a + r).U)\n",
    "            }\n",
    "        }\n",
    "    }\n",
    "    true\n",
    "}\n",
    "\n",
    "val p0 = MemParams(32, 64, 1, 1)\n",
    "assert(testMultiPortMem(p0), \"fail p0\")\n",
    "\n",
    "val p1 = MemParams(16, 32, 2, 2)\n",
    "assert(testMultiPortMem(p1), \"fail p1\")\n",
    "\n",
    "val p2 = MemParams(32, 64, 4, 4)\n",
    "assert(testMultiPortMem(p2), \"fail p2\")"
   ]
  }
 ],
 "metadata": {
  "kernelspec": {
   "display_name": "Scala",
   "language": "scala",
   "name": "scala"
  },
  "language_info": {
   "codemirror_mode": "text/x-scala",
   "file_extension": ".scala",
   "mimetype": "text/x-scala",
   "name": "scala",
   "nbconvert_exporter": "script",
   "version": "2.12.10"
  }
 },
 "nbformat": 4,
 "nbformat_minor": 5
}
