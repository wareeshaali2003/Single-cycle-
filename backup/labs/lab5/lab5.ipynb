{
 "cells": [
 {
   "cell_type": "markdown",
   "id": "starting-eugene",
   "metadata": {},
   "source": [
    "Before you turn this problem in, make sure everything runs as expected. First, **restart the kernel** (in the menubar, select Kernel$\\rightarrow$Restart) and then **run all cells** (in the menubar, select Cell$\\rightarrow$Run All).\n",
    "\n",
    "Make sure you fill in any place that says `YOUR CODE HERE` or \"YOUR ANSWER HERE\", as well as your name and collaborators below:"
   ]
  },
  {
   "cell_type": "code",
   "execution_count": null,
   "id": "billion-baker",
   "metadata": {},
   "outputs": [],
   "source": [
    "val NAME = \"\"\n",
    "val COLLABORATORS = \"\""
   ]
  },
  {
   "cell_type": "markdown",
   "id": "extensive-midwest",
   "metadata": {},
   "source": [
    "---"
   ]
  },
  {
   "cell_type": "markdown",
   "id": "knowing-summit",
   "metadata": {
    "cell_style": "center",
    "deletable": false,
    "editable": false,
    "nbgrader": {
     "cell_type": "markdown",
     "checksum": "5aff356909c0728bf3d4e76d7775615e",
     "grade": false,
     "grade_id": "header",
     "locked": true,
     "schema_version": 3,
     "solution": false,
     "task": false
    },
    "slideshow": {
     "slide_type": "slide"
    }
   },
   "source": [
    "# Lab 5 - Inheritence\n",
    "> Labs will be due each week before the homeworks. They are not intended take a significant amount of time but rather to provide examples/practice on specific and isolated features in the language. Labs are autograded so you can get quick feedback."
   ]
  },
  {
   "cell_type": "markdown",
   "id": "listed-window",
   "metadata": {
    "deletable": false,
    "editable": false,
    "nbgrader": {
     "cell_type": "markdown",
     "checksum": "9f555f0f7ac7048748fcf1a467a08721",
     "grade": false,
     "grade_id": "imports-header",
     "locked": true,
     "schema_version": 3,
     "solution": false,
     "task": false
    }
   },
   "source": [
    "### Import the necessary Chisel dependencies. \n",
    "> There will be a cell like this in every lab. Make sure you run it before proceeding to bring the Chisel Library into the Jupyter Notebook scope!"
   ]
  },
  {
   "cell_type": "code",
   "execution_count": null,
   "id": "bored-final",
   "metadata": {
    "deletable": false,
    "editable": false,
    "nbgrader": {
     "cell_type": "code",
     "checksum": "21f209c2374499cd3c6c5043e35a7f90",
     "grade": false,
     "grade_id": "imports1",
     "locked": true,
     "schema_version": 3,
     "solution": false,
     "task": false
    }
   },
   "outputs": [],
   "source": [
    "val path = System.getProperty(\"user.dir\") + \"/resource/chisel_deps.sc\"\n",
    "interp.load.module(ammonite.ops.Path(java.nio.file.FileSystems.getDefault().getPath(path)))"
   ]
  },
  {
   "cell_type": "code",
   "execution_count": null,
   "id": "adaptive-canon",
   "metadata": {
    "deletable": false,
    "editable": false,
    "nbgrader": {
     "cell_type": "code",
     "checksum": "983b6f254eef272a20e1a6a44677fe6b",
     "grade": false,
     "grade_id": "imports",
     "locked": true,
     "schema_version": 3,
     "solution": false,
     "task": false
    }
   },
   "outputs": [],
   "source": [
    "import chisel3._\n",
    "import chisel3.util._\n",
    "import chiseltest._\n",
    "import chisel3.tester.RawTester.test"
   ]
  },
  {
   "cell_type": "markdown",
   "id": "faced-verification",
   "metadata": {
    "deletable": false,
    "editable": false,
    "nbgrader": {
     "cell_type": "markdown",
     "checksum": "faaf0def90524db22e50189eb1fc46c1",
     "grade": false,
     "grade_id": "prob2-header",
     "locked": true,
     "schema_version": 3,
     "solution": false,
     "task": false
    }
   },
   "source": [
    "## Problem 1 (5 pts) - Method Templated for Chisel Types\n",
    "> Write a generic `connect` method that takes in two generic arguments `a` and `b` of type `chisel3.Data` and connects `a` (input) to `b` (output)."
   ]
  },
  {
   "cell_type": "code",
   "execution_count": null,
   "id": "electric-number",
   "metadata": {
    "deletable": false,
    "nbgrader": {
     "cell_type": "code",
     "checksum": "a2a3eac01ce84672211e145c0273b771",
     "grade": false,
     "grade_id": "prob2",
     "locked": false,
     "schema_version": 3,
     "solution": true,
     "task": false
    }
   },
   "outputs": [],
   "source": [
    "// YOUR CODE HERE\n",
    "???"
   ]
  },
  {
   "cell_type": "code",
   "execution_count": null,
   "id": "virtual-organization",
   "metadata": {
    "deletable": false,
    "editable": false,
    "nbgrader": {
     "cell_type": "code",
     "checksum": "ac4655e85b0bba62e0de000664249e31",
     "grade": true,
     "grade_id": "prob2-test",
     "locked": true,
     "points": 5,
     "schema_version": 3,
     "solution": false,
     "task": false
    }
   },
   "outputs": [],
   "source": [
    "class TestConnect extends Module {\n",
    "    val io = IO(new Bundle {\n",
    "        val u = Output(UInt())\n",
    "        val s = Output(SInt())\n",
    "    })\n",
    "     \n",
    "    connect(io.u, 10.U)\n",
    "    connect(io.s, -10.S)\n",
    "}\n",
    "\n",
    "def testConnect: Boolean = {\n",
    "    test(new TestConnect) { dut =>\n",
    "        dut.io.u.expect(10.U)\n",
    "        dut.io.s.expect(-10.S)\n",
    "    }\n",
    "    true\n",
    "}\n",
    "assert(testConnect)"
   ]
  },
  {
   "cell_type": "markdown",
   "id": "rural-nation",
   "metadata": {
    "deletable": false,
    "editable": false,
    "nbgrader": {
     "cell_type": "markdown",
     "checksum": "d840d775d834ac2ea6ded04dc36c1d3d",
     "grade": false,
     "grade_id": "prob1-header",
     "locked": true,
     "schema_version": 3,
     "solution": false,
     "task": false
    }
   },
   "source": [
    "## Problem 2 (7 pts) - Case Class Pattern Matching and Traits\n",
    "> Fill in the missing `eatFry`, `takeDrink`, and `eatItem` methods in the following traits using only pattern matching (e.g. `match` with `case` and no if/else chains. Fill in the missing body of `Meal` using pattern matching such that it attempts to populate the fields added by the traits based on `p` enabling the `eatMeal` method to behave as specified by the test cases. If someone tries to add an entree not on the Menu, it should set the entry to `\"none\"`."
   ]
  },
  {
   "cell_type": "code",
   "execution_count": null,
   "id": "color-ottawa",
   "metadata": {
    "deletable": false,
    "nbgrader": {
     "cell_type": "code",
     "checksum": "8c2be01ec65bb80a75d242305f972dae",
     "grade": false,
     "grade_id": "prob1",
     "locked": false,
     "schema_version": 3,
     "solution": true,
     "task": false
    }
   },
   "outputs": [],
   "source": [
    "case class MealChoices(drink: Boolean, fries: Boolean, entree: String)\n",
    "\n",
    "trait Fries {\n",
    "    val hasFries: Boolean\n",
    "    \n",
    "    // YOUR CODE HERE\n",
    "    ???\n",
    "}\n",
    "\n",
    "trait Drink {\n",
    "    val hasDrink: Boolean\n",
    "    \n",
    "    // YOUR CODE HERE\n",
    "    ???\n",
    "}\n",
    "\n",
    "trait Entree {\n",
    "    val item: String\n",
    "    \n",
    "    // YOUR CODE HERE\n",
    "    ???\n",
    "}\n",
    "\n",
    "object Menu {\n",
    "    val validEntrees = Seq(\"Cheeseburger\", \"Quesadilla\", \"Hard Taco\")\n",
    "}\n",
    "\n",
    "class Meal(p: MealChoices) extends Entree with Fries with Drink {\n",
    "    // YOUR CODE HERE\n",
    "    ???\n",
    "\n",
    "    def eatMeal: String = s\"$eatFry, $takeDrink, $eatItem\"\n",
    "}"
   ]
  },
  {
   "cell_type": "code",
   "execution_count": null,
   "id": "combined-exclusion",
   "metadata": {
    "deletable": false,
    "editable": false,
    "nbgrader": {
     "cell_type": "code",
     "checksum": "db1a2cf581baea3877aa1d43a44750a1",
     "grade": true,
     "grade_id": "prob1-test",
     "locked": true,
     "points": 7,
     "schema_version": 3,
     "solution": false,
     "task": false
    }
   },
   "outputs": [],
   "source": [
    "val m0 = new Meal(MealChoices(drink=true, fries=false, entree=\"Hard Taco\"))\n",
    "assert (m0.eatMeal == \"no fries :(, ahh, yummy Hard Taco\", \"fail m0\")\n",
    "\n",
    "val m1 = new Meal(MealChoices(drink=false, fries=true, entree=\"Hard Taco\"))\n",
    "assert (m1.eatMeal == \"mmm, so thirsty :(, yummy Hard Taco\", \"fail m1\")\n",
    "\n",
    "val m2 = new Meal(MealChoices(drink=false, fries=false, entree=\"Hard Tac0\"))\n",
    "assert (m2.eatMeal == \"no fries :(, so thirsty :(, so hungry :(\", \"fail m2\")\n",
    "\n",
    "val m3 = new Meal(MealChoices(drink=true, fries=true, entree=\"Cheeseburger\"))\n",
    "assert (m3.eatMeal == \"mmm, ahh, yummy Cheeseburger\", \"fail m3\")"
   ]
  },
  {
   "cell_type": "markdown",
   "id": "fundamental-alberta",
   "metadata": {
    "deletable": false,
    "editable": false,
    "nbgrader": {
     "cell_type": "markdown",
     "checksum": "07a6649a81771040578b2f146d7401a0",
     "grade": false,
     "grade_id": "prob6-header",
     "locked": true,
     "schema_version": 3,
     "solution": false,
     "task": false
    }
   },
   "source": [
    "## Problem 3 (10 pts) - Chisel trait\n",
    "> Fill in the missing fields in the `DbgCounter` trait, so its usage below will pass its corresponding test. The purpose of this trait is to add a debug counter that prints out the current cycle if the `debug` input (Bool) is true. The trait should add an output `count` (UInt) representing the debug counter."
   ]
  },
  {
   "cell_type": "code",
   "execution_count": null,
   "id": "interesting-resource",
   "metadata": {
    "deletable": false,
    "nbgrader": {
     "cell_type": "code",
     "checksum": "68215cbf173cb7a56d1ceedd608b7702",
     "grade": false,
     "grade_id": "prob6",
     "locked": false,
     "schema_version": 3,
     "solution": true,
     "task": false
    }
   },
   "outputs": [],
   "source": [
    "trait DbgCounter extends MultiIOModule {\n",
    "    def n: Int\n",
    "\n",
    "    // YOUR CODE HERE\n",
    "    ???\n",
    "}\n",
    "\n"
   ]
  },
  {
   "cell_type": "code",
   "execution_count": null,
   "id": "usual-syndication",
   "metadata": {
    "deletable": false,
    "editable": false,
    "nbgrader": {
     "cell_type": "code",
     "checksum": "65d39bc1151ac918cbea376fec2b841f",
     "grade": true,
     "grade_id": "prob6-tests",
     "locked": true,
     "points": 10,
     "schema_version": 3,
     "solution": false,
     "task": false
    }
   },
   "outputs": [],
   "source": [
    "class TestMod(maxCycles: Int) extends MultiIOModule with DbgCounter {\n",
    "   def n = maxCycles \n",
    "}\n",
    "\n",
    "def testDbgCounter(n: Int, printDbg: Boolean): Boolean = {\n",
    "    test(new TestMod(n)) { dut =>\n",
    "        dut.debug.poke(printDbg.B)\n",
    "        for (i <- 0 until n) { \n",
    "            dut.count.expect(i.U)\n",
    "            dut.clock.step()\n",
    "        }\n",
    "        // test that counter wraps\n",
    "        dut.count.expect(0.U)\n",
    "    }\n",
    "    true\n",
    "}\n",
    "\n",
    "assert(testDbgCounter(n=5, true))\n",
    "assert(testDbgCounter(n=15, false))"
   ]
  }
 ],
 "metadata": {
  "kernelspec": {
   "display_name": "Scala",
   "language": "scala",
   "name": "scala"
  },
  "language_info": {
   "codemirror_mode": "text/x-scala",
   "file_extension": ".sc",
   "mimetype": "text/x-scala",
   "name": "scala",
   "nbconvert_exporter": "script",
   "version": "2.13.4"
  }
 },
 "nbformat": 4,
 "nbformat_minor": 5
}
