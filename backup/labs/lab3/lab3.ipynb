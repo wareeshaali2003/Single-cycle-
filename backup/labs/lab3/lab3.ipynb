{
 "cells": [
 {
   "cell_type": "markdown",
   "id": "starting-eugene",
   "metadata": {},
   "source": [
    "Before you turn this problem in, make sure everything runs as expected. First, **restart the kernel** (in the menubar, select Kernel$\\rightarrow$Restart) and then **run all cells** (in the menubar, select Cell$\\rightarrow$Run All).\n",
    "\n",
    "Make sure you fill in any place that says `YOUR CODE HERE` or \"YOUR ANSWER HERE\", as well as your name and collaborators below:"
   ]
  },
  {
   "cell_type": "code",
   "execution_count": null,
   "id": "billion-baker",
   "metadata": {},
   "outputs": [],
   "source": [
    "val NAME = \"\"\n",
    "val COLLABORATORS = \"\""
   ]
  },
  {
   "cell_type": "markdown",
   "id": "extensive-midwest",
   "metadata": {},
   "source": [
    "---"
   ]
  },
  {
   "cell_type": "markdown",
   "id": "fluid-castle",
   "metadata": {
    "cell_style": "center",
    "deletable": false,
    "editable": false,
    "nbgrader": {
     "cell_type": "markdown",
     "checksum": "5d145cf1cd8f4be63652feb7e4628fb8",
     "grade": false,
     "grade_id": "header",
     "locked": true,
     "schema_version": 3,
     "solution": false,
     "task": false
    },
    "slideshow": {
     "slide_type": "slide"
    }
   },
   "source": [
    "# Lab3 - Modularity, Parameters, and Decoupling\n",
    "> Labs will be due each week before the homeworks. They are not intended take a significant amount of time but rather to provide examples/practice on specific and isolated features in the language. Labs are autograded so you can get quick feedback."
   ]
  },
  {
   "cell_type": "markdown",
   "id": "final-rocket",
   "metadata": {
    "deletable": false,
    "editable": false,
    "nbgrader": {
     "cell_type": "markdown",
     "checksum": "9f555f0f7ac7048748fcf1a467a08721",
     "grade": false,
     "grade_id": "imports-header",
     "locked": true,
     "schema_version": 3,
     "solution": false,
     "task": false
    }
   },
   "source": [
    "### Import the necessary Chisel dependencies. \n",
    "> There will be a cell like this in every lab. Make sure you run it before proceeding to bring the Chisel Library into the Jupyter Notebook scope!"
   ]
  },
  {
   "cell_type": "code",
   "execution_count": null,
   "id": "literary-slovakia",
   "metadata": {
    "deletable": false,
    "editable": false,
    "nbgrader": {
     "cell_type": "code",
     "checksum": "21f209c2374499cd3c6c5043e35a7f90",
     "grade": false,
     "grade_id": "imports1",
     "locked": true,
     "schema_version": 3,
     "solution": false,
     "task": false
    }
   },
   "outputs": [],
   "source": [
    "val path = System.getProperty(\"user.dir\") + \"/resource/chisel_deps.sc\"\n",
    "interp.load.module(ammonite.ops.Path(java.nio.file.FileSystems.getDefault().getPath(path)))"
   ]
  },
  {
   "cell_type": "code",
   "execution_count": null,
   "id": "extreme-russell",
   "metadata": {
    "deletable": false,
    "editable": false,
    "nbgrader": {
     "cell_type": "code",
     "checksum": "983b6f254eef272a20e1a6a44677fe6b",
     "grade": false,
     "grade_id": "imports",
     "locked": true,
     "schema_version": 3,
     "solution": false,
     "task": false
    }
   },
   "outputs": [],
   "source": [
    "import chisel3._\n",
    "import chisel3.util._\n",
    "import chiseltest._\n",
    "import chisel3.tester.RawTester.test"
   ]
  },
  {
   "cell_type": "markdown",
   "id": "ruled-track",
   "metadata": {
    "deletable": false,
    "editable": false,
    "nbgrader": {
     "cell_type": "markdown",
     "checksum": "b94ce9a6b5e66df51433f01dabdb120c",
     "grade": false,
     "grade_id": "prob1-header",
     "locked": true,
     "schema_version": 3,
     "solution": false,
     "task": false
    }
   },
   "source": [
    "## Problem 1 (2 pts) - Chisel without Modules - Companion Objects\n",
    "> Throughout our labs so far, we have typically wrapped our code in a class that extends `Module` anytime we wished to write Chisel code. We can actually use standard Scala classes/objects/defs to return Chisel components as long as they are eventually used in a `Module`. The best example of this is using _companion object_ to provide a _factory method_. These are very useful for tidying up IO connections.\n",
    ">\n",
    "> Write an `apply` method that creates an instance of an `ManyConnections` module, connects all the IO, and then returns the module's output as a `Bool`.\n"
   ]
  },
  {
   "cell_type": "code",
   "execution_count": null,
   "id": "double-jenny",
   "metadata": {
    "deletable": false,
    "nbgrader": {
     "cell_type": "code",
     "checksum": "7feabd1bd2a1198412fc86fee972e291",
     "grade": false,
     "grade_id": "companion",
     "locked": false,
     "schema_version": 3,
     "solution": true,
     "task": false
    }
   },
   "outputs": [],
   "source": [
    "class ManyConnections extends Module {\n",
    "    val io = IO(new Bundle {\n",
    "        val in0  = Input(Bool())\n",
    "        val in1  = Input(Bool())\n",
    "        val in2  = Input(Bool())\n",
    "        val in3  = Input(Bool())\n",
    "        val in4  = Input(Bool())\n",
    "        val out = Output(Bool())\n",
    "    })\n",
    "    io.out := io.in0 & io.in1 & io.in2 & io.in3 & io.in4 \n",
    "}\n",
    "\n",
    "object ManyConnections {\n",
    "// YOUR CODE HERE\n",
    "???\n",
    "}"
   ]
  },
  {
   "cell_type": "code",
   "execution_count": null,
   "id": "precious-agreement",
   "metadata": {
    "deletable": false,
    "editable": false,
    "nbgrader": {
     "cell_type": "code",
     "checksum": "716caad1f480c0d8befe6bbc4c75f462",
     "grade": true,
     "grade_id": "test-companion",
     "locked": true,
     "points": 2,
     "schema_version": 3,
     "solution": false,
     "task": false
    }
   },
   "outputs": [],
   "source": [
    "class UseManyConn extends Module {\n",
    "    val io = IO(new Bundle {\n",
    "        val in0 = Input(Bool())\n",
    "        val in1 = Input(Bool())\n",
    "        val in2 = Input(Bool())\n",
    "        val in3 = Input(Bool())\n",
    "        val in4 = Input(Bool())   \n",
    "        val out = Output(Bool())\n",
    "    })\n",
    "    \n",
    "    val one = ManyConnections(true.B, true.B, true.B, true.B, true.B)\n",
    "    val and = ManyConnections(io.in0, io.in1, io.in2, io.in3, io.in4)\n",
    "    \n",
    "//     Hopefully above is more appealing than multiples of these:\n",
    "    \n",
    "//     val m0 = Module(new ManyConnections)\n",
    "//     m0.io.in0 := io.in0\n",
    "//     m0.io.in1 := io.in1\n",
    "//     m0.io.in2 := io.in2\n",
    "//     m0.io.in3 := io.in3\n",
    "//     m0.io.in4 := io.in4\n",
    "//     val and = m0.io.out\n",
    "    io.out := one & and\n",
    "    \n",
    "}\n",
    "\n",
    "def testManyConnections: Boolean = {\n",
    "    test(new ManyConnections) { dut =>\n",
    "        dut.io.in0.poke(true.B)\n",
    "        dut.io.in1.poke(true.B)\n",
    "        dut.io.in2.poke(true.B)\n",
    "        dut.io.in3.poke(true.B)\n",
    "        dut.io.in4.poke(true.B)\n",
    "        dut.io.out.expect(true.B)\n",
    "        \n",
    "        \n",
    "        dut.io.in0.poke(false.B)\n",
    "        dut.io.in1.poke(true.B)\n",
    "        dut.io.in2.poke(true.B)\n",
    "        dut.io.in3.poke(true.B)\n",
    "        dut.io.in4.poke(true.B)\n",
    "        dut.io.out.expect(false.B)\n",
    "        \n",
    "    }\n",
    "    true\n",
    "}\n",
    "assert(testManyConnections)"
   ]
  },
  {
   "cell_type": "markdown",
   "id": "outer-consumer",
   "metadata": {
    "deletable": false,
    "editable": false,
    "nbgrader": {
     "cell_type": "markdown",
     "checksum": "4a03dcf0a9d4ff75971a769a0b054525",
     "grade": false,
     "grade_id": "prob2-header",
     "locked": true,
     "schema_version": 3,
     "solution": false,
     "task": false
    }
   },
   "source": [
    "## Problem 2 (5 pts) - Case Classes\n",
    "> Scala's case classes are very useful for packaging up parameters to the same location. Implement a `case class` `ROMParams` to complete the design below. When completed, the `ROM` module can be created with a `Seq` (passed through the case class), and the generator will appropriately size the various bitwidths and instantiate a read-only memory. Based on the code provided, you should be able to infer the missing field names."
   ]
  },
  {
   "cell_type": "code",
   "execution_count": null,
   "id": "green-triumph",
   "metadata": {
    "deletable": false,
    "nbgrader": {
     "cell_type": "code",
     "checksum": "5c89bce661e113332825d64fb580f199",
     "grade": false,
     "grade_id": "prob2",
     "locked": false,
     "schema_version": 3,
     "solution": true,
     "task": false
    }
   },
   "outputs": [],
   "source": [
    "case class ROMParams(data: Seq[Int]) {\n",
    "    val numElems = data.size\n",
    "    val largestElem = data.max\n",
    "    val dataInChiselT: Seq[UInt] = Seq.tabulate(data.size)(i => data(i).U)\n",
    "    // YOUR CODE HERE\n",
    "    ???\n",
    "}\n",
    "\n",
    "class ROMIO (p: ROMParams) extends Bundle {\n",
    "    val sel = Input(UInt(p.addrWidth.W))\n",
    "    val out = Output(UInt(p.elemWidth.W))\n",
    "}\n",
    "\n",
    "class ROM (p: ROMParams) extends Module {\n",
    "    val io = IO(new ROMIO(p))\n",
    "    // YOUR CODE HERE\n",
    "    ???\n",
    "}"
   ]
  },
  {
   "cell_type": "code",
   "execution_count": null,
   "id": "subject-shore",
   "metadata": {
    "deletable": false,
    "editable": false,
    "nbgrader": {
     "cell_type": "code",
     "checksum": "ca32404822cacb5124b28fd97d3420e6",
     "grade": true,
     "grade_id": "prob2-tests",
     "locked": true,
     "points": 5,
     "schema_version": 3,
     "solution": false,
     "task": false
    }
   },
   "outputs": [],
   "source": [
    "def testROM(l: Seq[Int]): Boolean = {\n",
    "    val p = ROMParams(l)\n",
    "    test(new ROM(p)) { dut =>\n",
    "        for (i <- 0 until l.size) {\n",
    "            dut.io.sel.poke(i.U)\n",
    "            dut.io.out.expect(l(i).U)\n",
    "        }\n",
    "        assert(p.addrWidth == log2Ceil(l.size + 1))\n",
    "        assert(p.elemWidth == log2Ceil(l.max + 1))\n",
    "    }\n",
    "    true\n",
    "}\n",
    "assert(testROM((0 until 5).toSeq))\n",
    "assert(testROM((20 until 31).toSeq))"
   ]
  },
  {
   "cell_type": "markdown",
   "id": "relative-canal",
   "metadata": {
    "deletable": false,
    "editable": false,
    "nbgrader": {
     "cell_type": "markdown",
     "checksum": "08bf20a85682c85fc50de6e3d09f3fa4",
     "grade": false,
     "grade_id": "prob3-header",
     "locked": true,
     "schema_version": 3,
     "solution": false,
     "task": false
    }
   },
   "source": [
    "## Problem 3 (3 pts) - Using Standard Counter\n",
    "> We saw in class how Chisel provides a [Counter](https://www.chisel-lang.org/api/latest/chisel3/util/Counter.html). Use the standard `Counter` to implement the module `Ticker` below that sets the output `tick` high once every `nTicks` cycles (parameter). For example, if `nTicks=2` the output will be high every other cycle."
   ]
  },
  {
   "cell_type": "code",
   "execution_count": null,
   "id": "major-washer",
   "metadata": {
    "deletable": false,
    "nbgrader": {
     "cell_type": "code",
     "checksum": "a5104d96f29149115ae7c5dc18d319a9",
     "grade": false,
     "grade_id": "prob3",
     "locked": false,
     "schema_version": 3,
     "solution": true,
     "task": false
    }
   },
   "outputs": [],
   "source": [
    "class Ticker(nTicks: Int) extends Module {\n",
    "    require(nTicks > 0)\n",
    "    val io = IO(new Bundle {\n",
    "        val tick = Output(Bool())\n",
    "    })\n",
    "    // YOUR CODE HERE\n",
    "    ???\n",
    "}"
   ]
  },
  {
   "cell_type": "code",
   "execution_count": null,
   "id": "institutional-breakdown",
   "metadata": {
    "deletable": false,
    "editable": false,
    "nbgrader": {
     "cell_type": "code",
     "checksum": "34cf0d71e2e1d45a21e2df8d730386cd",
     "grade": true,
     "grade_id": "prob3-tests",
     "locked": true,
     "points": 3,
     "schema_version": 3,
     "solution": false,
     "task": false
    }
   },
   "outputs": [],
   "source": [
    "def testTicker(nTicks: Int): Boolean = {\n",
    "    require(nTicks > 0)\n",
    "    test(new Ticker(nTicks)) { dut =>\n",
    "        for (round <- 0 until 3) {\n",
    "            for (c <- 0 until nTicks) {\n",
    "//                 println(s\"${round*nTicks + c}: ${dut.io.tick.peek()}\")\n",
    "                dut.io.tick.expect((c==nTicks-1).B)\n",
    "                dut.clock.step()\n",
    "            }\n",
    "        }\n",
    "    }\n",
    "    true\n",
    "}\n",
    "\n",
    "assert(testTicker(1))\n",
    "assert(testTicker(2))\n",
    "assert(testTicker(4))"
   ]
  },
  {
   "cell_type": "markdown",
   "id": "caring-graphic",
   "metadata": {
    "deletable": false,
    "editable": false,
    "nbgrader": {
     "cell_type": "markdown",
     "checksum": "82ac330dde98e58f771e232a2cc6f9bf",
     "grade": false,
     "grade_id": "prob4-header",
     "locked": true,
     "schema_version": 3,
     "solution": false,
     "task": false
    }
   },
   "source": [
    "## Problem 4 (3 pts) - Chisel without Modules - Accumulator\n",
    "> We saw in class how to create a counter without the use of `Module`. Make a class `Accumulator` without the use of `Module`. This class should have a register of type `UInt` to store the accumulated `data` values. When the `rst` signal is high, the accumulated value should reset to `0.U`. We have provided a companion object to instantiate your class."
   ]
  },
  {
   "cell_type": "code",
   "execution_count": null,
   "id": "cordless-architecture",
   "metadata": {
    "deletable": false,
    "nbgrader": {
     "cell_type": "code",
     "checksum": "b0230258f24e76d041fa2029da28054e",
     "grade": false,
     "grade_id": "prob4",
     "locked": false,
     "schema_version": 3,
     "solution": true,
     "task": false
    }
   },
   "outputs": [],
   "source": [
    "object Accumulator {\n",
    "    def apply(width: Int, data: UInt, rst: Bool) = {\n",
    "        val m = new Accumulator(width, data, rst)\n",
    "        m.count\n",
    "    }\n",
    "}\n",
    "\n",
    "// YOUR CODE HERE\n",
    "???"
   ]
  },
  {
   "cell_type": "code",
   "execution_count": null,
   "id": "systematic-danger",
   "metadata": {
    "deletable": false,
    "editable": false,
    "nbgrader": {
     "cell_type": "code",
     "checksum": "7a93d0134c856599c148a198691e0ce3",
     "grade": true,
     "grade_id": "prob4-test",
     "locked": true,
     "points": 3,
     "schema_version": 3,
     "solution": false,
     "task": false
    }
   },
   "outputs": [],
   "source": [
    "class AccumulatorInstMod(width: Int) extends Module {\n",
    "    val io = IO(new Bundle {\n",
    "        val data  = Input(UInt(width.W))\n",
    "        val rst   = Input(Bool())\n",
    "        val count = Output(UInt(width.W))\n",
    "    })\n",
    "    io.count := Accumulator(width, io.data, io.rst)\n",
    "}\n",
    "\n",
    "def testAccumulator: Boolean = {\n",
    "    test(new AccumulatorInstMod(4)) { dut =>\n",
    "        dut.io.data.poke(5.U)\n",
    "        dut.io.rst.poke(false.B)\n",
    "        dut.io.count.expect(0.U)\n",
    "        dut.clock.step()\n",
    "        \n",
    "        dut.io.data.poke(6.U)\n",
    "        dut.io.rst.poke(false.B)\n",
    "        dut.io.count.expect(5.U)\n",
    "        dut.clock.step()\n",
    "        \n",
    "        dut.io.data.poke(7.U)\n",
    "        dut.io.rst.poke(false.B)\n",
    "        dut.io.count.expect(11.U)\n",
    "        dut.clock.step()\n",
    "        \n",
    "        dut.io.data.poke(0.U)\n",
    "        dut.io.rst.poke(true.B)\n",
    "        dut.io.count.expect(2.U)\n",
    "        dut.clock.step()\n",
    "        \n",
    "        dut.io.count.expect(0.U)\n",
    "    }\n",
    "    true\n",
    "}\n",
    "assert(testAccumulator)"
   ]
  },
  {
   "cell_type": "markdown",
   "id": "nonprofit-january",
   "metadata": {
    "deletable": false,
    "editable": false,
    "nbgrader": {
     "cell_type": "markdown",
     "checksum": "5bec30b519906734a2349084d0cecc2e",
     "grade": false,
     "grade_id": "prob5-header",
     "locked": true,
     "schema_version": 3,
     "solution": false,
     "task": false
    }
   },
   "source": [
    "## Problem 5 (5 pts) - Valid\n",
    "> Using your `Accumulator` class as a starting point, write a `ValidAccumulator` class that uses `Valid[UInt]` as the input, so it will only accumulate the incoming `data` if it is `valid`."
   ]
  },
  {
   "cell_type": "code",
   "execution_count": null,
   "id": "physical-memphis",
   "metadata": {
    "deletable": false,
    "nbgrader": {
     "cell_type": "code",
     "checksum": "35643c4f26af641ef5586e2161fca4ae",
     "grade": false,
     "grade_id": "prob5",
     "locked": false,
     "schema_version": 3,
     "solution": true,
     "task": false
    }
   },
   "outputs": [],
   "source": [
    "object ValidAccumulator {\n",
    "    def apply(width: Int, data: Valid[UInt], rst: Bool) = {\n",
    "        val m = new ValidAccumulator(width, data, rst)\n",
    "        m.count\n",
    "    }\n",
    "}\n",
    "\n",
    "// YOUR CODE HERE\n",
    "???"
   ]
  },
  {
   "cell_type": "code",
   "execution_count": null,
   "id": "veterinary-boxing",
   "metadata": {
    "deletable": false,
    "editable": false,
    "nbgrader": {
     "cell_type": "code",
     "checksum": "07c85ba262539d50a8a5b55a76e3fbe2",
     "grade": true,
     "grade_id": "prob5-test",
     "locked": true,
     "points": 5,
     "schema_version": 3,
     "solution": false,
     "task": false
    }
   },
   "outputs": [],
   "source": [
    "class ValidAccumulatorInstMod(width: Int) extends Module {\n",
    "    val io = IO(new Bundle {\n",
    "        val data  = Input(Valid(UInt(width.W)))\n",
    "        val rst   = Input(Bool())\n",
    "        val count = Output(UInt(width.W))\n",
    "    })\n",
    "    io.count := ValidAccumulator(width, io.data, io.rst)\n",
    "}\n",
    "\n",
    "def testValidAccumulator: Boolean = {\n",
    "    test(new ValidAccumulatorInstMod(4)) { dut =>\n",
    "        dut.io.data.bits.poke(5.U)\n",
    "        dut.io.data.valid.poke(false.B)\n",
    "        dut.io.rst.poke(false.B)\n",
    "        dut.io.count.expect(0.U)\n",
    "        dut.clock.step()\n",
    "        \n",
    "        dut.io.data.bits.poke(5.U)\n",
    "        dut.io.data.valid.poke(true.B)\n",
    "        dut.io.rst.poke(false.B)\n",
    "        dut.io.count.expect(0.U)\n",
    "        dut.clock.step()\n",
    "        \n",
    "        dut.io.data.bits.poke(6.U)\n",
    "        dut.io.data.valid.poke(true.B)\n",
    "        dut.io.rst.poke(false.B)\n",
    "        dut.io.count.expect(5.U)\n",
    "        dut.clock.step()\n",
    "        \n",
    "        dut.io.data.bits.poke(7.U)\n",
    "        dut.io.data.valid.poke(false.B)\n",
    "        dut.io.rst.poke(false.B)\n",
    "        dut.io.count.expect(11.U)\n",
    "        dut.clock.step()\n",
    "        \n",
    "        dut.io.data.bits.poke(7.U)\n",
    "        dut.io.data.valid.poke(true.B)\n",
    "        dut.io.rst.poke(false.B)\n",
    "        dut.io.count.expect(11.U)\n",
    "        dut.clock.step()\n",
    "        \n",
    "        dut.io.data.bits.poke(0.U)\n",
    "        dut.io.data.valid.poke(false.B)\n",
    "        dut.io.rst.poke(true.B)\n",
    "        dut.io.count.expect(2.U)\n",
    "        dut.clock.step()\n",
    "        \n",
    "        dut.io.count.expect(0.U)\n",
    "    }\n",
    "    true\n",
    "}\n",
    "assert(testValidAccumulator)"
   ]
  },
  {
   "cell_type": "markdown",
   "id": "therapeutic-reverse",
   "metadata": {
    "deletable": false,
    "editable": false,
    "nbgrader": {
     "cell_type": "markdown",
     "checksum": "18b5124dc36cee37d92a6917cb8b6011",
     "grade": false,
     "grade_id": "prob6-header",
     "locked": true,
     "schema_version": 3,
     "solution": false,
     "task": false
    }
   },
   "source": [
    "## Problem 6 (7 pts) - Decoupled\n",
    "> Using your `ValidAccumulator` class as a starting point, write a `DecoupledAccumulator` class that uses a `Decoupled[UInt]` as the input (using ready/valid signalling). It must wait `coolDown` cycles after accepting an input before it can accept another. For example, if `coolDown = 1`, it can accept new numbers no faster than every other cycle. Like the previous Accumulator problems, add the proper reset logic. You can assume `coolDown > 0`. At start up or coming out of reset/rst, you need to wait the `coolDown` amount."
   ]
  },
  {
   "cell_type": "code",
   "execution_count": null,
   "id": "independent-initial",
   "metadata": {
    "deletable": false,
    "nbgrader": {
     "cell_type": "code",
     "checksum": "0f65b1627cb1476c9adff41271e82374",
     "grade": false,
     "grade_id": "prob6",
     "locked": false,
     "schema_version": 3,
     "solution": true,
     "task": false
    }
   },
   "outputs": [],
   "source": [
    "object DecoupledAccumulator {\n",
    "    def apply(width: Int, data: DecoupledIO[UInt], rst: Bool, coolDown: Int) = {\n",
    "        require(coolDown > 0)\n",
    "        val m = new DecoupledAccumulator(width, data, rst, coolDown)\n",
    "        m.count\n",
    "    }\n",
    "}\n",
    "\n",
    "// YOUR CODE HERE\n",
    "???"
   ]
  },
  {
   "cell_type": "code",
   "execution_count": null,
   "id": "announced-apollo",
   "metadata": {
    "deletable": false,
    "editable": false,
    "nbgrader": {
     "cell_type": "code",
     "checksum": "47cfa95473800dcf75df13b755552040",
     "grade": true,
     "grade_id": "prob6-test",
     "locked": true,
     "points": 7,
     "schema_version": 3,
     "solution": false,
     "task": false
    }
   },
   "outputs": [],
   "source": [
    "class DecoupledAccumulatorInstMod(width: Int, coolDown: Int) extends Module {\n",
    "    val io = IO(new Bundle {\n",
    "        val data  = Flipped(Decoupled(UInt(width.W)))\n",
    "        val rst   = Input(Bool())\n",
    "        val count = Output(UInt(width.W))\n",
    "    })\n",
    "    io.count := DecoupledAccumulator(width, io.data, io.rst, coolDown)\n",
    "}\n",
    "\n",
    "def testDecoupledAccumulator: Boolean = {\n",
    "    test(new DecoupledAccumulatorInstMod(4, 1)) { dut =>\n",
    "        dut.io.data.bits.poke(1.U) // ignored\n",
    "        dut.io.data.valid.poke(true.B) \n",
    "        dut.io.rst.poke(false.B)\n",
    "        dut.io.count.expect(0.U)\n",
    "        dut.io.data.ready.expect(false.B)\n",
    "        dut.clock.step()\n",
    "\n",
    "        dut.io.data.bits.poke(2.U) // accumed\n",
    "        dut.io.data.valid.poke(true.B)\n",
    "        dut.io.rst.poke(false.B)\n",
    "        dut.io.count.expect(0.U)\n",
    "        dut.io.data.ready.expect(true.B)\n",
    "        dut.clock.step()\n",
    "\n",
    "        dut.io.data.bits.poke(3.U) // ignored\n",
    "        dut.io.data.valid.poke(true.B)\n",
    "        dut.io.rst.poke(false.B)\n",
    "        dut.io.count.expect(2.U)\n",
    "        dut.io.data.ready.expect(false.B)\n",
    "        dut.clock.step()\n",
    "\n",
    "        dut.io.data.bits.poke(4.U) // accumed\n",
    "        dut.io.data.valid.poke(true.B)\n",
    "        dut.io.rst.poke(false.B)\n",
    "        dut.io.count.expect(2.U)\n",
    "        dut.io.data.ready.expect(true.B)\n",
    "        dut.clock.step()\n",
    "\n",
    "        dut.io.data.bits.poke(5.U) // ignored since invalid\n",
    "        dut.io.data.valid.poke(false.B) // doesn't count\n",
    "        dut.io.rst.poke(false.B)\n",
    "        dut.io.count.expect(6.U)\n",
    "        dut.io.data.ready.expect(false.B)\n",
    "        dut.clock.step()\n",
    "\n",
    "        dut.io.data.bits.poke(6.U) // ignored since invalid\n",
    "        dut.io.data.valid.poke(false.B) // doesn't count\n",
    "        dut.io.rst.poke(false.B)\n",
    "        dut.io.count.expect(6.U)\n",
    "        dut.io.data.ready.expect(true.B)\n",
    "        dut.clock.step()\n",
    "\n",
    "        dut.io.data.bits.poke(7.U) // accumed\n",
    "        dut.io.data.valid.poke(true.B)\n",
    "        dut.io.rst.poke(false.B)\n",
    "        dut.io.count.expect(6.U)\n",
    "        dut.io.data.ready.expect(true.B)\n",
    "        dut.clock.step()\n",
    "\n",
    "        dut.io.count.expect(13.U)\n",
    "        dut.io.rst.poke(true.B) // reset\n",
    "        dut.clock.step()\n",
    "        dut.io.count.expect(0.U)\n",
    "    }\n",
    "    test(new DecoupledAccumulatorInstMod(4, 2)) { dut =>\n",
    "        dut.io.data.bits.poke(1.U) // ignored\n",
    "        dut.io.data.valid.poke(true.B) \n",
    "        dut.io.rst.poke(false.B)\n",
    "        dut.io.count.expect(0.U)\n",
    "        dut.io.data.ready.expect(false.B)\n",
    "        dut.clock.step()\n",
    "\n",
    "        dut.io.data.bits.poke(2.U) // ignored\n",
    "        dut.io.data.valid.poke(true.B)\n",
    "        dut.io.rst.poke(false.B)\n",
    "        dut.io.count.expect(0.U)\n",
    "        dut.io.data.ready.expect(false.B)\n",
    "        dut.clock.step()\n",
    "\n",
    "        dut.io.data.bits.poke(3.U) // accum\n",
    "        dut.io.data.valid.poke(true.B)\n",
    "        dut.io.rst.poke(false.B)\n",
    "        dut.io.count.expect(0.U)\n",
    "        dut.io.data.ready.expect(true.B)\n",
    "        dut.clock.step()\n",
    "\n",
    "        dut.io.data.bits.poke(4.U) // ignored\n",
    "        dut.io.data.valid.poke(true.B)\n",
    "        dut.io.rst.poke(false.B)\n",
    "        dut.io.count.expect(3.U)\n",
    "        dut.io.data.ready.expect(false.B)\n",
    "        dut.clock.step()\n",
    "    }\n",
    "    true\n",
    "}\n",
    "assert(testDecoupledAccumulator)"
   ]
  }
 ],
 "metadata": {
  "kernelspec": {
   "display_name": "Scala",
   "language": "scala",
   "name": "scala"
  },
  "language_info": {
   "codemirror_mode": "text/x-scala",
   "file_extension": ".sc",
   "mimetype": "text/x-scala",
   "name": "scala",
   "nbconvert_exporter": "script",
   "version": "2.13.4"
  }
 },
 "nbformat": 4,
 "nbformat_minor": 5
}
