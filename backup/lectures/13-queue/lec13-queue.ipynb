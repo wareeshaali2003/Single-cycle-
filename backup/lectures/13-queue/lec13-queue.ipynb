{
 "cells": [
  {
   "cell_type": "markdown",
   "id": "external-thermal",
   "metadata": {
    "slideshow": {
     "slide_type": "slide"
    }
   },
   "source": [
    "## Agile Hardware Design\n",
    "***\n",
    "# Queue Design Case Study\n",
    "\n",
    "## Prof. Scott Beamer\n",
    "### sbeamer@ucsc.edu\n",
    "\n",
    "## [CSE 293](https://classes.soe.ucsc.edu/cse293/Winter22/)"
   ]
  },
  {
   "cell_type": "markdown",
   "id": "nominated-consistency",
   "metadata": {
    "slideshow": {
     "slide_type": "slide"
    }
   },
   "source": [
    "## Plan for Today\n",
    "\n",
    "* Designing for reuse\n",
    "* Designing a Queue\n",
    "* Iteratively improving Queue design"
   ]
  },
  {
   "cell_type": "markdown",
   "id": "regular-reducing",
   "metadata": {
    "slideshow": {
     "slide_type": "slide"
    }
   },
   "source": [
    "## Loading The Chisel Library Into a Notebook"
   ]
  },
  {
   "cell_type": "code",
   "execution_count": null,
   "id": "robust-immigration",
   "metadata": {},
   "outputs": [],
   "source": [
    "val path = System.getProperty(\"user.dir\") + \"/../resource/chisel_deps.sc\"\n",
    "interp.load.module(ammonite.ops.Path(java.nio.file.FileSystems.getDefault().getPath(path)))"
   ]
  },
  {
   "cell_type": "code",
   "execution_count": null,
   "id": "extended-burning",
   "metadata": {
    "scrolled": true,
    "slideshow": {
     "slide_type": "-"
    }
   },
   "outputs": [],
   "source": [
    "import chisel3._\n",
    "import chisel3.util._\n",
    "import chisel3.tester._\n",
    "import chisel3.tester.RawTester.test"
   ]
  },
  {
   "cell_type": "markdown",
   "id": "mighty-boston",
   "metadata": {
    "slideshow": {
     "slide_type": "slide"
    }
   },
   "source": [
    "## Goals for Reuse\n",
    "\n",
    "* Need to recognize _pattern_ of functionality\n",
    "\n",
    "* Include necessary parameterization and generation to support users' needs"
   ]
  },
  {
   "cell_type": "markdown",
   "id": "sunset-marshall",
   "metadata": {
    "slideshow": {
     "slide_type": "slide"
    }
   },
   "source": [
    "## Planning for Progressive Design\n",
    "\n",
    "* Reduce the complexity/challenge of any one step\n",
    "* _Close the loop_ as early as possible, then augment/extend/revise\n",
    "* Look for opportunities to defer features/optimizations to later\n",
    "* While developing, re-evaluate plan and revise as needed\n",
    "* Consider\n",
    "  * What is the simplest thing I can implement?\n",
    "  * How can I test it? (both at start and as it evolves)\n",
    "  * Plotting a roadmap of order to develop features/optimizations"
   ]
  },
  {
   "cell_type": "markdown",
   "id": "distinguished-baseball",
   "metadata": {
    "slideshow": {
     "slide_type": "slide"
    }
   },
   "source": [
    "## Case Study: Designing a Queue\n",
    "\n",
    "* **Goal:** A _Queue_ with `Decoupled` interfaces on both sides\n",
    "  * Would like to parameterize queue depth and data types\n",
    "  * Power/performance/area (PPA) goals\n",
    "\n",
    "* **How to get started:** deferring features\n",
    "  * Parameters (queue depth & data type)\n",
    "  * Performance (correct but slow ok at first)\n",
    "\n",
    "<img src=\"images/queue.svg\" alt=\"queue high-level\" style=\"width:70%;margin-left:auto;margin-right:auto\"/>"
   ]
  },
  {
   "cell_type": "markdown",
   "id": "included-priest",
   "metadata": {
    "slideshow": {
     "slide_type": "slide"
    }
   },
   "source": [
    "## First Attempt at Queue\n",
    "\n",
    "* _Simplification_: only single entry\n",
    "* _Behavior_: can enqueue if full and dequeueing (`pipe` is true), but can't bypass if empty (`flow` is false)\n",
    "\n",
    "<img src=\"images/single.svg\" alt=\"single-entry queue\" style=\"width:60%;margin-left:auto;margin-right:auto\"/>"
   ]
  },
  {
   "cell_type": "markdown",
   "id": "outdoor-arkansas",
   "metadata": {
    "slideshow": {
     "slide_type": "slide"
    }
   },
   "source": [
    "## V0 - First Attempt at Queue"
   ]
  },
  {
   "cell_type": "code",
   "execution_count": null,
   "id": "ideal-ghana",
   "metadata": {},
   "outputs": [],
   "source": [
    "class QueueIO(bitWidth: Int) extends Bundle {\n",
    "    val enq = Flipped(Decoupled(UInt(bitWidth.W)))\n",
    "    val deq = Decoupled(UInt(bitWidth.W))\n",
    "}\n",
    "\n",
    "class MyQueueV0(bitWidth: Int) extends Module {\n",
    "    val io = IO(new QueueIO(bitWidth))\n",
    "    val entry = Reg(UInt(bitWidth.W))\n",
    "    val full = RegInit(false.B)\n",
    "    io.enq.ready := !full || io.deq.fire\n",
    "    io.deq.valid := full\n",
    "    io.deq.bits := entry\n",
    "    when (io.deq.fire) {\n",
    "        full := false.B\n",
    "    }\n",
    "    when (io.enq.fire) {\n",
    "        entry := io.enq.bits\n",
    "        full := true.B\n",
    "    }\n",
    "}"
   ]
  },
  {
   "cell_type": "markdown",
   "id": "miniature-projector",
   "metadata": {
    "slideshow": {
     "slide_type": "slide"
    }
   },
   "source": [
    "## Testing Our Queue - Scala Model"
   ]
  },
  {
   "cell_type": "code",
   "execution_count": null,
   "id": "proud-unemployment",
   "metadata": {},
   "outputs": [],
   "source": [
    "class QueueModel(numEntries: Int) {\n",
    "    val mq = scala.collection.mutable.Queue[Int]()\n",
    "    var deqReady = false\n",
    "\n",
    "    def attemptEnq(elem: Int) { \n",
    "        if (enqReady()) mq += elem\n",
    "    }\n",
    "\n",
    "    // call first within a cycle\n",
    "    // improve with Option & None\n",
    "    def attemptDeq() = if (deqReady) mq.dequeue() else -1\n",
    "    \n",
    "    def enqReady() = mq.size < numEntries || (mq.size == numEntries && deqReady)\n",
    "    def deqValid() = mq.nonEmpty\n",
    "}"
   ]
  },
  {
   "cell_type": "markdown",
   "id": "necessary-suffering",
   "metadata": {
    "slideshow": {
     "slide_type": "slide"
    }
   },
   "source": [
    "## Testing Our Queue - Harness + Simulation"
   ]
  },
  {
   "cell_type": "code",
   "execution_count": null,
   "id": "cardiac-religion",
   "metadata": {},
   "outputs": [],
   "source": [
    "def simCycle(qm: QueueModel, c: MyQueueV0, enqValid: Boolean, deqReady: Boolean, enqData: Int=0) {\n",
    "    qm.deqReady = deqReady\n",
    "    c.io.deq.ready.poke(qm.deqReady.B)\n",
    "    if (c.io.deq.valid.peek.litToBoolean && deqReady) {\n",
    "        assert(qm.deqValid)\n",
    "        c.io.deq.bits.expect(qm.attemptDeq().U)\n",
    "    }\n",
    "    c.io.enq.ready.expect(qm.enqReady.B)\n",
    "    c.io.enq.valid.poke(enqValid.B)\n",
    "    c.io.enq.bits.poke(enqData.U)\n",
    "    if (enqValid)\n",
    "        qm.attemptEnq(enqData)\n",
    "    c.clock.step()\n",
    "    println(qm.mq)\n",
    "}"
   ]
  },
  {
   "cell_type": "markdown",
   "id": "composite-vegetarian",
   "metadata": {
    "slideshow": {
     "slide_type": "slide"
    }
   },
   "source": [
    "## Testing Our Queue - Simulation"
   ]
  },
  {
   "cell_type": "code",
   "execution_count": null,
   "id": "forty-yugoslavia",
   "metadata": {},
   "outputs": [],
   "source": [
    "test(new MyQueueV0(8)) { c =>\n",
    "    val qm = new QueueModel(1)\n",
    "    simCycle(qm, c, false, false)\n",
    "    simCycle(qm, c, true, false, 1)\n",
    "    simCycle(qm, c, true, false, 2)\n",
    "    simCycle(qm, c, true, true, 2)\n",
    "    simCycle(qm, c, false, true)\n",
    "}"
   ]
  },
  {
   "cell_type": "markdown",
   "id": "automatic-lecture",
   "metadata": {
    "slideshow": {
     "slide_type": "slide"
    }
   },
   "source": [
    "## Assessing MyQueue `V0`\n",
    "\n",
    "* Accomplished\n",
    "    * Implements queueing behavior\n",
    "    * Parameterized data width (still limited to `UInt`)\n",
    "* Shortcommings\n",
    "    * Only one entry (_next goal_ to fix)"
   ]
  },
  {
   "cell_type": "markdown",
   "id": "organizational-breath",
   "metadata": {
    "slideshow": {
     "slide_type": "slide"
    }
   },
   "source": [
    "## Parameterizing Number of Queue Entries\n",
    "\n",
    "* First attempt at parameterizing number of entries: _shift register_\n",
    "\n",
    "<img src=\"images/shift.svg\" alt=\"queue via shift register\" style=\"width:60%;margin-left:auto;margin-right:auto\"/>"
   ]
  },
  {
   "cell_type": "markdown",
   "id": "referenced-cleaner",
   "metadata": {
    "slideshow": {
     "slide_type": "slide"
    }
   },
   "source": [
    "## V1 - Parameterizing Number of Queue Entries"
   ]
  },
  {
   "cell_type": "code",
   "execution_count": null,
   "id": "presidential-treatment",
   "metadata": {},
   "outputs": [],
   "source": [
    "class MyQueueV1(numEntries: Int, bitWidth: Int) extends Module {\n",
    "    val io = IO(new QueueIO(bitWidth))\n",
    "    require(numEntries > 0)\n",
    "    // enqueue into index numEntries-1 (last) and dequeue from index 0 (head)\n",
    "    val entries = Seq.fill(numEntries)(Reg(UInt(bitWidth.W)))\n",
    "    val fullBits = Seq.fill(numEntries)(RegInit(false.B))\n",
    "    val shiftDown = io.deq.fire || !fullBits.head\n",
    "    io.enq.ready := !fullBits.last || shiftDown\n",
    "    io.deq.valid := fullBits.head\n",
    "    io.deq.bits := entries.head\n",
    "    when (shiftDown) { // dequeue / shift\n",
    "        for (i <- 0 until numEntries - 1) {\n",
    "            entries(i) := entries(i+1)\n",
    "            fullBits(i) := fullBits(i+1)\n",
    "        }\n",
    "        fullBits.last := false.B\n",
    "    }\n",
    "    when (io.enq.fire) { // enqueue\n",
    "        entries.last := io.enq.bits\n",
    "        fullBits.last := true.B\n",
    "    }\n",
    "//     when (shiftDown || io.enq.fire) {\n",
    "//         entries.foldRight(io.enq.bits){(thisEntry, lastEntry) => thisEntry := lastEntry; thisEntry}\n",
    "//         fullBits.foldRight(io.enq.fire){(thisEntry, lastEntry) => thisEntry := lastEntry; thisEntry}\n",
    "//     }\n",
    "}"
   ]
  },
  {
   "cell_type": "markdown",
   "id": "threaded-softball",
   "metadata": {
    "slideshow": {
     "slide_type": "slide"
    }
   },
   "source": [
    "## Testing Our Queue"
   ]
  },
  {
   "cell_type": "code",
   "execution_count": null,
   "id": "processed-counter",
   "metadata": {},
   "outputs": [],
   "source": [
    "def simCycle(qm: QueueModel, c: MyQueueV1, enqValid: Boolean, deqReady: Boolean, enqData: Int=0) {\n",
    "    qm.deqReady = deqReady\n",
    "    c.io.deq.ready.poke(qm.deqReady.B)\n",
    "    if (c.io.deq.valid.peek.litToBoolean && deqReady) {\n",
    "        assert(qm.deqValid)\n",
    "        c.io.deq.bits.expect(qm.attemptDeq().U)\n",
    "    }\n",
    "    c.io.enq.ready.expect(qm.enqReady.B)\n",
    "    c.io.enq.valid.poke(enqValid.B)\n",
    "    c.io.enq.bits.poke(enqData.U)\n",
    "    if (enqValid)\n",
    "        qm.attemptEnq(enqData)\n",
    "    c.clock.step()\n",
    "    println(qm.mq)\n",
    "}\n",
    "\n",
    "test(new MyQueueV1(3,8)) { c =>\n",
    "    val qm = new QueueModel(3)\n",
    "    simCycle(qm, c, false, false)\n",
    "    simCycle(qm, c, true, false, 1)\n",
    "    simCycle(qm, c, true, true, 2)\n",
    "    simCycle(qm, c, false, true)\n",
    "    simCycle(qm, c, false, true)\n",
    "}"
   ]
  },
  {
   "cell_type": "markdown",
   "id": "nutritional-interest",
   "metadata": {
    "slideshow": {
     "slide_type": "slide"
    }
   },
   "source": [
    "## Assessing MyQueue `V1`\n",
    "\n",
    "* Accomplished\n",
    "    * Implements queueing behavior\n",
    "    * Parameterized data width & _number of entries_\n",
    "* Shortcommings\n",
    "    * Long latency when queue is empty (all elements go through all entries)\n",
    "    * Not good at handling bubbles midway (might even be buggy)"
   ]
  },
  {
   "cell_type": "markdown",
   "id": "outdoor-lingerie",
   "metadata": {
    "slideshow": {
     "slide_type": "slide"
    }
   },
   "source": [
    "## Squishing Bubbles in Queue\n",
    "\n",
    "* Use a _Priority Encoder_ to squeeze out bubbles\n",
    "  * Insert in first free slot\n",
    "\n",
    "<img src=\"images/priority.svg\" alt=\"priority encoder queue\" style=\"width:60%;margin-left:auto;margin-right:auto\"/>"
   ]
  },
  {
   "cell_type": "markdown",
   "id": "personalized-slovenia",
   "metadata": {
    "slideshow": {
     "slide_type": "slide"
    }
   },
   "source": [
    "## V2 - Using Priority Encoder for Insertion"
   ]
  },
  {
   "cell_type": "code",
   "execution_count": null,
   "id": "positive-lesson",
   "metadata": {},
   "outputs": [],
   "source": [
    "class MyQueueV2(numEntries: Int, bitWidth: Int) extends Module {\n",
    "    val io = IO(new QueueIO(bitWidth))\n",
    "    require(numEntries > 0)\n",
    "    // enqueue into lowest empty and dequeue from index 0 (head)\n",
    "    val entries = Reg(Vec(numEntries, UInt(bitWidth.W)))\n",
    "    val fullBits = RegInit(VecInit(Seq.fill(numEntries)(false.B)))\n",
    "    val emptyBits = fullBits map { !_ }\n",
    "    io.enq.ready := emptyBits reduce { _ || _ } // any empties?\n",
    "    io.deq.valid := fullBits.head\n",
    "    io.deq.bits := entries.head\n",
    "    when (io.deq.fire) { // dequeue & shift up\n",
    "        fullBits.last := false.B\n",
    "        for (i <- 0 until numEntries - 1) {\n",
    "            entries(i) := entries(i+1)\n",
    "            fullBits(i) := fullBits(i+1)\n",
    "        }\n",
    "    }\n",
    "    when (io.enq.fire) { // priority enqueue\n",
    "        val currFreeIndex = PriorityEncoder(emptyBits)\n",
    "        val writeIndex = Mux(io.deq.fire, currFreeIndex - 1.U, currFreeIndex)\n",
    "        entries(writeIndex) := io.enq.bits\n",
    "        fullBits(writeIndex) := true.B\n",
    "    }\n",
    "}"
   ]
  },
  {
   "cell_type": "markdown",
   "id": "labeled-fraud",
   "metadata": {
    "slideshow": {
     "slide_type": "slide"
    }
   },
   "source": [
    "## Testing Our Queue"
   ]
  },
  {
   "cell_type": "code",
   "execution_count": null,
   "id": "weekly-custom",
   "metadata": {},
   "outputs": [],
   "source": [
    "def simCycle(qm: QueueModel, c: MyQueueV2, enqValid: Boolean, deqReady: Boolean, enqData: Int=0) {\n",
    "    qm.deqReady = deqReady\n",
    "    c.io.deq.ready.poke(qm.deqReady.B)\n",
    "    if (c.io.deq.valid.peek.litToBoolean && deqReady) {\n",
    "        assert(qm.deqValid)\n",
    "        c.io.deq.bits.expect(qm.attemptDeq().U)\n",
    "    }\n",
    "    c.io.enq.ready.expect(qm.enqReady.B)\n",
    "    c.io.enq.valid.poke(enqValid.B)\n",
    "    c.io.enq.bits.poke(enqData.U)\n",
    "    if (enqValid)\n",
    "        qm.attemptEnq(enqData)\n",
    "    c.clock.step()\n",
    "    println(qm.mq)\n",
    "}\n",
    "\n",
    "test(new MyQueueV2(4, 8)) { c =>\n",
    "    val qm = new QueueModel(4)\n",
    "    simCycle(qm, c, false, false)\n",
    "    simCycle(qm, c, true, false, 1)\n",
    "    simCycle(qm, c, false, true)\n",
    "}"
   ]
  },
  {
   "cell_type": "markdown",
   "id": "central-gnome",
   "metadata": {
    "slideshow": {
     "slide_type": "slide"
    }
   },
   "source": [
    "## Assessing MyQueue `V2`\n",
    "\n",
    "* Accomplished\n",
    "  * Implements queueing behavior\n",
    "  * Parameterized data width & number of entries\n",
    "  * Latency based on occupancy\n",
    "\n",
    "* Shortcommings\n",
    "  * _Performance:_ can't simultaneously enqueue/dequeue to a full queue\n",
    "  * _Power Efficiency:_ lots of bits shifting\n",
    "  * _Potential Critical Path:_ priority encoder logic depth"
   ]
  },
  {
   "cell_type": "markdown",
   "id": "educational-cigarette",
   "metadata": {
    "slideshow": {
     "slide_type": "slide"
    }
   },
   "source": [
    "## Keeping Data in Place with a Circular Buffer\n",
    "\n",
    "* _Circular buffer_ uses two pointers (indices) and fixed size storage to make a FIFO\n",
    "  * Insert new data at _in_ (and increment _in_)\n",
    "  * Pop from _out_ (and increment _out_)\n",
    "  * Wrap pointers around when they get to end\n",
    "* How to tell when empty vs full?\n",
    "  * First try: _empty_ when pointers are equal, _full_ when in+1 == out\n",
    "\n",
    "<img src=\"images/circular.svg\" alt=\"circular buffer\" style=\"width:60%;margin-left:auto;margin-right:auto\"/>"
   ]
  },
  {
   "cell_type": "markdown",
   "id": "dirty-copyright",
   "metadata": {
    "slideshow": {
     "slide_type": "slide"
    }
   },
   "source": [
    "## V3 - Keeping Data in Place with Circular Buffer"
   ]
  },
  {
   "cell_type": "code",
   "execution_count": null,
   "id": "parental-separate",
   "metadata": {},
   "outputs": [],
   "source": [
    "class MyQueueV3(numEntries: Int, bitWidth: Int) extends Module {\n",
    "    val io = IO(new QueueIO(bitWidth))\n",
    "    require(numEntries > 1)\n",
    "    require(isPow2(numEntries))\n",
    "    val entries = Reg(Vec(numEntries, UInt(bitWidth.W))) // Mem?\n",
    "    val enqIndex = RegInit(0.U(log2Ceil(numEntries).W))\n",
    "    val deqIndex = RegInit(0.U(log2Ceil(numEntries).W))\n",
    "    val empty = enqIndex === deqIndex\n",
    "    val full = (enqIndex +% 1.U) === deqIndex\n",
    "    io.enq.ready := !full\n",
    "    io.deq.valid := !empty\n",
    "    io.deq.bits := entries(deqIndex)\n",
    "    when (io.deq.fire) {\n",
    "        deqIndex := deqIndex +% 1.U\n",
    "    }\n",
    "    when (io.enq.fire) {\n",
    "        entries(enqIndex) := io.enq.bits\n",
    "        enqIndex := enqIndex +% 1.U\n",
    "    }\n",
    "}"
   ]
  },
  {
   "cell_type": "code",
   "execution_count": null,
   "id": "written-retail",
   "metadata": {
    "slideshow": {
     "slide_type": "slide"
    }
   },
   "outputs": [],
   "source": [
    "def simCycle(qm: QueueModel, c: MyQueueV3, enqValid: Boolean, deqReady: Boolean, enqData: Int=0) {\n",
    "    qm.deqReady = deqReady\n",
    "    c.io.deq.ready.poke(qm.deqReady.B)\n",
    "    c.io.deq.valid.expect(qm.deqValid.B)\n",
    "    if (deqReady && qm.deqValid)\n",
    "        c.io.deq.bits.expect(qm.attemptDeq().U)\n",
    "    c.io.enq.ready.expect(qm.enqReady.B)\n",
    "    c.io.enq.valid.poke(enqValid.B)\n",
    "    c.io.enq.bits.poke(enqData.U)\n",
    "    if (enqValid)\n",
    "        qm.attemptEnq(enqData)\n",
    "    c.clock.step()\n",
    "    println(qm.mq)\n",
    "}\n",
    "\n",
    "test(new MyQueueV3(4, 8)) { c =>\n",
    "    val qm = new QueueModel(2)\n",
    "    simCycle(qm, c, false, false)\n",
    "    simCycle(qm, c, true, false, 1)\n",
    "    simCycle(qm, c, false, true)\n",
    "}"
   ]
  },
  {
   "cell_type": "markdown",
   "id": "basic-expression",
   "metadata": {
    "slideshow": {
     "slide_type": "slide"
    }
   },
   "source": [
    "## Assessing MyQueue `V3`\n",
    "\n",
    "* Accomplished\n",
    "  * Implements queueing behavior\n",
    "  * Parameterized data width & number of entries\n",
    "  * Latency based on occupancy\n",
    "  * Efficiency? Less bits shifting and shallower logic\n",
    "\n",
    "* Shortcommings\n",
    "  * _Capacity:_ loose one entry (to detect if full), and must be power of 2\n",
    "  * _Performance:_ can't simultaneously enqueue/dequeue to a full queue"
   ]
  },
  {
   "cell_type": "markdown",
   "id": "sized-ceremony",
   "metadata": {
    "slideshow": {
     "slide_type": "slide"
    }
   },
   "source": [
    "## Reclaiming Last Entry\n",
    "\n",
    "* _Problem:_ with circular buffer (initially), had to keep last entry empty to differentiate a full queue from an empty queue\n",
    "    * Otherwise, if `enqIndex === deqIndex`, is it full or empty?\n",
    "* _Solution:_ add an extra bit of state (`maybeFull`) to capture this corner case\n",
    "    * If indices are equal and `maybeFull` => _full_\n",
    "    * If indices are equal and `!maybeFull` => _empty_\n",
    "    * If indices are not equal => not full or empty (has room)"
   ]
  },
  {
   "cell_type": "markdown",
   "id": "strong-florence",
   "metadata": {
    "slideshow": {
     "slide_type": "slide"
    }
   },
   "source": [
    "## V4 - Adding State (`maybeFull`) Track Last Entry"
   ]
  },
  {
   "cell_type": "code",
   "execution_count": null,
   "id": "natural-bullet",
   "metadata": {},
   "outputs": [],
   "source": [
    "class MyQueueV4(numEntries: Int, bitWidth: Int) extends Module {\n",
    "    val io = IO(new QueueIO(bitWidth))\n",
    "    require(numEntries > 1)\n",
    "    require(isPow2(numEntries))\n",
    "    val entries = Reg(Vec(numEntries, UInt(bitWidth.W)))\n",
    "    val enqIndex = RegInit(0.U(log2Ceil(numEntries).W))\n",
    "    val deqIndex = RegInit(0.U(log2Ceil(numEntries).W))\n",
    "    val maybeFull = RegInit(false.B)\n",
    "    val empty = enqIndex === deqIndex && !maybeFull\n",
    "    val full = enqIndex === deqIndex && maybeFull\n",
    "    io.enq.ready := !full\n",
    "    io.deq.valid := !empty\n",
    "    io.deq.bits := entries(deqIndex)\n",
    "    when (io.deq.fire) {\n",
    "        deqIndex := deqIndex +% 1.U\n",
    "        when (enqIndex =/= deqIndex) {\n",
    "            maybeFull := false.B\n",
    "        }\n",
    "    }\n",
    "    when (io.enq.fire) {\n",
    "        entries(enqIndex) := io.enq.bits\n",
    "        enqIndex := enqIndex +% 1.U\n",
    "        when ((enqIndex +% 1.U) === deqIndex) {\n",
    "            maybeFull := true.B\n",
    "        }\n",
    "    }\n",
    "}"
   ]
  },
  {
   "cell_type": "code",
   "execution_count": null,
   "id": "experienced-principle",
   "metadata": {
    "scrolled": true,
    "slideshow": {
     "slide_type": "slide"
    }
   },
   "outputs": [],
   "source": [
    "def simCycle(qm: QueueModel, c: MyQueueV4, enqValid: Boolean, deqReady: Boolean, enqData: Int=0) {\n",
    "    qm.deqReady = deqReady\n",
    "    c.io.deq.ready.poke(qm.deqReady.B)\n",
    "    c.io.deq.valid.expect(qm.deqValid.B)\n",
    "    if (deqReady && qm.deqValid)\n",
    "        c.io.deq.bits.expect(qm.attemptDeq().U)\n",
    "    c.io.enq.ready.expect(qm.enqReady.B)\n",
    "    c.io.enq.valid.poke(enqValid.B)\n",
    "    c.io.enq.bits.poke(enqData.U)\n",
    "    if (enqValid)\n",
    "        qm.attemptEnq(enqData)\n",
    "    c.clock.step()\n",
    "    println(qm.mq)\n",
    "}\n",
    "\n",
    "test(new MyQueueV4(2, 8)) { c =>\n",
    "    val qm = new QueueModel(2)\n",
    "    simCycle(qm, c, false, false)\n",
    "    simCycle(qm, c, true, false, 1)\n",
    "    simCycle(qm, c, false, true)\n",
    "}"
   ]
  },
  {
   "cell_type": "markdown",
   "id": "private-laser",
   "metadata": {
    "slideshow": {
     "slide_type": "slide"
    }
   },
   "source": [
    "## Assessing MyQueue `V4`\n",
    "\n",
    "* Accomplished\n",
    "  * Implements queueing behavior\n",
    "  * Parameterized data width & number of entries (can now use all of them all)\n",
    "  * Latency based on occupancy\n",
    "  * Efficiency? Less bits shifting and shallower logic\n",
    "\n",
    "* Shortcommings\n",
    "  * _Capacity:_ must be power of 2\n",
    "  * _Performance:_ can't simultaneously enqueue/dequeue to a full queue"
   ]
  },
  {
   "cell_type": "markdown",
   "id": "worse-anger",
   "metadata": {
    "slideshow": {
     "slide_type": "slide"
    }
   },
   "source": [
    "## V5 - Simultaneous Enqueue/Dequeue When Full"
   ]
  },
  {
   "cell_type": "code",
   "execution_count": null,
   "id": "registered-soviet",
   "metadata": {},
   "outputs": [],
   "source": [
    "class MyQueueV5(numEntries: Int, bitWidth: Int) extends Module {\n",
    "    val io = IO(new QueueIO(bitWidth))\n",
    "    require(numEntries > 1)\n",
    "    require(isPow2(numEntries))\n",
    "    val entries = Reg(Vec(numEntries, UInt(bitWidth.W)))\n",
    "    val enqIndex = RegInit(0.U(log2Ceil(numEntries).W))\n",
    "    val deqIndex = RegInit(0.U(log2Ceil(numEntries).W))\n",
    "    val maybeFull = RegInit(false.B)\n",
    "    val empty = enqIndex === deqIndex && !maybeFull\n",
    "    val full = enqIndex === deqIndex && maybeFull\n",
    "    io.enq.ready := !full || io.deq.ready  // NOTE: io.enq.ready now attached to io.deq.ready\n",
    "    io.deq.valid := !empty\n",
    "    io.deq.bits := entries(deqIndex)\n",
    "    when (io.deq.fire) {\n",
    "        deqIndex := deqIndex +% 1.U\n",
    "        when (enqIndex =/= deqIndex) {\n",
    "            maybeFull := false.B\n",
    "        }\n",
    "    }\n",
    "    when (io.enq.fire) {\n",
    "        entries(enqIndex) := io.enq.bits\n",
    "        enqIndex := enqIndex +% 1.U\n",
    "        when ((enqIndex +% 1.U) === deqIndex) {\n",
    "            maybeFull := true.B\n",
    "        }\n",
    "    }\n",
    "}"
   ]
  },
  {
   "cell_type": "code",
   "execution_count": null,
   "id": "abstract-incident",
   "metadata": {
    "scrolled": false,
    "slideshow": {
     "slide_type": "slide"
    }
   },
   "outputs": [],
   "source": [
    "def simCycle(qm: QueueModel, c: MyQueueV5, enqValid: Boolean, deqReady: Boolean, enqData: Int=0) {\n",
    "    qm.deqReady = deqReady\n",
    "    c.io.deq.ready.poke(qm.deqReady.B)\n",
    "    c.io.deq.valid.expect(qm.deqValid.B)\n",
    "    if (deqReady && qm.deqValid)\n",
    "        c.io.deq.bits.expect(qm.attemptDeq().U)\n",
    "    c.io.enq.ready.expect(qm.enqReady.B)\n",
    "    c.io.enq.valid.poke(enqValid.B)\n",
    "    c.io.enq.bits.poke(enqData.U)\n",
    "    if (enqValid)\n",
    "        qm.attemptEnq(enqData)\n",
    "    c.clock.step()\n",
    "    println(qm.mq)\n",
    "}\n",
    "\n",
    "test(new MyQueueV5(2, 8)) { c =>\n",
    "    val qm = new QueueModel(2)\n",
    "    simCycle(qm, c, false, false)\n",
    "    simCycle(qm, c, true, false, 1)\n",
    "    simCycle(qm, c, true, false, 2)\n",
    "    simCycle(qm, c, true, true, 3)\n",
    "    simCycle(qm, c, false, true)\n",
    "}"
   ]
  },
  {
   "cell_type": "markdown",
   "id": "plain-vintage",
   "metadata": {
    "slideshow": {
     "slide_type": "slide"
    }
   },
   "source": [
    "## Assessing MyQueue `V5`\n",
    "\n",
    "* Accomplished\n",
    "  * Implements queueing behavior\n",
    "  * Parameterized data width & number of entries\n",
    "  * Latency based on occupancy\n",
    "  * Efficiency? Less bits shifting and shallower logic\n",
    "  * Can now enqueue/dequeue in same cycle\n",
    "\n",
    "* Shortcommings\n",
    "  * _Capacity:_ must be power of 2\n",
    "  * _Possible combinational loop_ more likely with `io.enq.ready` now attached to `io.deq.ready`"
   ]
  },
  {
   "cell_type": "markdown",
   "id": "imperial-departure",
   "metadata": {
    "slideshow": {
     "slide_type": "slide"
    }
   },
   "source": [
    "## V6 - Tidying up Code"
   ]
  },
  {
   "cell_type": "code",
   "execution_count": null,
   "id": "classical-string",
   "metadata": {
    "slideshow": {
     "slide_type": "-"
    }
   },
   "outputs": [],
   "source": [
    "class MyQueueV6(numEntries: Int, bitWidth: Int, pipe: Boolean=true) extends Module {\n",
    "    val io = IO(new QueueIO(bitWidth))\n",
    "    require(numEntries > 1)\n",
    "//     require(isPow2(numEntries))    // no longer needed\n",
    "    val entries = Mem(numEntries, UInt(bitWidth.W))\n",
    "    val enqIndex = Counter(numEntries)\n",
    "    val deqIndex = Counter(numEntries)\n",
    "    val maybeFull = RegInit(false.B)\n",
    "    val indicesEqual = enqIndex.value === deqIndex.value\n",
    "    val empty = indicesEqual && !maybeFull\n",
    "    val full = indicesEqual && maybeFull\n",
    "    if (pipe)\n",
    "        io.enq.ready := !full || io.deq.ready\n",
    "    else\n",
    "        io.enq.ready := !full\n",
    "    io.deq.valid := !empty\n",
    "    io.deq.bits := entries(deqIndex.value)\n",
    "    when (io.deq.fire =/= io.enq.fire) {\n",
    "        maybeFull := io.enq.fire\n",
    "    }\n",
    "    when (io.deq.fire) {\n",
    "        deqIndex.inc()\n",
    "    }\n",
    "    when (io.enq.fire) {\n",
    "        entries(enqIndex.value) := io.enq.bits\n",
    "        enqIndex.inc()\n",
    "    }\n",
    "}"
   ]
  },
  {
   "cell_type": "code",
   "execution_count": null,
   "id": "suspended-absorption",
   "metadata": {
    "scrolled": true,
    "slideshow": {
     "slide_type": "slide"
    }
   },
   "outputs": [],
   "source": [
    "def simCycle(qm: QueueModel, c: MyQueueV6, enqValid: Boolean, deqReady: Boolean, enqData: Int=0) {\n",
    "    qm.deqReady = deqReady\n",
    "    c.io.deq.ready.poke(qm.deqReady.B)\n",
    "    c.io.deq.valid.expect(qm.deqValid.B)\n",
    "    if (deqReady && qm.deqValid)\n",
    "        c.io.deq.bits.expect(qm.attemptDeq().U)\n",
    "    c.io.enq.ready.expect(qm.enqReady.B)\n",
    "    c.io.enq.valid.poke(enqValid.B)\n",
    "    c.io.enq.bits.poke(enqData.U)\n",
    "    if (enqValid)\n",
    "        qm.attemptEnq(enqData)\n",
    "    c.clock.step()\n",
    "    println(qm.mq)\n",
    "}\n",
    "\n",
    "test(new MyQueueV6(3, 8)) { c =>\n",
    "    val qm = new QueueModel(3)\n",
    "    simCycle(qm, c, false, false)\n",
    "    simCycle(qm, c, true, false, 1)\n",
    "    simCycle(qm, c, true, false, 2)\n",
    "    simCycle(qm, c, true, false, 3)\n",
    "    simCycle(qm, c, false, true)\n",
    "}"
   ]
  },
  {
   "cell_type": "markdown",
   "id": "correct-township",
   "metadata": {
    "slideshow": {
     "slide_type": "slide"
    }
   },
   "source": [
    "## Assessing MyQueue `V6`\n",
    "\n",
    "* Accomplished\n",
    "  * Implements queueing behavior\n",
    "  * Parameterized data width & number of entries\n",
    "  * Latency based on occupancy\n",
    "  * Efficiency? Less bits shifting and shallower logic\n",
    "  * Can now enqueue/dequeue in same cycle (optionally) and support non-power of 2 capacities\n",
    "\n",
    "* Shortcommings\n",
    "  * Data type is `UInt` - What about arbitrary data?"
   ]
  }
 ],
 "metadata": {
  "celltoolbar": "Slideshow",
  "kernelspec": {
   "display_name": "Scala",
   "language": "scala",
   "name": "scala"
  },
  "language_info": {
   "codemirror_mode": "text/x-scala",
   "file_extension": ".sc",
   "mimetype": "text/x-scala",
   "name": "scala",
   "nbconvert_exporter": "script",
   "version": "2.13.4"
  }
 },
 "nbformat": 4,
 "nbformat_minor": 5
}
