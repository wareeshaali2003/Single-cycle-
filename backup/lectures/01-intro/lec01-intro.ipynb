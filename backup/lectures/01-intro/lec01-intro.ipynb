{
 "cells": [
  {
   "cell_type": "markdown",
   "id": "robust-uniform",
   "metadata": {
    "slideshow": {
     "slide_type": "slide"
    }
   },
   "source": [
    "## Agile Hardware Design\n",
    "***\n",
    "# Course Introduction\n",
    "\n",
    "## Prof. Scott Beamer\n",
    "### sbeamer@ucsc.edu\n",
    "\n",
    "## [CSE 293](https://classes.soe.ucsc.edu/cse293/Winter22/)"
   ]
  },
  {
   "cell_type": "markdown",
   "id": "continued-rough",
   "metadata": {
    "slideshow": {
     "slide_type": "slide"
    }
   },
   "source": [
    "## Plan for Today\n",
    "\n",
    "* Course Motivation\n",
    "* Benefits of Agile Design\n",
    "* Course Structure"
   ]
  },
  {
   "cell_type": "markdown",
   "id": "neutral-supervisor",
   "metadata": {
    "slideshow": {
     "slide_type": "slide"
    }
   },
   "source": [
    "## Advanced Design Is Needed Everywhere\n",
    "\n",
    "<img src=\"images/products.jpg\" alt=\"hardware product categories\" style=\"width:70%;margin-left:auto;margin-right:auto\"/>"
   ]
  },
  {
   "cell_type": "markdown",
   "id": "preceding-vault",
   "metadata": {
    "cell_style": "center",
    "slideshow": {
     "slide_type": "slide"
    }
   },
   "source": [
    "## Hardware Design Challenges\n",
    "\n",
    "### Potential demise of Moore's Law (transistor bounty)\n",
    "* Even if Moore's Law continues, transistor energy efficiency is improving slowly\n",
    "* Thus necessary to increase energy efficiency (typically through _specialization_)\n",
    "\n",
    "### Rising costs of design\n",
    "* Advanced technology nodes are even more expensive to design for\n",
    "* Not all designs have market large enough to justify most advanced tech\n",
    "\n",
    "### Stagnation?\n",
    "* At a time when we need more designs (for efficiency) rising design costs shrinks number of potential designers\n",
    "* Necessary for us to solve this problem to keep field moving\n",
    "* **SOLUTION** reduce design costs with cheaper design flow"
   ]
  },
  {
   "cell_type": "markdown",
   "id": "environmental-sauce",
   "metadata": {
    "slideshow": {
     "slide_type": "slide"
    }
   },
   "source": [
    "## Contrasting Philosophies"
   ]
  },
  {
   "cell_type": "markdown",
   "id": "polished-watershed",
   "metadata": {
    "cell_style": "split",
    "slideshow": {
     "slide_type": "fragment"
    }
   },
   "source": [
    "### Waterfall\n",
    "* Careful planning in advance to ensure construction goes smoothly\n",
    "* _Example:_ civil engineer building a dam\n",
    "  * carefully design & model dam\n",
    "  * build and test molds\n",
    "  * want to pour concrete once\n",
    "<img src=\"images/building_hoover_dam.jpg\" alt=\"https://rarehistoricalphotos.com/building-hoover-dam/\" style=\"height: 300px;\"/>"
   ]
  },
  {
   "cell_type": "markdown",
   "id": "refined-minority",
   "metadata": {
    "cell_style": "split"
   },
   "source": [
    "### Agile\n",
    "* Can't know perfect design in advance\n",
    "* Need to reasses context & adapt\n",
    "* _Example:_ competitive athlete\n",
    "  * prepare, but ready to adapt\n",
    "  * how could you know what opponent will do in advance?\n",
    "<img src=\"images/running-feet.jpg\" alt=\"https://www.active.com/running/articles/running-form-midfoot-strikers-vs-the-balls-of-your-feet\" style=\"height: 300px;\"/>"
   ]
  },
  {
   "cell_type": "markdown",
   "id": "express-objective",
   "metadata": {
    "slideshow": {
     "slide_type": "slide"
    }
   },
   "source": [
    "## Contrasting HW Design Philosophies\n",
    "* Actual design flows may vary (or have aspects of both), but present extremes"
   ]
  },
  {
   "cell_type": "markdown",
   "id": "frozen-bandwidth",
   "metadata": {
    "cell_style": "split"
   },
   "source": [
    "## Waterfall\n",
    "![tradtional loop](images/trad-hw.svg)\n",
    "\n",
    "* Complete stage before moving on\n",
    "* Late integration results in need to optimize & verify again"
   ]
  },
  {
   "cell_type": "markdown",
   "id": "entertaining-current",
   "metadata": {
    "cell_style": "split"
   },
   "source": [
    "## Agile\n",
    "![agile loop](images/agile-hw.svg)\n",
    "\n",
    "* Integrate & verify design early\n",
    "* Incrementally add features & optimize\n",
    "* Go around loop as many times as necessary"
   ]
  },
  {
   "cell_type": "markdown",
   "id": "fresh-greece",
   "metadata": {
    "slideshow": {
     "slide_type": "slide"
    }
   },
   "source": [
    "## Enabling Insights of Agile Techniques\n",
    "\n",
    "* Recognize end goal (or at least path to it) will be changing and hard to know in advance\n",
    "  * What will be the critical path?\n",
    "  * How well will this design map to this new implementation technology?\n",
    "  * Can we design to make verification easier?\n",
    "* Agile techniques already proven successful and commonly used in software\n",
    "* Viewing hardware design as more fluid and flexible enables the use of Agile techniques\n",
    "  * Writing Verilog is like pouring concrete\n",
    "  * With new languages & tools, HW design can be more nimble"
   ]
  },
  {
   "cell_type": "markdown",
   "id": "moving-education",
   "metadata": {
    "slideshow": {
     "slide_type": "slide"
    }
   },
   "source": [
    "## Potential for Agile Techniques for HW Design\n",
    "\n",
    "* _**Reduced design effort**_\n",
    "  * Don't waste effort on unecessary components or optimization\n",
    "\n",
    "* _**Improved design result**_\n",
    "  * Can better allocate effort for optimization\n",
    "  * Effectively profile-guided optimization \n",
    "\n",
    "* _**Increased predictability**_ of design process\n",
    "  * Fewer surprises at integration since components interacting from start"
   ]
  },
  {
   "cell_type": "markdown",
   "id": "violent-sleep",
   "metadata": {
    "slideshow": {
     "slide_type": "slide"
    }
   },
   "source": [
    "## Open-source & Democratizing Design\n",
    "\n",
    "* _**Agile techniques & open-source are orthogonal concepts**_\n",
    "  * _Agile_ - design techniques for rapid iteration\n",
    "  * _Open-source_ - freely available and usable\n",
    "  * Can do Agile with closed-source tools or components\n",
    "  * Can mix proprietary tools & components with open-source in same project\n",
    "\n",
    "* _**Reducing HW design costs democratizes design**_\n",
    "  * Both Agile & open-souce reduce design costs\n",
    "  * With reduced costs, more can participate\n",
    "  * Wider pool of designers will lead to more designs & more creative designs"
   ]
  },
  {
   "cell_type": "markdown",
   "id": "colonial-option",
   "metadata": {
    "slideshow": {
     "slide_type": "slide"
    }
   },
   "source": [
    "## Increase Productivity Through Reuse\n",
    "\n",
    "### Q: What is the fastest hardware block to develop?"
   ]
  },
  {
   "cell_type": "markdown",
   "id": "affiliated-visiting",
   "metadata": {
    "slideshow": {
     "slide_type": "fragment"
    }
   },
   "source": [
    "### A: Hardware components you get to reuse!\n",
    "\n",
    "* Don't keep reimplementing similar (or even same) components\n",
    "\n",
    "* Spend your time on what is novel/unique for your design\n",
    "\n",
    "* **Import caveat:** reused component needs to do _right thing_ and be _correct_"
   ]
  },
  {
   "cell_type": "markdown",
   "id": "centered-hawaii",
   "metadata": {
    "slideshow": {
     "slide_type": "slide"
    }
   },
   "source": [
    "## HW Generators Increase Reusability\n",
    "\n",
    "### Why not reuse? Existing component doesn't do what you need\n",
    "\n",
    "* Generators are more _flexible_, and thus more _reusable_\n",
    "* Generator can custom tailor the component for your design\n",
    "* _Open-source_ generators also address when component exists but is proprietary\n",
    "  * Generators make open-source more attractive, since flexibility grows the size of community that benefits from it\n",
    "  * Larger community => larger amortization of design effort\n",
    "\n",
    "### Key Concept: think of design _generation_ as another step in tool flow\n",
    "* Write programs that design hardware for you (under controlled circumstances)"
   ]
  },
  {
   "cell_type": "markdown",
   "id": "rolled-refund",
   "metadata": {
    "slideshow": {
     "slide_type": "skip"
    }
   },
   "source": [
    "## Generators as a Step in Design Flow\n",
    "\n",
    "### Key Concept: think of design\n",
    "* Design _generation_ is just another step in tool flow"
   ]
  },
  {
   "cell_type": "markdown",
   "id": "necessary-problem",
   "metadata": {
    "slideshow": {
     "slide_type": "slide"
    }
   },
   "source": [
    "### Chisel (Constructing Hardware In a Scala Embedded Language)\n",
    "\n",
    "<img src=\"images/chisel_logo.svg\" alt=\"chisel logo\" style=\"float:right\"/>\n",
    "\n",
    "* Domain-specific language embedded in Scala\n",
    "* Leverage best of object-oriented & functional programming\n",
    "* Enables creation of design generators in a single language\n",
    "* Of next generation languages, has significant adoption\n",
    "\n",
    "<img src=\"images/scala-spiral.png\" alt=\"scala logo\" style=\"float:right;width: 80px;\"/>\n",
    "\n",
    "* _**Scala**_ - runs on top of JVM\n",
    "  * Strong static type system (with inference)\n",
    "  * Interpreter (REPL) or Jupyter (via Almond) great way to test out"
   ]
  },
  {
   "cell_type": "markdown",
   "id": "imported-package",
   "metadata": {
    "slideshow": {
     "slide_type": "skip"
    }
   },
   "source": [
    "Example Power of a Generator"
   ]
  },
  {
   "cell_type": "markdown",
   "id": "fabulous-messenger",
   "metadata": {
    "slideshow": {
     "slide_type": "slide"
    }
   },
   "source": [
    "## Common Themes Throughout Course\n",
    "\n",
    "<img src=\"images/themes.svg\" alt=\"course themes\" style=\"width:80%;margin-left:auto;margin-right:auto\"/>"
   ]
  },
  {
   "cell_type": "markdown",
   "id": "third-belly",
   "metadata": {
    "slideshow": {
     "slide_type": "slide"
    }
   },
   "source": [
    "## Common Themes Throughout Course\n",
    "\n",
    "* _**Close the Loop**_\n",
    "  * Improve through iteration/revision, not overly ambitious initial design\n",
    "  * Can better allocate design (& effort) once you see how things to fit together\n",
    "<!--   * emphasize getting something working today, can add features or optimize later -->\n",
    "* _**Design for Reuse**_\n",
    "  * Reusing solid components _improves productivity_ & _reduces errors_\n",
    "  * Adding necessary flexibility to generators improves reusability\n",
    "* _**Make the Tools do the Work**_\n",
    "  * Understand and utilize full capabilities of tools\n",
    "  * Look for opportunities to automate reptitive tasks\n",
    "* _**Design for Readability**_\n",
    "  * Code will be read many more times than it is written \n",
    "  * Make functionality and purpose of code readily apparent"
   ]
  },
  {
   "cell_type": "markdown",
   "id": "usual-vanilla",
   "metadata": {
    "slideshow": {
     "slide_type": "slide"
    }
   },
   "source": [
    "## Who Should Take This Course\n",
    "\n",
    "Hopefully experience with least two of following:\n",
    "* _**Hardware Design**_ - Verilog/VHDL e.g. CSE 100/L, CSE 125/L\n",
    "* _**Computer Architecture**_ - e.g. CSE 120, CSE 220\n",
    "* _**Advanced Programming**_ - object oriented & functional\n",
    "\n",
    "### Questions? (speak with instructor)\n",
    "**We also want to use agile techniques to broaden who works on hardware!**"
   ]
  },
  {
   "cell_type": "markdown",
   "id": "characteristic-stroke",
   "metadata": {
    "slideshow": {
     "slide_type": "slide"
    }
   },
   "source": [
    "## Course Staff"
   ]
  },
  {
   "cell_type": "markdown",
   "id": "compound-basin",
   "metadata": {
    "cell_style": "split",
    "slideshow": {
     "slide_type": "-"
    }
   },
   "source": [
    "<img src=\"images/head-scott.jpg\" alt=\"scott head\" style=\"height: 200px;\"/>\n",
    "\n",
    "### Scott Beamer (Instructor)\n",
    "* [Assistant Prof in CSE](https://scottbeamer.net)\n",
    "* sbeamer@ucsc.edu\n",
    "* _Office Hours:_ TBD\n",
    "* Bonus office hour today after lecture\n",
    "* _Research interests:_ computer architecture, open-source hardware design, graph processing"
   ]
  },
  {
   "cell_type": "markdown",
   "id": "banner-texas",
   "metadata": {
    "cell_style": "split"
   },
   "source": [
    "<img src=\"images/head-amogh.jpg\" alt=\"amogh head\" style=\"height: 200px;\"/>\n",
    "\n",
    "### Amogh Lonkar (TA)\n",
    "* [Grad Student Researcher](https://amoghlonkar.github.io)\n",
    "* alonkar@ucsc.edu\n",
    "* _Office Hours:_ TBD\n",
    "* _Research Interests:_ computer architecture, graph processing"
   ]
  },
  {
   "cell_type": "markdown",
   "id": "ordinary-lodging",
   "metadata": {
    "slideshow": {
     "slide_type": "slide"
    }
   },
   "source": [
    "## Course Structure"
   ]
  },
  {
   "cell_type": "markdown",
   "id": "portuguese-snapshot",
   "metadata": {
    "cell_style": "split",
    "slideshow": {
     "slide_type": "-"
    }
   },
   "source": [
    "* _**Elective grad course**_\n",
    "  * let's have fun and make it interesting!\n",
    "  * open to advanced undergrads\n",
    "\n",
    "* _**Primary Course Activities**_\n",
    "  * lectures\n",
    "  * labs (10%)\n",
    "  * homework (50%)\n",
    "  * project (40%)"
   ]
  },
  {
   "cell_type": "markdown",
   "id": "entertaining-discovery",
   "metadata": {
    "cell_style": "split"
   },
   "source": [
    "* _**Structured Portion**_ - (first 6-7 weeks)\n",
    "  * lab + HW on prior week\n",
    "\n",
    "* _**Project portion**_ - (final 3 weeks)\n",
    "  * custom project (no labs or HW)\n",
    "\n",
    "* _**Constant Revision**_\n",
    "  * We will adapt course during term and adjust as needed (Agile in practice!)"
   ]
  },
  {
   "cell_type": "markdown",
   "id": "specific-diagnosis",
   "metadata": {
    "slideshow": {
     "slide_type": "slide"
    }
   },
   "source": [
    "## Lectures\n",
    "\n",
    "* _When:_ MWF 9:20-10:25AM, 136 Physical Sciences, recordings on YouTube\n",
    "  * live via Zoom first two weeks\n",
    "\n",
    "* Recording only captures instructor and slides, no audio/video from Zoom participants\n",
    "  * Consider turning on webcam and getting to know classmates\n",
    "\n",
    "* Lecture presentations are (Jupyter) notebooks\n",
    "  * Can execute code following along or modify to take notes\n",
    "  * Will be available from course website"
   ]
  },
  {
   "cell_type": "markdown",
   "id": "bearing-truck",
   "metadata": {
    "slideshow": {
     "slide_type": "slide"
    }
   },
   "source": [
    "## Labs\n",
    "\n",
    "* Provide opportunities to try out new features in focused settings \n",
    "  * solutions typically only a few lines per task\n",
    "\n",
    "* Can collaborate, but need to submit individually\n",
    "\n",
    "* Jupyter notebooks, autograded with immediate feedback\n",
    "\n",
    "* Should complete as soon as ready and move onto homework"
   ]
  },
  {
   "cell_type": "markdown",
   "id": "little-reduction",
   "metadata": {
    "slideshow": {
     "slide_type": "slide"
    }
   },
   "source": [
    "## Homework\n",
    "\n",
    "* More substantial design opportunities than labs\n",
    "* To be done individually, but use course resources for help\n",
    "* Submit Chisel files via Gradescope\n",
    "* We may provide some testcases, but will probably want to create additional tests\n",
    "* _Slip days_ - 3 integer days of lateness (aggregate) for homework assignments only"
   ]
  },
  {
   "cell_type": "markdown",
   "id": "logical-lease",
   "metadata": {
    "slideshow": {
     "slide_type": "slide"
    }
   },
   "source": [
    "## Project\n",
    "\n",
    "* Opportunity to integrate all skills learned in course\n",
    "* Working with partner, will build a Chisel generator\n",
    "* Will work with staff to select and develop project target\n",
    "* Will present project to class, submit code to staff\n",
    "* Encouraged (but not required) to open-source code at completion of term"
   ]
  },
  {
   "cell_type": "markdown",
   "id": "broad-wrestling",
   "metadata": {
    "slideshow": {
     "slide_type": "slide"
    }
   },
   "source": [
    "## Course Resources\n",
    "\n",
    "* _We are grateful for the open-source contributions that made this course possible, and we endeavor to open-source as much of this course as we can_\n",
    "* [_**Public Website**_](https://classes.soe.ucsc.edu/cse293/Winter22/) (open to all)\n",
    "  * Lectures, links to recordings, labs, homework assignments, references\n",
    "  * Instructions for setting up computing environments\n",
    "* [_**Canvas Website**_](https://canvas.ucsc.edu/courses/50729) (open to enrolled students)\n",
    "  * Instructions for connecting to computing resources\n",
    "  * Zoom & Slack links\n",
    "* Both websites under continuous development"
   ]
  },
  {
   "cell_type": "markdown",
   "id": "graphic-emerald",
   "metadata": {
    "slideshow": {
     "slide_type": "slide"
    }
   },
   "source": [
    "## Course Learning Objectives (Concrete)\n",
    "\n",
    "* Ability to design a hardware component in Chisel\n",
    "* Create a hardware generator to allow for customization and optimization\n",
    "* Familiarity with design techniques: tool flows, CI, code review, verification"
   ]
  },
  {
   "cell_type": "markdown",
   "id": "retired-purple",
   "metadata": {
    "slideshow": {
     "slide_type": "slide"
    }
   },
   "source": [
    "## Course Learning Objectives (Meta)\n",
    "\n",
    "* Agile philosophy of continuous revision/improvement\n",
    "* Experience with evolving an idea from start to release\n",
    "* Recognize opportunities to apply lessons from Agile elsewhere"
   ]
  }
 ],
 "metadata": {
  "celltoolbar": "Slideshow",
  "kernelspec": {
   "display_name": "Scala",
   "language": "scala",
   "name": "scala"
  },
  "language_info": {
   "codemirror_mode": "text/x-scala",
   "file_extension": ".scala",
   "mimetype": "text/x-scala",
   "name": "scala",
   "nbconvert_exporter": "script",
   "version": "2.12.10"
  }
 },
 "nbformat": 4,
 "nbformat_minor": 5
}
