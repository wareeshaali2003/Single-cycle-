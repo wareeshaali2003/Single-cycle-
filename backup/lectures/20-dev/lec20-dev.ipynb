{
 "cells": [
  {
   "cell_type": "markdown",
   "id": "external-thermal",
   "metadata": {
    "slideshow": {
     "slide_type": "slide"
    }
   },
   "source": [
    "## Agile Hardware Design\n",
    "***\n",
    "# Open-Source Project Development\n",
    "\n",
    "## Prof. Scott Beamer\n",
    "### sbeamer@ucsc.edu\n",
    "\n",
    "## [CSE 293](https://classes.soe.ucsc.edu/cse293/Winter22/)"
   ]
  },
  {
   "cell_type": "markdown",
   "id": "dangerous-roads",
   "metadata": {
    "slideshow": {
     "slide_type": "slide"
    }
   },
   "source": [
    "## Imagine What _Ideal_ Code Looks Like\n",
    "\n",
    "* _**Correct**_ - does the right thing every time\n",
    "  * If inputs are infeasible, it let's you know clearly\n",
    "  * Not only is correct, but you are convinced it is correct\n",
    "* _**Easy to work with or understand**_ - documented\n",
    "  * Also code itself is easy to read or modify\n",
    "* _**Efficient**_ - not much room left to further improve performance\n",
    "* It is nearly impossible to accomplish all of these on first draft of code, so you will need to _**REVISE**_ and improve\n",
    "    * Today's lecture will cover some tools & techniques to help with this process"
   ]
  },
  {
   "cell_type": "markdown",
   "id": "nominated-consistency",
   "metadata": {
    "slideshow": {
     "slide_type": "slide"
    }
   },
   "source": [
    "## Plan for Today\n",
    "\n",
    "* Continuous integration\n",
    "* Code management\n",
    "* Documentation\n",
    "* Open-source"
   ]
  },
  {
   "cell_type": "markdown",
   "id": "amber-queens",
   "metadata": {
    "slideshow": {
     "slide_type": "slide"
    }
   },
   "source": [
    "## Continuous Integration (CI)\n",
    "\n",
    "* _Motivation:_ in fast churn of development, bugs will creep into project\n",
    "  * May have been there from beginning, and only surface later\n",
    "  * May be an issue of how components interact\n",
    "\n",
    "* _Solution:_ use shared resources to run more tests automatically (CI)\n",
    "  * _Example:_ automatically running tests for every commit or pull request\n",
    "\n",
    "* Frequent testing can catch bugs earlier and with less human effort\n",
    "\n",
    "* Testing is useful beyond the project's internal development\n",
    "  * Having CI (and making it publicly visible) lets others see you are testing\n",
    "  * Can be used to screen/sanity check contributions (internal or external)\n",
    "  * Dependence creators can see if their changes break your (downstream) project"
   ]
  },
  {
   "cell_type": "markdown",
   "id": "arctic-directory",
   "metadata": {
    "slideshow": {
     "slide_type": "slide"
    }
   },
   "source": [
    "## What is Needed to Set Up CI?\n",
    "\n",
    "### Tests!\n",
    "* Should have tests anway, but CI makes good tests even more useful/valuable\n",
    "* Worried something could pass your tests and be buggy? _Increase your test coverage_\n",
    "\n",
    "### Scripts/Automation\n",
    "* Lots of great resources & tools available\n",
    "* Beyond writing tests, this is most of the effort for setting up CI\n",
    "\n",
    "### Execution environment\n",
    "* Can run locally or in the cloud\n",
    "* GitHub currently provides easy/free setup with [Actions](https://github.com/features/actions)"
   ]
  },
  {
   "cell_type": "markdown",
   "id": "african-socket",
   "metadata": {
    "slideshow": {
     "slide_type": "slide"
    }
   },
   "source": [
    "## Consider More Types of Testing (for CI)\n",
    "\n",
    "* _Unit_ - tests a module or component in isolation, a key building block for a test suite\n",
    "* _Integration_ - combines multiple (or all) components and ensures to they work together\n",
    "* _Regression_ - ensure things you thought worked still work\n",
    "  * Maybe try out with older compilers or versions of your dependences\n",
    "* _Smoke_ - subset of tests that check core/critical functionality\n",
    "  * If one these fail, it is definitely broken\n",
    "* _Performance_ - ensure no regressions in PPA\n",
    "* Example of \"make tools do the work\"\n",
    "  * Easier/cheaper to have servers running tests than humans debugging\n",
    "  * CI may run more extensive tests than your run normally during local development\n",
    "  * Depending on when CI is run, may choose to run different types of tests"
   ]
  },
  {
   "cell_type": "markdown",
   "id": "better-utility",
   "metadata": {
    "slideshow": {
     "slide_type": "slide"
    }
   },
   "source": [
    "## Code Management\n",
    "\n",
    "* Using version control (e.g. `git`) is essential\n",
    "  * Can track changes over time, have alternate versions, easily allow collaboration\n",
    "\n",
    "* What goes in which (git) repository?\n",
    "  * Git _submodules_ allow you to pull in another git repo at a specific commit\n",
    "  * Recommend using fewer (or just 1) repo and only puting things in separate repos if intended for independent use cases\n",
    "  * Best used for tracking an external unreleased dependence\n",
    "\n",
    "* Recommend keeping only a few long-lived git _branches_\n",
    "  * Maintaining too many branches can become a burden\n",
    "\n",
    "* _Pull Requests_ are great way to methodically merge things in\n",
    "  * Choose when to accept a contribution\n",
    "  * Can give feedback (review) and revise before accepting"
   ]
  },
  {
   "cell_type": "markdown",
   "id": "partial-literature",
   "metadata": {
    "slideshow": {
     "slide_type": "slide"
    }
   },
   "source": [
    "## Code Review Motivation\n",
    "\n",
    "* If you think about, much of the code you have written previously is like a rough draft\n",
    "  * Once it worked and your were \"done\", did you go back to clean it up much?\n",
    "  * How much did you clean it up?\n",
    "  * If you did try to clean it up, what did you try to improve?\n",
    "\n",
    "* Contrast that experience with writing text (you hope is good)\n",
    "  * Writing a rough draft is only the beginning\n",
    "  * Even if \"content\" is there, will revise/rewrite just to improve _readability_ & _clarity_ \n",
    "  * Solicit feedback from others and act on it"
   ]
  },
  {
   "cell_type": "markdown",
   "id": "proud-vehicle",
   "metadata": {
    "slideshow": {
     "slide_type": "slide"
    }
   },
   "source": [
    "## Code Review Summary\n",
    "\n",
    "* _Code Reviews_ use the help of others to improve your code\n",
    "  * Others may be able to spot weaknesses or issues you didn't think of\n",
    "  * At a minimum, they will help make it more consistent and clear\n",
    "    * Code is read far more times it is written (even by you), so code readability matters\n",
    "\n",
    "* Benefits\n",
    "  * Reviewed code tends to be much better, or at least consistent\n",
    "  * Preparing for code review motivates contributor to revise more in advance\n",
    "  * Looking at, discussing, and receiving coding feedback makes you a better developer"
   ]
  },
  {
   "cell_type": "markdown",
   "id": "theoretical-business",
   "metadata": {
    "slideshow": {
     "slide_type": "slide"
    }
   },
   "source": [
    "## Code Review Process\n",
    "\n",
    "* **1** - Typically creator starts process by requesting someone review a code contribution\n",
    "  * Some projects have policies that make this an explicit requirement\n",
    "* **2** - Reviewer reviews code and makes suggestions / requests\n",
    "  * Can use software to easily annotate code for points of discussion\n",
    "* **3** - Submitter revises and submits for another review (may take multiple rounds)\n",
    "* **4** - Reviewer approves code and contribution is accepted"
   ]
  },
  {
   "cell_type": "markdown",
   "id": "upset-context",
   "metadata": {
    "slideshow": {
     "slide_type": "slide"
    }
   },
   "source": [
    "## What to Examine in a Code Review\n",
    "\n",
    "* A project or organization may have their own policies and checklists, but consider the following...\n",
    "* _**Correctness**_ - are there potential issues?\n",
    "  * Passing tests & CI is the bare minimum, but are there other situations to consider?\n",
    "* _**Readability/Code style**_ - is the code clear and does it follow conventions?\n",
    "  * Can you suggest different code organization/naming that would make things more clear or easier to modify?\n",
    "  * Can use tools like [scalastyle](http://www.scalastyle.org) to check some style issues (_linter_)\n",
    "* _**Completeness**_ - does it include sufficient tests & documentation?\n",
    "* Other factors? Is it appropriate or going to create new issues?"
   ]
  },
  {
   "cell_type": "markdown",
   "id": "unnecessary-catering",
   "metadata": {
    "slideshow": {
     "slide_type": "slide"
    }
   },
   "source": [
    "## Documentation Motivation\n",
    "\n",
    "* Documentation serves multiple purposes\n",
    "  * _Summarizes_ what the project does\n",
    "  * _Instructions_ for how to use it\n",
    "  * _Details_ internal structure and functionality\n",
    "\n",
    "* Lacking documentation most harms potential users and contributors\n",
    "\n",
    "* Good documentation benefits a project in multiple ways\n",
    "  * Encourages users and contributors\n",
    "  * Forces creators to think about their project from outside user's persepective\n",
    "    * May cause beneficial rethinking of features or their interfaces"
   ]
  },
  {
   "cell_type": "markdown",
   "id": "reported-pizza",
   "metadata": {
    "slideshow": {
     "slide_type": "slide"
    }
   },
   "source": [
    "## Relevant Documentation Tools\n",
    "\n",
    "* `README` file in repository - bare minimum\n",
    "  - Great for small projects, as it is simple to write and maintain\n",
    "  - GitHub automatically renders it on code page if written in Markdown\n",
    "\n",
    "* [Scaladoc](https://docs.scala-lang.org/overviews/scaladoc/for-library-authors.html) allows you to directly document the code - great for APIs\n",
    "  - Add comments to code with special annotations, and tool generates pretty HTML\n",
    "  - Some IDEs can render/interact with Scaladoc inline\n",
    "  - Docs are next to code, so easier to keep in sync\n",
    "\n",
    "* Static site - great for topic-oriented explanations\n",
    "  - [readthedocs](https://readthedocs.org) is a helpful site/service for writing/hosting docs"
   ]
  },
  {
   "cell_type": "markdown",
   "id": "complicated-advertiser",
   "metadata": {
    "slideshow": {
     "slide_type": "slide"
    }
   },
   "source": [
    "## Documentation Writing Advice\n",
    "\n",
    "* Be sure to include brief summary of overall function/purpose\n",
    "\n",
    "* Emphasize what it does (_purpose_) over how it works internally (_implementation_)\n",
    "\n",
    "* Emphasize how to use thing (_iteraction_) over trying to introduce many abstractions\n",
    "\n",
    "* Do you find something really hard to explain?\n",
    "  * Might be an indication the feature/issue/API is worth reconsidering"
   ]
  },
  {
   "cell_type": "markdown",
   "id": "tired-arabic",
   "metadata": {
    "slideshow": {
     "slide_type": "slide"
    }
   },
   "source": [
    "## Why Should You Open-Source Your Work?\n",
    "\n",
    "* Can help world with your work\n",
    "  * Researchers should be trying to help\n",
    "  * Even in a company, if code is not key advantage, may still be able to release\n",
    "\n",
    "* Community can improve your code\n",
    "  * External contributions can add functionality, fix bugs, improve performance\n",
    "\n",
    "* Can raise your profile\n",
    "  * Can expose your contributions beyond your organization\n",
    "  * People notice/respect creators of commonly used things\n",
    "\n",
    "* Why not?\n",
    "  * You already benefited greatly from open-source, so return the favor\n",
    "  * Is there a patent or business that would be infringed/harmed by releasing?\n",
    "    * If no, why not release?"
   ]
  },
  {
   "cell_type": "markdown",
   "id": "straight-canada",
   "metadata": {
    "slideshow": {
     "slide_type": "slide"
    }
   },
   "source": [
    "## Ingredients for Successful Open-Source Project\n",
    "\n",
    "* Does something _useful_\n",
    "* Works _correctly_ (need testing)\n",
    "* _Documented_\n",
    "* Some _publicity_\n",
    "* Available with _open-source_ license"
   ]
  },
  {
   "cell_type": "markdown",
   "id": "golden-stock",
   "metadata": {
    "slideshow": {
     "slide_type": "slide"
    }
   },
   "source": [
    "## Open-Source Licensing\n",
    "\n",
    "* When you create something novel (e.g. code), you automatically get a _copyright_ to it\n",
    "    * Restricts what others can do with it, even if posted publicly online\n",
    "    * _Note:_ if created in the scope of your employment, your employer may get the copyright\n",
    "* A _license_ grants people permission to use your thing under certain conditions\n",
    "  * Different licenses have different permissions and restrictions\n",
    "* When releasing open-source software, you need include a license to give others permissions to use it\n",
    "  * The license specifies/clarifies what is covered and what is permitted"
   ]
  },
  {
   "cell_type": "markdown",
   "id": "described-wings",
   "metadata": {
    "slideshow": {
     "slide_type": "slide"
    }
   },
   "source": [
    "## Main Features of Open-Source Licenses\n",
    "\n",
    "* Most open-source licenses allow use & modification, but there are details...\n",
    "\n",
    "* Are you allowed to use it for commercial purposes?\n",
    "\n",
    "* Are you required to distribute changes? Can you include it in a bigger project? (_copyleft_ vs. _permissive_)\n",
    "\n",
    "* Are you allowed to use trademarks? (_branding_)\n",
    "\n",
    "* Are you allowed to use patented functionalities within the code? (_patent grant_)"
   ]
  },
  {
   "cell_type": "markdown",
   "id": "material-sunset",
   "metadata": {
    "slideshow": {
     "slide_type": "slide"
    }
   },
   "source": [
    "## Common Licenses\n",
    "\n",
    "* _**BSD & MIT**_\n",
    "  - commonly used, especially for academic projects\n",
    "  - _permissive_, and works well for academic, industrial, and personal users\n",
    "\n",
    "* _**GPL**_ (v3)\n",
    "  - commonly used, especially for big community projects\n",
    "  - _copyleft_, so some companies have restrictions about using code with it (even if only for dependence)\n",
    "\n",
    "* _**Apache**_ (v2)\n",
    "  - _permissive_ like BSD & MIT, but includes _patent grant_\n",
    "  - reduces risk for large companies to use code with this license\n",
    "\n",
    "* _**Unlicense & WTFPL**_\n",
    "  - very permissive, essentially giving away to _public domain_"
   ]
  },
  {
   "cell_type": "markdown",
   "id": "lesser-delicious",
   "metadata": {
    "slideshow": {
     "slide_type": "slide"
    }
   },
   "source": [
    "## Where to Put Your License?\n",
    "\n",
    "* Somewhere **prominent!** (e.g. `LICENSE` in root directory)\n",
    "\n",
    "* GitHub searches typical places and tries to automatically detect which license is used\n",
    "  * Not perfect, sometimes have to tweak it to be recognized\n",
    "  * Can also use their web UI to generate a LICENSE file\n",
    "\n",
    "* [The Software Package Data Exchange (SPDX)](https://spdx.dev)\n",
    "  * Standard to make it easier for humans/computers to recognize licenses for code"
   ]
  },
  {
   "cell_type": "markdown",
   "id": "ethical-timothy",
   "metadata": {
    "slideshow": {
     "slide_type": "slide"
    }
   },
   "source": [
    "## Attracting Contributions to your Project\n",
    "\n",
    "* Project needs to be _interesting/useful_\n",
    "* Adequate _testing_ is necessary\n",
    "  - for both you and them, be sure thing works\n",
    "* _Documentation_\n",
    "* _Responsive_ to _community_\n",
    "  * Are there old Issues or Pull Requests left unaddressed?\n",
    "  * Are there resources (mailing list, gitter, StackOverflow tag) to get help?\n",
    "* Explicitly suggest things they can with suggested projects"
   ]
  },
  {
   "cell_type": "markdown",
   "id": "tropical-tampa",
   "metadata": {
    "slideshow": {
     "slide_type": "slide"
    }
   },
   "source": [
    "### Things (from today) to try out in your project\n",
    "\n",
    "* CI\n",
    "* Code reviews\n",
    "* Documentation\n",
    "* Releasing (as open-source)"
   ]
  },
  {
   "cell_type": "markdown",
   "id": "mediterranean-flavor",
   "metadata": {
    "slideshow": {
     "slide_type": "slide"
    }
   },
   "source": [
    "## Links from Demo Inspecting [chisel3](https://github.com/chipsalliance/chisel3)\n",
    "\n",
    "* CI\n",
    "  - dated [circleci dashboard](https://app.circleci.com/pipelines/github/chipsalliance/chisel3?branch=master)\n",
    "  - GitHub Actions [configuration](https://github.com/chipsalliance/chisel3/blob/master/.github/workflows/test.yml) and [dashboard](https://github.com/chipsalliance/chisel3/actions)\n",
    "* Code Review (inside a [pull request](https://github.com/chipsalliance/chisel3/pull/2353))\n",
    "* Documentation\n",
    "  - scaladoc [source](https://github.com/chipsalliance/chisel3/blob/v3.5.0/src/main/scala/chisel3/util/Arbiter.scala) and [result](https://www.chisel-lang.org/api/latest/chisel3/util/Arbiter.html)\n",
    "  - static site [source](https://raw.githubusercontent.com/chipsalliance/chisel3/master/docs/src/explanations/data-types.md) and [result](https://www.chisel-lang.org/chisel3/docs/explanations/data-types.html)\n",
    "* [License](https://github.com/chipsalliance/chisel3/blob/master/LICENSE) "
   ]
  }
 ],
 "metadata": {
  "celltoolbar": "Slideshow",
  "kernelspec": {
   "display_name": "Scala",
   "language": "scala",
   "name": "scala"
  },
  "language_info": {
   "codemirror_mode": "text/x-scala",
   "file_extension": ".sc",
   "mimetype": "text/x-scala",
   "name": "scala",
   "nbconvert_exporter": "script",
   "version": "2.13.4"
  }
 },
 "nbformat": 4,
 "nbformat_minor": 5
}
