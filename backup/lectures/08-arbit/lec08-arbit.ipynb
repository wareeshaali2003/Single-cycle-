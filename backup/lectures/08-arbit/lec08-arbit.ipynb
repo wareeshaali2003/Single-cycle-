{
 "cells": [
  {
   "cell_type": "markdown",
   "id": "likely-sheep",
   "metadata": {
    "cell_style": "center",
    "slideshow": {
     "slide_type": "slide"
    }
   },
   "source": [
    "## Agile Hardware Design\n",
    "***\n",
    "# Arbitration\n",
    "\n",
    "## Prof. Scott Beamer\n",
    "### sbeamer@ucsc.edu\n",
    "\n",
    "## [CSE 293](https://classes.soe.ucsc.edu/cse293/Winter22/)"
   ]
  },
  {
   "cell_type": "markdown",
   "id": "nominated-consistency",
   "metadata": {
    "slideshow": {
     "slide_type": "slide"
    }
   },
   "source": [
    "## Plan for Today\n",
    "\n",
    "* One-hot encoding\n",
    "* Priority encoders\n",
    "* Arbiters\n",
    "* Example: crossbar"
   ]
  },
  {
   "cell_type": "markdown",
   "id": "aquatic-making",
   "metadata": {
    "slideshow": {
     "slide_type": "slide"
    }
   },
   "source": [
    "## One-Hot Encoding\n",
    "\n",
    "* Collection of wires where _**exactly**_ one wire is high (rest are low)\n",
    "\n",
    "* Helpful for working with a collection of objects in which you only want one to be active/selected/enabled\n",
    "\n",
    "* Examples\n",
    "  * Setting the write enable high for the target register in register file\n",
    "  * Charging the appropriate word line in a SRAM (often called a _decoder_)\n",
    "\n",
    "* Can often avoid need to encode/decode because both producers and consumers of one-hot (OH) encoding may prefer it\n",
    "\n",
    "<img src=\"images/decoder.svg\" alt=\"xbar schematic\" style=\"width:30%;margin-left:auto;margin-right:auto\"/>"
   ]
  },
  {
   "cell_type": "markdown",
   "id": "enabling-scholarship",
   "metadata": {
    "slideshow": {
     "slide_type": "slide"
    }
   },
   "source": [
    "## Priority Encoder\n",
    "\n",
    "* Given collection of wires, returns index of least significant bit that is high (1) given predefined precedence ordering (_priority_)\n",
    "\n",
    "* Helpful for ordering logic or choosing between things\n",
    "\n",
    "* Examples\n",
    "  * In a pipelined processor to resolve RAW hazard, forward data from most recent instruction\n",
    "  * In a collection components, find first free slot\n",
    "\n",
    "* Chisel provides result as an index with [`PriorityEncoder`](https://www.chisel-lang.org/api/latest/chisel3/util/PriorityEncoder\\$.html),\n",
    "one-hot with [`PriorityEncoderOH`](https://www.chisel-lang.org/api/latest/chisel3/util/PriorityEncoderOH\\$.html), or even integrated into a Mux with [`PriorityMux`](https://www.chisel-lang.org/api/latest/chisel3/util/PriorityMux\\$.html)\n",
    "  * _What if input is 0?_ invalid, but returns max index or 0 (for OH)\n"
   ]
  },
  {
   "cell_type": "markdown",
   "id": "needed-arthritis",
   "metadata": {
    "slideshow": {
     "slide_type": "slide"
    }
   },
   "source": [
    "## Example One-Hot Priority Encoders\n",
    "\n",
    "<img src=\"images/priority.svg\" alt=\"priority schematic\" style=\"width:75%;margin-left:auto;margin-right:auto\"/>"
   ]
  },
  {
   "cell_type": "markdown",
   "id": "liable-boutique",
   "metadata": {
    "slideshow": {
     "slide_type": "slide"
    }
   },
   "source": [
    "## Example One-Hot Priority Encoder Implementation"
   ]
  },
  {
   "cell_type": "code",
   "execution_count": null,
   "id": "applicable-acoustic",
   "metadata": {
    "scrolled": true
   },
   "outputs": [],
   "source": [
    "class MyPriEncodeOH(n: Int) extends Module {\n",
    "    val io = IO(new Bundle {\n",
    "        val in  = Input(UInt(n.W))\n",
    "        val out = Output(UInt())\n",
    "    })\n",
    "    require (n > 0)\n",
    "    def withGates(index: Int, expr: UInt): UInt = {\n",
    "        if (index < (n-1)) Cat(withGates(index+1, ~io.in(index) & expr), io.in(index) & expr)\n",
    "        else io.in(index) & expr\n",
    "    }\n",
    "    def withMuxes(index: Int): UInt = {\n",
    "        if (index < n) Mux(io.in(index), (1 << index).U, withMuxes(index+1))\n",
    "        else 0.U\n",
    "    }\n",
    "    io.out := withGates(0, 1.U)\n",
    "//     io.out := withMuxes(0)\n",
    "//     io.out := PriorityEncoderOH(io.in)\n",
    "//     printf(\"%b -> %b\\n\", io.in, io.out)\n",
    "}\n",
    "\n",
    "println(getVerilog(new MyPriEncodeOH(2)))\n",
    "// test(new MyPriEncodeOH(3)) { c =>\n",
    "//     for (i <- 0 until 8) {\n",
    "//         c.io.in.poke(i.U)\n",
    "//         c.clock.step()\n",
    "//     }\n",
    "// }"
   ]
  },
  {
   "cell_type": "markdown",
   "id": "twelve-photograph",
   "metadata": {
    "slideshow": {
     "slide_type": "slide"
    }
   },
   "source": [
    "## Arbiter\n",
    "\n",
    "* _Arbitration_ is needed to choose between multiple components attempting to access a scarce resource\n",
    "\n",
    "* Needs way to choose (_arbitrate_) if multiple simultaneous requests\n",
    "  * If only one request, grant to lone requestor\n",
    "\n",
    "* Different tie-breaking algorithms available e.g. fixed priority or round-robin\n",
    "  * Consider needs for usage scenario\n",
    "\n",
    "* Examples\n",
    "  * Structural hazard in a processor, such as core & memory both trying to write to cache at same time\n",
    "  * Output ports of a network switch (later today)"
   ]
  },
  {
   "cell_type": "markdown",
   "id": "severe-campus",
   "metadata": {
    "slideshow": {
     "slide_type": "slide"
    }
   },
   "source": [
    "## Arbiters in Chisel\n",
    "\n",
    "* Use `Decoupled` for both requestors and outcome\n",
    "  * `valid` (from requestor) indicates if actually sending request\n",
    "  * `ready` (to requestor) indicates request granted\n",
    "\n",
    "* [`Arbiter`](https://www.chisel-lang.org/api/latest/chisel3/util/Arbiter.html) - fixed priority from least significant (e.g. port 0 wins)\n",
    "\n",
    "* [`RRArbiter`](https://www.chisel-lang.org/api/latest/chisel3/util/RRArbiter.html) - round robin for who wins ties\n",
    "\n",
    "* [`LockingRRArbiter`](https://www.chisel-lang.org/api/latest/chisel3/util/LockingRRArbiter.html) - round robin, but \"winner\" granted out for `count` cycles\n",
    "\n",
    "<img src=\"images/arbiter.svg\" alt=\"arbiter schematic\" style=\"width:45%;margin-left:auto;margin-right:auto\"/>"
   ]
  },
  {
   "cell_type": "markdown",
   "id": "friendly-gilbert",
   "metadata": {
    "slideshow": {
     "slide_type": "slide"
    }
   },
   "source": [
    "## Demo of Chisel util's Arbiters"
   ]
  },
  {
   "cell_type": "code",
   "execution_count": null,
   "id": "generous-grant",
   "metadata": {
    "cell_style": "center",
    "scrolled": true,
    "slideshow": {
     "slide_type": "-"
    }
   },
   "outputs": [],
   "source": [
    "class UtilArbDemo(numPorts: Int, n: Int) extends Module {\n",
    "    val io = IO(new Bundle {\n",
    "        val req = Flipped(Vec(numPorts, Decoupled(UInt(n.W))))\n",
    "        val out = Decoupled(UInt(n.W))\n",
    "    })\n",
    "    require (numPorts > 0)\n",
    "    val arb = Module(new Arbiter(UInt(n.W), numPorts))\n",
    "    for (p <- 0 until numPorts) {\n",
    "        arb.io.in(p) <> io.req(p) \n",
    "    }\n",
    "    io.out <> arb.io.out\n",
    "    printf(\"req: \")\n",
    "    for (p <- numPorts-1 to 0 by -1) {\n",
    "        printf(\"%b\", arb.io.in(p).valid)\n",
    "    }\n",
    "    printf(\" winner: %d (v: %b)\\n\", arb.io.out.bits, arb.io.out.valid)\n",
    "}\n",
    "\n",
    "// println(getVerilog(new UtilArbDemo(2,8)))\n",
    "val numPorts = 4\n",
    "test(new UtilArbDemo(numPorts,8)) { c =>\n",
    "    c.io.out.ready.poke(true.B)\n",
    "    for (cycle <- 0 until 4) {\n",
    "        for (p <- 0 until numPorts) {\n",
    "            c.io.req(p).bits.poke(p.U)\n",
    "            c.io.req(p).valid.poke((p < 4).B)\n",
    "        }\n",
    "        c.clock.step()\n",
    "    }\n",
    "}"
   ]
  },
  {
   "cell_type": "markdown",
   "id": "touched-label",
   "metadata": {
    "slideshow": {
     "slide_type": "slide"
    }
   },
   "source": [
    "## Testing Our Arbiter"
   ]
  },
  {
   "cell_type": "code",
   "execution_count": null,
   "id": "signal-texture",
   "metadata": {
    "scrolled": true,
    "slideshow": {
     "slide_type": "-"
    }
   },
   "outputs": [],
   "source": [
    "class ArbDemo(numPorts: Int, n: Int) extends Module {\n",
    "    val io = IO(new Bundle {\n",
    "        val req = Flipped(Vec(numPorts, Decoupled(UInt(n.W))))\n",
    "        val out = Decoupled(UInt(n.W))\n",
    "    })\n",
    "    require (numPorts > 0)\n",
    "    val arb = Module(new MyArb(numPorts,n ))\n",
    "    for (p <- 0 until numPorts) {\n",
    "        arb.io.req(p) <> io.req(p) \n",
    "    }\n",
    "    io.out <> arb.io.out\n",
    "    printf(\"req: \")\n",
    "    for (p <- numPorts-1 to 0 by -1) {\n",
    "        printf(\"%b\", arb.io.req(p).valid)\n",
    "    }\n",
    "    printf(\" winner: %d (v: %b)\\n\", arb.io.out.bits, arb.io.out.valid)\n",
    "}\n",
    "\n",
    "// println(getVerilog(new ArbDemo(2,8)))\n",
    "val numPorts = 4\n",
    "test(new ArbDemo(numPorts,8)) { c =>\n",
    "    c.io.out.ready.poke(true.B)\n",
    "    for (cycle <- 0 until 4) {\n",
    "        for (p <- 0 until numPorts) {\n",
    "            c.io.req(p).bits.poke(p.U)\n",
    "            c.io.req(p).valid.poke((p > cycle).B)\n",
    "        }\n",
    "        c.clock.step()\n",
    "    }\n",
    "}"
   ]
  },
  {
   "cell_type": "markdown",
   "id": "missing-pocket",
   "metadata": {
    "slideshow": {
     "slide_type": "slide"
    }
   },
   "source": [
    "## Example Crossbar in Chisel\n",
    "\n",
    "* Connects `numIns` input ports to `numOuts` output ports\n",
    "  * All ports are `Decoupled`\n",
    "\n",
    "<img src=\"images/xbar.svg\" alt=\"xbar schematic\" style=\"width:30%;margin-left:auto;margin-right:auto\"/>"
   ]
  },
  {
   "cell_type": "markdown",
   "id": "electronic-helena",
   "metadata": {
    "slideshow": {
     "slide_type": "slide"
    }
   },
   "source": [
    "## Example Crossbar Implementation (1/2)"
   ]
  },
  {
   "cell_type": "code",
   "execution_count": null,
   "id": "obvious-attack",
   "metadata": {
    "cell_style": "center"
   },
   "outputs": [],
   "source": [
    "class Message(numOuts: Int, length: Int) extends Bundle {\n",
    "    val addr = UInt(log2Ceil(numOuts+1).W)\n",
    "    val data = UInt(length.W)\n",
    "}\n",
    "\n",
    "class XBarIO(numIns: Int, numOuts: Int, length: Int) extends Bundle {\n",
    "    val in  = Vec(numIns, Flipped(Decoupled(new Message(numOuts, length))))\n",
    "    val out = Vec(numOuts, Decoupled(new Message(numOuts, length)))\n",
    "}"
   ]
  },
  {
   "cell_type": "markdown",
   "id": "clean-porter",
   "metadata": {
    "slideshow": {
     "slide_type": "slide"
    }
   },
   "source": [
    "## Example Crossbar Implementation (2/2)"
   ]
  },
  {
   "cell_type": "code",
   "execution_count": null,
   "id": "nearby-linux",
   "metadata": {
    "scrolled": true
   },
   "outputs": [],
   "source": [
    "class XBar(numIns: Int, numOuts: Int, length: Int) extends Module {\n",
    "    val io = IO(new XBarIO(numIns, numOuts, length))\n",
    "    val arbs = Seq.fill(numOuts)(Module(new RRArbiter(new Message(numOuts, length), numIns)))\n",
    "    for (ip <- 0 until numIns) {\n",
    "        val inReadys = Wire(Vec(numOuts, Bool()))\n",
    "        for (op <- 0 until numOuts) {\n",
    "            inReadys(op) := arbs(op).io.in(ip).ready\n",
    "        }\n",
    "        io.in(ip).ready := inReadys.asUInt.orR\n",
    "    }\n",
    "    for (op <- 0 until numOuts) {\n",
    "        for (ip <- 0 until numIns) {\n",
    "            arbs(op).io.in(ip).bits <> io.in(ip).bits\n",
    "            arbs(op).io.in(ip).valid := io.in(ip).valid && (io.in(ip).bits.addr === op.U)\n",
    "        }\n",
    "        io.out(op) <> arbs(op).io.out\n",
    "    }\n",
    "    for (op <- 0 until numOuts) {\n",
    "        printf(\" %d -> %d (%b)\", io.out(op).bits.data, op.U, io.out(op).valid)\n",
    "    }\n",
    "    printf(\"\\n\")\n",
    "}\n",
    "\n",
    "// println(getVerilog(new XBar(2,1,8)))"
   ]
  },
  {
   "cell_type": "markdown",
   "id": "removed-north",
   "metadata": {
    "slideshow": {
     "slide_type": "slide"
    }
   },
   "source": [
    "## Example Crossbar Demo"
   ]
  },
  {
   "cell_type": "code",
   "execution_count": null,
   "id": "compliant-joining",
   "metadata": {},
   "outputs": [],
   "source": [
    "val numIns = 4\n",
    "val numOuts = 2\n",
    "test(new XBar(numIns,numOuts,8)) { c =>\n",
    "    for (ip <- 0 until numIns) {\n",
    "        c.io.in(ip).valid.poke(true.B)\n",
    "        c.io.in(ip).bits.data.poke(ip.U)\n",
    "        c.io.in(ip).bits.addr.poke((ip % numOuts).U)\n",
    "    }\n",
    "    for (op <- 0 until numOuts) {\n",
    "        c.io.out(op).ready.poke(true.B)\n",
    "    }\n",
    "    for (cycle <- 0 until 4) {\n",
    "        c.clock.step()\n",
    "    }\n",
    "}"
   ]
  }
 ],
 "metadata": {
  "celltoolbar": "Slideshow",
  "kernelspec": {
   "display_name": "Scala",
   "language": "scala",
   "name": "scala"
  },
  "language_info": {
   "codemirror_mode": "text/x-scala",
   "file_extension": ".sc",
   "mimetype": "text/x-scala",
   "name": "scala",
   "nbconvert_exporter": "script",
   "version": "2.13.4"
  }
 },
 "nbformat": 4,
 "nbformat_minor": 5
}
