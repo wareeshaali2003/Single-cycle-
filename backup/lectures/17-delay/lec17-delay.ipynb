{
 "cells": [
  {
   "cell_type": "markdown",
   "id": "external-thermal",
   "metadata": {
    "slideshow": {
     "slide_type": "slide"
    }
   },
   "source": [
    "## Agile Hardware Design\n",
    "***\n",
    "# Optimizing for Delay\n",
    "\n",
    "## Prof. Scott Beamer\n",
    "### sbeamer@ucsc.edu\n",
    "\n",
    "## [CSE 293](https://classes.soe.ucsc.edu/cse293/Winter22/)"
   ]
  },
  {
   "cell_type": "markdown",
   "id": "nominated-consistency",
   "metadata": {
    "slideshow": {
     "slide_type": "slide"
    }
   },
   "source": [
    "## Plan for Today\n",
    "\n",
    "* Sources of logic delay\n",
    "* Techniques to reduce delay"
   ]
  },
  {
   "cell_type": "markdown",
   "id": "regular-reducing",
   "metadata": {
    "slideshow": {
     "slide_type": "slide"
    }
   },
   "source": [
    "## Loading The Chisel Library Into a Notebook"
   ]
  },
  {
   "cell_type": "code",
   "execution_count": null,
   "id": "robust-immigration",
   "metadata": {},
   "outputs": [],
   "source": [
    "val path = System.getProperty(\"user.dir\") + \"/../resource/chisel_deps.sc\"\n",
    "interp.load.module(ammonite.ops.Path(java.nio.file.FileSystems.getDefault().getPath(path)))"
   ]
  },
  {
   "cell_type": "code",
   "execution_count": null,
   "id": "extended-burning",
   "metadata": {
    "slideshow": {
     "slide_type": "-"
    }
   },
   "outputs": [],
   "source": [
    "import chisel3._\n",
    "import chisel3.util._\n",
    "import chisel3.tester._\n",
    "import chisel3.tester.RawTester.test"
   ]
  },
  {
   "cell_type": "markdown",
   "id": "recognized-trade",
   "metadata": {
    "slideshow": {
     "slide_type": "slide"
    }
   },
   "source": [
    "## Sources of Delay\n",
    "\n",
    "* _**Gate Delay**_ - time it takes for gates to compute result\n",
    "  * More complicated gates or more inputs (_fan-in_) can increase delay\n",
    "\n",
    "* _**Wire Delay**_ - time to transmit signals between gates\n",
    "  * Can be worsenned by _fan-out_ (broadcasting to multiple outputs)\n",
    "  * Can be much more pronounced on FPGAs\n",
    "\n",
    "<img src=\"images/delay.svg\" alt=\"sources of delay\" style=\"width:60%;margin-left:auto;margin-right:auto\"/>"
   ]
  },
  {
   "cell_type": "markdown",
   "id": "adopted-shore",
   "metadata": {
    "slideshow": {
     "slide_type": "slide"
    }
   },
   "source": [
    "## Units for Delay\n",
    "\n",
    "* Typical time units\n",
    "  * _nanosecond (ns)_ = $10^{-9}$ seconds\n",
    "  * _picosecond (ps)_ = $10^{-12}$ seconds\n",
    "\n",
    "* _Fanout of 4_ (**FO4**)\n",
    "  * Slightly agnostic to tech (or even operating voltage)\n",
    "  * Example: Intel Pentium 4 @ 3.4 GHz had 16.3 FO4 => FO4 ~ 18ps [source](https://en.wikipedia.org/wiki/FO4#cite_note-4)\n",
    "\n",
    "<img src=\"images/fo4.svg\" alt=\"FO4\" style=\"width:25%;margin-left:auto;margin-right:auto\"/>"
   ]
  },
  {
   "cell_type": "markdown",
   "id": "advanced-button",
   "metadata": {
    "slideshow": {
     "slide_type": "slide"
    }
   },
   "source": [
    "## Critical Path\n",
    "\n",
    "* Longest _delay_ path through design (under worst case conditions)\n",
    "* Clock period must be longer than critical path delay\n",
    "  * Paths \"shorter\" than critical path do not affect clock frequency\n",
    "* Reducing critical path delay helps in two ways:\n",
    "  * 1 - can increase clock frequency (improve performance)\n",
    "  * 2 - can reduce supply voltage (reduce power)\n",
    "\n",
    "<img src=\"images/critical.svg\" alt=\"critical path\" style=\"width:60%;margin-left:auto;margin-right:auto\"/>"
   ]
  },
  {
   "cell_type": "markdown",
   "id": "ambient-broad",
   "metadata": {
    "slideshow": {
     "slide_type": "slide"
    }
   },
   "source": [
    "## Static Timing Analysis (STA)\n",
    "\n",
    "* Process to analyze a design and determine its timing behavior\n",
    "* Models performance of gates and wires\n",
    "* Usually concerned with worst case\n",
    "* Can be after only synthesis (doesn't consider wire delays) or also post place & route\n",
    "\n",
    "<img src=\"images/sta.svg\" alt=\"STA example\" style=\"width:60%;margin-left:auto;margin-right:auto\"/>"
   ]
  },
  {
   "cell_type": "markdown",
   "id": "substantial-simon",
   "metadata": {
    "slideshow": {
     "slide_type": "slide"
    }
   },
   "source": [
    "## Fixing Critical Paths\n",
    "\n",
    "* Even though most paths are \"short,\" clock period set by _critical path_\n",
    "* Want to decrease clock period to increase throughput (assuming no hazards or bubbles)\n",
    "* _Process:_ optimize longest (delay) path by reducing delay, then do next longest, repeat\n",
    "  * Can initially be done by tools, but usually humans needed for large interventions\n",
    "  * Can be very time consuming\n",
    "\n",
    "<img src=\"images/histogram.svg\" alt=\"\" style=\"width:78%;margin-left:auto;margin-right:auto\"/>"
   ]
  },
  {
   "cell_type": "markdown",
   "id": "chief-track",
   "metadata": {
    "slideshow": {
     "slide_type": "slide"
    }
   },
   "source": [
    "## Who Fixes Delay?\n",
    "\n",
    "* In order to let/make _the tools do the work_, need to appreciate what tools can do to make designer effort complementary and not redundant\n",
    "* _What the **tools** do best_\n",
    "    * Decades of research & development have gone into logic optimization\n",
    "    * Tools can reduce logic to reduce cost as well as restructure it to reduce delay\n",
    "    * Tools can also choose to use faster components at the cost of area or power\n",
    "    * Can do most things that _do not change semantics of design_\n",
    "* _What **designer** does best_\n",
    "    * _Can change the design_ (semantics)\n",
    "    * Consider major architectural changes\n",
    "    * Make changes to enable more optimization from tools"
   ]
  },
  {
   "cell_type": "markdown",
   "id": "municipal-clearing",
   "metadata": {
    "slideshow": {
     "slide_type": "slide"
    }
   },
   "source": [
    "## Pipelining\n",
    "\n",
    "* Break up long paths by inserting registers\n",
    "  * Data still travels over long path, but now over multiple cycles\n",
    "  * Requires _parallelism_, as now multiple elements in flight\n",
    "* Where to put registers?\n",
    "  * Want to balance delay\n",
    "  * Sometimes very semantically clear, but that may not always be best\n",
    "  * Manually moving logic back and forth across registers can be labor intensive\n",
    "\n",
    "<img src=\"images/pipeline.svg\" alt=\"pipeline\" style=\"width:60%;margin-left:auto;margin-right:auto\"/>"
   ]
  },
  {
   "cell_type": "markdown",
   "id": "valuable-graduation",
   "metadata": {
    "slideshow": {
     "slide_type": "slide"
    }
   },
   "source": [
    "## Retiming\n",
    "\n",
    "* Automated way tools can move registers to balance path lengths\n",
    "* Can't always move a register, such as if it has feedback\n",
    "* Some tools have varying levels of sophistication or flexibility\n",
    "  * e.g. can only go forward or backward or only in some cases\n",
    "* Can sometimes complicate verification\n",
    "\n",
    "<img src=\"images/retimed.svg\" alt=\"retiming\" style=\"width:60%;margin-left:auto;margin-right:auto\"/>"
   ]
  },
  {
   "cell_type": "markdown",
   "id": "portable-dominican",
   "metadata": {
    "slideshow": {
     "slide_type": "slide"
    }
   },
   "source": [
    "## Coding for Retiming in Chisel\n",
    "\n",
    "* Add ability for a component to be pipelined, but _parameterize_ depth\n",
    "* Make tools do the work retiming to spread registers out appropriately\n",
    "* Chisel's `Pipe` object is a sequence of (shift) registers\n",
    "* Example below places additional registers at end of combinational logic block\n",
    "  * Some tools may prefer registers in front\n",
    "\n",
    "```scala\n",
    "class PipelinedModule(pipelineDepth: Int) extends Module {\n",
    "    val io = IO ...\n",
    "    // combinational logic produces: result\n",
    "    io.out := Pipe(result, pipelineDepth)\n",
    "}\n",
    "```"
   ]
  },
  {
   "cell_type": "markdown",
   "id": "secondary-spare",
   "metadata": {
    "slideshow": {
     "slide_type": "slide"
    }
   },
   "source": [
    "## Reduce Depth of Structures\n",
    "\n",
    "* Logic optimization in CAD tools can solve many inefficiencies, but still may need help\n",
    "  * Tools can't automatically change observable behavior, so you will need to change design\n",
    "  * May have (inadvertently) constructed highly unusual corner case tools can't optimize\n",
    "* Be wary of logic depth for things that grow linearly\n",
    "  * Consider pipelining\n",
    "  * Consider a tree (sometimes trades area for delay)\n",
    "  * Be sure to confirm it is on critical path first before optimizing\n",
    "    * Even if linear, may still not be the critical path\n",
    "    * Tools may be optimizing it just fine on their own"
   ]
  },
  {
   "cell_type": "markdown",
   "id": "extensive-juice",
   "metadata": {
    "slideshow": {
     "slide_type": "slide"
    }
   },
   "source": [
    "## Example Depth Reduction (for a Reduction) - 1/2\n",
    "\n",
    "<img src=\"images/reduction.svg\" alt=\"toolflow phases\" style=\"width:70%;margin-left:auto;margin-right:auto\"/>"
   ]
  },
  {
   "cell_type": "markdown",
   "id": "operational-browse",
   "metadata": {
    "slideshow": {
     "slide_type": "slide"
    }
   },
   "source": [
    "## Example Depth Reduction (for a Reduction) - 2/2"
   ]
  },
  {
   "cell_type": "code",
   "execution_count": null,
   "id": "critical-canada",
   "metadata": {
    "slideshow": {
     "slide_type": "-"
    }
   },
   "outputs": [],
   "source": [
    "def linearPopCount(l: Seq[Bool]): UInt = {\n",
    "    if (l.isEmpty) 0.U\n",
    "    else l.head +& linearPopCount(l.tail)\n",
    "}\n",
    "\n",
    "// PopCount (edited) from chisel3/SeqUtils.scala\n",
    "def treePopCount(l: Seq[Bool]): UInt = l.size match {\n",
    "    case 0 => 0.U\n",
    "    case 1 => l.head\n",
    "    case n => treePopCount(l take n/2) +& treePopCount(l drop n/2)\n",
    "}\n",
    "\n",
    "class CountOnes(n: Int) extends Module { // PopCount\n",
    "    val io = IO(new Bundle {\n",
    "        val in = Input(Vec(n, Bool()))\n",
    "        val out = Output(UInt())\n",
    "    })\n",
    "    require(n > 0)\n",
    "    io.out := linearPopCount(io.in)\n",
    "//     io.out := treePopCount(io.in)\n",
    "//     io.out := PopCount(io.in)\n",
    "}\n",
    "\n",
    "println(getVerilog(new CountOnes(4)))"
   ]
  }
 ],
 "metadata": {
  "celltoolbar": "Slideshow",
  "kernelspec": {
   "display_name": "Scala",
   "language": "scala",
   "name": "scala"
  },
  "language_info": {
   "codemirror_mode": "text/x-scala",
   "file_extension": ".sc",
   "mimetype": "text/x-scala",
   "name": "scala",
   "nbconvert_exporter": "script",
   "version": "2.13.4"
  }
 },
 "nbformat": 4,
 "nbformat_minor": 5
}
