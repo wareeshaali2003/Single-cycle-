{
 "cells": [
  {
   "cell_type": "markdown",
   "id": "external-thermal",
   "metadata": {
    "slideshow": {
     "slide_type": "slide"
    }
   },
   "source": [
    "## Agile Hardware Design\n",
    "***\n",
    "# Inheritance\n",
    "\n",
    "## Prof. Scott Beamer\n",
    "### sbeamer@ucsc.edu\n",
    "\n",
    "## [CSE 293](https://classes.soe.ucsc.edu/cse293/Winter22/)"
   ]
  },
  {
   "cell_type": "markdown",
   "id": "nominated-consistency",
   "metadata": {
    "slideshow": {
     "slide_type": "slide"
    }
   },
   "source": [
    "## Plan for Today\n",
    "\n",
    "* Inheritance in Scala\n",
    "* Inheritance with Chisel\n",
    "* Type parameterization"
   ]
  },
  {
   "cell_type": "markdown",
   "id": "regular-reducing",
   "metadata": {
    "slideshow": {
     "slide_type": "slide"
    }
   },
   "source": [
    "## Loading The Chisel Library Into a Notebook"
   ]
  },
  {
   "cell_type": "code",
   "execution_count": null,
   "id": "robust-immigration",
   "metadata": {},
   "outputs": [],
   "source": [
    "val path = System.getProperty(\"user.dir\") + \"/../resource/chisel_deps.sc\"\n",
    "interp.load.module(ammonite.ops.Path(java.nio.file.FileSystems.getDefault().getPath(path)))"
   ]
  },
  {
   "cell_type": "code",
   "execution_count": null,
   "id": "extended-burning",
   "metadata": {
    "scrolled": true,
    "slideshow": {
     "slide_type": "-"
    }
   },
   "outputs": [],
   "source": [
    "import chisel3._\n",
    "import chisel3.util._\n",
    "import chisel3.tester._\n",
    "import chisel3.tester.RawTester.test"
   ]
  },
  {
   "cell_type": "markdown",
   "id": "random-significance",
   "metadata": {
    "slideshow": {
     "slide_type": "slide"
    }
   },
   "source": [
    "## Why Use (Object-Oriented) Inheritance?\n",
    "\n",
    "* Increase productivity through _reuse_\n",
    "  * Less effort to reuse a component than implementing from scratch\n",
    "\n",
    "* _Inheritance_ is most helpful for reuse between similar components\n",
    "  * What about different components that behave the same in same cases?\n",
    "  * What about different components that present the same interface?\n",
    "\n",
    "* Due to diversity of potential reuse cases, Scala has a diversity of inheritance mechanisms"
   ]
  },
  {
   "cell_type": "markdown",
   "id": "flexible-emission",
   "metadata": {
    "slideshow": {
     "slide_type": "slide"
    }
   },
   "source": [
    "## Scala `class` Inheritance\n",
    "\n",
    "* Simply use the `extend` keyword\n",
    "  * Can only extend one class at a time\n",
    "\n",
    "* Can overide fields with `override`"
   ]
  },
  {
   "cell_type": "code",
   "execution_count": null,
   "id": "global-furniture",
   "metadata": {},
   "outputs": [],
   "source": [
    "class Parent(name: String) {\n",
    "    val phrase = \"hello\"\n",
    "    \n",
    "    def greet() { println(s\"$phrase $name\") }\n",
    "}\n",
    "\n",
    "val p = new Parent(\"Kate\")\n",
    "p.greet\n",
    "\n",
    "class Child(name: String) extends Parent(name) {\n",
    "    override val phrase = \"hola\"\n",
    "}\n",
    "\n",
    "val c = new Child(\"Pablo\")\n",
    "c.greet"
   ]
  },
  {
   "cell_type": "markdown",
   "id": "atmospheric-resistance",
   "metadata": {
    "slideshow": {
     "slide_type": "slide"
    }
   },
   "source": [
    "## Scala `abstract class` Inheritance\n",
    "\n",
    "* Sometimes don't want to provide implementations of the inherited things\n",
    "* Can't instantiate an abstract class, must inherit from it\n",
    "* Full multiple inheritance, will need to consider _trait_"
   ]
  },
  {
   "cell_type": "code",
   "execution_count": null,
   "id": "basic-stationery",
   "metadata": {},
   "outputs": [],
   "source": [
    "abstract class Parent(name: String) {\n",
    "    val phrase: String\n",
    "    \n",
    "    def greet() { println(s\"$phrase $name\") }\n",
    "}\n",
    "\n",
    "class InEnglish(name: String) extends Parent(name) {\n",
    "    val phrase = \"hello\"\n",
    "}\n",
    "\n",
    "val e = new InEnglish(\"Kate\")\n",
    "e.greet\n",
    "\n",
    "class InSpanish(name: String) extends Parent(name) {\n",
    "    val phrase = \"hola\"\n",
    "}\n",
    "\n",
    "val s = new InSpanish(\"Pablo\")\n",
    "s.greet"
   ]
  },
  {
   "cell_type": "markdown",
   "id": "curious-carbon",
   "metadata": {
    "slideshow": {
     "slide_type": "slide"
    }
   },
   "source": [
    "## Example Type Hierarchy: Scala's Immutable Collections\n",
    "\n",
    "<img src=\"images/collections-immutable-diagram.svg\" alt=\"Scala's immutable collections type hierarchy\" style=\"width:60%;margin-left:auto;margin-right:auto\"/>\n",
    "\n",
    "[source](https://docs.scala-lang.org/overviews/collections-2.13/overview.html)"
   ]
  },
  {
   "cell_type": "markdown",
   "id": "traditional-world",
   "metadata": {
    "slideshow": {
     "slide_type": "slide"
    }
   },
   "source": [
    "## Types of Reuse in Using Chisel\n",
    "\n",
    "* To enable agile development, we have been going after reuse in different places:\n",
    "\n",
    "* _**Parameterized hardware generators**_ - are hopefully sufficiently flexible to be used in more places\n",
    "  * Both at module level as well as functionality not even wrapped in a Module\n",
    "\n",
    "* _**Composable/customizable Bundles**_ - can reduce effort defining interfaces\n",
    "\n",
    "* _**via Inheritance**_ - (today) similar modules can share functionality\n",
    "  * Design decision of using different classes (inheritance) or more generator parameters\n",
    "  * _Note:_ Chisel itself is implemented using inheritance (e.g. `extend Module`)\n"
   ]
  },
  {
   "cell_type": "markdown",
   "id": "professional-cameroon",
   "metadata": {
    "slideshow": {
     "slide_type": "slide"
    }
   },
   "source": [
    "## Chisel Simple `abstract class` Inheritance"
   ]
  },
  {
   "cell_type": "code",
   "execution_count": null,
   "id": "backed-throat",
   "metadata": {
    "scrolled": true
   },
   "outputs": [],
   "source": [
    "abstract class UnaryOperatorModule(width: Int) extends Module {\n",
    "    def op(x: UInt): UInt\n",
    "    val io = IO(new Bundle {\n",
    "        val in = Input(UInt(width.W))\n",
    "        val out = Output(UInt(width.W))\n",
    "    })\n",
    "    io.out := op(io.in)\n",
    "}\n",
    "\n",
    "class PassThruMod(width: Int) extends UnaryOperatorModule(width) {\n",
    "    def op(x: UInt) = x\n",
    "}\n",
    "\n",
    "class NegMod(width: Int) extends UnaryOperatorModule(width) {\n",
    "    def op(x: UInt) = ~x\n",
    "}\n",
    "\n",
    "println(getVerilog(new PassThruMod(8)))"
   ]
  },
  {
   "cell_type": "markdown",
   "id": "visible-constraint",
   "metadata": {
    "slideshow": {
     "slide_type": "slide"
    }
   },
   "source": [
    "## Chisel Example - Building Operator Library (1/2)"
   ]
  },
  {
   "cell_type": "code",
   "execution_count": null,
   "id": "headed-technical",
   "metadata": {},
   "outputs": [],
   "source": [
    "//  c = op(a,b)\n",
    "abstract class DecoupledOperator(width: Int) extends Module {\n",
    "    val io = IO(new Bundle {\n",
    "        val a = Flipped(Decoupled(UInt(width.W)))\n",
    "        val b = Flipped(Decoupled(UInt(width.W)))\n",
    "        val c = Decoupled(UInt(width.W))\n",
    "    })\n",
    "\n",
    "    def op(a: UInt, b: UInt): UInt\n",
    "\n",
    "    val buffer = Reg(UInt(width.W))\n",
    "    val full = RegInit(false.B)\n",
    "    io.a.ready := !full\n",
    "    io.b.ready := !full\n",
    "    io.c.valid := full\n",
    "    io.c.bits := buffer\n",
    "    when (io.a.fire && io.b.fire && !full) {\n",
    "        buffer := op(io.a.bits, io.b.bits)\n",
    "        full := true.B\n",
    "    }\n",
    "    when (io.c.fire) {\n",
    "        full := false.B\n",
    "    }\n",
    "}"
   ]
  },
  {
   "cell_type": "markdown",
   "id": "heard-herald",
   "metadata": {
    "slideshow": {
     "slide_type": "slide"
    }
   },
   "source": [
    "## Chisel Example - Building Operator Library (2/2)"
   ]
  },
  {
   "cell_type": "code",
   "execution_count": null,
   "id": "healthy-excerpt",
   "metadata": {
    "scrolled": true
   },
   "outputs": [],
   "source": [
    "class DecoupledAdd(width: Int) extends DecoupledOperator(width) {\n",
    "    def op(a: UInt, b: UInt): UInt = a + b\n",
    "}\n",
    "\n",
    "class DecoupledSub(width: Int) extends DecoupledOperator(width) {\n",
    "    def op(a: UInt, b: UInt): UInt = a - b\n",
    "}\n",
    "\n",
    "object DecoupledFactory {\n",
    "    def apply(op: String, width: Int): DecoupledOperator = op match {\n",
    "        case \"+\" => new DecoupledAdd(width)\n",
    "        case \"-\" => new DecoupledSub(width)\n",
    "        case _ => throw new Exception(s\"Couldn't find $op\")\n",
    "    }\n",
    "}\n",
    "\n",
    "println(getVerilog(DecoupledFactory(\"+\", 8)))\n",
    "\n",
    "// test(DecoupledFactory(\"+\", 8)) { c =>\n",
    "//     for (cycle <- 0 until 5) {\n",
    "//         c.io.a.bits.poke((cycle+1).U)\n",
    "//         c.io.a.valid.poke(true.B)\n",
    "//         c.io.b.bits.poke(cycle.U)\n",
    "//         c.io.b.valid.poke(true.B)\n",
    "//         c.io.c.ready.poke(true.B)\n",
    "//         println(s\"$cycle:$cycle ${c.io.c.bits.peek} ${c.io.c.valid.peek}\")\n",
    "//         c.clock.step()\n",
    "//     }\n",
    "// }\n"
   ]
  },
  {
   "cell_type": "markdown",
   "id": "automotive-client",
   "metadata": {
    "slideshow": {
     "slide_type": "slide"
    }
   },
   "source": [
    "## Scala `trait`\n",
    "\n",
    "* More flexible than `abstract class` in most ways\n",
    "  * Can inherit from multiple traits\n",
    "  * Can't take constructor parameters\n",
    "* Sometimes refered to as _mixin_\n",
    "  * Good conceptual model: think of inheriting from trait to \"mix in\" some needed functionality (or interface)\n",
    "* Great in Chisel for adding a little functionality to different types of modules"
   ]
  },
  {
   "cell_type": "markdown",
   "id": "smooth-walker",
   "metadata": {
    "slideshow": {
     "slide_type": "slide"
    }
   },
   "source": [
    "## Example Chisel Use of `trait`\n",
    "\n",
    "* Want to add standardized way of querying module\n",
    "* Using MultiIOModule allows for not defining `io` all at once"
   ]
  },
  {
   "cell_type": "code",
   "execution_count": null,
   "id": "instructional-backing",
   "metadata": {},
   "outputs": [],
   "source": [
    "trait PrintInSim extends MultiIOModule {\n",
    "    val printEnable = IO(Input(Bool()))\n",
    "    \n",
    "    def msg: String\n",
    "\n",
    "    when (printEnable) {\n",
    "        printf(p\"$msg\\n\")\n",
    "    }\n",
    "}\n",
    "\n",
    "class CounterMod extends MultiIOModule with PrintInSim {\n",
    "    val out = IO(Output(UInt(8.W)))\n",
    "    def msg = \"hello from counter\"\n",
    "    val count = Counter(255)\n",
    "    out := count.value\n",
    "}\n",
    "\n",
    "test(new CounterMod) { c =>\n",
    "    c.printEnable.poke(false.B)\n",
    "    c.clock.step(2)\n",
    "    c.printEnable.poke(true.B)\n",
    "    c.clock.step(2)\n",
    "}"
   ]
  },
  {
   "cell_type": "markdown",
   "id": "shaped-courage",
   "metadata": {
    "slideshow": {
     "slide_type": "slide"
    }
   },
   "source": [
    "## Templating Types\n",
    "\n",
    "* Possible to parameterize a type (e.g. a generic) in Scala\n",
    "* Typically want to use _type bounds_ to ensure functionality is there\n",
    "* Can sometimes come run into issue of [_type erasure_](https://squidarth.com/scala/types/2019/01/11/type-erasure-scala.html)"
   ]
  },
  {
   "cell_type": "markdown",
   "id": "robust-voltage",
   "metadata": {
    "slideshow": {
     "slide_type": "slide"
    }
   },
   "source": [
    "## Chisel with Templated Type\n",
    "\n",
    "* With Chisel, usually want to specify _type bounds_ to ensure is hardware\n",
    "* Need to explicitly pass _gen_ to get type constructor"
   ]
  },
  {
   "cell_type": "code",
   "execution_count": null,
   "id": "centered-configuration",
   "metadata": {
    "scrolled": true
   },
   "outputs": [],
   "source": [
    "class GenericPassThru[T <: chisel3.Data](gen: T) extends Module {\n",
    "    val io = IO(new Bundle {\n",
    "        val in = Input(gen)\n",
    "        val out = Output(gen)\n",
    "    })\n",
    "    io.out := io.in\n",
    "}\n",
    "\n",
    "println(getVerilog(new GenericPassThru(UInt(8.W))))"
   ]
  },
  {
   "cell_type": "markdown",
   "id": "departmental-system",
   "metadata": {
    "slideshow": {
     "slide_type": "slide"
    }
   },
   "source": [
    "## Chisel Type Hierarchy"
   ]
  },
  {
   "cell_type": "markdown",
   "id": "north-consultation",
   "metadata": {},
   "source": [
    "<img src=\"images/chisel_hierarchy.svg\" alt=\"Chisel's type hierarchy\" style=\"width:60%;margin-left:auto;margin-right:auto\"/>\n",
    "\n",
    "[source](https://github.com/chipsalliance/chisel3)"
   ]
  },
  {
   "cell_type": "markdown",
   "id": "catholic-regression",
   "metadata": {
    "slideshow": {
     "slide_type": "slide"
    }
   },
   "source": [
    "## Templating Our Queue (from last lecture)"
   ]
  },
  {
   "cell_type": "code",
   "execution_count": null,
   "id": "occasional-hartford",
   "metadata": {},
   "outputs": [],
   "source": [
    "class MyQueueV7[T <: chisel3.Data](numEntries: Int, gen: T, pipe: Boolean=true) extends Module {\n",
    "    val io = IO(new Bundle {\n",
    "        val enq = Flipped(Decoupled(gen))\n",
    "        val deq = Decoupled(gen)\n",
    "    })\n",
    "    require(numEntries > 1)\n",
    "//     require(isPow2(numEntries))\n",
    "    val entries = Mem(numEntries, gen)\n",
    "    val enqIndex = Counter(numEntries)\n",
    "    val deqIndex = Counter(numEntries)\n",
    "    val maybeFull = RegInit(false.B)\n",
    "    val indicesEqual = enqIndex.value === deqIndex.value\n",
    "    val empty = indicesEqual && !maybeFull\n",
    "    val full = indicesEqual && maybeFull\n",
    "    if (pipe)\n",
    "        io.enq.ready := !full || io.deq.ready\n",
    "    else\n",
    "        io.enq.ready := !full\n",
    "    io.deq.valid := !empty\n",
    "    io.deq.bits := entries(deqIndex.value)\n",
    "    when (io.deq.fire =/= io.enq.fire) {\n",
    "        maybeFull := io.enq.fire\n",
    "    }\n",
    "    when (io.deq.fire) {\n",
    "        deqIndex.inc()\n",
    "    }\n",
    "    when (io.enq.fire) {\n",
    "        entries(enqIndex.value) := io.enq.bits\n",
    "        enqIndex.inc()\n",
    "    }\n",
    "}"
   ]
  },
  {
   "cell_type": "code",
   "execution_count": null,
   "id": "particular-notion",
   "metadata": {
    "slideshow": {
     "slide_type": "slide"
    }
   },
   "outputs": [],
   "source": [
    "class QueueModel(numEntries: Int) {\n",
    "    val mq = scala.collection.mutable.Queue[Int]()\n",
    "    var deqReady = false\n",
    "\n",
    "    def attemptEnq(elem: Int) { \n",
    "        if (enqReady()) mq += elem\n",
    "    }\n",
    "\n",
    "    // call first within a cycle\n",
    "    // improve with Option & None\n",
    "    def attemptDeq() = if (deqReady) mq.dequeue() else -1\n",
    "    \n",
    "    def enqReady() = mq.size < numEntries || (mq.size == numEntries && deqReady)\n",
    "    def deqValid() = mq.nonEmpty\n",
    "}"
   ]
  },
  {
   "cell_type": "code",
   "execution_count": null,
   "id": "demonstrated-greenhouse",
   "metadata": {
    "slideshow": {
     "slide_type": "slide"
    }
   },
   "outputs": [],
   "source": [
    "def simCycle(qm: QueueModel, c: MyQueueV7[UInt], enqReady: Boolean, deqReady: Boolean, enqData: Int=0) {\n",
    "    qm.deqReady = deqReady\n",
    "    c.io.deq.ready.poke(qm.deqReady.B)\n",
    "    c.io.deq.valid.expect(qm.deqValid.B)\n",
    "    if (deqReady && qm.deqValid)\n",
    "        c.io.deq.bits.expect(qm.attemptDeq().U)\n",
    "    c.io.enq.ready.expect(qm.enqReady.B)\n",
    "    c.io.enq.valid.poke(enqReady.B)\n",
    "    c.io.enq.bits.poke(enqData.U)\n",
    "    if (enqReady)\n",
    "        qm.attemptEnq(enqData)\n",
    "    c.clock.step()\n",
    "    println(qm.mq)\n",
    "}\n",
    "\n",
    "test(new MyQueueV7(3, UInt(8.W))) { c =>\n",
    "    val qm = new QueueModel(3)\n",
    "    simCycle(qm, c, false, false)\n",
    "    simCycle(qm, c, true, false, 1)\n",
    "    simCycle(qm, c, true, false, 2)\n",
    "    simCycle(qm, c, true, false, 3)\n",
    "    simCycle(qm, c, false, true)\n",
    "}"
   ]
  },
  {
   "cell_type": "markdown",
   "id": "controversial-hungarian",
   "metadata": {
    "slideshow": {
     "slide_type": "slide"
    }
   },
   "source": [
    "## Project Overview\n",
    "\n",
    "### GOAL: gain experience developing/revising a generator\n",
    "\n",
    "### Main Details\n",
    "* Working in pairs (or individually)\n",
    "* Pick an idea to build a generator for (contact instructor if need suggestion)\n",
    "* Will _propose/design/develop/test/optimize/revise/document/present_ generator\n",
    "* Ballpark for size/complexity: ~1.5x most recent homework problems\n",
    "  * Building largely from scratch, so much more to do"
   ]
  },
  {
   "cell_type": "markdown",
   "id": "herbal-accommodation",
   "metadata": {
    "slideshow": {
     "slide_type": "slide"
    }
   },
   "source": [
    "## Project Timeline\n",
    "\n",
    "* Week 6 (next week) - find a partner and brainstorm ideas\n",
    "* Week 7 - propose project & get instructor feedback\n",
    "* Week 8 - close the loop early and keep developing\n",
    "* Week 9 - complete initial development & start revising\n",
    "* Week 10 - finalize/polish project & present"
   ]
  },
  {
   "cell_type": "markdown",
   "id": "individual-shanghai",
   "metadata": {
    "slideshow": {
     "slide_type": "slide"
    }
   },
   "source": [
    "## Project Deliverables\n",
    "\n",
    "* 2/14 (by class time) - initial proposal (<1 page)\n",
    "  * What will generator do and what interface/parameters will it have?\n",
    "  * Consider how to bootstrap, test, and what features that can be deferred\n",
    "* 2/28 - Link to working repo (can be feature incomplete)\n",
    "  * Close the loop early, and build from there\n",
    "* 3/9 or 3/11 - Presentation\n",
    "* 3/14 - Links to final repo & revised presentation\n",
    "  * Following presentation, will have time to make small revisions\n",
    "  * Encouraged (but not required) to post publicly"
   ]
  }
 ],
 "metadata": {
  "celltoolbar": "Slideshow",
  "kernelspec": {
   "display_name": "Scala",
   "language": "scala",
   "name": "scala"
  },
  "language_info": {
   "codemirror_mode": "text/x-scala",
   "file_extension": ".sc",
   "mimetype": "text/x-scala",
   "name": "scala",
   "nbconvert_exporter": "script",
   "version": "2.13.4"
  }
 },
 "nbformat": 4,
 "nbformat_minor": 5
}
