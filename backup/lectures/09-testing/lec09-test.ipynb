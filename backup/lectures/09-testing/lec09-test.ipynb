{
 "cells": [
  {
   "cell_type": "markdown",
   "id": "external-thermal",
   "metadata": {
    "slideshow": {
     "slide_type": "slide"
    }
   },
   "source": [
    "## Agile Hardware Design\n",
    "***\n",
    "# Testing\n",
    "\n",
    "## Prof. Scott Beamer\n",
    "### sbeamer@ucsc.edu\n",
    "\n",
    "## [CSE 293](https://classes.soe.ucsc.edu/cse293/Winter22/)"
   ]
  },
  {
   "cell_type": "markdown",
   "id": "nominated-consistency",
   "metadata": {
    "slideshow": {
     "slide_type": "slide"
    }
   },
   "source": [
    "## Plan for Today\n",
    "\n",
    "* Testing overview\n",
    "* Testing a combinational unit\n",
    "* Tidying up with ScalaTest\n",
    "* Testing a Decoupled (stateful) unit"
   ]
  },
  {
   "cell_type": "markdown",
   "id": "advised-tennessee",
   "metadata": {
    "slideshow": {
     "slide_type": "slide"
    }
   },
   "source": [
    "## Why Test?\n",
    "\n",
    "### Who wants your hardware if it doesn't work?\n",
    "\n",
    "### How do you prove to yourself it works?\n",
    "\n",
    "### How do you prove to others it works?\n",
    "\n",
    "### How do you even develop it?"
   ]
  },
  {
   "cell_type": "markdown",
   "id": "patient-assurance",
   "metadata": {
    "slideshow": {
     "slide_type": "slide"
    }
   },
   "source": [
    "## Goals of Today's Testing Lecture\n",
    "\n",
    "### Develop techniques/abstractions to improve testing productivity\n",
    "\n",
    "### View testing as an _integral_ part of development (not just verification)\n",
    "\n",
    "### Learn more sophisticated ways to test in Chisel"
   ]
  },
  {
   "cell_type": "markdown",
   "id": "surrounded-gardening",
   "metadata": {
    "slideshow": {
     "slide_type": "slide"
    }
   },
   "source": [
    "## 3 Main Components of Testing"
   ]
  },
  {
   "cell_type": "markdown",
   "id": "executed-shanghai",
   "metadata": {
    "slideshow": {
     "slide_type": "fragment"
    }
   },
   "source": [
    "### 1) How do you generate test cases?\n",
    "* Human-generated - best for simple cases or edge cases\n",
    "* Synthetically generated - exhaustive or (directed) random"
   ]
  },
  {
   "cell_type": "markdown",
   "id": "micro-scanning",
   "metadata": {
    "slideshow": {
     "slide_type": "fragment"
    }
   },
   "source": [
    "### 2) How do you know what is correct response to test?\n",
    "* Human-generated - brittle and best to avoid after initial bootstrap\n",
    "* Model-generated - highly preferable, but need to also test model"
   ]
  },
  {
   "cell_type": "markdown",
   "id": "driven-occurrence",
   "metadata": {
    "slideshow": {
     "slide_type": "fragment"
    }
   },
   "source": [
    "### 3) How do you simulate/execute/script test?\n",
    "* In general - consider needs of flexibility, portability, speed\n",
    "* _Today_: simulate with _treadle_, execute with _ChiselTest_, organize with _ScalaTest_"
   ]
  },
  {
   "cell_type": "markdown",
   "id": "broken-administration",
   "metadata": {
    "slideshow": {
     "slide_type": "slide"
    }
   },
   "source": [
    "## Considerations for Designing Tests\n",
    "\n",
    "### What do you need to get started?\n",
    "* Close the loop early in order to do _test-driven development (TDD)_\n",
    "\n",
    "### What is _coverage_ needed for this problem?\n",
    "* Consider what you will need to test, and how be sure you covered it\n",
    "\n",
    "### Should you treat design under test as _opaque_ or _clear_?\n",
    "* Both!\n",
    "* Users see _opaque_ module, so should properly implement specified interface\n",
    "* Knowing implementation (_clear_) can help focus tests on likely edge cases"
   ]
  },
  {
   "cell_type": "markdown",
   "id": "external-publisher",
   "metadata": {
    "slideshow": {
     "slide_type": "slide"
    }
   },
   "source": [
    "## Testing Advice\n",
    "\n",
    "### Get humans out of the loop\n",
    "  * Humans should help make tests, but not perform them\n",
    "  * Print statements & waveforms are for debugging but not testing\n",
    "\n",
    "### Random may not yield great coverage\n",
    "  * In large test space, may have low probability of reaching interesting corner case\n",
    "  * May want to _seed_ to get reproducibility\n",
    "\n",
    "### Assertions are helpful, but do not replace need for testing\n",
    "  * Tests don't just ensure consistent state, but also provide test stimuli\n",
    "  * Assertions best for catching issues early (in simulation time) before they silently cause problems later\n",
    "    * Consider adding them after debugging subtle bug"
   ]
  },
  {
   "cell_type": "markdown",
   "id": "chinese-telescope",
   "metadata": {
    "slideshow": {
     "slide_type": "slide"
    }
   },
   "source": [
    "## When to Use Testing\n",
    "\n",
    "* Helpful in many places and not just final verification\n",
    "  * Initial development\n",
    "  * Continuous integration running in background\n",
    "  * Working with others (i.e. checking external contributions)\n",
    "  * Design space exploration\n",
    "\n",
    "* Consider testing early in process and design for it\n",
    "  * Consider design abstractions and module boundaries to ease testing\n",
    "  * Combinational modules can be easier to test, so place state elements deliberately"
   ]
  },
  {
   "cell_type": "markdown",
   "id": "efficient-sequence",
   "metadata": {
    "slideshow": {
     "slide_type": "slide"
    }
   },
   "source": [
    "## Testing in Chisel\n",
    "\n",
    "* Are generators harder to test?\n",
    "  * Yes, but can parameterize test generation too!\n",
    "  * Can amortize test development over all instances (produced by generator)\n",
    "* [ChiselTest](https://www.chisel-lang.org/chiseltest/)\n",
    "  * Can write testbenches directly in Scala\n",
    "  * Runs as a Scala program that communicates with simulation of design\n",
    "  * Upcoming Chisel library for testing (we have already been using it)\n",
    "* Simulation options\n",
    "  * [Treadle](https://www.chisel-lang.org/treadle/) - default FIRRTL simulator, implemented directly in Scala\n",
    "    * Default, easy to get going and fastest for small designs\n",
    "  * [Verilator](https://www.veripool.org/wiki/verilator) - fast open-source Verilog simulation, can talk to ChiselTest\n",
    "    * Inter-process communication and ChiselTest can slow down overall\n",
    "  * Other simulators - can simulate Verilog from Chisel, but won't be able to talk back to ChiselTest"
   ]
  },
  {
   "cell_type": "markdown",
   "id": "printable-motion",
   "metadata": {
    "slideshow": {
     "slide_type": "slide"
    }
   },
   "source": [
    "## Testing a Combinational Component\n",
    "\n",
    "* _Stateless_ (combinational) modules are easier to test since each test/cycle is independent\n",
    "\n",
    "* _Consider:_\n",
    "  * range of possible inputs\n",
    "  * range of generator parameters\n",
    "  * parameters' impact on input space\n",
    "\n",
    "* If input space is sufficiently small, may be able to _exhaustively_ test\n",
    "  * May be able to make sufficiently small by constraining parameters"
   ]
  },
  {
   "cell_type": "markdown",
   "id": "executive-priest",
   "metadata": {
    "slideshow": {
     "slide_type": "slide"
    }
   },
   "source": [
    "## Combo. Example - Sign & Magnitude Add - Module Implementation"
   ]
  },
  {
   "cell_type": "code",
   "execution_count": null,
   "id": "demanding-abraham",
   "metadata": {
    "slideshow": {
     "slide_type": "-"
    }
   },
   "outputs": [],
   "source": [
    "class SignMag(n: Int) extends Bundle {\n",
    "    val sign = Bool()\n",
    "    val magn = UInt(n.W)\n",
    "}\n",
    "\n",
    "class SignMagAdd(n: Int) extends Module {\n",
    "    val io = IO(new Bundle {\n",
    "        val in0 = Input(new SignMag(n))\n",
    "        val in1 = Input(new SignMag(n))\n",
    "        val out = Output(new SignMag(n))\n",
    "    })\n",
    "    when (io.in0.sign === io.in1.sign) {\n",
    "        io.out.sign := io.in0.sign\n",
    "        io.out.magn := io.in0.magn + io.in1.magn\n",
    "    } .elsewhen (io.in0.magn > io.in1.magn) {\n",
    "        io.out.sign := io.in0.sign\n",
    "        io.out.magn := io.in0.magn - io.in1.magn\n",
    "    } otherwise {\n",
    "        io.out.sign := io.in1.sign\n",
    "        io.out.magn := io.in1.magn - io.in0.magn\n",
    "    }\n",
    "}"
   ]
  },
  {
   "cell_type": "markdown",
   "id": "smaller-casino",
   "metadata": {
    "slideshow": {
     "slide_type": "slide"
    }
   },
   "source": [
    "## Combo. Example - Sign & Magnitude Add - First Test"
   ]
  },
  {
   "cell_type": "code",
   "execution_count": null,
   "id": "expressed-regular",
   "metadata": {},
   "outputs": [],
   "source": [
    "test(new SignMagAdd(4)) { c =>\n",
    "    c.io.in0.sign.poke(false.B)\n",
    "    c.io.in0.magn.poke(1.U)\n",
    "    c.io.in1.sign.poke(false.B)\n",
    "    c.io.in1.magn.poke(2.U)\n",
    "    c.io.out.sign.expect(false.B)\n",
    "    c.io.out.magn.expect(3.U)\n",
    "}"
   ]
  },
  {
   "cell_type": "markdown",
   "id": "vertical-tonight",
   "metadata": {
    "slideshow": {
     "slide_type": "slide"
    }
   },
   "source": [
    "## Combo. Example - Sign & Magnitude Add - Make a Model\n",
    "\n",
    "* Use Scala to generate the desired behavior\n",
    "  * Can simply produce right output, or be full on class\n",
    "* Be sure to model truncating/wrapping effects of data widths"
   ]
  },
  {
   "cell_type": "code",
   "execution_count": null,
   "id": "turkish-strain",
   "metadata": {},
   "outputs": [],
   "source": [
    "def modelAdd(a: Int, b: Int, n: Int): Int = {\n",
    "    require(n > 0)\n",
    "    require(n < 32)\n",
    "    val mask = (1 << n) - 1\n",
    "    val sum = a + b\n",
    "    if (sum < 0) -((-sum) & mask)\n",
    "    else sum & mask\n",
    "}\n",
    "\n",
    "modelAdd(4,4,4)"
   ]
  },
  {
   "cell_type": "markdown",
   "id": "painted-grammar",
   "metadata": {
    "slideshow": {
     "slide_type": "slide"
    }
   },
   "source": [
    "## Combo. Example - Sign & Magnitude Add - Automate Interaction"
   ]
  },
  {
   "cell_type": "code",
   "execution_count": null,
   "id": "medium-hotel",
   "metadata": {
    "scrolled": true,
    "slideshow": {
     "slide_type": "-"
    }
   },
   "outputs": [],
   "source": [
    "def testAdd(a: Int, b: Int, n: Int, c: SignMagAdd, verbose: Boolean=true) {\n",
    "    c.io.in0.sign.poke((a<0).B)\n",
    "    c.io.in0.magn.poke(math.abs(a).U)\n",
    "    c.io.in1.sign.poke((b<0).B)\n",
    "    c.io.in1.magn.poke(math.abs(b).U)\n",
    "    val outSignStr = if (c.io.out.sign.peek().litToBoolean) \"-\" else \"\"\n",
    "    val outMag = c.io.out.magn.peek().litValue\n",
    "    if (verbose)\n",
    "        println(s\"  in: $a + $b  out: $outSignStr$outMag\")\n",
    "    if (modelAdd(a,b,n) != 0)\n",
    "        c.io.out.sign.expect((modelAdd(a,b,n) < 0).B)  // what is buggy here?\n",
    "    c.io.out.magn.expect(math.abs(modelAdd(a,b,n)).U)\n",
    "}\n",
    "\n",
    "test(new SignMagAdd(4)) { c =>\n",
    "    testAdd(2,3,4,c)\n",
    "    testAdd(-1,5,4,c)\n",
    "    testAdd(1,-1,4,c)\n",
    "}"
   ]
  },
  {
   "cell_type": "markdown",
   "id": "oriental-industry",
   "metadata": {
    "slideshow": {
     "slide_type": "slide"
    }
   },
   "source": [
    "## Combo. Example - Sign & Magnitude Add - Test Exhaustively"
   ]
  },
  {
   "cell_type": "code",
   "execution_count": null,
   "id": "mathematical-injection",
   "metadata": {},
   "outputs": [],
   "source": [
    "def testAll(n: Int) {\n",
    "    val maxVal = (1<<n) - 1\n",
    "    test(new SignMagAdd(n)) { c =>\n",
    "        for (a <- -maxVal to maxVal) {\n",
    "            for (b <- -maxVal to maxVal) {\n",
    "                testAdd(a,b,n,c,false)\n",
    "            }\n",
    "        }\n",
    "    }\n",
    "}\n",
    "testAll(2)"
   ]
  },
  {
   "cell_type": "markdown",
   "id": "authentic-testament",
   "metadata": {
    "slideshow": {
     "slide_type": "slide"
    }
   },
   "source": [
    "## Combo. Example - Sign & Magnitude Add - Random Test"
   ]
  },
  {
   "cell_type": "code",
   "execution_count": null,
   "id": "patent-theory",
   "metadata": {},
   "outputs": [],
   "source": [
    "def testRandomAdd(n: Int, c: SignMagAdd) {\n",
    "    def genInput() = {\n",
    "        val limit = 1 << n\n",
    "        val magn = scala.util.Random.nextInt(limit)\n",
    "        val neg = scala.util.Random.nextBoolean\n",
    "        if (neg) -magn else magn\n",
    "    }\n",
    "    testAdd(genInput(), genInput(), n, c)\n",
    "}\n",
    "\n",
    "def testRandomly(n: Int, numTrials: Int) {\n",
    "    test(new SignMagAdd(n)) { c =>\n",
    "        for (t <- 0 until numTrials)\n",
    "            testRandomAdd(n,c)\n",
    "    }\n",
    "}\n",
    "\n",
    "testRandomly(4, 5)"
   ]
  },
  {
   "cell_type": "markdown",
   "id": "saved-oregon",
   "metadata": {
    "slideshow": {
     "slide_type": "slide"
    }
   },
   "source": [
    "## ScalaTest\n",
    "\n",
    "* Helpful [library](https://www.scalatest.org) to organize and group tests\n",
    "\n",
    "* `sbt` is aware of it\n",
    "  * Running `test` automatically runs all ScalaTests it can find\n",
    "  * Can also use `testOnly package.class` to only test `package.class`\n",
    "\n",
    "* ChiselTest can interoperate with it, and we have been using it in the homework already"
   ]
  },
  {
   "cell_type": "markdown",
   "id": "gorgeous-harris",
   "metadata": {
    "slideshow": {
     "slide_type": "slide"
    }
   },
   "source": [
    "## Combo. Example - Sign & Magnitude Add - with ScalaTest"
   ]
  },
  {
   "cell_type": "code",
   "execution_count": null,
   "id": "fifth-entrance",
   "metadata": {
    "slideshow": {
     "slide_type": "-"
    }
   },
   "outputs": [],
   "source": [
    "class SignMagAddTest(n: Int) extends FlatSpec with ChiselScalatestTester {\n",
    "    behavior of s\"SignMagAdd($n)\"\n",
    "    it should \"1 + 2 = 3\" in {\n",
    "        test(new SignMagAdd(n)) { c =>\n",
    "            testAdd(1,2,n,c)\n",
    "        }\n",
    "    }\n",
    "    it should \"1 - 1 = 0\" in {\n",
    "        test(new SignMagAdd(n)) { c =>\n",
    "            testAdd(1,-1,n,c)\n",
    "        }\n",
    "    }\n",
    "}\n",
    "\n",
    "(new SignMagAddTest(4)).execute()"
   ]
  },
  {
   "cell_type": "markdown",
   "id": "creative-transport",
   "metadata": {
    "slideshow": {
     "slide_type": "slide"
    }
   },
   "source": [
    "## Combo. Example - Sign & Magnitude Add - Bundle Literals\n",
    "\n",
    "* Experimental [feature](https://github.com/ucb-bar/chisel-testers2/blob/master/src/test/scala/chiseltest/tests/BundleLiteralsSpec.scala) to specify a Bundle all at once"
   ]
  },
  {
   "cell_type": "code",
   "execution_count": null,
   "id": "identical-offense",
   "metadata": {},
   "outputs": [],
   "source": [
    "import chisel3.experimental.BundleLiterals._\n",
    "\n",
    "test(new SignMagAdd(4)) { c =>\n",
    "    val b0 = chiselTypeOf(c.io.in0).Lit(_.sign->false.B, _.magn->2.U)\n",
    "    val b1 = (new SignMag(4)).Lit(_.sign->false.B, _.magn->2.U)\n",
    "    val s  = chiselTypeOf(c.io.out).Lit(_.sign->false.B, _.magn->4.U)\n",
    "    c.io.in0.poke(b0)\n",
    "    c.io.in1.poke(b1)\n",
    "    c.io.out.expect(s)\n",
    "}"
   ]
  },
  {
   "cell_type": "markdown",
   "id": "tutorial-purse",
   "metadata": {
    "slideshow": {
     "slide_type": "slide"
    }
   },
   "source": [
    "## Seq. Example - Queue - Intro\n",
    "\n",
    "* Testing stateful things is more difficult because prior history (in test) matters\n",
    "  * Causes large explosion in state space\n",
    "  * Exhaustive testing is unlikely to be feasible\n",
    "* _Today:_ let's test out Chisel's `Queue` (stateful and uses `Decoupled`)\n",
    "\n",
    "```scala\n",
    "    Queue(UInt(n.W), numEntries, pipe=true, flow=false)\n",
    "```"
   ]
  },
  {
   "cell_type": "markdown",
   "id": "neither-capture",
   "metadata": {
    "slideshow": {
     "slide_type": "slide"
    }
   },
   "source": [
    "## Seq. Example - Queue - Model Implementation\n",
    "\n",
    "* Be careful when modeling interactions with registers\n",
    "  * Don't want register input to be available at register output too soon\n",
    "* _Easy fix (for most of the time):_ ensure registers are read first in a cycle before written\n",
    "* _Alternative:_ buffer register inputs and apply them all at once when cycle advances"
   ]
  },
  {
   "cell_type": "code",
   "execution_count": null,
   "id": "happy-communications",
   "metadata": {
    "slideshow": {
     "slide_type": "-"
    }
   },
   "outputs": [],
   "source": [
    "class QueueModel(numEntries: Int) {\n",
    "    val mq = scala.collection.mutable.Queue[Int]()\n",
    "    \n",
    "    var deqReady = false\n",
    "    def deqValid() = mq.nonEmpty\n",
    "    // be sure to call attemptDeq before attemptEnq within a cycle\n",
    "    def attemptDeq() = if (deqReady && deqValid) Some(mq.dequeue()) else None\n",
    "\n",
    "    def enqReady() = mq.size < numEntries || (mq.size == numEntries && deqReady)\n",
    "    // implies enqValid\n",
    "    def attemptEnq(elem: Int): Unit = if (enqReady()) mq += elem\n",
    "}"
   ]
  },
  {
   "cell_type": "markdown",
   "id": "demanding-stuff",
   "metadata": {
    "slideshow": {
     "slide_type": "slide"
    }
   },
   "source": [
    "## Seq. Example - Queue - Model Demo Small"
   ]
  },
  {
   "cell_type": "code",
   "execution_count": null,
   "id": "cosmetic-metro",
   "metadata": {},
   "outputs": [],
   "source": [
    "val qm = new QueueModel(2)\n",
    "\n",
    "// attempt push 1\n",
    "qm.enqReady()\n",
    "qm.deqValid()\n",
    "qm.deqReady = false\n",
    "qm.attemptDeq()\n",
    "qm.attemptEnq(1)\n",
    "\n",
    "// attempt push 2 & pop 1\n",
    "qm.enqReady()\n",
    "qm.deqValid()\n",
    "qm.deqReady = true\n",
    "qm.attemptDeq()\n",
    "qm.attemptEnq(2)"
   ]
  },
  {
   "cell_type": "markdown",
   "id": "informal-setup",
   "metadata": {
    "slideshow": {
     "slide_type": "slide"
    }
   },
   "source": [
    "## Seq. Example - Queue - Model Demo Long"
   ]
  },
  {
   "cell_type": "code",
   "execution_count": null,
   "id": "failing-czech",
   "metadata": {
    "scrolled": true
   },
   "outputs": [],
   "source": [
    "val qm = new QueueModel(2)\n",
    "\n",
    "for (i <- 1 to 6) {\n",
    "    qm.deqReady = i > 3\n",
    "    print(s\"deqV: ${qm.deqValid()}\\tdeqR: ${qm.deqReady}\\tdeqB: ${qm.attemptDeq()}\")\n",
    "    println(s\"\\tenqV: true\\tenqR: ${qm.enqReady()}\\tenqD: $i\")\n",
    "    qm.attemptEnq(i)\n",
    "}"
   ]
  },
  {
   "cell_type": "markdown",
   "id": "indirect-chorus",
   "metadata": {
    "slideshow": {
     "slide_type": "slide"
    }
   },
   "source": [
    "## Seq. Example - Queue - Manually Comparing to Model"
   ]
  },
  {
   "cell_type": "code",
   "execution_count": null,
   "id": "occupied-welding",
   "metadata": {},
   "outputs": [],
   "source": [
    "test(new Queue(UInt(32.W), 2, pipe=true, flow=false)) { dut =>\n",
    "    val qm = new QueueModel(2)\n",
    "    // always dequeue (for this example)\n",
    "    qm.deqReady = true\n",
    "    dut.io.deq.ready.poke(qm.deqReady.B)\n",
    "\n",
    "    // try to dequeue on empty\n",
    "    dut.io.deq.valid.expect(qm.deqValid.B)\n",
    "    val deqResult0 = qm.attemptDeq()\n",
    "    if (deqResult0.isDefined) dut.io.deq.bits.expect(deqResult0.get.U)\n",
    "    dut.io.enq.ready.expect(qm.enqReady.B)\n",
    "    dut.io.enq.valid.poke(false.B)\n",
    "    dut.io.enq.bits.poke(0.U)\n",
    "    dut.clock.step()\n",
    "    \n",
    "    // enqueue 1\n",
    "    dut.io.deq.valid.expect(qm.deqValid.B)\n",
    "    val deqResult1 = qm.attemptDeq()\n",
    "    if (deqResult1.isDefined) dut.io.deq.bits.expect(deqResult1.get.U)\n",
    "    dut.io.enq.ready.expect(qm.enqReady.B)\n",
    "    dut.io.enq.valid.poke(true.B)\n",
    "    dut.io.enq.bits.poke(1.U)\n",
    "    qm.attemptEnq(1)\n",
    "    dut.clock.step()\n",
    "    \n",
    "    // enqueue nothing, dequeue 1\n",
    "    dut.io.deq.valid.expect(qm.deqValid.B)\n",
    "    val deqResult2 = qm.attemptDeq()\n",
    "    if (deqResult2.isDefined) dut.io.deq.bits.expect(deqResult2.get.U)\n",
    "    dut.io.enq.ready.expect(qm.enqReady.B)\n",
    "    dut.io.enq.valid.poke(false.B)\n",
    "    dut.io.enq.bits.poke(0.U)\n",
    "    dut.clock.step()\n",
    "}"
   ]
  },
  {
   "cell_type": "markdown",
   "id": "together-petroleum",
   "metadata": {
    "slideshow": {
     "slide_type": "slide"
    }
   },
   "source": [
    "## Seq. Example - Queue - Automate Interaction"
   ]
  },
  {
   "cell_type": "code",
   "execution_count": null,
   "id": "angry-kelly",
   "metadata": {
    "slideshow": {
     "slide_type": "-"
    }
   },
   "outputs": [],
   "source": [
    "def simCycle(dut: Queue[UInt], qm: QueueModel, enqValid: Boolean, deqReady: Boolean, enqData: Int=0) {\n",
    "    qm.deqReady = deqReady\n",
    "    dut.io.deq.ready.poke(qm.deqReady.B)\n",
    "    dut.io.deq.valid.expect(qm.deqValid.B)\n",
    "    val deqResult = qm.attemptDeq()\n",
    "    if (deqResult.isDefined)\n",
    "        dut.io.deq.bits.expect(deqResult.get.U)\n",
    "    dut.io.enq.ready.expect(qm.enqReady.B)\n",
    "    dut.io.enq.valid.poke(enqValid.B)\n",
    "    dut.io.enq.bits.poke(enqData.U)\n",
    "    if (enqValid)\n",
    "        qm.attemptEnq(enqData)\n",
    "    dut.clock.step()\n",
    "    println(qm.mq)\n",
    "}\n",
    "\n",
    "test(new Queue(UInt(32.W), 2, pipe=true, flow=false)) { dut =>\n",
    "    val qm = new QueueModel(2)\n",
    "    simCycle(dut, qm, false, false)\n",
    "    simCycle(dut, qm, true, false, 1)\n",
    "    simCycle(dut, qm, false, true)\n",
    "}"
   ]
  },
  {
   "cell_type": "markdown",
   "id": "flush-cheese",
   "metadata": {
    "slideshow": {
     "slide_type": "slide"
    }
   },
   "source": [
    "## Seq. Example - Queue - Test Fill & Drain"
   ]
  },
  {
   "cell_type": "code",
   "execution_count": null,
   "id": "handy-cylinder",
   "metadata": {},
   "outputs": [],
   "source": [
    "def testFillAndDrain(numEntries: Int, n: Int) {\n",
    "    test(new Queue(UInt(n.W), numEntries, pipe=true, flow=false)) { dut =>\n",
    "        val qm = new QueueModel(numEntries)\n",
    "        for (x <- 1 to numEntries+1) {  // fill\n",
    "            simCycle(dut, qm, true, false, x)\n",
    "        }\n",
    "        for (x <- 1 to numEntries+1) {  // drain\n",
    "            simCycle(dut, qm, false, true)\n",
    "        }\n",
    "    }\n",
    "}\n",
    "\n",
    "testFillAndDrain(2, 32)"
   ]
  },
  {
   "cell_type": "markdown",
   "id": "loaded-roulette",
   "metadata": {
    "slideshow": {
     "slide_type": "slide"
    }
   },
   "source": [
    "## Seq. Example - Queue - Test Randomly"
   ]
  },
  {
   "cell_type": "code",
   "execution_count": null,
   "id": "obvious-faith",
   "metadata": {},
   "outputs": [],
   "source": [
    "def testRandomly(numEntries: Int, n: Int, numTrials: Int) {\n",
    "    test(new Queue(UInt(n.W), numEntries, pipe=true, flow=false)) { dut =>\n",
    "        val qm = new QueueModel(numEntries)\n",
    "        for (i <- 1 until numTrials) {\n",
    "            val tryEnq = scala.util.Random.nextBoolean\n",
    "            val tryDeq = scala.util.Random.nextBoolean\n",
    "            simCycle(dut, qm, tryEnq, tryDeq, i)\n",
    "        }\n",
    "    }\n",
    "}\n",
    "\n",
    "testRandomly(2, 32, 5)"
   ]
  }
 ],
 "metadata": {
  "celltoolbar": "Slideshow",
  "kernelspec": {
   "display_name": "Scala",
   "language": "scala",
   "name": "scala"
  },
  "language_info": {
   "codemirror_mode": "text/x-scala",
   "file_extension": ".sc",
   "mimetype": "text/x-scala",
   "name": "scala",
   "nbconvert_exporter": "script",
   "version": "2.13.4"
  }
 },
 "nbformat": 4,
 "nbformat_minor": 5
}
