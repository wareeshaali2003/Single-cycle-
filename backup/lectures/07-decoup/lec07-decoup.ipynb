{
 "cells": [
  {
   "cell_type": "markdown",
   "id": "external-thermal",
   "metadata": {
    "slideshow": {
     "slide_type": "slide"
    }
   },
   "source": [
    "## Agile Hardware Design\n",
    "***\n",
    "# Decoupling\n",
    "\n",
    "## Prof. Scott Beamer\n",
    "### sbeamer@ucsc.edu\n",
    "\n",
    "## [CSE 293](https://classes.soe.ucsc.edu/cse293/Winter22/)"
   ]
  },
  {
   "cell_type": "markdown",
   "id": "nominated-consistency",
   "metadata": {
    "slideshow": {
     "slide_type": "slide"
    }
   },
   "source": [
    "## Plan for Today\n",
    "\n",
    "* Scala case classes\n",
    "* Decoupling blocks in Chisel\n",
    "* Chisel Queue demo"
   ]
  },
  {
   "cell_type": "markdown",
   "id": "referenced-sister",
   "metadata": {
    "slideshow": {
     "slide_type": "slide"
    }
   },
   "source": [
    "## Scala Case Classes\n",
    "\n",
    "* Special type of class with additional features built-in\n",
    "  * Companion object (with constructor) (don't need `new` to instantiate)\n",
    "  * All parameters are automatically public (don't need to make them `val`)\n",
    "  * Automatic implementations of `toString`, `equals`, and `copy` \n",
    "  * Great for pattern matching (future lecture)\n"
   ]
  },
  {
   "cell_type": "code",
   "execution_count": null,
   "id": "armed-median",
   "metadata": {},
   "outputs": [],
   "source": [
    "case class Movie(name: String, year: Int, genre: String) {\n",
    "    def decade(): String = (year - year%10) + \"s\"\n",
    "}\n",
    "\n",
    "val m1 = Movie(\"Gattaca\", 1997, \"drama\")\n",
    "m1.genre\n",
    "val m2 = Movie(\"The Avengers\", 1998, \"action\")\n",
    "m2.copy(year=2012)\n",
    "m2.decade()"
   ]
  },
  {
   "cell_type": "markdown",
   "id": "monthly-resort",
   "metadata": {
    "slideshow": {
     "slide_type": "slide"
    }
   },
   "source": [
    "## Using `case class` for Parameters in Chisel"
   ]
  },
  {
   "cell_type": "code",
   "execution_count": null,
   "id": "attempted-private",
   "metadata": {
    "cell_style": "center",
    "scrolled": true
   },
   "outputs": [],
   "source": [
    "case class CounterParams(limit: Int, start: Int = 0) {\n",
    "    def width = log2Ceil(limit + 1)\n",
    "}\n",
    "\n",
    "class MyCounter(cp: CounterParams) extends Module {\n",
    "    val io = IO(new Bundle {\n",
    "        val en  = Input(Bool())\n",
    "        val out = Output(UInt(cp.width.W))\n",
    "    })\n",
    "    val count = RegInit(cp.start.U(cp.width.W))\n",
    "    when (io.en) {\n",
    "        when (count < cp.limit.U) {\n",
    "            count := count + 1.U\n",
    "        } .otherwise {\n",
    "            count := cp.start.U\n",
    "        }\n",
    "    }\n",
    "    io.out := count\n",
    "}\n",
    "\n",
    "println(getVerilog(new MyCounter(CounterParams(14))))"
   ]
  },
  {
   "cell_type": "markdown",
   "id": "fabulous-taylor",
   "metadata": {
    "slideshow": {
     "slide_type": "slide"
    }
   },
   "source": [
    "## Motivation for Handshaking Protocol\n",
    "\n",
    "* Can already be difficult to correctly implement a seqentual component, but what about two sequential components interacting?\n",
    "\n",
    "* For today, let's only focus on transferring data\n",
    "  * A _producer_ sending data to a _consumer_\n",
    "\n",
    "* _**Challenge:**_ recognize when a side is (or is not) able to send/receive data\n",
    "\n",
    "<img src=\"images/producer.svg\" alt=\"ready/valid schematic\" style=\"width:75%;margin-left:auto;margin-right:auto\"/>"
   ]
  },
  {
   "cell_type": "markdown",
   "id": "refined-distributor",
   "metadata": {
    "slideshow": {
     "slide_type": "slide"
    }
   },
   "source": [
    "## Best to Distribute Control\n",
    "\n",
    "* When to use _centralized_ vs _distributed_ control?\n",
    "  * Common tradeoff throughout systems\n",
    "  * Centralized can be more efficient and easier to implement (for small scale)\n",
    "  * Distributed (peer-to-peer) can scale to larger designs much more easily\n",
    "  * _Common outcome:_ centralized within components and distributed between them\n",
    "  * Thus, question: _\"At what scale to switch from centralized to distributed?\"_\n",
    "\n",
    "* For data transfer between components, may need ...\n",
    "  * Ability for producer to indicate no data is being sent\n",
    "  * Ability for consumer to indicate inability to receive data (_back pressure_)"
   ]
  },
  {
   "cell_type": "markdown",
   "id": "industrial-weapon",
   "metadata": {
    "slideshow": {
     "slide_type": "slide"
    }
   },
   "source": [
    "## Ready/Valid Protocol\n",
    "\n",
    "* Common hardware design pattern for producer-consumer data transfer\n",
    "\n",
    "* _**valid**_ - output from producer indicating sending data\n",
    "\n",
    "* _**ready**_ - output from consumer indicating able to receive\n",
    "\n",
    "* Transfer occurs when both _ready & valid_ in same cycle\n",
    "\n",
    "\n",
    "\n",
    "<img src=\"images/readyValid.svg\" alt=\"ready/valid schematic\" style=\"width:75%;margin-left:auto;margin-right:auto\"/>"
   ]
  },
  {
   "cell_type": "markdown",
   "id": "checked-commerce",
   "metadata": {
    "slideshow": {
     "slide_type": "slide"
    }
   },
   "source": [
    "## Chisel Supports Ready/Valid\n",
    "\n",
    "* Best to use standard library's support for these patterns\n",
    "  * Less code to write, less chance of error, standardization improves readability\n",
    "* To use, wrap data to transfer with desired protocol\n",
    "  * Library will add needed additional signals & provide helper functions\n",
    "  * By default, sending data in output direction, use `Flipped` to reverse"
   ]
  },
  {
   "cell_type": "markdown",
   "id": "developing-spending",
   "metadata": {
    "cell_style": "split"
   },
   "source": [
    "### [Valid](https://www.chisel-lang.org/api/latest/chisel3/util/Valid.html) - only `valid`\n",
    "\n",
    "* Consumer can't say no\n",
    "  * Must consume when sent\n",
    "* Indicates the existence of data\n",
    "  * Amost like hardware equivalent of Scala's `Option`"
   ]
  },
  {
   "cell_type": "markdown",
   "id": "interested-lightweight",
   "metadata": {
    "cell_style": "split"
   },
   "source": [
    "### [Decoupled](https://www.chisel-lang.org/api/latest/chisel3/util/Decoupled$.html) - `ready & valid`\n",
    "\n",
    "* Consumer can apply backpressure\n",
    "* _**BEWARE**_ of _combinational loops_\n",
    "  * Avoid using ready/valid input to combinationally create ready/valid output"
   ]
  },
  {
   "cell_type": "markdown",
   "id": "electoral-economy",
   "metadata": {
    "slideshow": {
     "slide_type": "slide"
    }
   },
   "source": [
    "## Combinational Loops\n",
    "\n",
    "* (Uncontrolled) feedback paths that do NOT pass through state elements (registers or memories)\n",
    "    * State elements provide _synchronization_ and thus control feedback\n",
    "    * Generated hardware can have unpredictable values, or even get trapped in metastable state\n",
    "* Generally want to avoid combinational loops (usually a mistake)\n",
    "    * Can sometimes prove will converge, but should be very deliberate"
   ]
  },
  {
   "cell_type": "code",
   "execution_count": null,
   "id": "outstanding-reducing",
   "metadata": {
    "cell_style": "split"
   },
   "outputs": [],
   "source": [
    "class LoopyCounter(width: Int) extends Module {\n",
    "    val io = IO(new Bundle {\n",
    "        val count = Output(UInt(width.W))\n",
    "    })\n",
    "    io.count := io.count + 1.U\n",
    "//     io.count := RegNext(io.count + 1.U)\n",
    "}\n",
    "println(getVerilog(new LoopyCounter(4)))"
   ]
  },
  {
   "cell_type": "markdown",
   "id": "stable-graph",
   "metadata": {
    "cell_style": "split"
   },
   "source": [
    "<img src=\"images/combo.svg\" alt=\"combinational loop example\" style=\"width:60%;margin-left:auto;margin-right:auto\"/>"
   ]
  },
  {
   "cell_type": "markdown",
   "id": "featured-luxury",
   "metadata": {
    "slideshow": {
     "slide_type": "slide"
    }
   },
   "source": [
    "## Example: Using Chisel `Valid` (1/2)"
   ]
  },
  {
   "cell_type": "code",
   "execution_count": null,
   "id": "nutritional-pioneer",
   "metadata": {},
   "outputs": [],
   "source": [
    "class MakeValid(n: Int) extends Module {\n",
    "    val io = IO(new Bundle {\n",
    "        val en  = Input(Bool())\n",
    "        val in  = Input(UInt(n.W))\n",
    "        val out = Valid(UInt(n.W))\n",
    "    })\n",
    "    io.out.valid := io.en\n",
    "    io.out.bits := io.in\n",
    "}\n",
    "\n",
    "println(getVerilog(new MakeValid(4)))"
   ]
  },
  {
   "cell_type": "markdown",
   "id": "altered-absorption",
   "metadata": {
    "slideshow": {
     "slide_type": "slide"
    }
   },
   "source": [
    "## Example: Using Chisel `Valid` (2/2)"
   ]
  },
  {
   "cell_type": "code",
   "execution_count": null,
   "id": "thrown-footage",
   "metadata": {
    "scrolled": true
   },
   "outputs": [],
   "source": [
    "class ValidReceiver(n: Int) extends Module {\n",
    "    val io = IO(new Bundle {\n",
    "        val in = Flipped(Valid(UInt(n.W)))\n",
    "    })\n",
    "    when (io.in.valid) {\n",
    "        printf(\"  received %d\\n\", io.in.bits)\n",
    "    }\n",
    "}\n",
    "\n",
    "// println(getVerilog(new ValidReceiver(4)))\n",
    "test(new ValidReceiver(4)) { c =>\n",
    "    for (cycle <- 0 until 8) {\n",
    "        c.io.in.bits.poke(cycle.U)\n",
    "        println(s\"cycle: $cycle\")\n",
    "        c.io.in.valid.poke((cycle%2 == 0).B)\n",
    "        c.clock.step()\n",
    "    }\n",
    "}"
   ]
  },
  {
   "cell_type": "markdown",
   "id": "systematic-arrest",
   "metadata": {
    "slideshow": {
     "slide_type": "slide"
    }
   },
   "source": [
    "## Example: Using Chisel `Decoupled` (1/2)"
   ]
  },
  {
   "cell_type": "code",
   "execution_count": null,
   "id": "infectious-coach",
   "metadata": {
    "scrolled": true
   },
   "outputs": [],
   "source": [
    "class CountWhenReady(n: Int) extends Module {\n",
    "    val io = IO(new Bundle {\n",
    "        val en  = Input(Bool())\n",
    "        val out = Decoupled(UInt())\n",
    "    })\n",
    "    val advanceCounter = io.en && io.out.ready\n",
    "    val (count, wrap) = Counter(advanceCounter, n)\n",
    "    io.out.bits := count\n",
    "    io.out.valid := io.en\n",
    "}\n",
    "\n",
    "println(getVerilog(new CountWhenReady(4)))"
   ]
  },
  {
   "cell_type": "markdown",
   "id": "emotional-thailand",
   "metadata": {
    "slideshow": {
     "slide_type": "slide"
    }
   },
   "source": [
    "## `Decoupled` Helper Functions\n",
    "\n",
    "* Convenience functions that wrap up functionality & improve readability ([code](https://github.com/chipsalliance/chisel3/blob/v3.5.0/src/main/scala/chisel3/util/Decoupled.scala#L44))\n",
    "    * Internally, they are Scala functions working on Chisel things\n",
    "* `fire` - Bool that is true if and only if ready & valid\n",
    "* `enq(data)` - Sends data and sets valid to true (doesn't check ready)\n",
    "* `noenq` - Sets valid to false\n",
    "* `deq`/`nodeq` - Like enq/noenq for receiver"
   ]
  },
  {
   "cell_type": "markdown",
   "id": "stuffed-feelings",
   "metadata": {
    "slideshow": {
     "slide_type": "slide"
    }
   },
   "source": [
    "## Example: Using Chisel `Decoupled` (2/2)"
   ]
  },
  {
   "cell_type": "code",
   "execution_count": null,
   "id": "above-sunday",
   "metadata": {
    "scrolled": true
   },
   "outputs": [],
   "source": [
    "class CountWhenReady(maxVal: Int) extends Module {\n",
    "    val io = IO(new Bundle {\n",
    "        val en  = Input(Bool())\n",
    "        val out = Decoupled(UInt())\n",
    "    })\n",
    "    val (count, wrap) = Counter(io.out.fire, maxVal)\n",
    "    when (io.en) {\n",
    "        io.out.enq(count)\n",
    "//         io.out.bits := count\n",
    "//         io.out.valid := true.B\n",
    "    } .otherwise {\n",
    "        io.out.noenq()\n",
    "//         io.out.bits := DontCare\n",
    "//         io.out.valid := false.B\n",
    "    }\n",
    "}\n",
    "\n",
    "// println(getVerilog(new CountWhenReady(3)))\n",
    "\n",
    "test(new CountWhenReady(3)) { c =>\n",
    "    c.io.en.poke(true.B)\n",
    "    for (cycle <- 0 until 7) {\n",
    "        c.io.out.ready.poke((cycle%2 == 1).B)\n",
    "        println(s\"cycle: $cycle, count: ${c.io.out.bits.peek()}\")\n",
    "        c.clock.step()\n",
    "    }\n",
    "}"
   ]
  },
  {
   "cell_type": "markdown",
   "id": "second-addiction",
   "metadata": {
    "slideshow": {
     "slide_type": "slide"
    }
   },
   "source": [
    "## Using Queues to Handle Backpressure\n",
    "\n",
    "* If traffic is bursty, can use a _queue_ to smooth traffic rate\n",
    "  * Queue fills up when too much demand\n",
    "  * When demand wanes, can drain queue\n",
    "* A queue can't solve a throughput mismatch\n",
    "  * If always production rate > consumption rate, queue can't help\n",
    "* A queue is a great place to use _decoupled_ interfaces\n",
    "* Chisel's util provides `Queue` generator\n",
    "\n",
    "<img src=\"images/queue.svg\" alt=\"ready/valid schematic\" style=\"width:65%;margin-left:auto;margin-right:auto\"/>"
   ]
  },
  {
   "cell_type": "markdown",
   "id": "concrete-latter",
   "metadata": {
    "slideshow": {
     "slide_type": "slide"
    }
   },
   "source": [
    "## Using Chisel's `Queue`\n",
    "\n",
    "* Part of `util` ([docs](https://www.chisel-lang.org/api/latest/chisel3/util/Queue.html))\n",
    "* Uses `Decoupled` for both input and output\n",
    "* Specify type and number of entries `Queue(UInt(4.W), 8)`\n",
    "* Additional optional arguments\n",
    "  * `pipe` - if 1 entry, allow enqueue/dequeue at same time\n",
    "  * `flow` - if empty, enqueued value available immediately for dequeue\n",
    "\n",
    "<img src=\"images/queueReady.svg\" alt=\"ready/valid schematic\" style=\"width:85%;margin-left:auto;margin-right:auto\"/>"
   ]
  },
  {
   "cell_type": "markdown",
   "id": "micro-animation",
   "metadata": {
    "slideshow": {
     "slide_type": "slide"
    }
   },
   "source": [
    "## Chisel `Queue` Demo (1/2)"
   ]
  },
  {
   "cell_type": "code",
   "execution_count": null,
   "id": "varying-gambling",
   "metadata": {
    "scrolled": true
   },
   "outputs": [],
   "source": [
    "class CountIntoQueue(maxVal: Int, numEntries: Int, pipe: Boolean, flow: Boolean) extends Module {\n",
    "    val io = IO(new Bundle {\n",
    "        val en  = Input(Bool())\n",
    "        val out = Decoupled(UInt())\n",
    "        val count = Output(UInt())\n",
    "    })\n",
    "    val q = Module(new Queue(UInt(), numEntries, pipe=pipe, flow=flow))\n",
    "    val (count, wrap) = Counter(q.io.enq.fire, maxVal)\n",
    "    q.io.enq.valid := io.en\n",
    "    q.io.enq.bits := count\n",
    "    io.out <> q.io.deq\n",
    "    io.count := count // for visibility\n",
    "}\n",
    "\n",
    "// println(getVerilog(new CountIntoQueue(3,1,false,false)))"
   ]
  },
  {
   "cell_type": "markdown",
   "id": "banned-reaction",
   "metadata": {
    "slideshow": {
     "slide_type": "slide"
    }
   },
   "source": [
    "## Chisel `Queue` Demo (2/2)"
   ]
  },
  {
   "cell_type": "code",
   "execution_count": null,
   "id": "cathedral-toolbox",
   "metadata": {},
   "outputs": [],
   "source": [
    "test(new CountIntoQueue(4,3,pipe=false,flow=false)) { c =>\n",
    "    c.io.en.poke(true.B)\n",
    "    c.io.out.ready.poke(false.B)\n",
    "    for (cycle <- 0 until 4) {   // Fill up queue\n",
    "        println(s\"f count:${c.io.count.peek()} out:${c.io.out.bits.peek()} v:${c.io.out.valid.peek()}\")\n",
    "        c.clock.step()\n",
    "    }\n",
    "    println()\n",
    "    c.io.en.poke(false.B)\n",
    "    c.io.out.ready.poke(true.B)\n",
    "    for (cycle <- 0 until 4) {   // Drain queue\n",
    "        println(s\"d count:${c.io.count.peek()} out:${c.io.out.bits.peek()} v:${c.io.out.valid.peek()}\")\n",
    "        c.clock.step()\n",
    "    }\n",
    "    println()\n",
    "    c.io.en.poke(true.B)\n",
    "    for (cycle <- 0 until 4) {   // Simultaneous\n",
    "        println(s\"s count:${c.io.count.peek()} out:${c.io.out.bits.peek()} v:${c.io.out.valid.peek()}\")\n",
    "        c.clock.step()\n",
    "    }\n",
    "}"
   ]
  }
 ],
 "metadata": {
  "celltoolbar": "Slideshow",
  "kernelspec": {
   "display_name": "Scala",
   "language": "scala",
   "name": "scala"
  },
  "language_info": {
   "codemirror_mode": "text/x-scala",
   "file_extension": ".sc",
   "mimetype": "text/x-scala",
   "name": "scala",
   "nbconvert_exporter": "script",
   "version": "2.13.4"
  }
 },
 "nbformat": 4,
 "nbformat_minor": 5
}
