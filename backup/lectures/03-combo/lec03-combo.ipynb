{
 "cells": [
  {
   "cell_type": "markdown",
   "id": "external-thermal",
   "metadata": {
    "slideshow": {
     "slide_type": "slide"
    }
   },
   "source": [
    "## Agile Hardware Design\n",
    "***\n",
    "# Combinational Logic\n",
    "\n",
    "## Prof. Scott Beamer\n",
    "### sbeamer@ucsc.edu\n",
    "\n",
    "## [CSE 293](https://classes.soe.ucsc.edu/cse293/Winter22/)"
   ]
  },
  {
   "cell_type": "markdown",
   "id": "nominated-consistency",
   "metadata": {
    "slideshow": {
     "slide_type": "slide"
    }
   },
   "source": [
    "## Plan for Today\n",
    "\n",
    "* A Bit of parameterization\n",
    "* Scala/Chisel conditionals\n",
    "* _Result:_ comfortably construct combinational circuits"
   ]
  },
  {
   "cell_type": "markdown",
   "id": "regular-reducing",
   "metadata": {
    "slideshow": {
     "slide_type": "slide"
    }
   },
   "source": [
    "## Loading The Chisel Library Into a Notebook"
   ]
  },
  {
   "cell_type": "code",
   "execution_count": null,
   "id": "robust-immigration",
   "metadata": {},
   "outputs": [],
   "source": [
    "val path = System.getProperty(\"user.dir\") + \"/../resource/chisel_deps.sc\"\n",
    "interp.load.module(ammonite.ops.Path(java.nio.file.FileSystems.getDefault().getPath(path)))"
   ]
  },
  {
   "cell_type": "code",
   "execution_count": null,
   "id": "extended-burning",
   "metadata": {
    "slideshow": {
     "slide_type": "-"
    }
   },
   "outputs": [],
   "source": [
    "import chisel3._\n",
    "import chisel3.util._\n",
    "import chisel3.tester._\n",
    "import chisel3.tester.RawTester.test"
   ]
  },
  {
   "cell_type": "markdown",
   "id": "faced-removal",
   "metadata": {
    "cell_style": "split",
    "slideshow": {
     "slide_type": "slide"
    }
   },
   "source": [
    "## Chisel Multiplexors (Mux)\n",
    "\n",
    "* Can explicitly instantiate a _mux_\n",
    "```scala\n",
    "Mux(select, in1, in0)\n",
    "```\n",
    "* _Note:_ input 1 (true case) is first, analogous to ternary (`?`) from Verilog/C\n",
    "* More flavors of muxes (e.g. `MuxCase`, `Mux1H`) available in [Chisel Library](https://www.chisel-lang.org/api/latest/chisel3/util/Mux1H$.html)"
   ]
  },
  {
   "cell_type": "code",
   "execution_count": null,
   "id": "extraordinary-recipe",
   "metadata": {
    "cell_style": "split",
    "scrolled": true
   },
   "outputs": [],
   "source": [
    "class MyMux extends Module {\n",
    "    val io = IO(new Bundle {\n",
    "        val s   = Input(Bool())\n",
    "        val in0 = Input(Bool())\n",
    "        val in1 = Input(Bool())\n",
    "        val out = Output(Bool())\n",
    "    })\n",
    "    io.out := Mux(io.s, io.in1, io.in0)\n",
    "}\n",
    "println(getVerilog(new MyMux))"
   ]
  },
  {
   "cell_type": "markdown",
   "id": "precious-mainstream",
   "metadata": {
    "slideshow": {
     "slide_type": "slide"
    }
   },
   "source": [
    "## A Bit More on Scala's `class`\n",
    "\n",
    "* Arguments are constructor parameters\n",
    "* Make a class instance with `new`, and internals are evaluated on instantiation\n",
    "* Default scope for internals is public\n",
    "* Arguments need `val` to be made public\n",
    "* Will cover methods and overloading later"
   ]
  },
  {
   "cell_type": "code",
   "execution_count": null,
   "id": "falling-helena",
   "metadata": {},
   "outputs": [],
   "source": [
    "class MyClass(argS: String, argI: Int) {\n",
    "    val name = argS\n",
    "    println(\"Created \" + argS)\n",
    "}\n",
    "val mc = new MyClass(\"mc\", 4)\n",
    "// mc.name = \"foo\"\n",
    "println(mc.name)\n",
    "// println(mc.argI)"
   ]
  },
  {
   "cell_type": "markdown",
   "id": "legal-benchmark",
   "metadata": {
    "cell_style": "split",
    "slideshow": {
     "slide_type": "slide"
    }
   },
   "source": [
    "## Parameterizing the Mux Width\n",
    "\n",
    "* Can use class arguments to parameterize our module\n",
    "* Recommend using Scala types for parameters, and then casting (if necessary) inside module"
   ]
  },
  {
   "cell_type": "code",
   "execution_count": null,
   "id": "hawaiian-worker",
   "metadata": {
    "cell_style": "split"
   },
   "outputs": [],
   "source": [
    "class MyPMux(n: Int) extends Module {\n",
    "    val io = IO(new Bundle {\n",
    "        val s   = Input(Bool())\n",
    "        val in0 = Input(UInt(n.W))\n",
    "        val in1 = Input(UInt(n.W))\n",
    "        val out = Output(UInt(n.W))\n",
    "    })\n",
    "    io.out := Mux(io.s, io.in1, io.in0)\n",
    "}\n",
    "println(getVerilog(new MyPMux(8)))"
   ]
  },
  {
   "cell_type": "markdown",
   "id": "twelve-seven",
   "metadata": {
    "cell_style": "split",
    "slideshow": {
     "slide_type": "slide"
    }
   },
   "source": [
    "## Scala `if/else`\n",
    "\n",
    "* If/else akin to other languages\n",
    "* _Note:_ due to functional nature of language, if/else returns last value of evaluated clause\n",
    "* Can omit parenthesis if only one statement for clause\n",
    "  * If short, style recommends keeping entire if in one line"
   ]
  },
  {
   "cell_type": "code",
   "execution_count": null,
   "id": "russian-sociology",
   "metadata": {
    "cell_style": "split"
   },
   "outputs": [],
   "source": [
    "val condition = true\n",
    "if (condition) {\n",
    "    println(\"true case\")\n",
    "} else {\n",
    "    println(\"false case\")\n",
    "}\n",
    "val x = if (condition) 3 else 4\n",
    "println(x)"
   ]
  },
  {
   "cell_type": "markdown",
   "id": "dressed-poison",
   "metadata": {
    "slideshow": {
     "slide_type": "slide"
    }
   },
   "source": [
    "## Contrasting Conditional Execution/Selection"
   ]
  },
  {
   "cell_type": "markdown",
   "id": "after-illustration",
   "metadata": {
    "cell_style": "split",
    "slideshow": {
     "slide_type": "fragment"
    }
   },
   "source": [
    "### In Circuit (Chisel Mux)\n",
    "\n",
    "* Selects based on actual circuit inputs\n",
    "* Hardware contains both \"ways\"\n",
    "\n",
    "```scala\n",
    "val absX = Mux(x < 0.S, -x, x)\n",
    "```\n",
    "\n",
    "<img src=\"images/absMux.svg\" alt=\"mux schematic\" style=\"width:55%;\" align=\"center\"/>"
   ]
  },
  {
   "cell_type": "markdown",
   "id": "upset-layout",
   "metadata": {
    "cell_style": "split",
    "slideshow": {
     "slide_type": "fragment"
    }
   },
   "source": [
    "### During Generation (Scala if/else)\n",
    "\n",
    "* Executed path generates hardware\n",
    "* Depends on generator parameters, not circuit inputs\n",
    "\n",
    "```scala\n",
    "val invX = if (invert) -x else x\n",
    "```\n",
    "\n",
    "<img src=\"images/invCond.svg\" alt=\"conditional schematic\" style=\"width:55%;\" align=\"center\"/>"
   ]
  },
  {
   "cell_type": "markdown",
   "id": "novel-product",
   "metadata": {
    "slideshow": {
     "slide_type": "slide"
    }
   },
   "source": [
    "## Scala Values Are References to Chisel Objects\n",
    "\n",
    "* Our generators are simply instantiating Chisel objects and connecting them together\n",
    "  * Scala program allows us to control which objects & connections\n",
    "* The connect operator (`:=`) assigns output of right hand side to input of left hand side\n",
    "* Can use Scala references to name intermediate results"
   ]
  },
  {
   "cell_type": "code",
   "execution_count": null,
   "id": "recorded-reducing",
   "metadata": {
    "cell_style": "split",
    "slideshow": {
     "slide_type": "-"
    }
   },
   "outputs": [],
   "source": [
    "class MyXOR extends Module {\n",
    "    val io = IO(new Bundle {\n",
    "        val a   = Input(Bool())\n",
    "        val b   = Input(Bool())\n",
    "        val c   = Output(Bool())\n",
    "    })\n",
    "    val myGate = io.a ^ io.b\n",
    "    io.c := myGate\n",
    "}\n",
    "// println(getVerilog(new MyXOR))"
   ]
  },
  {
   "cell_type": "markdown",
   "id": "nervous-electricity",
   "metadata": {
    "cell_style": "split"
   },
   "source": [
    "<img src=\"images/xorRef.svg\" alt=\"XOR with Scala references\" style=\"width:55%;\" align=\"center\"/>"
   ]
  },
  {
   "cell_type": "markdown",
   "id": "weekly-lucas",
   "metadata": {
    "slideshow": {
     "slide_type": "slide"
    }
   },
   "source": [
    "## Chisel `Wire`\n",
    "\n",
    "* Sometimes need to connect things, but don't know both ends simultaneously\n",
    "* Commonly used with `when` construct (next slide)"
   ]
  },
  {
   "cell_type": "code",
   "execution_count": null,
   "id": "fresh-thomas",
   "metadata": {
    "cell_style": "split",
    "scrolled": true
   },
   "outputs": [],
   "source": [
    "class MyXOR2 extends Module {\n",
    "    val io = IO(new Bundle {\n",
    "        val a   = Input(Bool())\n",
    "        val b   = Input(Bool())\n",
    "        val c   = Output(Bool())\n",
    "    })\n",
    "    val myWire = Wire(Bool())\n",
    "    myWire := io.a ^ io.b\n",
    "    io.c := myWire\n",
    "}\n",
    "println(getVerilog(new MyXOR2))"
   ]
  },
  {
   "cell_type": "markdown",
   "id": "deadly-turkey",
   "metadata": {
    "cell_style": "split"
   },
   "source": [
    "<img src=\"images/xorWire.svg\" alt=\"XOR with Chisel Wire\" style=\"width:55%;\" align=\"center\"/>"
   ]
  },
  {
   "cell_type": "markdown",
   "id": "deluxe-adrian",
   "metadata": {
    "cell_style": "split",
    "slideshow": {
     "slide_type": "slide"
    }
   },
   "source": [
    "## Chisel `when`\n",
    "\n",
    "* When condition is true, performs Chisel operations contained\n",
    "* Generates selection in hardware\n",
    "  * Under the hood, Chisel will implement with muxes\n",
    "* Can use `.otherwise` like else\n",
    "* Can use `.elsewhen` like if else"
   ]
  },
  {
   "cell_type": "code",
   "execution_count": null,
   "id": "general-march",
   "metadata": {
    "cell_style": "split"
   },
   "outputs": [],
   "source": [
    "class MyWMux(n: Int) extends Module {\n",
    "    val io = IO(new Bundle {\n",
    "        val s   = Input(Bool())\n",
    "        val in0 = Input(UInt(n.W))\n",
    "        val in1 = Input(UInt(n.W))\n",
    "        val out = Output(UInt(n.W))\n",
    "    })\n",
    "    when (io.s) {\n",
    "        io.out := io.in1\n",
    "    } .otherwise {\n",
    "        io.out := io.in0\n",
    "    }\n",
    "}\n",
    "println(getVerilog(new MyWMux(8)))"
   ]
  },
  {
   "cell_type": "markdown",
   "id": "subject-break",
   "metadata": {
    "cell_style": "split",
    "slideshow": {
     "slide_type": "slide"
    }
   },
   "source": [
    "## Chisel's Last Connect Semantics\n",
    "\n",
    "* Can connect a wire multiple times\n",
    "* Last connection to be evaluated in program orden \"wins\""
   ]
  },
  {
   "cell_type": "code",
   "execution_count": null,
   "id": "applied-values",
   "metadata": {
    "cell_style": "split"
   },
   "outputs": [],
   "source": [
    "class LastC extends Module {\n",
    "    val io = IO(new Bundle {\n",
    "        val x   = Input(Bool())\n",
    "        val y   = Output(UInt())\n",
    "    })\n",
    "    val w = Wire(UInt())\n",
    "    w := 1.U\n",
    "    when (io.x) {\n",
    "        w := 7.U\n",
    "    }\n",
    "    io.y := w\n",
    "}\n",
    "println(getVerilog(new LastC))"
   ]
  },
  {
   "cell_type": "markdown",
   "id": "fitting-mailing",
   "metadata": {
    "cell_style": "split",
    "slideshow": {
     "slide_type": "slide"
    }
   },
   "source": [
    "## Bitwidth Truncation\n",
    "\n",
    "* Width inference will set widths based on rules for operator\n",
    "* Operators like add can truncate (`+`,`+%`) or grow (`+&`) to not loose data\n",
    "* If widths set, will truncate or grow\n",
    "  * UInts zero extend\n",
    "  * SInts sign extend\n",
    "* Consult [Chisel Cheat Sheet](https://github.com/freechipsproject/chisel-cheatsheet/releases/download/0.5.1/chisel_cheatsheet.pdf)"
   ]
  },
  {
   "cell_type": "code",
   "execution_count": null,
   "id": "monetary-delhi",
   "metadata": {
    "cell_style": "split",
    "scrolled": true
   },
   "outputs": [],
   "source": [
    "class MyAdder(n: Int) extends Module {\n",
    "    val io = IO(new Bundle {\n",
    "        val a = Input(UInt(n.W))\n",
    "        val b = Input(UInt(n.W))\n",
    "        val c = Output(UInt())\n",
    "    })\n",
    "    io.c := io.a + io.b\n",
    "//     io.c := io.a +% io.b\n",
    "//     io.c := io.a +& io.b\n",
    "}\n",
    "println(getVerilog(new MyAdder(8)))"
   ]
  },
  {
   "cell_type": "markdown",
   "id": "exceptional-medicare",
   "metadata": {
    "slideshow": {
     "slide_type": "slide"
    }
   },
   "source": [
    "## Example: Sign & Magnitude -> 2's Complement"
   ]
  },
  {
   "cell_type": "code",
   "execution_count": null,
   "id": "raised-daily",
   "metadata": {
    "cell_style": "split"
   },
   "outputs": [],
   "source": [
    "class SignMagConv(n: Int) extends Module {\n",
    "    val io = IO(new Bundle {\n",
    "        val sign = Input(Bool())\n",
    "        val mag  = Input(UInt(n.W))\n",
    "        val twos = Output(UInt((n+1).W))\n",
    "    })\n",
    "    when (io.sign) {\n",
    "        io.twos := ~io.mag +& 1.U\n",
    "    } .otherwise {\n",
    "        io.twos := io.mag\n",
    "    }\n",
    "}"
   ]
  },
  {
   "cell_type": "code",
   "execution_count": null,
   "id": "chief-cooler",
   "metadata": {
    "cell_style": "split"
   },
   "outputs": [],
   "source": [
    "println(getVerilog(new SignMagConv(7)))"
   ]
  },
  {
   "cell_type": "markdown",
   "id": "devoted-robinson",
   "metadata": {
    "cell_style": "split",
    "slideshow": {
     "slide_type": "slide"
    }
   },
   "source": [
    "## Working With Bits\n",
    "\n",
    "### Read-only access range `x(n,m)`\n",
    "* Access nth bit of x `x(n)`\n",
    "* _Note:_ can't assign extracted range\n",
    "\n",
    "### Concatenation\n",
    "* Combine signals x & y together `Cat(x,y)`\n",
    "\n",
    "### Fill\n",
    "* Repeat x, n times `Fill(n,x)`"
   ]
  },
  {
   "cell_type": "code",
   "execution_count": null,
   "id": "wireless-adoption",
   "metadata": {
    "cell_style": "split",
    "scrolled": true
   },
   "outputs": [],
   "source": [
    "class SignExtender(n: Int, m: Int) extends Module {\n",
    "    val io = IO(new Bundle {\n",
    "        val in = Input(UInt(n.W))\n",
    "        val out = Output(UInt(m.W))\n",
    "    })\n",
    "    assert(n > 0)\n",
    "    assert(n < m)\n",
    "    val signBit = io.in(n-1)\n",
    "    val extension = Fill(m-n, signBit)\n",
    "    io.out := Cat(extension, io.in)\n",
    "}\n",
    "println(getVerilog(new SignExtender(4,8)))"
   ]
  }
 ],
 "metadata": {
  "celltoolbar": "Slideshow",
  "kernelspec": {
   "display_name": "Scala",
   "language": "scala",
   "name": "scala"
  },
  "language_info": {
   "codemirror_mode": "text/x-scala",
   "file_extension": ".scala",
   "mimetype": "text/x-scala",
   "name": "scala",
   "nbconvert_exporter": "script",
   "version": "2.12.10"
  }
 },
 "nbformat": 4,
 "nbformat_minor": 5
}
