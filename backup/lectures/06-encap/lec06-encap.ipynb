{
 "cells": [
  {
   "cell_type": "markdown",
   "id": "external-thermal",
   "metadata": {
    "slideshow": {
     "slide_type": "slide"
    }
   },
   "source": [
    "## Agile Hardware Design\n",
    "***\n",
    "# Encapsulation\n",
    "\n",
    "## Prof. Scott Beamer\n",
    "### sbeamer@ucsc.edu\n",
    "\n",
    "## [CSE 293](https://classes.soe.ucsc.edu/cse293/Winter22/)"
   ]
  },
  {
   "cell_type": "markdown",
   "id": "nominated-consistency",
   "metadata": {
    "slideshow": {
     "slide_type": "slide"
    }
   },
   "source": [
    "## Plan for Today\n",
    "\n",
    "* Scala methods, recursion, and objects\n",
    "* Using Scala methods to build Chisel components\n",
    "* Chisel Bundles"
   ]
  },
  {
   "cell_type": "markdown",
   "id": "personalized-paragraph",
   "metadata": {
    "cell_style": "split",
    "slideshow": {
     "slide_type": "slide"
    }
   },
   "source": [
    "## Scala Methods\n",
    "\n",
    "* Syntax examples on right\n",
    "  * Multi-line bodies need braces\n",
    "  * Last line is returned\n",
    "  * Normally inside `class` or `object`\n",
    "\n",
    "* Arguments are immutable by default\n",
    "\n",
    "* Can give default argument values\n"
   ]
  },
  {
   "cell_type": "code",
   "execution_count": null,
   "id": "subject-puppy",
   "metadata": {
    "cell_style": "split"
   },
   "outputs": [],
   "source": [
    "def plusOne(n: Int) =  n + 1\n",
    "\n",
    "plusOne(5)\n",
    "\n",
    "def plusX(n: Int, x: Int = 1) = n + x\n",
    "\n",
    "plusX(5,2)\n",
    "plusX(5)"
   ]
  },
  {
   "cell_type": "markdown",
   "id": "peripheral-leeds",
   "metadata": {
    "cell_style": "split",
    "slideshow": {
     "slide_type": "slide"
    }
   },
   "source": [
    "## Recursive Scala Methods\n",
    "\n",
    "\n",
    "* Need be sure to specify return type\n",
    "  * `Unit` is nothing (like void)\n",
    "* Be sure to think of base case\n",
    "* Helpful for iteration or decomposing a problem\n"
   ]
  },
  {
   "cell_type": "code",
   "execution_count": null,
   "id": "dutch-installation",
   "metadata": {
    "cell_style": "split"
   },
   "outputs": [],
   "source": [
    "def recSum(n: Int): Int = {\n",
    "    if (n <= 0) 0\n",
    "    else n + recSum(n - 1)\n",
    "}\n",
    "\n",
    "println(recSum(4))\n",
    "\n",
    "// def fib(n: Int): Int = {\n",
    "//     if (n < 2) n\n",
    "//     else fib(n-1) + fib(n-2)\n",
    "// }\n",
    "\n",
    "// for (n <- 0 until 10)\n",
    "//     println(fib(n))"
   ]
  },
  {
   "cell_type": "markdown",
   "id": "independent-thinking",
   "metadata": {
    "slideshow": {
     "slide_type": "slide"
    }
   },
   "source": [
    "## Using Scala to Construct Chisel Components\n",
    "\n",
    "* Chisel components are just objects in Scala, so can use methods to build them up\n",
    "  * Can _encapsulate_ (hide) complexity\n",
    "  * Can declare once, use in many places\n",
    "  * Use recursion to perform iteration (to implement paramterized flexibility)\n",
    "\n",
    "* Although testers requires a `Module`, valid to construct components outside\n",
    "  * Chisel's `Module` & `Bundle` add things to class (through inheritance)"
   ]
  },
  {
   "cell_type": "markdown",
   "id": "hollow-withdrawal",
   "metadata": {
    "slideshow": {
     "slide_type": "slide"
    }
   },
   "source": [
    "## DelayN (shift register) Revised with Helper Function"
   ]
  },
  {
   "cell_type": "code",
   "execution_count": null,
   "id": "touched-effort",
   "metadata": {
    "cell_style": "split",
    "scrolled": true
   },
   "outputs": [],
   "source": [
    "class DelayNCycles(n: Int) extends Module {\n",
    "    val io = IO(new Bundle {\n",
    "        val in  = Input(Bool())\n",
    "        val out = Output(Bool())\n",
    "    })\n",
    "    require(n >= 0)\n",
    "    var lastConn = io.in\n",
    "    for (i <- 0 until n)\n",
    "        lastConn = RegNext(lastConn)\n",
    "    io.out := lastConn\n",
    "}\n",
    "println(getVerilog(new DelayNCycles(2)))"
   ]
  },
  {
   "cell_type": "code",
   "execution_count": null,
   "id": "broadband-number",
   "metadata": {
    "cell_style": "split",
    "scrolled": true,
    "slideshow": {
     "slide_type": "fragment"
    }
   },
   "outputs": [],
   "source": [
    "class DelayNCycles(n: Int) extends Module {\n",
    "    val io = IO(new Bundle {\n",
    "        val in  = Input(Bool())\n",
    "        val out = Output(Bool())\n",
    "    })\n",
    "    require(n >= 0)\n",
    "    def helper(n: Int, lastConn: Bool): Bool = {\n",
    "        if (n == 0) lastConn\n",
    "        else helper(n-1, RegNext(lastConn))\n",
    "    }\n",
    "    io.out := helper(n, io.in)\n",
    "}\n",
    "println(getVerilog(new DelayNCycles(2)))"
   ]
  },
  {
   "cell_type": "markdown",
   "id": "younger-second",
   "metadata": {
    "cell_style": "split",
    "slideshow": {
     "slide_type": "slide"
    }
   },
   "source": [
    "## Scala `object`\n",
    "\n",
    "* _Singleton_ object\n",
    "  * Exacly one always exists\n",
    "  * By contrast, must instantiate a `class` to use\n",
    "\n",
    "* Typical uses\n",
    "  * Shared state (constant or mutable)\n",
    "  * Stateless functions\n",
    "  * Factory methods (as _companion object_)"
   ]
  },
  {
   "cell_type": "code",
   "execution_count": null,
   "id": "instrumental-stanford",
   "metadata": {
    "cell_style": "split"
   },
   "outputs": [],
   "source": [
    "class MyPair(a: Int, b: Int) {\n",
    "    def sum() = a + b\n",
    "}\n",
    "\n",
    "val mpc = new MyPair(3,4)\n",
    "mpc.sum()\n",
    "mpc.sum\n",
    "\n",
    "object MyPair {\n",
    "    var numPairs = 0\n",
    "    def apply(a: Int, b: Int) = {\n",
    "        numPairs += 1\n",
    "        new MyPair(a,b)\n",
    "    }\n",
    "    def apply(a: Int): MyPair = apply(a, 0)\n",
    "}\n",
    "\n",
    "MyPair(2,3).sum\n",
    "MyPair.numPairs\n",
    "val mpo = MyPair(3)\n",
    "mpo.sum\n",
    "MyPair.numPairs"
   ]
  },
  {
   "cell_type": "markdown",
   "id": "second-syntax",
   "metadata": {
    "slideshow": {
     "slide_type": "slide"
    }
   },
   "source": [
    "## Factory Method for `MyCounter`"
   ]
  },
  {
   "cell_type": "code",
   "execution_count": null,
   "id": "written-halloween",
   "metadata": {
    "cell_style": "split"
   },
   "outputs": [],
   "source": [
    "class MyCounter(maxVal: Int) extends Module {\n",
    "    val io = IO(new Bundle {\n",
    "        val en  = Input(Bool())\n",
    "        val out = Output(UInt())\n",
    "    })\n",
    "    val count = RegInit(0.U(log2Ceil(maxVal+1).W))\n",
    "    when (io.en) {\n",
    "        when (count < maxVal.U) {\n",
    "            count := count + 1.U\n",
    "        } .otherwise {\n",
    "            count := 0.U\n",
    "        }\n",
    "    }\n",
    "    io.out := count\n",
    "}\n",
    "\n",
    "object MyCounter {\n",
    "    def apply(maxVal: Int) = new MyCounter(maxVal)\n",
    "}"
   ]
  },
  {
   "cell_type": "code",
   "execution_count": null,
   "id": "neural-builder",
   "metadata": {
    "cell_style": "split",
    "scrolled": false
   },
   "outputs": [],
   "source": [
    "println(getVerilog(new MyCounter(15)))\n",
    "// println(getVerilog(MyCounter(15)))"
   ]
  },
  {
   "cell_type": "markdown",
   "id": "radical-picnic",
   "metadata": {
    "slideshow": {
     "slide_type": "slide"
    }
   },
   "source": [
    "## MyCounter without `Module`"
   ]
  },
  {
   "cell_type": "code",
   "execution_count": null,
   "id": "residential-nursery",
   "metadata": {
    "cell_style": "split"
   },
   "outputs": [],
   "source": [
    "class MyCounter(maxVal: Int, en: Bool) {\n",
    "    val count = RegInit(0.U(log2Ceil(maxVal+1).W))\n",
    "    when (en) {\n",
    "        when (count < maxVal.U) {\n",
    "            count := count + 1.U\n",
    "        } .otherwise {\n",
    "            count := 0.U\n",
    "        }\n",
    "    }\n",
    "}\n",
    "\n",
    "object MyCounter {\n",
    "    def apply(maxVal: Int, en: Bool) = {\n",
    "        val mc = new MyCounter(maxVal, en)\n",
    "        mc.count\n",
    "    }\n",
    "}"
   ]
  },
  {
   "cell_type": "code",
   "execution_count": null,
   "id": "initial-manual",
   "metadata": {
    "cell_style": "split"
   },
   "outputs": [],
   "source": [
    "class CounterInstMod(n: Int) extends Module {\n",
    "    val io = IO(new Bundle {\n",
    "        val en  = Input(Bool())\n",
    "        val count = Output(UInt())\n",
    "    })\n",
    "    io.count := MyCounter(n, io.en)\n",
    "}\n",
    "println(getVerilog(new CounterInstMod(4)))"
   ]
  },
  {
   "cell_type": "markdown",
   "id": "located-boutique",
   "metadata": {
    "slideshow": {
     "slide_type": "slide"
    }
   },
   "source": [
    "## Chisel's Counter\n",
    "\n",
    "* Prior slides only an example, Chisel defines [`Counter`](https://www.chisel-lang.org/api/latest/chisel3/util/Counter.html)"
   ]
  },
  {
   "cell_type": "code",
   "execution_count": null,
   "id": "widespread-celtic",
   "metadata": {
    "cell_style": "split"
   },
   "outputs": [],
   "source": [
    "class CounterInstMod(n: Int) extends Module {\n",
    "    val io = IO(new Bundle {\n",
    "        val en  = Input(Bool())\n",
    "        val count = Output(UInt())\n",
    "        val limit = Output(Bool())\n",
    "    })\n",
    "    val (value, wrap) = Counter(io.en, n)\n",
    "//     val (value, wrap) = Counter(0 until 7 by 2, io.en)\n",
    "    io.count := value\n",
    "    io.limit := wrap\n",
    "}"
   ]
  },
  {
   "cell_type": "code",
   "execution_count": null,
   "id": "twelve-medline",
   "metadata": {
    "cell_style": "split",
    "scrolled": true
   },
   "outputs": [],
   "source": [
    "println(getVerilog(new CounterInstMod(4)))"
   ]
  },
  {
   "cell_type": "markdown",
   "id": "moral-theology",
   "metadata": {
    "cell_style": "split",
    "slideshow": {
     "slide_type": "slide"
    }
   },
   "source": [
    "## Chisel `Bundle`\n",
    "\n",
    "* Aggregate type with named fields\n",
    "  * Like a `struct` in C\n",
    "* Not only used to make IO interfaces\n",
    "* Can declare once & use in many places"
   ]
  },
  {
   "cell_type": "code",
   "execution_count": null,
   "id": "round-pound",
   "metadata": {
    "cell_style": "split",
    "scrolled": true
   },
   "outputs": [],
   "source": [
    "class Mag extends Bundle {\n",
    "    val m = UInt(4.W)\n",
    "}\n",
    "\n",
    "class OutMod(a: Int) extends Module {\n",
    "    val io = IO(Output(new Mag))\n",
    "    io.m := a.U\n",
    "}\n",
    "\n",
    "println(getVerilog(new OutMod(2)))"
   ]
  },
  {
   "cell_type": "markdown",
   "id": "continent-grace",
   "metadata": {
    "cell_style": "split",
    "slideshow": {
     "slide_type": "slide"
    }
   },
   "source": [
    "## `Bundle` Composition\n",
    "\n",
    "* Bundles can ...\n",
    "  * be _extended_\n",
    "  * be nested\n",
    "  * go in `Vec`s or include `Vec`s\n"
   ]
  },
  {
   "cell_type": "code",
   "execution_count": null,
   "id": "abstract-cabinet",
   "metadata": {
    "cell_style": "split"
   },
   "outputs": [],
   "source": [
    "class Mag extends Bundle {\n",
    "    val m = Output(UInt(4.W))\n",
    "}\n",
    "\n",
    "class SignMag extends Mag {\n",
    "    val s = Output(Bool())\n",
    "}\n",
    "\n",
    "class PairSignMag extends Bundle {\n",
    "    val nums = Vec(2, new SignMag)\n",
    "}\n",
    "\n",
    "class OutMod(a: Int, b: Int) extends Module {\n",
    "    val io = IO(new PairSignMag)\n",
    "    io.nums(0).m := a.U\n",
    "    io.nums(0).s := false.B\n",
    "    io.nums(1).m := b.U\n",
    "    io.nums(1).s := false.B\n",
    "}\n",
    "\n",
    "println(getVerilog(new OutMod(3,4)))"
   ]
  },
  {
   "cell_type": "markdown",
   "id": "satellite-brighton",
   "metadata": {
    "slideshow": {
     "slide_type": "slide"
    }
   },
   "source": [
    "## `cloneType` Boilerplate\n",
    "\n",
    "* Unfortunately, due to embedding Chisel in Scala, had to include `cloneType`\n",
    "  * Most often occurs when parameterizing a Bundle\n",
    "* ~~Future versions of Chisel hope to have smoother work around~~\n",
    "    * **Chisel 3.5 fixed this!**"
   ]
  },
  {
   "cell_type": "code",
   "execution_count": null,
   "id": "distinguished-saver",
   "metadata": {},
   "outputs": [],
   "source": [
    "class SignMag(n: Int) extends Bundle {\n",
    "    val x = Output(UInt(n.W))\n",
    "    val s = Output(Bool())\n",
    "    // No longer necessary\n",
    "    // override def cloneType = (new SignMag(n)).asInstanceOf[this.type]\n",
    "}\n",
    "\n",
    "class OutMod(n: Int, a: Int) extends Module {\n",
    "    val io = IO(Output(new SignMag(8)))\n",
    "    io.x := a.U\n",
    "    io.s := false.B\n",
    "}\n",
    "\n",
    "println(getVerilog(new OutMod(8,4)))"
   ]
  },
  {
   "cell_type": "markdown",
   "id": "american-guest",
   "metadata": {
    "cell_style": "split",
    "slideshow": {
     "slide_type": "slide"
    }
   },
   "source": [
    "## Working With Bundles Hierarchically\n",
    "\n",
    "* `<>` is a _bulk connection_\n",
    "    * Will connect an entire Bundle"
   ]
  },
  {
   "cell_type": "code",
   "execution_count": null,
   "id": "bacterial-advocate",
   "metadata": {
    "cell_style": "split"
   },
   "outputs": [],
   "source": [
    "class SignMag(n: Int) extends Bundle {\n",
    "    val x = UInt(n.W)\n",
    "    val s = Bool()\n",
    "}\n",
    "\n",
    "class PassThru(n: Int) extends Module {\n",
    "    val io = IO(new Bundle {\n",
    "        val in = Input(new SignMag(n))\n",
    "        val out = Output(new SignMag(n))\n",
    "    })\n",
    "//     io.out.x := io.in.x\n",
    "//     io.out.s := io.in.s\n",
    "    io.in <> io.out\n",
    "}\n",
    "\n",
    "println(getVerilog(new PassThru(4)))"
   ]
  },
  {
   "cell_type": "markdown",
   "id": "dependent-corpus",
   "metadata": {
    "cell_style": "split",
    "slideshow": {
     "slide_type": "slide"
    }
   },
   "source": [
    "## Bundles Can Have Wires in Both Directions\n",
    "\n",
    "* `Flipped` reverses directions\n",
    "\n"
   ]
  },
  {
   "cell_type": "code",
   "execution_count": null,
   "id": "designing-rhythm",
   "metadata": {
    "cell_style": "split"
   },
   "outputs": [],
   "source": [
    "class Handshake(n: Int) extends Bundle {\n",
    "    val ready = Input(Bool())\n",
    "    val data  = Output(UInt(n.W))\n",
    "}\n",
    "\n",
    "class PassThru(n: Int) extends Module {\n",
    "    val io = IO(new Bundle {\n",
    "        val in = Flipped(new Handshake(n))\n",
    "        val out = new Handshake(n)\n",
    "    })\n",
    "    io.in <> io.out\n",
    "}\n",
    "\n",
    "println(getVerilog(new PassThru(4)))"
   ]
  },
  {
   "cell_type": "markdown",
   "id": "worse-complaint",
   "metadata": {
    "slideshow": {
     "slide_type": "slide"
    }
   },
   "source": [
    "## Scala `Option`\n",
    "\n",
    "* Scala's `Option[T]` is a type wrapper around `T` to indicate potential non-existence of something\n",
    "  * Is either `None` or `Some(x)`\n",
    "* Brief Option API primer (will learn more graceful methods later)\n",
    "  * `isDefined` - returns `Boolean` indicating if it is has something\n",
    "  * `get` - returns value if it has something, otherwise exception\n",
    "* Can use Option to have optional fields in a Bundle"
   ]
  },
  {
   "cell_type": "code",
   "execution_count": null,
   "id": "usual-mayor",
   "metadata": {},
   "outputs": [],
   "source": [
    "val o: Option[Int] = Some(4)\n",
    "// val o: Option[Int] = None\n",
    "if (o.isDefined)\n",
    "    println(o.get)\n",
    "else\n",
    "    println(\"empty\")"
   ]
  },
  {
   "cell_type": "markdown",
   "id": "tough-asbestos",
   "metadata": {
    "slideshow": {
     "slide_type": "slide"
    }
   },
   "source": [
    "## Making Optional IOs in Chisel"
   ]
  },
  {
   "cell_type": "code",
   "execution_count": null,
   "id": "joint-stage",
   "metadata": {},
   "outputs": [],
   "source": [
    "class MaybePair(n: Int, hasY: Boolean) extends Bundle {\n",
    "    val x = Output(UInt(n.W))\n",
    "    val y: Option[UInt] = if (hasY) Some(Output(UInt(n.W))) else None\n",
    "}\n",
    "\n",
    "class OutMod(n: Int, a: Int, useY: Boolean) extends Module {\n",
    "    val io = IO(Output(new MaybePair(8, useY)))\n",
    "    io.x := a.U\n",
    "    if (useY)\n",
    "//     if (io.y.isDefined)\n",
    "        io.y.get := a.U\n",
    "}\n",
    "\n",
    "println(getVerilog(new OutMod(8,4,true)))"
   ]
  },
  {
   "cell_type": "markdown",
   "id": "manual-boating",
   "metadata": {
    "slideshow": {
     "slide_type": "slide"
    }
   },
   "source": [
    "## Scala `tabulate`\n",
    "\n",
    "* May have seen this method used in assignments\n",
    "* More general way (than `fill`) to populate a collection\n",
    "* Will produce new collection by calling _anonymous function_ on every element\n",
    "  * This function takes a single argument (index)\n",
    "  * Can use `_` to wildcard replace first use, but be careful"
   ]
  },
  {
   "cell_type": "code",
   "execution_count": null,
   "id": "stretch-trash",
   "metadata": {},
   "outputs": [],
   "source": [
    "Seq.fill(4)(0)\n",
    "Seq.tabulate(4)(i => i)\n",
    "Seq.tabulate(4)(_*2)"
   ]
  }
 ],
 "metadata": {
  "celltoolbar": "Slideshow",
  "kernelspec": {
   "display_name": "Scala",
   "language": "scala",
   "name": "scala"
  },
  "language_info": {
   "codemirror_mode": "text/x-scala",
   "file_extension": ".sc",
   "mimetype": "text/x-scala",
   "name": "scala",
   "nbconvert_exporter": "script",
   "version": "2.13.4"
  }
 },
 "nbformat": 4,
 "nbformat_minor": 5
}
