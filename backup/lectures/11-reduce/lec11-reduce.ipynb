{
 "cells": [
  {
   "cell_type": "markdown",
   "id": "external-thermal",
   "metadata": {
    "slideshow": {
     "slide_type": "slide"
    }
   },
   "source": [
    "## Agile Hardware Design\n",
    "***\n",
    "# Functional Programming (continued)\n",
    "\n",
    "## Prof. Scott Beamer\n",
    "### sbeamer@ucsc.edu\n",
    "\n",
    "## [CSE 293](https://classes.soe.ucsc.edu/cse293/Winter22/)"
   ]
  },
  {
   "cell_type": "markdown",
   "id": "nominated-consistency",
   "metadata": {
    "slideshow": {
     "slide_type": "slide"
    }
   },
   "source": [
    "## Plan for Today\n",
    "\n",
    "* reduce + fold\n",
    "* Scala type signatures\n",
    "* zipWithIndex\n",
    "* FP considerations"
   ]
  },
  {
   "cell_type": "markdown",
   "id": "regular-reducing",
   "metadata": {
    "slideshow": {
     "slide_type": "slide"
    }
   },
   "source": [
    "## Loading The Chisel Library Into a Notebook"
   ]
  },
  {
   "cell_type": "code",
   "execution_count": null,
   "id": "robust-immigration",
   "metadata": {},
   "outputs": [],
   "source": [
    "val path = System.getProperty(\"user.dir\") + \"/../resource/chisel_deps.sc\"\n",
    "interp.load.module(ammonite.ops.Path(java.nio.file.FileSystems.getDefault().getPath(path)))"
   ]
  },
  {
   "cell_type": "code",
   "execution_count": null,
   "id": "extended-burning",
   "metadata": {
    "slideshow": {
     "slide_type": "-"
    }
   },
   "outputs": [],
   "source": [
    "import chisel3._\n",
    "import chisel3.util._\n",
    "import chisel3.tester._\n",
    "import chisel3.tester.RawTester.test"
   ]
  },
  {
   "cell_type": "markdown",
   "id": "veterinary-morning",
   "metadata": {
    "slideshow": {
     "slide_type": "slide"
    }
   },
   "source": [
    "## Motivation for `reduce` and `fold`\n",
    "\n",
    "* In the last lecture, we applied a function to each element (e.g. `map`, `foreach`, `zip`)\n",
    "  * Resulting collection (if there is one), has same size as input collection\n",
    "\n",
    "* What about if we want to combine things (collapse)?\n",
    "\n",
    "* How do we gracefully handle collapsing with an empty collection?"
   ]
  },
  {
   "cell_type": "markdown",
   "id": "established-deviation",
   "metadata": {
    "slideshow": {
     "slide_type": "slide"
    }
   },
   "source": [
    "## Scala `reduce`\n",
    "\n",
    "* Given a binary operator, it applies it on collection until down to one element\n",
    "\n",
    "* Can use the placeholder syntax to have concise expressions"
   ]
  },
  {
   "cell_type": "code",
   "execution_count": null,
   "id": "foster-literacy",
   "metadata": {},
   "outputs": [],
   "source": [
    "val l = Seq(0,1,2,3,4,5)\n",
    "l reduce { _ + _ }\n",
    "l.reduce{(a,b) => a+b}\n",
    "\n",
    "val squares = l map { i => i*i }\n",
    "val sumOfSquares = squares reduce { _ + _ }\n",
    "l map { i => i*i } reduce { _ + _ }"
   ]
  },
  {
   "cell_type": "markdown",
   "id": "documented-timothy",
   "metadata": {
    "slideshow": {
     "slide_type": "slide"
    }
   },
   "source": [
    "## Tweaking Our Arbiter with FP (1/2) - original"
   ]
  },
  {
   "cell_type": "code",
   "execution_count": null,
   "id": "touched-tobacco",
   "metadata": {},
   "outputs": [],
   "source": [
    "class MyArb(numPorts: Int, n: Int) extends Module {\n",
    "    val io = IO(new Bundle {\n",
    "        val req = Flipped(Vec(numPorts, Decoupled(UInt(n.W))))\n",
    "        val out = Decoupled(UInt(n.W))\n",
    "    })\n",
    "    require (numPorts > 0)\n",
    "    val inValids = Wire(Vec(numPorts, Bool()))\n",
    "    val inBits   = Wire(Vec(numPorts, UInt(n.W)))\n",
    "    val chosenOH = PriorityEncoderOH(inValids)\n",
    "    for (p <- 0 until numPorts) {\n",
    "        io.req(p).ready := chosenOH(p) && io.out.fire\n",
    "        inValids(p) := io.req(p).valid\n",
    "        inBits(p) := io.req(p).bits\n",
    "    }\n",
    "    io.out.valid := inValids.asUInt.orR\n",
    "    io.out.bits := Mux1H(chosenOH, inBits)\n",
    "}"
   ]
  },
  {
   "cell_type": "markdown",
   "id": "sufficient-period",
   "metadata": {
    "slideshow": {
     "slide_type": "slide"
    }
   },
   "source": [
    "## Tweaking Our Arbiter with FP (2/2) - with FP + reduce"
   ]
  },
  {
   "cell_type": "code",
   "execution_count": null,
   "id": "laughing-airline",
   "metadata": {},
   "outputs": [],
   "source": [
    "class MyArb(numPorts: Int, n: Int) extends Module {\n",
    "    val io = IO(new Bundle {\n",
    "        val req = Flipped(Vec(numPorts, Decoupled(UInt(n.W))))\n",
    "        val out = Decoupled(UInt(n.W))\n",
    "    })\n",
    "    require (numPorts > 0)\n",
    "    val inValids = io.req map { _.valid }\n",
    "//     io.out.valid := VecInit(inValids).asUInt.orR\n",
    "    io.out.valid := inValids reduce { _ || _ }\n",
    "    val chosenOH = PriorityEncoderOH(inValids)\n",
    "    io.out.bits := Mux1H(chosenOH, io.req map { _.bits })\n",
    "    io.req.zip(chosenOH) foreach { case (i, c) => i.ready := c && io.out.fire}\n",
    "}"
   ]
  },
  {
   "cell_type": "markdown",
   "id": "painted-integral",
   "metadata": {
    "slideshow": {
     "slide_type": "slide"
    }
   },
   "source": [
    "## How Do You Reduce on 0 Elements?\n",
    "\n",
    "* What should `reduce` return when the collection has 0 elements?\n",
    "\n",
    "* Alternatively, what if we want to collapse a collection into a different type?"
   ]
  },
  {
   "cell_type": "markdown",
   "id": "boxed-public",
   "metadata": {
    "slideshow": {
     "slide_type": "slide"
    }
   },
   "source": [
    "## Scala `foldLeft`\n",
    "\n",
    "* Given initial value and operator, applies _left to right_\n",
    "  * \"Left\" is element 0, i.e. in iterable's order\n",
    "* Can be used to implement `reduce`\n",
    "* Can return a type different than initial collection"
   ]
  },
  {
   "cell_type": "code",
   "execution_count": null,
   "id": "printable-nowhere",
   "metadata": {
    "scrolled": true
   },
   "outputs": [],
   "source": [
    "val l = Seq(1,2,3,4,5)\n",
    "l.foldLeft(0)((totalSoFar, elem) => totalSoFar + elem)\n",
    "l.foldLeft(0)(_ + _)\n",
    "l reduce { _ + _ }\n",
    "l.sum\n",
    "\n",
    "def myMax(maxSoFar: Int, x: Int) = if (maxSoFar > x) maxSoFar else x\n",
    "val maxTheHardWay = l.foldLeft(0)(myMax)\n",
    "l.max"
   ]
  },
  {
   "cell_type": "markdown",
   "id": "sorted-syndicate",
   "metadata": {
    "slideshow": {
     "slide_type": "slide"
    }
   },
   "source": [
    "## Visualizing `foldLeft` & `foldRight`\n",
    "\n",
    "<img src=\"images/folds.svg\" alt=\"foldLeft & foldRight\" style=\"width:70%;margin-left:auto;margin-right:auto\"/>"
   ]
  },
  {
   "cell_type": "markdown",
   "id": "visible-history",
   "metadata": {
    "slideshow": {
     "slide_type": "slide"
    }
   },
   "source": [
    "## Brief Detour: Currying (functions) in Scala\n",
    "\n",
    "* Multiple argument lists to a function\n",
    "* We have seen it and used it without talking about it yet\n",
    "  * e.g. `Seq.fill(4)(0)`\n",
    "* Can create partially applied functions to pass to FP operation"
   ]
  },
  {
   "cell_type": "code",
   "execution_count": null,
   "id": "western-plasma",
   "metadata": {},
   "outputs": [],
   "source": [
    "def sum(a: Int, b: Int) = a + b\n",
    "\n",
    "def plusX(x: Int)(b: Int) = x + b\n",
    "\n",
    "val f = plusX(1)_\n",
    "\n",
    "f(2)\n",
    "\n",
    "plusX(1)(2)\n",
    "\n",
    "Seq(0,1,2,3,4) map plusX(10)"
   ]
  },
  {
   "cell_type": "markdown",
   "id": "lovely-newton",
   "metadata": {
    "slideshow": {
     "slide_type": "slide"
    }
   },
   "source": [
    "## Brief Detour: Scala Function Signatures\n",
    "\n",
    "<img src=\"images/map.png\" alt=\"map signature\" style=\"width:70%;margin-left:auto;margin-right:auto\"/>\n",
    "<img src=\"images/foldLeft.png\" alt=\"foldLeft signature\" style=\"width:70%;margin-left:auto;margin-right:auto\"/>\n",
    "\n",
    "* Screenshots from language API docs, will want to peruse for available FP operations\n",
    "* Square brackets `[]` indicate parameterized types, and often type inference determines them (e.g. `A`)\n",
    "* Recognize these operations take in functions (as `op`): (_input arg types_) `=>` _return type_"
   ]
  },
  {
   "cell_type": "markdown",
   "id": "scheduled-angel",
   "metadata": {
    "slideshow": {
     "slide_type": "slide"
    }
   },
   "source": [
    "## `reduce`X vs `fold`Y\n",
    "\n",
    "* All 6 variants exist (`reduce`, `reduceLeft`, `reduceRight`, `fold`, `foldLeft`, `foldRight`)\n",
    "\n",
    "* Directions give explicit evaluation order, otherwise unspecified\n",
    "\n",
    "* In practice, `foldLeft` is often most versatile/appropriate, but brevity of `reduce` makes it tempting\n",
    "  * Typically use `reduce` to collapse, but `foldLeft` to do it in deliberate order\n",
    "\n",
    "* Can use `foldRight` and `reduceRight` to effectively do things in reverse (can also use `.reverse`)"
   ]
  },
  {
   "cell_type": "markdown",
   "id": "standard-outdoors",
   "metadata": {
    "slideshow": {
     "slide_type": "slide"
    }
   },
   "source": [
    "## Redoing Reducer with `reduce`"
   ]
  },
  {
   "cell_type": "code",
   "execution_count": null,
   "id": "stone-selling",
   "metadata": {
    "scrolled": false
   },
   "outputs": [],
   "source": [
    "class Reducer(n: Int, m: Int) extends Module {\n",
    "    val io = IO(new Bundle {\n",
    "        val in  = Input(Vec(n, UInt(m.W)))\n",
    "        val out = Output(UInt(m.W))\n",
    "    })\n",
    "    require(n > 0)\n",
    "//     var totalSoFar = io.in(0)\n",
    "//     for (i <- 1 until n)\n",
    "//         totalSoFar = io.in(i) + totalSoFar\n",
    "//     io.out := totalSoFar\n",
    "    io.out := io.in.reduce{ _ + _ }\n",
    "}\n",
    "println(getVerilog(new Reducer(4,2)))"
   ]
  },
  {
   "cell_type": "markdown",
   "id": "tight-postcard",
   "metadata": {
    "slideshow": {
     "slide_type": "slide"
    }
   },
   "source": [
    "## Redoing DelayN (Pipe) with `foldLeft`"
   ]
  },
  {
   "cell_type": "code",
   "execution_count": null,
   "id": "proof-white",
   "metadata": {
    "scrolled": true
   },
   "outputs": [],
   "source": [
    "class DelayNCycles(n: Int) extends Module {\n",
    "    val io = IO(new Bundle {\n",
    "        val in  = Input(Bool())\n",
    "        val out = Output(Bool())\n",
    "    })\n",
    "    require(n >= 0)\n",
    "//     def helper(n: Int, lastConn: Bool): Bool = {\n",
    "//         if (n == 0) lastConn\n",
    "//         else helper(n-1, RegNext(lastConn))\n",
    "//     }\n",
    "//     io.out := helper(n, io.in)\n",
    "    io.out := (0 until n).foldLeft(io.in){(lastConn,i) => RegNext(lastConn)}\n",
    "}\n",
    "println(getVerilog(new DelayNCycles(3)))"
   ]
  },
  {
   "cell_type": "markdown",
   "id": "dated-constraint",
   "metadata": {
    "slideshow": {
     "slide_type": "slide"
    }
   },
   "source": [
    "## Scala `zipWithIndex`\n",
    "\n",
    "* Sometimes want to have access to index when performing FP op\n",
    "  * Analogous to `enumerate` in Python\n",
    "\n",
    "<img src=\"images/zipWithIndex.svg\" alt=\"zipWithIndex\" style=\"width:40%;margin-left:auto;margin-right:auto\"/>"
   ]
  },
  {
   "cell_type": "code",
   "execution_count": null,
   "id": "eight-emphasis",
   "metadata": {},
   "outputs": [],
   "source": [
    "val l = Seq(5,6,7,8)\n",
    "l.zip(0 until l.size)\n",
    "l.zipWithIndex\n",
    "l.zipWithIndex.map{ t => t._1 * t._2 }\n",
    "l.zipWithIndex.map{ case (x, i) => x * i }"
   ]
  },
  {
   "cell_type": "markdown",
   "id": "horizontal-entertainment",
   "metadata": {
    "slideshow": {
     "slide_type": "slide"
    }
   },
   "source": [
    "## One-Hot Priority Encoder (with muxes) Redone with FP"
   ]
  },
  {
   "cell_type": "code",
   "execution_count": null,
   "id": "involved-tackle",
   "metadata": {
    "scrolled": false
   },
   "outputs": [],
   "source": [
    "class MyPriEncodeOH(n: Int) extends Module {\n",
    "    val io = IO(new Bundle {\n",
    "        val in  = Input(UInt(n.W))\n",
    "        val out = Output(UInt())\n",
    "    })\n",
    "    require (n > 0)\n",
    "//     def withMuxes(index: Int): UInt = {\n",
    "//         if (index < n) Mux(io.in(index), (1 << index).U, withMuxes(index+1))\n",
    "//         else 0.U\n",
    "//     }\n",
    "//     io.out := withMuxes(0)\n",
    "    io.out := io.in.asBools.zipWithIndex.reverse.foldLeft(0.U) {\n",
    "        case (soFar, (b, index)) => Mux(b, (1 << index).U, soFar)\n",
    "//         case ((b, index), soFar) => Mux(b, (1 << index).U, soFar)\n",
    "    }\n",
    "//    io.out := PriorityEncoderOH(io.in)    // Standard Library\n",
    "//     printf(\"%b -> %b\\n\", io.in, io.out)\n",
    "}\n",
    "\n",
    "println(getVerilog(new MyPriEncodeOH(3)))\n",
    "// test(new MyPriEncodeOH(3)) { c =>\n",
    "//     for (i <- 0 until 8) {\n",
    "//         c.io.in.poke(i.U)\n",
    "//         c.clock.step()\n",
    "//     }\n",
    "// }"
   ]
  },
  {
   "cell_type": "markdown",
   "id": "robust-foster",
   "metadata": {
    "slideshow": {
     "slide_type": "slide"
    }
   },
   "source": [
    "## Redoing Crossbar with FP (1/4) - IO decs"
   ]
  },
  {
   "cell_type": "code",
   "execution_count": null,
   "id": "structural-representative",
   "metadata": {},
   "outputs": [],
   "source": [
    "class Message(numOuts: Int, length: Int) extends Bundle {\n",
    "    val addr = UInt(log2Ceil(numOuts+1).W)\n",
    "    val data = UInt(length.W)\n",
    "}\n",
    "\n",
    "class XBarIO(numIns: Int, numOuts: Int, length: Int) extends Bundle {\n",
    "    val in  = Vec(numIns, Flipped(Decoupled(new Message(numOuts, length))))\n",
    "    val out = Vec(numOuts, Decoupled(new Message(numOuts, length)))\n",
    "}"
   ]
  },
  {
   "cell_type": "markdown",
   "id": "common-bacon",
   "metadata": {
    "slideshow": {
     "slide_type": "slide"
    }
   },
   "source": [
    "## Redoing Crossbar with FP (2/4) - inner loops only"
   ]
  },
  {
   "cell_type": "code",
   "execution_count": null,
   "id": "senior-sponsorship",
   "metadata": {},
   "outputs": [],
   "source": [
    "class XBar(numIns: Int, numOuts: Int, length: Int) extends Module {\n",
    "    val io = IO(new XBarIO(numIns, numOuts, length))\n",
    "    val arbs = Seq.fill(numOuts)(Module(new RRArbiter(new Message(numOuts, length), numIns)))\n",
    "    for (ip <- 0 until numIns) {\n",
    "        val inReadys = Wire(Vec(numOuts, Bool()))\n",
    "        for (op <- 0 until numOuts) {\n",
    "            inReadys(op) := arbs(op).io.in(ip).ready\n",
    "        }\n",
    "        io.in(ip).ready := inReadys.asUInt.orR\n",
    "//         io.in(ip).ready := arbs.map{ _.io.in(ip).ready }.reduce{ _ || _ }\n",
    "    }\n",
    "    for (op <- 0 until numOuts) {\n",
    "        for (ip <- 0 until numIns) {\n",
    "            arbs(op).io.in(ip).bits <> io.in(ip).bits\n",
    "            arbs(op).io.in(ip).valid := io.in(ip).valid && (io.in(ip).bits.addr === op.U)\n",
    "        }\n",
    "//         arbs(op).io.in.zip(io.in).foreach { case (arbIn, ioIn) =>\n",
    "//             arbIn.bits <> ioIn.bits\n",
    "//             arbIn.valid := ioIn.valid && (ioIn.bits.addr === op.U)\n",
    "//         }\n",
    "        io.out(op) <> arbs(op).io.out\n",
    "    }\n",
    "    for (op <- 0 until numOuts) {\n",
    "        printf(\" %d -> %d (%b)\", io.out(op).bits.data, op.U, io.out(op).valid)\n",
    "    }\n",
    "    printf(\"\\n\")\n",
    "}"
   ]
  },
  {
   "cell_type": "markdown",
   "id": "italic-circular",
   "metadata": {
    "slideshow": {
     "slide_type": "slide"
    }
   },
   "source": [
    "## Redoing Crossbar with FP (3/4) - all loops"
   ]
  },
  {
   "cell_type": "code",
   "execution_count": null,
   "id": "informal-heather",
   "metadata": {},
   "outputs": [],
   "source": [
    "class XBar(numIns: Int, numOuts: Int, length: Int) extends Module {\n",
    "    val io = IO(new XBarIO(numIns, numOuts, length))\n",
    "    val arbs = Seq.fill(numOuts)(Module(new RRArbiter(new Message(numOuts, length), numIns)))\n",
    "    for (ip <- 0 until numIns) {\n",
    "        io.in(ip).ready := arbs.map{ _.io.in(ip).ready }.reduce{ _ || _ }\n",
    "    }\n",
    "//     io.in.zipWithIndex.foreach { case (in, ip) =>\n",
    "//         in.ready := arbs.map{ _.io.in(ip).ready }.reduce{ _ || _ }\n",
    "//     }\n",
    "    for (op <- 0 until numOuts) {\n",
    "        arbs(op).io.in.zip(io.in).foreach { case (arbIn, ioIn) =>\n",
    "            arbIn.bits <> ioIn.bits\n",
    "            arbIn.valid := ioIn.valid && (ioIn.bits.addr === op.U)\n",
    "        }\n",
    "        io.out(op) <> arbs(op).io.out\n",
    "    }\n",
    "//     io.out.zip(arbs).zipWithIndex.foreach { case ((ioOut, arbOut), op) =>\n",
    "//         arbOut.io.in.zip(io.in).foreach { case (arbIn, ioIn) =>\n",
    "//             arbIn.bits <> ioIn.bits\n",
    "//             arbIn.valid := ioIn.valid && (ioIn.bits.addr === op.U)\n",
    "//         }\n",
    "//         ioOut <> arbOut.io.out\n",
    "//     }\n",
    "    for (op <- 0 until numOuts) {\n",
    "        printf(\" %d -> %d (%b)\", io.out(op).bits.data, op.U, io.out(op).valid)\n",
    "    }\n",
    "//     io.out.zipWithIndex.foreach{\n",
    "//         case (outP, op) => printf(\" %d -> %d (%b)\", outP.bits.data, op.U, outP.valid)\n",
    "//     }\n",
    "    printf(\"\\n\")\n",
    "}"
   ]
  },
  {
   "cell_type": "markdown",
   "id": "hindu-delaware",
   "metadata": {
    "slideshow": {
     "slide_type": "slide"
    }
   },
   "source": [
    "## Redoing Crossbar with FP (4/4) - Tests"
   ]
  },
  {
   "cell_type": "code",
   "execution_count": null,
   "id": "comprehensive-regulation",
   "metadata": {},
   "outputs": [],
   "source": [
    "val numIns = 4\n",
    "val numOuts = 2\n",
    "test(new XBar(numIns,numOuts,8)) { c =>\n",
    "    for (ip <- 0 until numIns) {\n",
    "        c.io.in(ip).valid.poke(true.B)\n",
    "        c.io.in(ip).bits.data.poke(ip.U)\n",
    "        c.io.in(ip).bits.addr.poke((ip % numOuts).U)\n",
    "    }\n",
    "    for (op <- 0 until numOuts) {\n",
    "        c.io.out(op).ready.poke(true.B)\n",
    "    }\n",
    "    for (cycle <- 0 until 4) {\n",
    "        c.clock.step()\n",
    "    }\n",
    "}"
   ]
  },
  {
   "cell_type": "markdown",
   "id": "fitted-silicon",
   "metadata": {
    "slideshow": {
     "slide_type": "slide"
    }
   },
   "source": [
    "## Only Use FP When it is an Improvement!\n",
    "\n",
    "* FP used well...\n",
    "  * Leverages FP operation to execute commmon pattern\n",
    "  * Improves readability and simplifies code\n",
    "\n",
    "* FP used over-eagerly...\n",
    "  * Harder to read/understand\n",
    "  * Brittle\n",
    "\n",
    "* Consider...\n",
    "  * Would a simple for loop or even recursion be more clear?\n",
    "  * Limit self to 2-3 FP operations per line at most\n",
    "  * Multiple lines for the function literal?\n",
    "    * Maybe pull into a named helper function or fall back to _for_"
   ]
  }
 ],
 "metadata": {
  "celltoolbar": "Slideshow",
  "kernelspec": {
   "display_name": "Scala",
   "language": "scala",
   "name": "scala"
  },
  "language_info": {
   "codemirror_mode": "text/x-scala",
   "file_extension": ".sc",
   "mimetype": "text/x-scala",
   "name": "scala",
   "nbconvert_exporter": "script",
   "version": "2.13.4"
  }
 },
 "nbformat": 4,
 "nbformat_minor": 5
}
