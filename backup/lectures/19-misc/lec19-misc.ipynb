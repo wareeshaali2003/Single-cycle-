{
 "cells": [
  {
   "cell_type": "markdown",
   "id": "external-thermal",
   "metadata": {
    "slideshow": {
     "slide_type": "slide"
    }
   },
   "source": [
    "## Agile Hardware Design\n",
    "***\n",
    "# Chisel Grab Bag\n",
    "\n",
    "## Prof. Scott Beamer\n",
    "### sbeamer@ucsc.edu\n",
    "\n",
    "## [CSE 293](https://classes.soe.ucsc.edu/cse293/Winter22/)"
   ]
  },
  {
   "cell_type": "markdown",
   "id": "nominated-consistency",
   "metadata": {
    "slideshow": {
     "slide_type": "slide"
    }
   },
   "source": [
    "## Plan for Today\n",
    "\n",
    "* Recap how Chisel \"works\"\n",
    "* Tips for common mistakes to avoid"
   ]
  },
  {
   "cell_type": "markdown",
   "id": "improved-paraguay",
   "metadata": {
    "slideshow": {
     "slide_type": "slide"
    }
   },
   "source": [
    "## Loading The Chisel Library Into a Notebook"
   ]
  },
  {
   "cell_type": "code",
   "execution_count": null,
   "id": "robust-immigration",
   "metadata": {},
   "outputs": [],
   "source": [
    "val path = System.getProperty(\"user.dir\") + \"/../resource/chisel_deps.sc\"\n",
    "interp.load.module(ammonite.ops.Path(java.nio.file.FileSystems.getDefault().getPath(path)))"
   ]
  },
  {
   "cell_type": "code",
   "execution_count": null,
   "id": "extended-burning",
   "metadata": {
    "scrolled": false,
    "slideshow": {
     "slide_type": "-"
    }
   },
   "outputs": [],
   "source": [
    "import chisel3._\n",
    "import chisel3.util._\n",
    "import chisel3.tester._\n",
    "import chisel3.tester.RawTester.test"
   ]
  },
  {
   "cell_type": "markdown",
   "id": "balanced-animation",
   "metadata": {
    "slideshow": {
     "slide_type": "slide"
    }
   },
   "source": [
    "## Recap of What Chisel/Scala Does\n",
    "\n",
    "* Your \"Chisel\" design is a valid Scala program (otherwise will get a Scala compile error)\n",
    "  * Chisel is a Scala library, and we treat it like an _embedded domain-specific language_\n",
    "* While executing, any Chisel object referenced/constructed is instantiated\n",
    "  * Includes even a literal (e.g. `4.U`) or a slight tweak (e.g. `~io.in`)\n",
    "  * Every object has _inputs_ and/or _outputs_\n",
    "  * Under the hood, those objects are tracked (e.g. inside `extends Module`)\n",
    "* Chisel connections (`:=` and `<>`) induce side-effects on the Chisel objects\n",
    "  * Changes inputs by connecting them to outputs\n",
    "* _Summary:_ think of your Chisel design as a Scala program that _instantiates_ Chisel things and _connects_ them\n",
    "  * Much of the parameterizability/flexibility is coming from the Scala program\n",
    "* Your goal is to properly connect things to the inputs/outputs of modules\n",
    "  * Tools will prune components that are uncreachable from an input or output"
   ]
  },
  {
   "cell_type": "markdown",
   "id": "plain-school",
   "metadata": {
    "slideshow": {
     "slide_type": "slide"
    }
   },
   "source": [
    "## Hardware Designs Are _Static Structurally_ with _Dynamic Signals_\n",
    "\n",
    "* Hardware's connectivity/structure is _static_ after _elaboration_\n",
    "  * Even though we are only simulating and not manufacturing the physical designs, the design is unchanged\n",
    "  * A mux input can change its output, but it has static connections externally\n",
    "* A wire can carry different values in different cycles (in simulation or real world), but the wire's endpoint connections are unchanged\n",
    "  * A wire has no internal state, and directly propagates its input to its output\n",
    "  * A wire changing value over \"time\" is caused by its input changing over time\n",
    "* A _register_ (or memory) has internal state, but only changes value at the rising clock edge\n",
    "  * At rising edge, input value becomes output (and internal state) value\n",
    "  * Typically in Chisel we don't explicitly show clock, so sometimes easy to loose track of when things change"
   ]
  },
  {
   "cell_type": "markdown",
   "id": "responsible-liberty",
   "metadata": {
    "slideshow": {
     "slide_type": "slide"
    }
   },
   "source": [
    "## Mutability, but When & Where?\n",
    "\n",
    "* _Mutability_ (e.g. `var` in Scala) impacts how your Scala program will behave\n",
    "  * Chisel tools mostly can't tell if you declare things with `val` or `var`\n",
    "  * Do not confuse mutability in Scala with hardware signal values varying in time\n",
    "* Example of implementing a counter\n",
    "    * **Incorrect**\n",
    "    ```scala\n",
    "    var counter = 0.U\n",
    "    counter = counter + 1.U\n",
    "    ```\n",
    "        * `counter` (in elaborated hardware) will always be `0 + 1`\n",
    "    * **Better**\n",
    "    ```scala\n",
    "    val counter = Reg(UInt())\n",
    "    counter := counter + 1.U\n",
    "    ```\n",
    "        * will increment over time, but may need to worry about reset & bitwidth"
   ]
  },
  {
   "cell_type": "markdown",
   "id": "impossible-conversation",
   "metadata": {
    "slideshow": {
     "slide_type": "slide"
    }
   },
   "source": [
    "## More Reason to Avoid `var`\n",
    "* Reassignments can do weird things to your Chisel design that make it hard to debug \n",
    "* Chisel tools can't outright stop use of `var`, but progress has been made in detection/warning\n",
    "  * ```Source has escaped the scope of the when in which it was constructed.```\n",
    "* We have now covered `map`,`reduce`, and others, so not much need"
   ]
  },
  {
   "cell_type": "code",
   "execution_count": null,
   "id": "thorough-master",
   "metadata": {},
   "outputs": [],
   "source": [
    "class DangerousVar extends Module {\n",
    "    val io = IO(new Bundle {\n",
    "        val in = Input(SInt(8.W))\n",
    "        val out = Output(SInt(8.W))\n",
    "    })\n",
    "    var w = WireInit(io.in)\n",
    "    when (io.in < 0.S) {\n",
    "        w := 0.S   // what if typo: w = 0.S\n",
    "    }\n",
    "    io.out := w\n",
    "}\n",
    "\n",
    "println(getVerilog(new DangerousVar))"
   ]
  },
  {
   "cell_type": "markdown",
   "id": "bridal-sector",
   "metadata": {
    "slideshow": {
     "slide_type": "slide"
    }
   },
   "source": [
    "## Use Mutable Collections Sparingly\n",
    "\n",
    "* We used them for HW3 because we hadn't covered functional programming yet\n",
    "* Now with functional programming, can often avoid the need\n",
    "  * If things are independent, can use `map`, `foreach` (for Chisel connections), or `.tabulate` (to populate a `Seq`)\n",
    "  * If some sort of loop-carried dependence, can use `foldLeft`\n",
    "* Example of incrementing all values\n",
    "    * **Gross**\n",
    "        ```scala\n",
    "        val a = ArrayBuffer.tabulate(5)(_.toInt)\n",
    "        for (i <- 0 until 5)\n",
    "          a(i) += 1\n",
    "        ```\n",
    "        * Uses mutation and iteration is a distraction\n",
    "    * **Better**\n",
    "        ```scala\n",
    "        val orig = Seq.tabulate(5)(_.toInt)\n",
    "        val incremented = orig.map{ _+1 }\n",
    "        ```\n",
    "        * No mutation or unnecessary iteration\n",
    "\n"
   ]
  },
  {
   "cell_type": "markdown",
   "id": "underlying-amazon",
   "metadata": {
    "slideshow": {
     "slide_type": "slide"
    }
   },
   "source": [
    "## Reduce Number of Special Cases\n",
    "\n",
    "* Saw some submissions which hardcoded cases for every parameter value anticipated\n",
    "  * Not scalable if number of parameter values is large\n",
    "* In general, look to reduce special cases in code\n",
    "  * Many constructs (e.g. `foldLeft`) work gracefully with 0 elements, so just need to handle _sufficiently general_ case\n",
    "  * If you do need to handle a special case, try to limit it to only one\n",
    "    * If you need more, see if you can't _generalize_"
   ]
  },
  {
   "cell_type": "markdown",
   "id": "phantom-addiction",
   "metadata": {
    "slideshow": {
     "slide_type": "slide"
    }
   },
   "source": [
    "## How Does `for` or `foreach` Interact with Chisel?\n",
    "\n",
    "* Both `for` and `foreach` impact Scala execution when constructing the Chisel design\n",
    "* Typically they are best used for creating arbitrary number of connections\n",
    "  * The benefit is the side effect of connection(s) being made\n",
    "  * If a result is the goal, then `map` is probably a better fit\n",
    "* Style wise typically prefer...\n",
    "  * `foreach` if collection/range already exists\n",
    "  * `for` if creating range or need index variable\n",
    "    * Yes, could use `.zipWithIndex` with `foreach`, but cumbersome\n",
    "  "
   ]
  },
  {
   "cell_type": "markdown",
   "id": "compliant-conference",
   "metadata": {
    "slideshow": {
     "slide_type": "slide"
    }
   },
   "source": [
    "## Avoid Unnecessary Extra Logic\n",
    "\n",
    "* Although CAD tools can often optimize away innefficient logic, still make modest effort\n",
    "  * Simpler logic can also be simpler to read/maintain\n",
    "* For working with 2D grids, we often saw `%` and `/` to pull out row & column indices from a single counter\n",
    "  * Consider using 2 counters (1 for row & 1 for column)\n",
    "  * `%` and `/` are quite expensive in hardware, so avoid if possible\n",
    "  * Also saw `*` for generating single index, but may also be avoidable\n",
    "* For accessing bits or moving bits, saw `<<` and `&` (with masks)\n",
    "  * Necessary in software, but not in Chisel\n",
    "  * Chisel has bit select `x(hi,lo)`, `tail` and `head` to select\n",
    "  * Chisel has `Cat` to put them together"
   ]
  },
  {
   "cell_type": "markdown",
   "id": "double-scoop",
   "metadata": {
    "slideshow": {
     "slide_type": "slide"
    }
   },
   "source": [
    "## Chisel Style - Avoid Declaring Significant HW inside `when`\n",
    "\n",
    "* Hardware declared inside a `when` block is always instantiated/exists\n",
    "  * The conditional aspects of `when` only control when connections to it are active (via muxes)\n",
    "  * By contrast, a declaration inside a Scala `if` may not be instantiated\n",
    "* Arguably, sometimes more clear to instantiate things outside to clarify intent"
   ]
  },
  {
   "cell_type": "code",
   "execution_count": null,
   "id": "centered-configuration",
   "metadata": {},
   "outputs": [],
   "source": [
    "class CounterWhenDemo extends Module {\n",
    "    val io = IO(new Bundle {\n",
    "        val en = Input(Bool())\n",
    "        val in = Input(UInt(8.W))\n",
    "        val out = Output(UInt(8.W))\n",
    "    })\n",
    "    io.out := 0.U\n",
    "    when (io.en) {\n",
    "        val (count, wrap) = Counter(0 until 4)\n",
    "        io.out := count\n",
    "    }\n",
    "}\n",
    "\n",
    "println(getVerilog(new CounterWhenDemo))"
   ]
  },
  {
   "cell_type": "markdown",
   "id": "amazing-injection",
   "metadata": {
    "slideshow": {
     "slide_type": "slide"
    }
   },
   "source": [
    "## Scala Style - Use either `until` or `to`\n",
    "\n",
    "* Scala provides both `until` (exclusive bounds) and `to` (inclusive bounds)\n",
    "  * Thus, usually shouldn't need to have `n-1` or `n+1` in a bound\n",
    "* Can convert `0 to n-1` to `0 until n`"
   ]
  },
  {
   "cell_type": "code",
   "execution_count": null,
   "id": "novel-haven",
   "metadata": {},
   "outputs": [],
   "source": [
    "val n = 4\n",
    "(0 until n) foreach println"
   ]
  },
  {
   "cell_type": "markdown",
   "id": "pharmaceutical-chamber",
   "metadata": {
    "slideshow": {
     "slide_type": "slide"
    }
   },
   "source": [
    "## When to use `require` vs `assert`?\n",
    "\n",
    "* Part of confusion is which `assert` (Chisel or Scala) gets called?\n",
    "* Chisel `assert` checks value in _simulation,_ but not during _construction_\n",
    "  * Emits non-synthesizable Verilog\n",
    "  * Chisel one is used when result is `Bool` (i.e. result of Chisel comparison)\n",
    "  * Can also customize assertion with failure message\n",
    "* Scala `assert` checks during _construction_ but not _simulation_\n",
    "  * Will be used if result is `Boolean` (i.e. result of Scala comparison)\n",
    "* Recommend using `require` instead of Scala `assert`\n",
    "  * Both `require` and `assert` built into Scala and evaluated at run time\n",
    "  * Stylistically, `require` is for checking input sanity while `assert` is for checking internal consistency\n",
    "    * Can also use flags to remove Scala `assert` (but not `require`) at compile time to reduce binary size"
   ]
  },
  {
   "cell_type": "markdown",
   "id": "random-planning",
   "metadata": {
    "slideshow": {
     "slide_type": "slide"
    }
   },
   "source": [
    "## Playing with Different Types of `assert`"
   ]
  },
  {
   "cell_type": "code",
   "execution_count": null,
   "id": "phantom-ultimate",
   "metadata": {},
   "outputs": [],
   "source": [
    "class CheckNonZero(width: Int) extends Module {\n",
    "    val io = IO(new Bundle {\n",
    "        val in = Input(UInt(width.W))\n",
    "        val out = Output(UInt(width.W))\n",
    "    })\n",
    "    require(width > 0)\n",
    "    assert(io.in > 0.U, \"saw 0 input\")\n",
    "    io.out := io.in\n",
    "}\n",
    "\n",
    "println(getVerilog(new CheckNonZero(8)))"
   ]
  },
  {
   "cell_type": "markdown",
   "id": "velvet-sailing",
   "metadata": {
    "slideshow": {
     "slide_type": "slide"
    }
   },
   "source": [
    "## \"Flattening\" & \"Unflattening\" Bundles\n",
    "\n",
    "* Chisel generates a separate memory for each field of a `Bundle` (or element of a `Vec`)\n",
    "  * This is usually what you want, so good default\n",
    "  * However, sometimes, you may want to keep them all as one memory\n",
    "* Can use `.getWidth` on a Bundle instance to see how many bits it is\n",
    "* Can use `.asTypeOf` to cast bits into desired Bundle (sometimes called _reverse concatenation_)"
   ]
  },
  {
   "cell_type": "code",
   "execution_count": null,
   "id": "baking-veteran",
   "metadata": {},
   "outputs": [],
   "source": [
    "class Pair extends Bundle {\n",
    "    val a = UInt(1.W)\n",
    "    val b = UInt(7.W)\n",
    "}\n",
    "\n",
    "class MemCohesion extends Module {\n",
    "    val io = IO(new Bundle {\n",
    "        val addr = Input(UInt(8.W))\n",
    "        val out = Output(new Pair())\n",
    "    })\n",
    "    val m = Mem(256, new Pair)\n",
    "    io.out := m(io.addr)\n",
    "//     val m = Mem(256, UInt((new Pair).getWidth.W))\n",
    "//     io.out := m(io.addr).asTypeOf(new Pair)\n",
    "}\n",
    "\n",
    "println(getVerilog(new MemCohesion))"
   ]
  }
 ],
 "metadata": {
  "celltoolbar": "Slideshow",
  "kernelspec": {
   "display_name": "Scala",
   "language": "scala",
   "name": "scala"
  },
  "language_info": {
   "codemirror_mode": "text/x-scala",
   "file_extension": ".sc",
   "mimetype": "text/x-scala",
   "name": "scala",
   "nbconvert_exporter": "script",
   "version": "2.13.4"
  }
 },
 "nbformat": 4,
 "nbformat_minor": 5
}
