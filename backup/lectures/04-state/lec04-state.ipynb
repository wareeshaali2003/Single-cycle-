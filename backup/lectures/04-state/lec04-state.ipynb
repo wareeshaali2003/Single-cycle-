{
 "cells": [
  {
   "cell_type": "markdown",
   "id": "external-thermal",
   "metadata": {
    "slideshow": {
     "slide_type": "slide"
    }
   },
   "source": [
    "## Agile Hardware Design\n",
    "***\n",
    "# Sequential Circuits\n",
    "\n",
    "## Prof. Scott Beamer\n",
    "### sbeamer@ucsc.edu\n",
    "\n",
    "## [CSE 293](https://classes.soe.ucsc.edu/cse293/Winter22/)"
   ]
  },
  {
   "cell_type": "markdown",
   "id": "nominated-consistency",
   "metadata": {
    "slideshow": {
     "slide_type": "slide"
    }
   },
   "source": [
    "## Plan for Today\n",
    "\n",
    "* Registers!\n",
    "* Example sequential blocks\n",
    "* State machines\n",
    "* Viewing simulation results"
   ]
  },
  {
   "cell_type": "markdown",
   "id": "regular-reducing",
   "metadata": {
    "slideshow": {
     "slide_type": "slide"
    }
   },
   "source": [
    "## Loading The Chisel Library Into a Notebook"
   ]
  },
  {
   "cell_type": "code",
   "execution_count": null,
   "id": "robust-immigration",
   "metadata": {},
   "outputs": [],
   "source": [
    "val path = System.getProperty(\"user.dir\") + \"/../resource/chisel_deps.sc\"\n",
    "interp.load.module(ammonite.ops.Path(java.nio.file.FileSystems.getDefault().getPath(path)))"
   ]
  },
  {
   "cell_type": "code",
   "execution_count": null,
   "id": "extended-burning",
   "metadata": {
    "slideshow": {
     "slide_type": "-"
    }
   },
   "outputs": [],
   "source": [
    "import chisel3._\n",
    "import chisel3.util._\n",
    "import chisel3.tester._\n",
    "import chisel3.tester.RawTester.test\n",
    "import treadle._"
   ]
  },
  {
   "cell_type": "markdown",
   "id": "valued-register",
   "metadata": {
    "cell_style": "center",
    "slideshow": {
     "slide_type": "slide"
    }
   },
   "source": [
    "## Registers"
   ]
  },
  {
   "cell_type": "markdown",
   "id": "prompt-settlement",
   "metadata": {
    "cell_style": "split"
   },
   "source": [
    "* Explicitly declare a register with `Reg(type)`\n",
    "  * Contrast from Verilog where registers are synthesized\n",
    "* A register is simply another block, no special semantics for time\n",
    "  * Simply need to connect its input and its output\n",
    "* `clock` and `reset` are implicit\n",
    "* Not covered today: functionality for using other clocks ([multi-clock](https://www.chisel-lang.org/chisel3/docs/explanations/multi-clock.html) and [asynchronous reset](https://www.chisel-lang.org/chisel3/docs/explanations/reset.html)"
   ]
  },
  {
   "cell_type": "markdown",
   "id": "emerging-avenue",
   "metadata": {
    "cell_style": "split"
   },
   "source": [
    "<img src=\"images/reg.svg\" alt=\"register schamic\" style=\"width:100%;\" align=\"center\"/>"
   ]
  },
  {
   "cell_type": "markdown",
   "id": "raising-budget",
   "metadata": {
    "cell_style": "split",
    "slideshow": {
     "slide_type": "slide"
    }
   },
   "source": [
    "## Other Flavors of `Reg`\n",
    "\n",
    "* Helper functions streamline\n",
    "\n",
    "### [Set Initial Value](https://www.chisel-lang.org/api/latest/chisel3/RegInit$.html) - `RegInit(init)`\n",
    "* Value applied synchronously when `reset` true\n",
    "\n",
    "### [Attach Input](https://www.chisel-lang.org/api/latest/chisel3/RegNext$.html) - `RegNext(next)`\n",
    "* Useful for delaying a signal by a cycle\n",
    "* Connects input in same line\n",
    "\n",
    "### [Enable](https://www.chisel-lang.org/api/latest/chisel3/util/RegEnable$.html) - `RegEnable(next, en)`\n",
    "* Write enable for when to update"
   ]
  },
  {
   "cell_type": "code",
   "execution_count": null,
   "id": "recovered-technique",
   "metadata": {
    "cell_style": "split",
    "scrolled": true
   },
   "outputs": [],
   "source": [
    "class RegLand extends Module {\n",
    "    val io = IO(new Bundle {\n",
    "        val in  = Input(Bool())\n",
    "        val en  = Input(Bool())\n",
    "        val out = Output(Bool())\n",
    "    })\n",
    "    val r = Reg(Bool())\n",
    "//     val r = RegInit(0.B)\n",
    "    r := io.in\n",
    "    io.out := r\n",
    "//     io.out := RegNext(io.in, 0.B)\n",
    "//     io.out := RegEnable(io.in, 0.B, io.en)\n",
    "}\n",
    "println(getVerilog(new RegLand))"
   ]
  },
  {
   "cell_type": "markdown",
   "id": "wicked-violation",
   "metadata": {
    "slideshow": {
     "slide_type": "slide"
    }
   },
   "source": [
    "## Example: Counter (done manually)"
   ]
  },
  {
   "cell_type": "code",
   "execution_count": null,
   "id": "organized-auditor",
   "metadata": {
    "scrolled": true
   },
   "outputs": [],
   "source": [
    "class MyCounter(maxVal: Int) extends Module {\n",
    "    val io = IO(new Bundle {\n",
    "        val en  = Input(Bool())\n",
    "        val out = Output(UInt())\n",
    "    })\n",
    "    val count = Reg(UInt(log2Ceil(maxVal+1).W))\n",
    "    val nextVal = Mux(count < maxVal.U, count + 1.U, 0.U)\n",
    "    val applyEn = Mux(io.en, nextVal, count)\n",
    "    count := Mux(reset.asBool, 0.U, applyEn)\n",
    "    io.out := count\n",
    "}\n",
    "println(getVerilog(new MyCounter(15)))"
   ]
  },
  {
   "cell_type": "markdown",
   "id": "primary-dubai",
   "metadata": {
    "slideshow": {
     "slide_type": "slide"
    }
   },
   "source": [
    "## Example: Counter (using RegInit)"
   ]
  },
  {
   "cell_type": "code",
   "execution_count": null,
   "id": "surgical-webmaster",
   "metadata": {
    "scrolled": true
   },
   "outputs": [],
   "source": [
    "class MyCounter(maxVal: Int) extends Module {\n",
    "    val io = IO(new Bundle {\n",
    "        val en  = Input(Bool())\n",
    "        val out = Output(UInt())\n",
    "    })\n",
    "    val count = RegInit(0.U(log2Ceil(maxVal+1).W))\n",
    "    val nextVal = Mux(count < maxVal.U, count + 1.U, 0.U)\n",
    "    count := Mux(io.en, nextVal, count)\n",
    "    io.out := count\n",
    "}\n",
    "println(getVerilog(new MyCounter(15)))"
   ]
  },
  {
   "cell_type": "markdown",
   "id": "inner-fabric",
   "metadata": {
    "slideshow": {
     "slide_type": "slide"
    }
   },
   "source": [
    "## Example: Counter (using when)"
   ]
  },
  {
   "cell_type": "code",
   "execution_count": null,
   "id": "classical-pontiac",
   "metadata": {
    "scrolled": true
   },
   "outputs": [],
   "source": [
    "class MyCounter(maxVal: Int) extends Module {\n",
    "    val io = IO(new Bundle {\n",
    "        val en  = Input(Bool())\n",
    "        val out = Output(UInt())\n",
    "    })\n",
    "    val count = RegInit(0.U(log2Ceil(maxVal+1).W))\n",
    "    when (io.en) {\n",
    "        when (count < maxVal.U) {\n",
    "            count := count + 1.U\n",
    "        } .otherwise {\n",
    "            count := 0.U\n",
    "        }\n",
    "    }\n",
    "    io.out := count\n",
    "}\n",
    "println(getVerilog(new MyCounter(15)))"
   ]
  },
  {
   "cell_type": "markdown",
   "id": "sexual-reducing",
   "metadata": {
    "slideshow": {
     "slide_type": "slide"
    }
   },
   "source": [
    "## Example: Counter (using RegEnable, too dense?)"
   ]
  },
  {
   "cell_type": "code",
   "execution_count": null,
   "id": "abroad-outdoors",
   "metadata": {
    "scrolled": true
   },
   "outputs": [],
   "source": [
    "class MyCounter(maxVal: Int) extends Module {\n",
    "    val io = IO(new Bundle {\n",
    "        val en  = Input(Bool())\n",
    "        val count = Output(UInt(log2Ceil(maxVal+1).W))\n",
    "    })\n",
    "    io.count := RegEnable(Mux(io.count < maxVal.U, io.count + 1.U, 0.U), 0.U, io.en)\n",
    "}\n",
    "println(getVerilog(new MyCounter(15)))"
   ]
  },
  {
   "cell_type": "markdown",
   "id": "normal-awareness",
   "metadata": {
    "slideshow": {
     "slide_type": "slide"
    }
   },
   "source": [
    "## Testing MyCounter"
   ]
  },
  {
   "cell_type": "code",
   "execution_count": null,
   "id": "still-pulse",
   "metadata": {},
   "outputs": [],
   "source": [
    "test(new MyCounter(3)) { c =>\n",
    "// test(new MyCounter(3), Seq(WriteVcdAnnotation)) { c =>\n",
    "    c.io.en.poke(1.B)\n",
    "    c.io.out.expect(0.U)\n",
    "    c.clock.step()\n",
    "\n",
    "    c.io.en.poke(1.B)\n",
    "    c.io.out.expect(1.U)\n",
    "    c.clock.step()\n",
    "\n",
    "    c.io.en.poke(1.B)\n",
    "    c.io.out.expect(2.U)\n",
    "    c.clock.step()\n",
    "\n",
    "    c.io.en.poke(0.B)\n",
    "    c.io.out.expect(3.U)\n",
    "    c.clock.step()\n",
    "\n",
    "    c.io.en.poke(1.B)\n",
    "    c.io.out.expect(3.U)\n",
    "    c.clock.step()\n",
    "\n",
    "    c.io.en.poke(1.B)\n",
    "    c.io.out.expect(0.U)\n",
    "    c.clock.step()\n",
    "}"
   ]
  },
  {
   "cell_type": "markdown",
   "id": "excessive-search",
   "metadata": {
    "slideshow": {
     "slide_type": "slide"
    }
   },
   "source": [
    "## Chisel `Enum`\n",
    "\n",
    "* `Enum` is Chisel object that assigns `UInt`s (`Enumeration` is Scala)\n",
    "```scala\n",
    "val nameA :: nameB :: nameC :: Nil = Enum(3)\n",
    "```\n",
    "* Helpful for putting human-sensical names to distinct values\n",
    "* Example use cases\n",
    "  * Naming states in a state machine\n",
    "  * Labeling mux way selection options\n",
    "  * Labeling options for interfaces\n",
    "* `ChiselEnum` is a new mechanism in [experimental](https://www.chisel-lang.org/chisel3/docs/explanations/chisel-enum.html)"
   ]
  },
  {
   "cell_type": "markdown",
   "id": "inside-honduras",
   "metadata": {
    "cell_style": "center",
    "slideshow": {
     "slide_type": "slide"
    }
   },
   "source": [
    "## Example State Machine (Raccoon)\n",
    "\n",
    "<img src=\"images/raccoon.svg\" alt=\"raccoon fsm\" style=\"width:45%;\" align=\"center\"/>"
   ]
  },
  {
   "cell_type": "code",
   "execution_count": null,
   "id": "nominated-cleanup",
   "metadata": {
    "scrolled": true,
    "slideshow": {
     "slide_type": "slide"
    }
   },
   "outputs": [],
   "source": [
    "class Raccoon extends Module { // using when\n",
    "    val io = IO(new Bundle {\n",
    "        val noise = Input(Bool())\n",
    "        val trash = Input(Bool())\n",
    "        val food  = Input(Bool())\n",
    "        val action = Output(UInt())\n",
    "    })\n",
    "    val hide :: wander :: rummage :: eat :: Nil = Enum(4)\n",
    "    val state = RegInit(hide)\n",
    "    when (state === hide) {\n",
    "        when (!io.noise) { state := wander }\n",
    "    } .elsewhen (state === wander) {\n",
    "        when (io.noise) { state := hide }\n",
    "        .elsewhen (io.trash) { state := rummage }\n",
    "    } .elsewhen (state === rummage) {\n",
    "        when (io.noise) { state := hide }\n",
    "        .elsewhen (io.food) { state := eat }\n",
    "    } .elsewhen (state === eat) {\n",
    "        when (io.noise) { state := hide }\n",
    "        .elsewhen (!io.food) { state := wander }\n",
    "    }\n",
    "    io.action := state\n",
    "}\n",
    "println(getVerilog(new Raccoon))"
   ]
  },
  {
   "cell_type": "code",
   "execution_count": null,
   "id": "intelligent-sound",
   "metadata": {
    "cell_style": "center",
    "scrolled": true,
    "slideshow": {
     "slide_type": "slide"
    }
   },
   "outputs": [],
   "source": [
    "class Raccoon extends Module { // using switch\n",
    "    val io = IO(new Bundle {\n",
    "        val noise = Input(Bool())\n",
    "        val trash = Input(Bool())\n",
    "        val food  = Input(Bool())\n",
    "        val action = Output(UInt())\n",
    "    })\n",
    "    val hide :: wander :: rummage :: eat :: Nil = Enum(4)\n",
    "    val state = RegInit(hide)\n",
    "    switch(state) {\n",
    "        is (hide) {\n",
    "            when (!io.noise) { state := wander }\n",
    "        }\n",
    "        is (wander) {\n",
    "            when (io.noise) { state := hide }\n",
    "            .elsewhen (io.trash) { state := rummage }\n",
    "        }\n",
    "        is (rummage) {\n",
    "            when (io.noise) { state := hide }\n",
    "            .elsewhen (io.food) { state := eat }\n",
    "        }\n",
    "        is (eat) {\n",
    "            when (io.noise) { state := hide }\n",
    "            .elsewhen (!io.food) { state := wander }\n",
    "        }\n",
    "    }\n",
    "    io.action := state\n",
    "}\n",
    "println(getVerilog(new Raccoon))"
   ]
  },
  {
   "cell_type": "code",
   "execution_count": null,
   "id": "meaningful-threshold",
   "metadata": {
    "slideshow": {
     "slide_type": "slide"
    }
   },
   "outputs": [],
   "source": [
    "test(new Raccoon()) { r =>\n",
    "    r.io.noise.poke(1.B)\n",
    "    r.io.trash.poke(0.B)\n",
    "    r.io.food.poke(0.B)\n",
    "    r.clock.step()\n",
    "    r.io.action.expect(0.U)\n",
    "\n",
    "    r.io.noise.poke(0.B)\n",
    "    r.clock.step()\n",
    "    r.io.action.expect(1.U)\n",
    "\n",
    "    r.io.trash.poke(1.B)\n",
    "    r.clock.step()\n",
    "    r.io.action.expect(2.U)\n",
    "\n",
    "    r.io.trash.poke(0.B)\n",
    "    r.io.food.poke(1.B)\n",
    "    r.clock.step()\n",
    "    r.io.action.expect(3.U)\n",
    "\n",
    "    r.io.food.poke(1.B)\n",
    "    r.clock.step()\n",
    "    r.io.action.expect(3.U)\n",
    "\n",
    "    r.io.food.poke(0.B)\n",
    "    r.clock.step()\n",
    "    r.io.action.expect(1.U)\n",
    "\n",
    "    r.io.noise.poke(1.B)\n",
    "    r.clock.step()\n",
    "    r.io.action.expect(0.U)\n",
    "}"
   ]
  },
  {
   "cell_type": "code",
   "execution_count": null,
   "id": "under-prairie",
   "metadata": {
    "slideshow": {
     "slide_type": "skip"
    }
   },
   "outputs": [],
   "source": [
    "test(new Raccoon()) { r =>\n",
    "    r.io.noise.poke(1.B)\n",
    "    r.io.trash.poke(0.B)\n",
    "    r.io.food.poke(0.B)\n",
    "    r.clock.step()\n",
    "    r.io.action.expect(0.U)\n",
    "\n",
    "    r.io.noise.poke(0.B)\n",
    "    r.io.trash.poke(0.B)\n",
    "    r.io.food.poke(0.B)\n",
    "    r.clock.step()\n",
    "    r.io.action.expect(1.U)\n",
    "\n",
    "    r.io.noise.poke(0.B)\n",
    "    r.io.trash.poke(1.B)\n",
    "    r.io.food.poke(0.B)\n",
    "    r.clock.step()\n",
    "    r.io.action.expect(2.U)\n",
    "\n",
    "    r.io.noise.poke(0.B)\n",
    "    r.io.trash.poke(0.B)\n",
    "    r.io.food.poke(1.B)\n",
    "    r.clock.step()\n",
    "    r.io.action.expect(3.U)\n",
    "\n",
    "    r.io.noise.poke(0.B)\n",
    "    r.io.trash.poke(0.B)\n",
    "    r.io.food.poke(1.B)\n",
    "    r.clock.step()\n",
    "    r.io.action.expect(3.U)\n",
    "\n",
    "    r.io.noise.poke(0.B)\n",
    "    r.io.trash.poke(0.B)\n",
    "    r.io.food.poke(0.B)\n",
    "    r.clock.step()\n",
    "    r.io.action.expect(1.U)\n",
    "\n",
    "    r.io.noise.poke(1.B)\n",
    "    r.io.trash.poke(0.B)\n",
    "    r.io.food.poke(0.B)\n",
    "    r.clock.step()\n",
    "    r.io.action.expect(0.U)\n",
    "}"
   ]
  },
  {
   "cell_type": "markdown",
   "id": "fresh-rover",
   "metadata": {
    "slideshow": {
     "slide_type": "slide"
    }
   },
   "source": [
    "## Collecting Useful Output from Simulation\n",
    "\n",
    "* So far, we have used a PeekPoke tester to interact with the design\n",
    "    * Running tests is a specific form of simulation\n",
    "    * Tests can explicitly check for certain behavior\n",
    "* Can set up explicit print statements (next slide)\n",
    "* Can record waveforms as VCD (demo)\n",
    "* Recommend building extensive tests, use prints & waveforms _only for debugging_\n",
    "    * Tests should be automated (e.g. using ChiselTest), and should not require a human to inspect print output or waveforms"
   ]
  },
  {
   "cell_type": "markdown",
   "id": "seventh-production",
   "metadata": {
    "slideshow": {
     "slide_type": "slide"
    }
   },
   "source": [
    "## Printing - In Scala (during generation)\n",
    "* Can use `println`\n",
    "* Scala string interpolation allows for variable names or even expressions inside strings\n",
    "```scala\n",
    "println(s\"this is $myVal and ${foo.bar}\")\n",
    "```"
   ]
  },
  {
   "cell_type": "code",
   "execution_count": null,
   "id": "aggregate-finish",
   "metadata": {},
   "outputs": [],
   "source": [
    "val myVal = 4\n",
    "println(s\"this is $myVal and it is ${myVal.getClass}\")"
   ]
  },
  {
   "cell_type": "markdown",
   "id": "restricted-luxury",
   "metadata": {
    "slideshow": {
     "slide_type": "slide"
    }
   },
   "source": [
    "### Printing - In Chisel (during simulation)\n",
    "* Can use `printf` in C-style\n",
    "```scala\n",
    "printf(\"myVal: %d\", myVal)\n",
    "```\n",
    "* ... or interpolation style\n",
    "```scala\n",
    "printf(p\"myVal: $myVal\")\n",
    "```"
   ]
  },
  {
   "cell_type": "code",
   "execution_count": null,
   "id": "liquid-shark",
   "metadata": {},
   "outputs": [],
   "source": [
    "class MyCounter(maxVal: Int) extends Module {\n",
    "    val io = IO(new Bundle {\n",
    "        val en  = Input(Bool())\n",
    "        val out = Output(UInt())\n",
    "    })\n",
    "    val count = RegInit(0.U(log2Ceil(maxVal+1).W))\n",
    "    when (io.en) {\n",
    "        when (count < maxVal.U) {\n",
    "            printf(\"incrementing to %d\\n\", count)\n",
    "//             printf(p\"incrementing to $count\\n\", count)\n",
    "            count := count + 1.U\n",
    "        } .otherwise {\n",
    "            count := 0.U\n",
    "            printf(\"wrapping to      0\\n\")\n",
    "        }\n",
    "    }\n",
    "    io.out := count\n",
    "}\n",
    "// println(getVerilog(new MyCounter(15)))"
   ]
  },
  {
   "cell_type": "markdown",
   "id": "broad-postcard",
   "metadata": {
    "slideshow": {
     "slide_type": "slide"
    }
   },
   "source": [
    "### Printing - In Chisel (during simulation) Demo"
   ]
  },
  {
   "cell_type": "code",
   "execution_count": null,
   "id": "logical-cholesterol",
   "metadata": {},
   "outputs": [],
   "source": [
    "test(new MyCounter(3)) { c =>\n",
    "    c.io.en.poke(1.B)\n",
    "    c.clock.step()\n",
    "    c.clock.step()\n",
    "    c.clock.step()\n",
    "    c.clock.step()\n",
    "    c.clock.step()\n",
    "}"
   ]
  },
  {
   "cell_type": "markdown",
   "id": "concerned-camera",
   "metadata": {
    "slideshow": {
     "slide_type": "slide"
    }
   },
   "source": [
    "## Additional Ways to Express Literals\n",
    "\n",
    "* Can add `.U`, `.S`, `.B` to cast to `UInt`, `SInt`, `Bool`\n",
    "* Can specify bitwidth with more explicit types\n",
    "* Can prefix a string with encoding `h` (hex), `o` (octal), `b` (binary)\n",
    "* Can break up long literals with `_`"
   ]
  },
  {
   "cell_type": "code",
   "execution_count": null,
   "id": "bearing-insertion",
   "metadata": {},
   "outputs": [],
   "source": [
    "\"ha\".U\n",
    "\"h_dead_beef\".U\n",
    "\"ha\".U\n",
    "\"ha\".U(8.W)\n",
    "\"ha\".asUInt(8.W)"
   ]
  }
 ],
 "metadata": {
  "celltoolbar": "Slideshow",
  "kernelspec": {
   "display_name": "Scala",
   "language": "scala",
   "name": "scala"
  },
  "language_info": {
   "codemirror_mode": "text/x-scala",
   "file_extension": ".scala",
   "mimetype": "text/x-scala",
   "name": "scala",
   "nbconvert_exporter": "script",
   "version": "2.12.10"
  }
 },
 "nbformat": 4,
 "nbformat_minor": 5
}
