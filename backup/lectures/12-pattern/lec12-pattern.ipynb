{
 "cells": [
  {
   "cell_type": "markdown",
   "id": "external-thermal",
   "metadata": {
    "slideshow": {
     "slide_type": "slide"
    }
   },
   "source": [
    "## Agile Hardware Design\n",
    "***\n",
    "# FP Conclusion + Pattern Matching\n",
    "\n",
    "## Prof. Scott Beamer\n",
    "### sbeamer@ucsc.edu\n",
    "\n",
    "## [CSE 293](https://classes.soe.ucsc.edu/cse293/Winter22/)"
   ]
  },
  {
   "cell_type": "markdown",
   "id": "nominated-consistency",
   "metadata": {
    "slideshow": {
     "slide_type": "slide"
    }
   },
   "source": [
    "## Plan for Today\n",
    "\n",
    "* FP conclusion: flatMap, filter, sum\n",
    "* Pattern matching\n",
    "* Gracefully handling Option"
   ]
  },
  {
   "cell_type": "markdown",
   "id": "regular-reducing",
   "metadata": {
    "slideshow": {
     "slide_type": "slide"
    }
   },
   "source": [
    "## Loading The Chisel Library Into a Notebook"
   ]
  },
  {
   "cell_type": "code",
   "execution_count": null,
   "id": "robust-immigration",
   "metadata": {},
   "outputs": [],
   "source": [
    "val path = System.getProperty(\"user.dir\") + \"/../resource/chisel_deps.sc\"\n",
    "interp.load.module(ammonite.ops.Path(java.nio.file.FileSystems.getDefault().getPath(path)))"
   ]
  },
  {
   "cell_type": "code",
   "execution_count": null,
   "id": "extended-burning",
   "metadata": {
    "slideshow": {
     "slide_type": "-"
    }
   },
   "outputs": [],
   "source": [
    "import chisel3._\n",
    "import chisel3.util._\n",
    "import chisel3.tester._\n",
    "import chisel3.tester.RawTester.test"
   ]
  },
  {
   "cell_type": "markdown",
   "id": "official-policy",
   "metadata": {
    "slideshow": {
     "slide_type": "slide"
    }
   },
   "source": [
    "## Scala `flatMap`\n",
    "\n",
    "* Like `map`, but concatenates output of function's\n",
    "  * More direct than calling `map` and then `flatten`\n",
    "* Helpful for aggregating results of map when they are a collection"
   ]
  },
  {
   "cell_type": "code",
   "execution_count": null,
   "id": "demanding-adams",
   "metadata": {},
   "outputs": [],
   "source": [
    "val l = 0 until 5\n",
    "// Seq.fill(2)(3)\n",
    "println(l map { i => Seq.fill(i)(i) })\n",
    "println((l map { i: Int => Seq.fill(i)(i) }).flatten)\n",
    "println(l flatMap { i => Seq.fill(i)(i) })"
   ]
  },
  {
   "cell_type": "markdown",
   "id": "directed-engineering",
   "metadata": {
    "slideshow": {
     "slide_type": "slide"
    }
   },
   "source": [
    "## Visualizing `map` on Collections\n",
    "\n",
    "<img src=\"images/mapOnC.svg\" alt=\"map on collections\" style=\"width:70%;margin-left:auto;margin-right:auto\"/>"
   ]
  },
  {
   "cell_type": "markdown",
   "id": "athletic-lightweight",
   "metadata": {
    "slideshow": {
     "slide_type": "slide"
    }
   },
   "source": [
    "## Visualizing `flatMap`\n",
    "\n",
    "<img src=\"images/flatmap.svg\" alt=\"flatmap\" style=\"width:70%;margin-left:auto;margin-right:auto\"/>"
   ]
  },
  {
   "cell_type": "markdown",
   "id": "divided-impression",
   "metadata": {
    "slideshow": {
     "slide_type": "slide"
    }
   },
   "source": [
    "## Applying Predicates in Scala\n",
    "\n",
    "* A _predicate_ is a function that given a single element returns a `Boolean`\n",
    "* `filter` - elements persists to output collection only if predicate returns true\n",
    "* `forall` - true if and only if predicate is true for all elements\n",
    "* `exists` - true if predicate is true for at least one element"
   ]
  },
  {
   "cell_type": "code",
   "execution_count": null,
   "id": "instant-standard",
   "metadata": {
    "scrolled": true
   },
   "outputs": [],
   "source": [
    "def isEven(x: Int): Boolean = x % 2 == 0\n",
    "val l = 0 until 5\n",
    "\n",
    "l filter isEven\n",
    "// l filter { x => !isEven(x) }\n",
    "l filterNot isEven\n",
    "l forall isEven\n",
    "l exists isEven"
   ]
  },
  {
   "cell_type": "markdown",
   "id": "objective-breast",
   "metadata": {
    "slideshow": {
     "slide_type": "slide"
    }
   },
   "source": [
    "## Visualizing `filter`\n",
    "\n",
    "<img src=\"images/filter.svg\" alt=\"filter viz\" style=\"width:40%;margin-left:auto;margin-right:auto\"/>"
   ]
  },
  {
   "cell_type": "markdown",
   "id": "presidential-accent",
   "metadata": {
    "slideshow": {
     "slide_type": "slide"
    }
   },
   "source": [
    "## Example: Prime Seive in Scala"
   ]
  },
  {
   "cell_type": "code",
   "execution_count": null,
   "id": "agricultural-eight",
   "metadata": {
    "slideshow": {
     "slide_type": "-"
    }
   },
   "outputs": [],
   "source": [
    "def multipleOf(a: Int)(b: Int): Boolean = (b % a == 0)\n",
    "\n",
    "def removeMultiplesOfX(l: Seq[Int], x: Int) = l filterNot multipleOf(x)\n",
    "\n",
    "val allNums = 2 until 100\n",
    "\n",
    "// println(allNums filterNot multipleOf(5))\n",
    "// println(removeMultiplesOfX(allNums, 5))\n",
    "\n",
    "def seive(s: Seq[Int]): Seq[Int] = {\n",
    "    if (s.isEmpty) Seq()\n",
    "    else Seq(s.head) ++ seive(removeMultiplesOfX(s.tail, s.head))\n",
    "}\n",
    "\n",
    "println(seive(allNums))"
   ]
  },
  {
   "cell_type": "markdown",
   "id": "authorized-bacon",
   "metadata": {
    "slideshow": {
     "slide_type": "slide"
    }
   },
   "source": [
    "## Scala Has Common Reductions Built-in\n",
    "\n",
    "* `sum`, `product`, `min`, `max`"
   ]
  },
  {
   "cell_type": "code",
   "execution_count": null,
   "id": "dangerous-copyright",
   "metadata": {},
   "outputs": [],
   "source": [
    "val l = 0 until 5\n",
    "l reduce { _ + _ }\n",
    "l.sum\n",
    "l reduce { _ * _ }\n",
    "l.product\n",
    "l reduce { _ min _ }\n",
    "l.min\n",
    "l reduce { _ max _ }\n",
    "l.max"
   ]
  },
  {
   "cell_type": "markdown",
   "id": "prescription-marks",
   "metadata": {
    "slideshow": {
     "slide_type": "slide"
    }
   },
   "source": [
    "## Example: Using FP to do Matrix Multiplication"
   ]
  },
  {
   "cell_type": "code",
   "execution_count": null,
   "id": "solved-inflation",
   "metadata": {
    "scrolled": true
   },
   "outputs": [],
   "source": [
    "// matrix in row-major layout\n",
    "val mat = Seq.tabulate(4,4){ (i,j) => i+j }\n",
    "\n",
    "def grabCol(m: Seq[Seq[Int]], i: Int) = m map { row => row(i) }\n",
    "grabCol(mat,1)\n",
    "\n",
    "def dotP(a: Seq[Int], b: Seq[Int]) = a.zip(b).map{ case (x,y) => x * y}.sum\n",
    "\n",
    "def matMul(a: Seq[Seq[Int]], b: Seq[Seq[Int]]) = a map {\n",
    "    rowOfA => rowOfA.zipWithIndex map {\n",
    "        case (element, colIndex) => dotP(rowOfA, grabCol(b, colIndex))\n",
    "    }\n",
    "}\n",
    "\n",
    "// def matMul(a: Seq[Seq[Int]], b: Seq[Seq[Int]]) = Seq.tabulate(a.head.length, b.length){\n",
    "//     case (i,j) => dotP(a(i), grabCol(b,j))\n",
    "// }\n",
    "matMul(mat, mat)"
   ]
  },
  {
   "cell_type": "markdown",
   "id": "elder-doctor",
   "metadata": {
    "slideshow": {
     "slide_type": "slide"
    }
   },
   "source": [
    "## Pattern Matching in Scala\n",
    "\n",
    "* Can gracefully scale from replacing simple `if/else` and `switch` cases to more sophisticated searches\n",
    "* Start block with `match` and list matches with `case`\n",
    "* Can use `|` for or\n",
    "* Can use `if` to specify condition\n",
    "* Can use `_` for default (matched nothing above)"
   ]
  },
  {
   "cell_type": "code",
   "execution_count": null,
   "id": "wanted-uruguay",
   "metadata": {},
   "outputs": [],
   "source": [
    "val x = 0\n",
    "\n",
    "x match {\n",
    "    case 0 => \"0\"\n",
    "    case 1 | 3 => \"nah\"\n",
    "    case y if (y%2 == 0) => \"even\"\n",
    "    case 5 => \"found it!\"\n",
    "    case _ => \"other\"\n",
    "}"
   ]
  },
  {
   "cell_type": "markdown",
   "id": "abstract-pierre",
   "metadata": {
    "slideshow": {
     "slide_type": "slide"
    }
   },
   "source": [
    "## Can Match on Case Classes\n",
    "\n",
    "* Can match on type as a whole, or even set fields"
   ]
  },
  {
   "cell_type": "code",
   "execution_count": null,
   "id": "equivalent-pencil",
   "metadata": {},
   "outputs": [],
   "source": [
    "abstract class Vehicle\n",
    "\n",
    "case class helicopter(color: String, driver: String) extends Vehicle\n",
    "\n",
    "case class submarine(color: String, driver: String) extends Vehicle\n",
    "\n",
    "val movers = Seq(helicopter(\"grey\", \"Marta\"), helicopter(\"blue\", \"Laura\"), submarine(\"yellow\", \"Paul\"))\n",
    "\n",
    "movers foreach {v => v match {\n",
    "    case h: helicopter => println(s\"${h.color} helicopter\")\n",
    "    case s: submarine => println(s\"${s.color} submarine\")\n",
    "}}\n",
    "\n",
    "movers foreach { _ match {\n",
    "    case helicopter(\"blue\", driver) => println(s\"$driver has a blue helicopter\")\n",
    "    case s: submarine if (s.color != \"yellow\") => println(s\"${s.driver}'s ${s.color} submarine\")\n",
    "    case _ => println(\"didn't match\")\n",
    "}}"
   ]
  },
  {
   "cell_type": "markdown",
   "id": "selected-communist",
   "metadata": {
    "slideshow": {
     "slide_type": "slide"
    }
   },
   "source": [
    "## More Graceful Interactions with `Option`\n",
    "\n",
    "* Many Scala operations pass over None"
   ]
  },
  {
   "cell_type": "code",
   "execution_count": null,
   "id": "regulated-offset",
   "metadata": {},
   "outputs": [],
   "source": [
    "val l = Seq.tabulate(5)(i => if (i % 2 == 1) Some(i) else None)\n",
    "\n",
    "l foreach { x =>\n",
    "    if (x.isDefined) println(x.get)\n",
    "}\n",
    "\n",
    "// l(1).getOrElse(-1)\n",
    "\n",
    "// l(0) foreach println\n",
    "// l.flatten\n",
    "\n",
    "// l foreach { _ match {\n",
    "//     case Some(i) => println(i)\n",
    "//     case None => println(\"was empty\")\n",
    "// }}"
   ]
  }
 ],
 "metadata": {
  "celltoolbar": "Slideshow",
  "kernelspec": {
   "display_name": "Scala",
   "language": "scala",
   "name": "scala"
  },
  "language_info": {
   "codemirror_mode": "text/x-scala",
   "file_extension": ".sc",
   "mimetype": "text/x-scala",
   "name": "scala",
   "nbconvert_exporter": "script",
   "version": "2.13.4"
  }
 },
 "nbformat": 4,
 "nbformat_minor": 5
}
