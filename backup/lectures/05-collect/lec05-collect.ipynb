{
 "cells": [
  {
   "cell_type": "markdown",
   "id": "external-thermal",
   "metadata": {
    "slideshow": {
     "slide_type": "slide"
    }
   },
   "source": [
    "## Agile Hardware Design\n",
    "***\n",
    "# Collections\n",
    "\n",
    "## Prof. Scott Beamer\n",
    "### sbeamer@ucsc.edu\n",
    "\n",
    "## [CSE 293](https://classes.soe.ucsc.edu/cse293/Winter22/)"
   ]
  },
  {
   "cell_type": "markdown",
   "id": "nominated-consistency",
   "metadata": {
    "slideshow": {
     "slide_type": "slide"
    }
   },
   "source": [
    "## Plan for Today\n",
    "\n",
    "* Scala for & collections (only Seq for today)\n",
    "* Chisel using collections\n",
    "* Chisel Vec\n",
    "* Chisel Mem"
   ]
  },
  {
   "cell_type": "markdown",
   "id": "royal-vision",
   "metadata": {
    "slideshow": {
     "slide_type": "slide"
    }
   },
   "source": [
    "## Scala `Seq`\n",
    "\n",
    "* Scala's [collection library](https://docs.scala-lang.org/overviews/collections-2.13/overview.html) is one of its strengths\n",
    "* [Seq](https://www.scala-lang.org/api/2.12.12/scala/collection/Seq.html) is an ordered collection (sequence), immutable by default\n",
    "* Index into it with `()`\n",
    "* A base class with multiple implementations\n",
    "  * For many of our (small) cases, fine to use directly\n",
    "  * Some style guides recommend specifity with `List` or `Vector`"
   ]
  },
  {
   "cell_type": "code",
   "execution_count": null,
   "id": "constitutional-tumor",
   "metadata": {},
   "outputs": [],
   "source": [
    "val l = Seq(1,2,3)\n",
    "l(1)\n",
    "l.isEmpty\n",
    "l.nonEmpty\n",
    "l.length\n",
    "Seq.fill(3)(8)\n",
    "l.getClass"
   ]
  },
  {
   "cell_type": "markdown",
   "id": "parental-receptor",
   "metadata": {
    "slideshow": {
     "slide_type": "slide"
    }
   },
   "source": [
    "## Scala Ranges\n",
    "* Can instantiate a range by `start until end` (exclusive)\n",
    "* Can make range inclusive with `start to end`\n",
    "* Can also provide a custom increment (default is 1) with `by`"
   ]
  },
  {
   "cell_type": "code",
   "execution_count": null,
   "id": "positive-pakistan",
   "metadata": {},
   "outputs": [],
   "source": [
    "0 until 4\n",
    "0 to 3\n",
    "0 to 4 by 2\n",
    "3 to 0 by -1"
   ]
  },
  {
   "cell_type": "markdown",
   "id": "compound-banking",
   "metadata": {
    "slideshow": {
     "slide_type": "slide"
    }
   },
   "source": [
    "## Scala `for`\n",
    "\n",
    "* Iterates over iterable (typically range or collection)\n",
    "* Sometimes use with `var` to pass results between iterations\n",
    "* Also helpful for building up state space for testing\n",
    "* Can also be used to do full [for comprehensions](https://docs.scala-lang.org/tour/for-comprehensions.html) (nested and filters)"
   ]
  },
  {
   "cell_type": "code",
   "execution_count": null,
   "id": "legitimate-chambers",
   "metadata": {},
   "outputs": [],
   "source": [
    "for (i <- 0 until 4)\n",
    "    println(i)\n",
    "\n",
    "// var last = -1\n",
    "// for (i <- 0 until 4) {\n",
    "//     println(last)\n",
    "//     last = i\n",
    "// }\n",
    "\n",
    "\n",
    "// for (i <- 0 until 4;\n",
    "//      j <- i until 4 if (i+j == 4)) {\n",
    "//     println(i,j)\n",
    "// }"
   ]
  },
  {
   "cell_type": "markdown",
   "id": "valid-union",
   "metadata": {
    "slideshow": {
     "slide_type": "slide"
    }
   },
   "source": [
    "## Example: Delay Line with `for`"
   ]
  },
  {
   "cell_type": "code",
   "execution_count": null,
   "id": "statewide-opera",
   "metadata": {
    "cell_style": "split",
    "scrolled": true
   },
   "outputs": [],
   "source": [
    "class DelayNCycles(n: Int) extends Module {\n",
    "    val io = IO(new Bundle {\n",
    "        val in  = Input(Bool())\n",
    "        val out = Output(Bool())\n",
    "    })\n",
    "    require(n > 0)\n",
    "    val regs = Seq.fill(n)(Reg(Bool()))\n",
    "    regs(0) := io.in\n",
    "    for (i <- 1 until n)\n",
    "        regs(i) := regs(i-1)\n",
    "    io.out := regs(n-1)\n",
    "}\n",
    "println(getVerilog(new DelayNCycles(2)))"
   ]
  },
  {
   "cell_type": "markdown",
   "id": "taken-martial",
   "metadata": {
    "cell_style": "split"
   },
   "source": [
    "<img src=\"images/delayN.svg\" alt=\"delay line schematic\" style=\"width:45%;\" align=\"right\"/>"
   ]
  },
  {
   "cell_type": "markdown",
   "id": "systematic-satellite",
   "metadata": {
    "slideshow": {
     "slide_type": "slide"
    }
   },
   "source": [
    "## Example: Delay Line with `for` and `var`\n",
    "\n",
    "* Judicious use of `var` can sometimes tidy things up\n",
    "* Later, will cover functional programming techniques to also clean up"
   ]
  },
  {
   "cell_type": "code",
   "execution_count": null,
   "id": "color-argument",
   "metadata": {
    "cell_style": "center",
    "scrolled": true,
    "slideshow": {
     "slide_type": "-"
    }
   },
   "outputs": [],
   "source": [
    "class DelayNCycles(n: Int) extends Module {\n",
    "    val io = IO(new Bundle {\n",
    "        val in  = Input(Bool())\n",
    "        val out = Output(Bool())\n",
    "    })\n",
    "    var lastConn = io.in\n",
    "    for (i <- 0 until n)\n",
    "        lastConn = RegNext(lastConn)\n",
    "    io.out := lastConn\n",
    "}\n",
    "println(getVerilog(new DelayNCycles(5)))"
   ]
  },
  {
   "cell_type": "markdown",
   "id": "wound-little",
   "metadata": {
    "slideshow": {
     "slide_type": "slide"
    }
   },
   "source": [
    "## Using `for` in a Tester"
   ]
  },
  {
   "cell_type": "code",
   "execution_count": null,
   "id": "quiet-vessel",
   "metadata": {
    "cell_style": "split"
   },
   "outputs": [],
   "source": [
    "class CombLogic extends Module {\n",
    "    val io = IO(new Bundle {\n",
    "        val a   = Input(Bool())\n",
    "        val b   = Input(Bool())\n",
    "        val c   = Input(Bool())\n",
    "        val out = Output(Bool())\n",
    "    })\n",
    "    io.out := (io.a && io.b) || ~io.c\n",
    "//     printf(p\"a: ${io.a}, b: ${io.b}, c: ${io.c}, out: ${io.out}\\n\")\n",
    "}"
   ]
  },
  {
   "cell_type": "code",
   "execution_count": null,
   "id": "confused-cologne",
   "metadata": {
    "cell_style": "split"
   },
   "outputs": [],
   "source": [
    "test(new CombLogic) { dut =>\n",
    "    for (a <- Seq(true, false)) {\n",
    "        for (b <- Seq(true, false)) {\n",
    "            for (c <- Seq(true, false)) {\n",
    "                dut.io.a.poke(a.B)\n",
    "                dut.io.b.poke(b.B)\n",
    "                dut.io.c.poke(c.B)\n",
    "                println(s\"$a, $b, $c\")\n",
    "                val expected = (a && b) || !c\n",
    "                dut.io.out.expect(expected.B)\n",
    "//                 dut.clock.step()\n",
    "            }\n",
    "        }\n",
    "    }\n",
    "}"
   ]
  },
  {
   "cell_type": "markdown",
   "id": "homeless-creator",
   "metadata": {
    "cell_style": "split",
    "slideshow": {
     "slide_type": "slide"
    }
   },
   "source": [
    "## Chisel `Vec`\n",
    "\n",
    "* Chisel collections construct, 2 uses:\n",
    "  * _Dynamic addressing_ in hardware (muxes)\n",
    "  * Paramterize number of ports\n",
    "* `Vec(num_elements, type)`\n",
    "* Most often will want a Scala collection for addressing during elaboration\n",
    "* Use `Reg` of `Vec` for state\n",
    "  * `Vec` of `Reg` not possible\n",
    "\n",
    "```scala\n",
    "Reg(Vec(num_elements, type))\n",
    "```\n",
    "* Can also use with `Wire`\n",
    "\n",
    "```scala\n",
    "Wire(Vec(num_elements, type))\n",
    "```"
   ]
  },
  {
   "cell_type": "code",
   "execution_count": null,
   "id": "speaking-understanding",
   "metadata": {
    "cell_style": "split"
   },
   "outputs": [],
   "source": [
    "class MyMuxN(n: Int, m: Int) extends Module {\n",
    "    val io = IO(new Bundle {\n",
    "        val in  = Input(Vec(n, UInt(m.W)))\n",
    "        val sel = Input(UInt(log2Ceil(n).W))\n",
    "        val out = Output(UInt(m.W))\n",
    "    })\n",
    "    io.out := io.in(io.sel)\n",
    "}\n",
    "println(getVerilog(new MyMuxN(4,1)))"
   ]
  },
  {
   "cell_type": "markdown",
   "id": "twelve-istanbul",
   "metadata": {
    "slideshow": {
     "slide_type": "slide"
    }
   },
   "source": [
    "## Using `Vec` to Parameterize # of Ports"
   ]
  },
  {
   "cell_type": "code",
   "execution_count": null,
   "id": "disturbed-outside",
   "metadata": {
    "cell_style": "split"
   },
   "outputs": [],
   "source": [
    "class Reducer(n: Int, m: Int) extends Module {\n",
    "    val io = IO(new Bundle {\n",
    "        val in  = Input(Vec(n, UInt(m.W)))\n",
    "//         val in  = Input(UInt((n*m).W))\n",
    "        val out = Output(UInt(m.W))\n",
    "    })\n",
    "    require(n > 0)\n",
    "    var totalSoFar = io.in(0)\n",
    "    for (i <- 1 until n)\n",
    "        totalSoFar = io.in(i) + totalSoFar\n",
    "    io.out := totalSoFar\n",
    "}\n",
    "println(getVerilog(new Reducer(2,2)))"
   ]
  },
  {
   "cell_type": "markdown",
   "id": "logical-pulse",
   "metadata": {
    "cell_style": "split"
   },
   "source": [
    "<img src=\"images/reducer.svg\" alt=\"reducer schematic\" style=\"width:65%;\" align=\"right\"/>"
   ]
  },
  {
   "cell_type": "markdown",
   "id": "remarkable-incidence",
   "metadata": {
    "slideshow": {
     "slide_type": "slide"
    }
   },
   "source": [
    "## Read-Only Memory (ROM) with `VecInit`\n",
    "* `VecInit` will create a `Wire` with its input\n",
    "* Can also use `VecInit` to initialize registers (with `RegInit`)"
   ]
  },
  {
   "cell_type": "code",
   "execution_count": null,
   "id": "medium-assembly",
   "metadata": {
    "cell_style": "split"
   },
   "outputs": [],
   "source": [
    "class DivByXTable(x: Int) extends Module {\n",
    "    val io = IO(new Bundle {\n",
    "        val in  = Input(UInt(4.W))\n",
    "        val out = Output(Bool())\n",
    "    })\n",
    "    var results = Seq[Bool]()\n",
    "    for (i <- 0 to 15) {\n",
    "        results = results :+ (i % x == 0).B\n",
    "    }\n",
    "    val table = VecInit(results)\n",
    "    io.out := table(io.in)\n",
    "}"
   ]
  },
  {
   "cell_type": "code",
   "execution_count": null,
   "id": "pediatric-butler",
   "metadata": {
    "cell_style": "split",
    "scrolled": true
   },
   "outputs": [],
   "source": [
    "println(getVerilog(new DivByXTable(3)))"
   ]
  },
  {
   "cell_type": "markdown",
   "id": "expected-ideal",
   "metadata": {
    "slideshow": {
     "slide_type": "slide"
    }
   },
   "source": [
    "## Chisel `Mem`\n",
    "\n",
    "* Construct for [memory](https://www.chisel-lang.org/chisel3/docs/explanations/memories.html) (dynamically addressable & mutable)\n",
    "* Backend will choose appropriate implementation technology\n",
    "* Default (Mem): _combinational read_ (0 cycle delay), _synchronous write_ (1 cycle delay)\n",
    "  * Can tweak delay parameters\n",
    "  * `SyncReadMem` has 1 cycle read delay\n",
    "* Memory ports can be declared implicitly or explicitly\n",
    "* Also has support for write masks"
   ]
  },
  {
   "cell_type": "markdown",
   "id": "later-drama",
   "metadata": {
    "slideshow": {
     "slide_type": "slide"
    }
   },
   "source": [
    "## Example: Register File (2R, 1W) - implicit ports"
   ]
  },
  {
   "cell_type": "code",
   "execution_count": null,
   "id": "accomplished-teaching",
   "metadata": {
    "cell_style": "split",
    "scrolled": false
   },
   "outputs": [],
   "source": [
    "class RegFile(nRead: Int) extends Module {\n",
    "    val io = IO(new Bundle {\n",
    "        val r0addr = Input(UInt(5.W))\n",
    "        val r1addr = Input(UInt(5.W))\n",
    "        val w0addr = Input(UInt(5.W))\n",
    "        val w0en =   Input(Bool())\n",
    "        val w0data = Input(UInt(64.W))\n",
    "        val r0out =  Output(UInt(64.W))\n",
    "        val r1out =  Output(UInt(64.W))\n",
    "    })\n",
    "//     val regs = Mem(32, UInt(64.W))\n",
    "    val regs = Reg(Vec(32, UInt(64.W)))\n",
    "    io.r0out := regs(io.r0addr)\n",
    "    io.r1out := regs(io.r1addr)\n",
    "    when(io.w0en) {\n",
    "        regs(io.w0addr) := io.w0data\n",
    "    }\n",
    "}"
   ]
  },
  {
   "cell_type": "code",
   "execution_count": null,
   "id": "extra-scoop",
   "metadata": {
    "cell_style": "split",
    "scrolled": true
   },
   "outputs": [],
   "source": [
    "println(getVerilog(new RegFile(8)))"
   ]
  },
  {
   "cell_type": "markdown",
   "id": "continent-episode",
   "metadata": {
    "slideshow": {
     "slide_type": "slide"
    }
   },
   "source": [
    "## Example: Register File (2R, 1W) - explicit ports"
   ]
  },
  {
   "cell_type": "code",
   "execution_count": null,
   "id": "boxed-capitol",
   "metadata": {
    "cell_style": "split",
    "scrolled": false
   },
   "outputs": [],
   "source": [
    "class RegFile extends Module {\n",
    "    val io = IO(new Bundle {\n",
    "        val r0addr = Input(UInt(5.W))\n",
    "        val r1addr = Input(UInt(5.W))\n",
    "        val w0addr = Input(UInt(5.W))\n",
    "        val w0en =   Input(Bool())\n",
    "        val w0data = Input(UInt(64.W))\n",
    "        val r0out =  Output(UInt(64.W))\n",
    "        val r1out =  Output(UInt(64.W))\n",
    "    })\n",
    "    val regs = Mem(32, UInt(64.W))\n",
    "    io.r0out := regs.read(io.r0addr)\n",
    "    io.r1out := regs.read(io.r1addr)\n",
    "    when (io.w0en) {\n",
    "        regs.write(io.w0addr,io.w0data)\n",
    "    }\n",
    "}"
   ]
  },
  {
   "cell_type": "code",
   "execution_count": null,
   "id": "honey-arthritis",
   "metadata": {
    "cell_style": "split",
    "scrolled": true
   },
   "outputs": [],
   "source": [
    "println(getVerilog(new RegFile()))"
   ]
  },
  {
   "cell_type": "markdown",
   "id": "passing-consumer",
   "metadata": {
    "slideshow": {
     "slide_type": "slide"
    }
   },
   "source": [
    "## Example: Register File (NR, 1W) - parameterized ports"
   ]
  },
  {
   "cell_type": "code",
   "execution_count": null,
   "id": "decent-dinner",
   "metadata": {
    "cell_style": "split",
    "scrolled": false
   },
   "outputs": [],
   "source": [
    "class RegFile(nRead: Int) extends Module {\n",
    "    val io = IO(new Bundle {\n",
    "        val raddr  = Input(Vec(nRead, UInt(5.W)))\n",
    "        val w0addr = Input(UInt(5.W))\n",
    "        val w0en =   Input(Bool())\n",
    "        val w0data = Input(UInt(64.W))\n",
    "        val rout = Output(Vec(nRead, UInt(64.W)))\n",
    "    })\n",
    "    val regs = Mem(32, UInt(64.W))\n",
    "    for (i <- 0 until nRead)\n",
    "        io.rout(i) := regs(io.raddr(i))\n",
    "    when(io.w0en) {\n",
    "        regs(io.w0addr) := io.w0data\n",
    "    }\n",
    "}"
   ]
  },
  {
   "cell_type": "code",
   "execution_count": null,
   "id": "intensive-speaker",
   "metadata": {
    "cell_style": "split"
   },
   "outputs": [],
   "source": [
    "println(getVerilog(new RegFile(4)))"
   ]
  },
  {
   "cell_type": "markdown",
   "id": "decent-charleston",
   "metadata": {
    "slideshow": {
     "slide_type": "slide"
    }
   },
   "source": [
    "### Summary - When to Use Scala or Chisel Collection?\n",
    "\n",
    "* You will want to use a Scala collection (probably `Seq`) most often\n",
    "    * In a generator, want to instantiate N things\n",
    "    * You may need to address which thing you want, but you are accessing it during hardware generation time\n",
    "* You will need Chisel collections (`Vec`, `Mem`) when ...\n",
    "    * You want the generated hardware to dynamically address components (put muxes into actual hardware)\n",
    "    * You definitely want a memory (e.g. `SyncReadMem`)"
   ]
  }
 ],
 "metadata": {
  "celltoolbar": "Slideshow",
  "kernelspec": {
   "display_name": "Scala",
   "language": "scala",
   "name": "scala"
  },
  "language_info": {
   "codemirror_mode": "text/x-scala",
   "file_extension": ".scala",
   "mimetype": "text/x-scala",
   "name": "scala",
   "nbconvert_exporter": "script",
   "version": "2.12.10"
  }
 },
 "nbformat": 4,
 "nbformat_minor": 5
}
