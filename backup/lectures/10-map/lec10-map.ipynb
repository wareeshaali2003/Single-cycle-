{
 "cells": [
  {
   "cell_type": "markdown",
   "id": "external-thermal",
   "metadata": {
    "slideshow": {
     "slide_type": "slide"
    }
   },
   "source": [
    "## Agile Hardware Design\n",
    "***\n",
    "# Functional Programming Primer\n",
    "\n",
    "## Prof. Scott Beamer\n",
    "### sbeamer@ucsc.edu\n",
    "\n",
    "## [CSE 293](https://classes.soe.ucsc.edu/cse293/Winter22/)"
   ]
  },
  {
   "cell_type": "markdown",
   "id": "nominated-consistency",
   "metadata": {
    "slideshow": {
     "slide_type": "slide"
    }
   },
   "source": [
    "## Plan for Today\n",
    "\n",
    "* _Big Idea:_ applying functions to collections of elements\n",
    "* Anonymous functions in Scala\n",
    "* Scala `map`, `foreach`, `zip` operators\n",
    "* Chisel example"
   ]
  },
  {
   "cell_type": "markdown",
   "id": "logical-plasma",
   "metadata": {
    "slideshow": {
     "slide_type": "slide"
    }
   },
   "source": [
    "## Why Use Functional Programming with Chisel?\n",
    "\n",
    "* Chisel's power comes from its ability to make parameterized hardare generators\n",
    "\n",
    "* Functional programming (FP) operations ease dealing with _functions over collections_\n",
    "  * Using standard features/patterns improves productivity, readability, and correctness\n",
    "\n",
    "* Being forced to break problem into standard patterns may help with reasoning\n",
    "  * Additionally, compiler may be able to spot more errors\n",
    "\n",
    "* Be mindful of side-effects and how to clearly convey them in code\n",
    "  * FP operations typically intended for side-effect free programming\n",
    "  * Chisel operations often have deliberate side effects (e.g. connecting things)"
   ]
  },
  {
   "cell_type": "markdown",
   "id": "outside-raising",
   "metadata": {
    "slideshow": {
     "slide_type": "slide"
    }
   },
   "source": [
    "## Motivation for Working Over Collections\n",
    "\n",
    "* Arguably, much of programming (and hardware design) works over collections rather than scalar values\n",
    "  * Collections aggregate similar things\n",
    "\n",
    "* Often, we want to apply an operation to everything in the collection\n",
    "  * Traditionally, we use iteration (e.g. `for` loops)\n",
    "\n",
    "* _Problem:_ every usage has to reinvent wheel\n",
    "\n",
    "* What if ...\n",
    "  * We could recognize _patterns_ of function application and use those?\n",
    "  * We could use the compiler to check compliance with those patterns?"
   ]
  },
  {
   "cell_type": "markdown",
   "id": "caroline-adolescent",
   "metadata": {
    "slideshow": {
     "slide_type": "slide"
    }
   },
   "source": [
    "## Solution - Reuse through Patterns\n",
    "\n",
    "* Note these operations are not core language constructs, but instead methods defined for these collections\n",
    "* Only some operations covered today (more to come)\n",
    "\n",
    "<img src=\"images/map+foreach.svg\" alt=\"map & foreach viz\" style=\"width:80%;margin-left:auto;margin-right:auto\"/>"
   ]
  },
  {
   "cell_type": "markdown",
   "id": "sharing-halifax",
   "metadata": {
    "slideshow": {
     "slide_type": "slide"
    }
   },
   "source": [
    "## Anonymous Functions in Scala\n",
    "\n",
    "* Technically called _function literals_\n",
    "\n",
    "* Can bind to a name, but often will use within other construct and never name it explicitly (_anonymous_)\n",
    "\n",
    "* Syntax - argument list in parentheses on left, `=>`, function body on right\n",
    "```scala\n",
    "    (x: Int) => x + 1\n",
    "```"
   ]
  },
  {
   "cell_type": "code",
   "execution_count": null,
   "id": "extensive-librarian",
   "metadata": {},
   "outputs": [],
   "source": [
    "(x: Int) => x + 1\n",
    "val inc = (x: Int) => x + 1\n",
    "def inc2(x: Int) = x+1\n",
    "inc(2)\n",
    "inc2(2)\n",
    "(a: Int, b: Int) => a+b"
   ]
  },
  {
   "cell_type": "markdown",
   "id": "embedded-guess",
   "metadata": {
    "slideshow": {
     "slide_type": "slide"
    }
   },
   "source": [
    "## `map` in Scala\n",
    "\n",
    "```scala\n",
    "l map f\n",
    "```\n",
    "\n",
    "* Applies given function to each element and returns result as new collection\n",
    "* Should not make assumptions about order in which it is applied"
   ]
  },
  {
   "cell_type": "code",
   "execution_count": null,
   "id": "verified-mistake",
   "metadata": {},
   "outputs": [],
   "source": [
    "def inc(x: Int) = x+1\n",
    "\n",
    "val l = 0 until 5\n",
    "l.map(inc)\n",
    "l map inc\n",
    "l map { i => inc(i) }\n",
    "l map { i => i + 1 }"
   ]
  },
  {
   "cell_type": "markdown",
   "id": "cathedral-values",
   "metadata": {
    "slideshow": {
     "slide_type": "slide"
    }
   },
   "source": [
    "## `foreach` in Scala\n",
    "\n",
    "```scala\n",
    "l foreach f\n",
    "```\n",
    "\n",
    "* Applies given function to each element (like map), but does not return anything (unlike map)\n",
    "* Useful for indicating intent is the side effect and not the result"
   ]
  },
  {
   "cell_type": "code",
   "execution_count": null,
   "id": "eastern-calculator",
   "metadata": {},
   "outputs": [],
   "source": [
    "val l = 0 until 5\n",
    "\n",
    "l foreach println"
   ]
  },
  {
   "cell_type": "markdown",
   "id": "funky-convert",
   "metadata": {
    "slideshow": {
     "slide_type": "slide"
    }
   },
   "source": [
    "## Using `map` and `foreach` in Chisel\n",
    "\n",
    "* Operations available on both Scala collections (e.g. `Seq`) and Chisel aggregates (e.g. `Vec`)"
   ]
  },
  {
   "cell_type": "code",
   "execution_count": null,
   "id": "cathedral-horse",
   "metadata": {},
   "outputs": [],
   "source": [
    "class ConstOut(numElems: Int, const: Int) extends Module {\n",
    "    val io = IO(new Bundle {\n",
    "        val out = Output(Vec(numElems, UInt()))\n",
    "    })\n",
    "\n",
    "    val seqOfInts = 0 until numElems\n",
    "    val seqOfUInts = seqOfInts map { i => i.U }\n",
    "    \n",
    "    io.out foreach { o => o := const.U }\n",
    "}\n",
    "\n",
    "println(getVerilog(new ConstOut(2,8)))"
   ]
  },
  {
   "cell_type": "markdown",
   "id": "bored-prescription",
   "metadata": {
    "slideshow": {
     "slide_type": "slide"
    }
   },
   "source": [
    "## Scala Tuples\n",
    "\n",
    "* Can group together heterogeneous things\n",
    "  * Doesn't name members, but can index them numerically (**starts from 1**)\n",
    "  * Often can pattern match (with `case`) or assign to access members\n",
    "\n",
    "* Best when number of things is small and producer/consumers are nearby\n",
    "  * Suggest case class to explicitly name members (for readability)\n",
    "  * Suggest collection for many elements (for manageability)"
   ]
  },
  {
   "cell_type": "code",
   "execution_count": null,
   "id": "peripheral-ottawa",
   "metadata": {},
   "outputs": [],
   "source": [
    "val t1 = (2,3)\n",
    "val t2 = (\"My\", 8)\n",
    "t1._1\n",
    "t1._2\n",
    "val (a,b) = t1"
   ]
  },
  {
   "cell_type": "markdown",
   "id": "necessary-football",
   "metadata": {
    "slideshow": {
     "slide_type": "slide"
    }
   },
   "source": [
    "## `zip` in Scala\n",
    "\n",
    "```scala\n",
    "l1 zip l2\n",
    "```\n",
    "\n",
    "* Pairs up elements with elements of another collection\n",
    "* Commonly used to join together collections before applying other operations\n",
    "* _Note:_ If collections have different sizes, result is the minimum size"
   ]
  },
  {
   "cell_type": "code",
   "execution_count": null,
   "id": "electrical-census",
   "metadata": {
    "scrolled": true
   },
   "outputs": [],
   "source": [
    "val l1 = 0 until 5\n",
    "l1 zip l1\n",
    "l1 zip Seq(8)\n",
    "l1 zip l1 map {case (a,b) => a+b}"
   ]
  },
  {
   "cell_type": "markdown",
   "id": "cooked-monthly",
   "metadata": {
    "slideshow": {
     "slide_type": "slide"
    }
   },
   "source": [
    "## `zip` Diagram\n",
    "\n",
    "<img src=\"images/zip.svg\" alt=\"zip viz\" style=\"width:70%;margin-left:auto;margin-right:auto\"/>"
   ]
  },
  {
   "cell_type": "markdown",
   "id": "gorgeous-recipient",
   "metadata": {
    "slideshow": {
     "slide_type": "slide"
    }
   },
   "source": [
    "## Chisel Example Using `foreach` and `zip`"
   ]
  },
  {
   "cell_type": "code",
   "execution_count": null,
   "id": "important-polymer",
   "metadata": {
    "scrolled": true,
    "slideshow": {
     "slide_type": "-"
    }
   },
   "outputs": [],
   "source": [
    "class VecAbs(numElems: Int, width: Int) extends Module {\n",
    "    val io = IO(new Bundle {\n",
    "        val in = Input(Vec(numElems, SInt(width.W)))\n",
    "        val out = Output(Vec(numElems, SInt(width.W)))\n",
    "    })\n",
    "\n",
    "    def abs(x: SInt): SInt = Mux(x < 0.S, -x, x)\n",
    "\n",
    "//     for (i <- 0 until numElems) {\n",
    "//         io.out(i) := abs(io.in(i))\n",
    "//     }\n",
    "\n",
    "    io.out.zip(io.in) foreach { case (o,i) => o := abs(i) }\n",
    "}\n",
    "\n",
    "println(getVerilog(new VecAbs(2,8)))"
   ]
  },
  {
   "cell_type": "markdown",
   "id": "loved-crowd",
   "metadata": {
    "slideshow": {
     "slide_type": "slide"
    }
   },
   "source": [
    "## Scala (fuction) Placeholders\n",
    "\n",
    "* Able to make function literals even more concise by not explicitly naming arguments and then using them\n",
    "* Use `_` in place of argument, and each use advances to next argument\n",
    "* Use **CAREFULLY** to shorten code to improve readability\n",
    "  * If intent not immediately clear, fall back to explicitly naming arguments"
   ]
  },
  {
   "cell_type": "code",
   "execution_count": null,
   "id": "knowing-valve",
   "metadata": {},
   "outputs": [],
   "source": [
    "val l = 0 until 5\n",
    "l map { i => i + 1 }\n",
    "l map { _ + 1 }"
   ]
  },
  {
   "cell_type": "markdown",
   "id": "grand-developer",
   "metadata": {
    "slideshow": {
     "slide_type": "slide"
    }
   },
   "source": [
    "## Redoing Our Arbiter with FP (1/2)"
   ]
  },
  {
   "cell_type": "code",
   "execution_count": null,
   "id": "registered-description",
   "metadata": {},
   "outputs": [],
   "source": [
    "class MyArb(numPorts: Int, n: Int) extends Module {\n",
    "    val io = IO(new Bundle {\n",
    "        val req = Flipped(Vec(numPorts, Decoupled(UInt(n.W))))\n",
    "        val out = Decoupled(UInt(n.W))\n",
    "    })\n",
    "    require (numPorts > 0)\n",
    "    val inValids = Wire(Vec(numPorts, Bool()))\n",
    "    val inBits   = Wire(Vec(numPorts, UInt(n.W)))\n",
    "    val chosenOH = PriorityEncoderOH(inValids)\n",
    "    for (p <- 0 until numPorts) {\n",
    "        io.req(p).ready := chosenOH(p) && io.out.fire\n",
    "        inValids(p) := io.req(p).valid\n",
    "        inBits(p) := io.req(p).bits\n",
    "    }\n",
    "    io.out.valid := inValids.asUInt.orR\n",
    "    io.out.bits := Mux1H(chosenOH, inBits)\n",
    "}"
   ]
  },
  {
   "cell_type": "markdown",
   "id": "ordinary-tennessee",
   "metadata": {
    "slideshow": {
     "slide_type": "slide"
    }
   },
   "source": [
    "## Redoing Our Arbiter (2/2)"
   ]
  },
  {
   "cell_type": "code",
   "execution_count": null,
   "id": "handmade-lightweight",
   "metadata": {
    "slideshow": {
     "slide_type": "-"
    }
   },
   "outputs": [],
   "source": [
    "class MyArb(numPorts: Int, n: Int) extends Module {\n",
    "    val io = IO(new Bundle {\n",
    "        val req = Flipped(Vec(numPorts, Decoupled(UInt(n.W))))\n",
    "        val out = Decoupled(UInt(n.W))\n",
    "    })\n",
    "    require (numPorts > 0)\n",
    "    val inValids = io.req map { _.valid }\n",
    "    io.out.valid := VecInit(inValids).asUInt.orR\n",
    "    val chosenOH = PriorityEncoderOH(inValids)\n",
    "    io.out.bits := Mux1H(chosenOH, io.req map { _.bits })\n",
    "    io.req.zip(chosenOH) foreach { case (i, c) => i.ready := c && io.out.fire}\n",
    "}"
   ]
  }
 ],
 "metadata": {
  "celltoolbar": "Slideshow",
  "kernelspec": {
   "display_name": "Scala",
   "language": "scala",
   "name": "scala"
  },
  "language_info": {
   "codemirror_mode": "text/x-scala",
   "file_extension": ".sc",
   "mimetype": "text/x-scala",
   "name": "scala",
   "nbconvert_exporter": "script",
   "version": "2.13.4"
  }
 },
 "nbformat": 4,
 "nbformat_minor": 5
}
