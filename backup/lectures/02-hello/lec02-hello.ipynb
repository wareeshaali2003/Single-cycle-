{
 "cells": [
  {
   "cell_type": "markdown",
   "id": "german-casting",
   "metadata": {
    "slideshow": {
     "slide_type": "slide"
    }
   },
   "source": [
    "## Agile Hardware Design\n",
    "***\n",
    "# Hello Chisel\n",
    "\n",
    "## Prof. Scott Beamer\n",
    "### sbeamer@ucsc.edu\n",
    "\n",
    "## [CSE 293](https://classes.soe.ucsc.edu/cse293/Winter22/)"
   ]
  },
  {
   "cell_type": "markdown",
   "id": "positive-wrong",
   "metadata": {
    "slideshow": {
     "slide_type": "slide"
    }
   },
   "source": [
    "## Plan for Today\n",
    "\n",
    "* Brief taste of Scala\n",
    "* Brief taste of Chisel\n",
    "* _Close the loop:_ build & test simple Chisel module"
   ]
  },
  {
   "cell_type": "markdown",
   "id": "ordered-pattern",
   "metadata": {
    "slideshow": {
     "slide_type": "slide"
    }
   },
   "source": [
    "## Scala Language Summary\n",
    "\n",
    "_**Language Features**_\n",
    "* Object oriented with strong static type system\n",
    "* Native support for functional programing\n",
    "* Runs on top of the JVM (and can interoperate with Java binaries)\n",
    "* Tries to catch many potential errors at compile time\n",
    "\n",
    "_**Rationale for Using Scala**_\n",
    "* Great support for implementing embedded domain-specific languages (DSL), e.g. Chisel\n",
    "* Object oriented and functional features help make great _generators_\n",
    "* Type system and included standard library’s collections"
   ]
  },
  {
   "cell_type": "markdown",
   "id": "urban-plaza",
   "metadata": {
    "slideshow": {
     "slide_type": "slide"
    }
   },
   "source": [
    "## Scala Execution Mechanisms\n",
    "\n",
    "_**Standard Compilation -> Execution**_\n",
    "* Compile to Scala program (Java bytecode) and run on JVM\n",
    "* Code needs to be structured in classes and have a `main`\n",
    "* Typically use appropriate build tool (e.g. sbt) or an IDE (e.g. IntelliJ)\n",
    "\n",
    "_**Read-eval-print Loop (REPL)**_\n",
    "* Can launch a REPL and write (then evaluate) a single line at a time\n",
    "* Great for testing out features\n",
    "* The Jupyter notebooks in this course (where we can execute snippets in isolation) are built on an extension to this ([Almond](https://almond.sh))"
   ]
  },
  {
   "cell_type": "markdown",
   "id": "42b42a22",
   "metadata": {},
   "source": [
    "#### Use Online SCALA IDE for Practice\n",
    "[SCASTIE](https://scastie.scala-lang.org/) - An online IDE for programming in Scala"
   ]
  },
  {
   "cell_type": "markdown",
   "id": "advised-designation",
   "metadata": {
    "slideshow": {
     "slide_type": "slide"
    }
   },
   "source": [
    "## Scala Literals\n",
    "\n",
    "* Common Simple Scala Types - `Int`, `Float`, `Long`, `Double`, `Byte`, `Char`, `String`\n",
    "* _Syntax Note:_ semicolons are optional and rarely used"
   ]
  },
  {
   "cell_type": "code",
   "execution_count": null,
   "id": "varied-shareware",
   "metadata": {},
   "outputs": [],
   "source": [
    "2 + 3\n",
    "5.0 / 2\n",
    "\"hello\""
   ]
  },
  {
   "cell_type": "markdown",
   "id": "nonprofit-installation",
   "metadata": {
    "slideshow": {
     "slide_type": "slide"
    }
   },
   "source": [
    "## Scala Type Inference\n",
    "\n",
    "* Everything is an object, even simple types\n",
    "* Types must be known/resolved at compile time (_statically typed_)\n",
    "* Scala has _type inference_, so can often omit type specifier\n",
    "* _Syntax Note:_ unlike C/Java, type goes after name (instead of before)"
   ]
  },
  {
   "cell_type": "code",
   "execution_count": null,
   "id": "conscious-olive",
   "metadata": {},
   "outputs": [],
   "source": [
    "4\n",
    "4: Int\n",
    "4: Float\n",
    "4: Double\n",
    "4: Char\n",
    "4.toFloat"
   ]
  },
  {
   "cell_type": "markdown",
   "id": "corrected-november",
   "metadata": {
    "slideshow": {
     "slide_type": "slide"
    }
   },
   "source": [
    "## Declaring Scala Variables\n",
    "\n",
    "### `var` - **Mutable** variable (_discouraged_)\n",
    "* Can reassign, like conventional languages\n",
    "\n",
    "### `val` - **Immutable** variable (_encouraged_)\n",
    "* Enables write-once semantics common to many functional languages\n",
    "* Allows compiler to safely perform more ambitious optimizations\n",
    "* Can increase code clarity by renaming values each step of the way"
   ]
  },
  {
   "cell_type": "code",
   "execution_count": null,
   "id": "experienced-marathon",
   "metadata": {},
   "outputs": [],
   "source": [
    "var mutX = 0\n",
    "mutX = 2\n",
    "val constX = 42"
   ]
  },
  {
   "cell_type": "markdown",
   "id": "beautiful-seminar",
   "metadata": {
    "slideshow": {
     "slide_type": "slide"
    }
   },
   "source": [
    "## Chisel Is Embedded in Scala\n",
    "\n",
    "* Chisel designs are Scala programs (i.e. everything we write in this course is Scala)\n",
    "* A Chisel design is simply a Scala program that makes use of the Chisel library\n",
    "* Thanks to Scala language features, using Chisel library operations often feels like a full-fledged language\n",
    "  * Operator overloading and concise syntax"
   ]
  },
  {
   "cell_type": "markdown",
   "id": "fiscal-heather",
   "metadata": {
    "slideshow": {
     "slide_type": "slide"
    }
   },
   "source": [
    "## Chisel Tool Flow (Frontend)\n",
    "\n",
    "<img src=\"images/frontend.svg\" alt=\"Chisel frontend\" style=\"center;width:80%;\"/>\n",
    "\n",
    "* Circuit (`.fir` file) can be passed off to a _backend_ for simulation or implementation"
   ]
  },
  {
   "cell_type": "markdown",
   "id": "regular-reducing",
   "metadata": {
    "slideshow": {
     "slide_type": "slide"
    }
   },
   "source": [
    "## Loading The Chisel Library"
   ]
  },
  {
   "cell_type": "code",
   "execution_count": null,
   "id": "extended-burning",
   "metadata": {
    "slideshow": {
     "slide_type": "-"
    }
   },
   "outputs": [],
   "source": [
    "import chisel3._\n",
    "import chisel3.util._\n",
    "import chisel3.tester._\n",
    "import chisel3.tester.RawTester.test"
   ]
  },
  {
   "cell_type": "markdown",
   "id": "competitive-legislation",
   "metadata": {
    "cell_style": "split",
    "slideshow": {
     "slide_type": "slide"
    }
   },
   "source": [
    "## Simple Chisel Types\n",
    "\n",
    "* Scala literals must be cast to Chisel\n",
    "\n",
    "### `Bool` - single-bit logic signal (`.B`)\n",
    "* Do not confuse with Scala's `Boolean`\n",
    "\n",
    "### `UInt` - unsigned integer (`.U`)\n",
    "* Bitwidth set explicitly or inferred\n",
    "\n",
    "### `SInt` - signed integer (`.S`)\n",
    "* Operates like `UInt` but signed\n"
   ]
  },
  {
   "cell_type": "code",
   "execution_count": null,
   "id": "sexual-dream",
   "metadata": {
    "cell_style": "split"
   },
   "outputs": [],
   "source": [
    "0.B\n",
    "true\n",
    "true.B\n",
    "val myBool: Bool = true.B\n",
    "\n",
    "6\n",
    "6.U\n",
    "6.U(8.W)\n",
    "val myUInt: UInt = 4.U\n",
    "val myUInt8 = 4.U(8.W)\n",
    "\n",
    "-2\n",
    "-2.S"
   ]
  },
  {
   "cell_type": "markdown",
   "id": "handy-desktop",
   "metadata": {
    "slideshow": {
     "slide_type": "slide"
    }
   },
   "source": [
    "## Chisel Operators (Brief Intro)"
   ]
  },
  {
   "cell_type": "markdown",
   "id": "funky-flesh",
   "metadata": {
    "cell_style": "center",
    "slideshow": {
     "slide_type": "-"
    }
   },
   "source": [
    "* Most of the operators you would expect exist\n",
    "    * Some of them have different symbols (e.g. `===` for equality test)\n",
    "    * Pay attention to result widths\n",
    "    * Consult [Chisel Cheat Sheet](https://github.com/freechipsproject/chisel-cheatsheet/releases/download/0.5.1/chisel_cheatsheet.pdf) for brief summary\n",
    "* _**Logical:**_ `!`, `&&`, `||`\n",
    "* _**Arithmetic:**_ `+`, `-`, `*`, `/`, `%`\n",
    "* _**Bitwise:**_ `~`, `&`, `|`, `^`\n",
    "* _**Relational:**_ `===`, `=/=`, `<`, `<=`, `>`, `>=`\n",
    "* _**Shifts:**_ `<<`, `>>`\n",
    "* _**Others:**_ extraction, fill, concatenation, mux, reductions\n"
   ]
  },
  {
   "cell_type": "code",
   "execution_count": null,
   "id": "abstract-heritage",
   "metadata": {
    "cell_style": "center"
   },
   "outputs": [],
   "source": [
    "val a = 7.U\n",
    "val b = 5.U\n",
    "\n",
    "// Not expected to work (needs to be inside Module)\n",
    "// a + b"
   ]
  },
  {
   "cell_type": "markdown",
   "id": "configured-victoria",
   "metadata": {
    "slideshow": {
     "slide_type": "slide"
    }
   },
   "source": [
    "## First Chisel Module"
   ]
  },
  {
   "cell_type": "code",
   "execution_count": null,
   "id": "sound-documentation",
   "metadata": {
    "cell_style": "split"
   },
   "outputs": [],
   "source": [
    "class MyXOR extends Module {\n",
    "    val io = IO(new Bundle {\n",
    "        val a   = Input(Bool())\n",
    "        val b   = Input(Bool())\n",
    "        val c   = Output(Bool())\n",
    "    })\n",
    "    io.c := io.a ^ io.b\n",
    "}"
   ]
  },
  {
   "cell_type": "markdown",
   "id": "divided-green",
   "metadata": {
    "cell_style": "split"
   },
   "source": [
    "<img src=\"images/myxor.svg\" alt=\"MyXOR schematic\"  style=\"width:70%;\"/>"
   ]
  },
  {
   "cell_type": "markdown",
   "id": "operating-sailing",
   "metadata": {
    "slideshow": {
     "slide_type": "slide"
    }
   },
   "source": [
    "## Looking At Generated Design"
   ]
  },
  {
   "cell_type": "code",
   "execution_count": null,
   "id": "cloudy-suggestion",
   "metadata": {
    "cell_style": "split",
    "slideshow": {
     "slide_type": "fragment"
    }
   },
   "outputs": [],
   "source": [
    "println(getVerilog(new MyXOR))"
   ]
  },
  {
   "cell_type": "code",
   "execution_count": null,
   "id": "duplicate-timber",
   "metadata": {
    "cell_style": "split",
    "slideshow": {
     "slide_type": "fragment"
    }
   },
   "outputs": [],
   "source": [
    "visualize(() => new MyXOR)"
   ]
  },
  {
   "cell_type": "markdown",
   "id": "automated-logistics",
   "metadata": {
    "slideshow": {
     "slide_type": "slide"
    }
   },
   "source": [
    "## Chisel Tool Flow (Backend)\n",
    "\n",
    "<img src=\"images/backend.svg\" alt=\"Chisel backend\" style=\"center;width:70%;\"/>"
   ]
  },
  {
   "cell_type": "markdown",
   "id": "optical-glenn",
   "metadata": {
    "slideshow": {
     "slide_type": "slide"
    }
   },
   "source": [
    "## Brief ChiselTest Intro\n",
    "\n",
    "* Can write a Scala program to interact with simulation of elaborated design\n",
    "* Can set inputs and look at outputs\n",
    "* Can use full power of Scala to generate test inputs and outputs to compare with\n",
    "* Will continue to cover more features in coming lectures\n",
    "\n",
    "### `poke` - set value of wire\n",
    "\n",
    "### `peek` - read value of wire\n",
    "\n",
    "### `expect` - read value and compare (assert)"
   ]
  },
  {
   "cell_type": "markdown",
   "id": "lesser-terrorist",
   "metadata": {
    "slideshow": {
     "slide_type": "slide"
    }
   },
   "source": [
    "## ChiselTest Execution"
   ]
  },
  {
   "cell_type": "code",
   "execution_count": null,
   "id": "peaceful-daniel",
   "metadata": {},
   "outputs": [],
   "source": [
    "test(new MyXOR()) { x =>\n",
    "    x.io.a.poke(0.B)\n",
    "    x.io.b.poke(0.B)\n",
    "    x.io.c.expect(0.B)  // 0 ^ 0\n",
    "\n",
    "    x.io.a.poke(0.B)\n",
    "    x.io.b.poke(1.B)\n",
    "    x.io.c.expect(1.B)  // 0 ^ 1\n",
    "\n",
    "    x.io.a.poke(1.B)\n",
    "    x.io.b.poke(0.B)\n",
    "    x.io.c.expect(1.B)  // 1 ^ 0\n",
    "\n",
    "    x.io.a.poke(1.B)\n",
    "    x.io.b.poke(1.B)\n",
    "    x.io.c.expect(0.B)  // 1 ^ 0\n",
    "}"
   ]
  }
 ],
 "metadata": {
  "celltoolbar": "Slideshow",
  "kernelspec": {
   "display_name": "Scala",
   "language": "scala",
   "name": "scala"
  },
  "language_info": {
   "codemirror_mode": "text/x-scala",
   "file_extension": ".scala",
   "mimetype": "text/x-scala",
   "name": "scala",
   "nbconvert_exporter": "script",
   "version": "2.12.10"
  }
 },
 "nbformat": 4,
 "nbformat_minor": 5
}
