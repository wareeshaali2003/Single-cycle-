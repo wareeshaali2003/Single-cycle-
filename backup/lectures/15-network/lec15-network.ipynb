{
 "cells": [
  {
   "cell_type": "markdown",
   "id": "external-thermal",
   "metadata": {
    "slideshow": {
     "slide_type": "slide"
    }
   },
   "source": [
    "## Agile Hardware Design\n",
    "***\n",
    "# Network Design Case Study\n",
    "\n",
    "## Prof. Scott Beamer\n",
    "### sbeamer@ucsc.edu\n",
    "\n",
    "## [CSE 293](https://classes.soe.ucsc.edu/cse293/Winter22/)"
   ]
  },
  {
   "cell_type": "markdown",
   "id": "nominated-consistency",
   "metadata": {
    "slideshow": {
     "slide_type": "slide"
    }
   },
   "source": [
    "## Plan for Today\n",
    "\n",
    "* Sketch of progressive development plan\n",
    "* Starting from a crossbar\n",
    "* Ending with a parameterized network generator"
   ]
  },
  {
   "cell_type": "markdown",
   "id": "regular-reducing",
   "metadata": {
    "slideshow": {
     "slide_type": "slide"
    }
   },
   "source": [
    "## Loading The Chisel Library Into a Notebook"
   ]
  },
  {
   "cell_type": "code",
   "execution_count": null,
   "id": "robust-immigration",
   "metadata": {},
   "outputs": [],
   "source": [
    "val path = System.getProperty(\"user.dir\") + \"/../resource/chisel_deps.sc\"\n",
    "interp.load.module(ammonite.ops.Path(java.nio.file.FileSystems.getDefault().getPath(path)))"
   ]
  },
  {
   "cell_type": "code",
   "execution_count": null,
   "id": "extended-burning",
   "metadata": {
    "slideshow": {
     "slide_type": "-"
    }
   },
   "outputs": [],
   "source": [
    "import chisel3._\n",
    "import chisel3.util._\n",
    "import chisel3.tester._\n",
    "import chisel3.tester.RawTester.test"
   ]
  },
  {
   "cell_type": "markdown",
   "id": "armed-order",
   "metadata": {
    "slideshow": {
     "slide_type": "slide"
    }
   },
   "source": [
    "## Goals for Today\n",
    "\n",
    "* Demonstrate progressive/iterative development of a generator for a _on-chip network_\n",
    "  * Focus on process over polished end result\n",
    "* Design abstractions and apply _inheritance_ to reuse code\n",
    "* Caveats - today's design is a network generator in spirit, but lacks:\n",
    "  * support for many messages in flight\n",
    "  * reasonable test infrastructure\n",
    "  * comprehensive flow control, multi-beat transfers\n",
    "  * deadlock avoidance, quality-of-service (QoS) guarantees"
   ]
  },
  {
   "cell_type": "markdown",
   "id": "daily-manner",
   "metadata": {
    "slideshow": {
     "slide_type": "slide"
    }
   },
   "source": [
    "## Our Crossbar (`XBar`) Revised from Prior Lectures (1/2)"
   ]
  },
  {
   "cell_type": "code",
   "execution_count": null,
   "id": "mental-uganda",
   "metadata": {},
   "outputs": [],
   "source": [
    "class Message(numDests: Int, width: Int) extends Bundle {\n",
    "    val addr = UInt(log2Ceil(numDests+1).W)\n",
    "    val data = UInt(width.W)\n",
    "}\n",
    "\n",
    "class XBarIO(numIns: Int, numOuts: Int, width: Int) extends Bundle {\n",
    "    val in  = Vec(numIns, Flipped(Decoupled(new Message(numOuts, width))))\n",
    "    val out = Vec(numOuts, Decoupled(new Message(numOuts, width)))\n",
    "}"
   ]
  },
  {
   "cell_type": "markdown",
   "id": "wound-success",
   "metadata": {
    "slideshow": {
     "slide_type": "slide"
    }
   },
   "source": [
    "## Our Crossbar (`XBar`) Revised from Prior Lectures (2/2)"
   ]
  },
  {
   "cell_type": "code",
   "execution_count": null,
   "id": "seasonal-demographic",
   "metadata": {},
   "outputs": [],
   "source": [
    "class XBar(numIns: Int, numOuts: Int, width: Int) extends Module {\n",
    "    val io = IO(new XBarIO(numIns, numOuts, width))\n",
    "    val arbs = Seq.fill(numOuts)(Module(new RRArbiter(new Message(numOuts, width), numIns)))\n",
    "    for (ip <- 0 until numIns) {\n",
    "        io.in(ip).ready := arbs.map{ _.io.in(ip).ready }.reduce{ _ || _ }\n",
    "    }\n",
    "    for (op <- 0 until numOuts) {\n",
    "        arbs(op).io.in.zip(io.in).foreach { case (arbIn, ioIn) =>\n",
    "            arbIn.bits <> ioIn.bits\n",
    "            arbIn.valid := ioIn.valid && (ioIn.bits.addr === op.U)\n",
    "        }\n",
    "        io.out(op) <> arbs(op).io.out\n",
    "    }\n",
    "}\n",
    "\n",
    "// declaration example: new XBar(4,4,64)"
   ]
  },
  {
   "cell_type": "markdown",
   "id": "accessory-laser",
   "metadata": {
    "slideshow": {
     "slide_type": "slide"
    }
   },
   "source": [
    "## Refactor Parameters with Case Classes (1/2)"
   ]
  },
  {
   "cell_type": "code",
   "execution_count": null,
   "id": "incorrect-folder",
   "metadata": {},
   "outputs": [],
   "source": [
    "case class XBarParams(numHosts: Int, payloadSize: Int) {\n",
    "    def addrBitW() = log2Ceil(numHosts + 1)\n",
    "}\n",
    "\n",
    "class Message(p: XBarParams) extends Bundle {\n",
    "    val addr = UInt(p.addrBitW.W)\n",
    "    val data = UInt(p.payloadSize.W)\n",
    "}\n",
    "\n",
    "class PortIO(p: XBarParams) extends Bundle {\n",
    "    val in = Flipped(Decoupled(new Message(p)))\n",
    "    val out = Decoupled(new Message(p))\n",
    "}"
   ]
  },
  {
   "cell_type": "markdown",
   "id": "known-yacht",
   "metadata": {
    "slideshow": {
     "slide_type": "slide"
    }
   },
   "source": [
    "## Refactor Parameters with Case Classes (2/2)"
   ]
  },
  {
   "cell_type": "code",
   "execution_count": null,
   "id": "higher-sandwich",
   "metadata": {},
   "outputs": [],
   "source": [
    "class XBar(p: XBarParams) extends Module {\n",
    "    val io = IO(new Bundle {\n",
    "        val ports = Vec(p.numHosts, new PortIO(p))\n",
    "    })\n",
    "    val arbs = Seq.fill(p.numHosts)(Module(new RRArbiter(new Message(p), p.numHosts)))\n",
    "    for (ip <- 0 until p.numHosts) {\n",
    "        io.ports(ip).in.ready := arbs.map{ _.io.in(ip).ready }.reduce{ _ || _ }\n",
    "    }\n",
    "    for (op <- 0 until p.numHosts) {\n",
    "        arbs(op).io.in.zip(io.ports).foreach { case (arbIn, port) =>\n",
    "            arbIn.bits <> port.in.bits\n",
    "            arbIn.valid := port.in.valid && (port.in.bits.addr === op.U)\n",
    "        }\n",
    "        io.ports(op).out <> arbs(op).io.out\n",
    "    }\n",
    "}\n",
    "\n",
    "// declaration example: new XBar(XBarParams(4,64))"
   ]
  },
  {
   "cell_type": "markdown",
   "id": "seven-robert",
   "metadata": {
    "slideshow": {
     "slide_type": "slide"
    }
   },
   "source": [
    "## Template Payload Data Type (1/2)"
   ]
  },
  {
   "cell_type": "code",
   "execution_count": null,
   "id": "dental-sacrifice",
   "metadata": {},
   "outputs": [],
   "source": [
    "case class XBarParams[T <: chisel3.Data](numHosts: Int, payloadT: T) {\n",
    "    def addrBitW() = log2Ceil(numHosts + 1)\n",
    "}\n",
    "\n",
    "class Message[T <: chisel3.Data](p: XBarParams[T]) extends Bundle {\n",
    "    val addr = UInt(p.addrBitW.W)\n",
    "    val data = p.payloadT\n",
    "}\n",
    "\n",
    "class PortIO[T <: chisel3.Data](p: XBarParams[T]) extends Bundle {\n",
    "    val in = Flipped(Decoupled(new Message(p)))\n",
    "    val out = Decoupled(new Message(p))\n",
    "}"
   ]
  },
  {
   "cell_type": "markdown",
   "id": "adolescent-jewel",
   "metadata": {
    "slideshow": {
     "slide_type": "slide"
    }
   },
   "source": [
    "## Template Payload Data Type (2/2)"
   ]
  },
  {
   "cell_type": "code",
   "execution_count": null,
   "id": "military-singing",
   "metadata": {},
   "outputs": [],
   "source": [
    "class XBar[T <: chisel3.Data](p: XBarParams[T]) extends Module {\n",
    "    val io = IO(new Bundle {\n",
    "        val ports = Vec(p.numHosts, new PortIO(p))\n",
    "    })\n",
    "    val arbs = Seq.fill(p.numHosts)(Module(new RRArbiter(new Message(p), p.numHosts)))\n",
    "    for (ip <- 0 until p.numHosts) {\n",
    "        io.ports(ip).in.ready := arbs.map{ _.io.in(ip).ready }.reduce{ _ || _ }\n",
    "    }\n",
    "    for (op <- 0 until p.numHosts) {\n",
    "        arbs(op).io.in.zip(io.ports).foreach { case (arbIn, port) =>\n",
    "            arbIn.bits <> port.in.bits\n",
    "            arbIn.valid := port.in.valid && (port.in.bits.addr === op.U)\n",
    "        }\n",
    "        io.ports(op).out <> arbs(op).io.out\n",
    "    }\n",
    "}\n",
    "\n",
    "// declaration example: new XBar(XBarParams(4,UInt(64.W)))"
   ]
  },
  {
   "cell_type": "markdown",
   "id": "under-mozambique",
   "metadata": {
    "slideshow": {
     "slide_type": "slide"
    }
   },
   "source": [
    "## Need for Multi-hop Networks\n",
    "\n",
    "* Can only make a crossbar so big, at some point will need a _multi-hop_ interconnect\n",
    "* Sending messages over multiple hops requires _routing_ messages to right next hop\n",
    "\n",
    "### Moving to a Ring Network\n",
    "* A _ring network_ is a simple topology in 1-dimension\n",
    "* _Routing:_ (for now) if not at destination, send to next hop\n",
    "* _Plan:_ will develop independently first, then will look for commonality with `XBar`\n",
    "\n",
    "<img src=\"images/ring1.svg\" alt=\"1-way ring network\" style=\"width:70%;margin-left:auto;margin-right:auto\"/>"
   ]
  },
  {
   "cell_type": "markdown",
   "id": "binary-variety",
   "metadata": {
    "slideshow": {
     "slide_type": "slide"
    }
   },
   "source": [
    "## First Implementation of a Ring Network"
   ]
  },
  {
   "cell_type": "code",
   "execution_count": null,
   "id": "central-parts",
   "metadata": {},
   "outputs": [],
   "source": [
    "class RingRouter[T <: chisel3.Data](p: XBarParams[T], id: Int) extends Module {\n",
    "    val io = IO(new Bundle{\n",
    "        val in = Flipped(Decoupled(new Message(p)))\n",
    "        val out = Decoupled(new Message(p))\n",
    "        val host = new PortIO(p)\n",
    "    })\n",
    "    val forMe = (io.in.bits.addr === id.U) && io.in.valid\n",
    "    // INCOMPLETE, but gives spirit\n",
    "    io.host.in.ready := io.out.ready\n",
    "    io.host.out.valid := forMe\n",
    "    io.host.out.bits := io.in.bits\n",
    "    io.in.ready := io.host.out.ready && io.out.ready\n",
    "    io.out.valid := (io.in.fire && !forMe) || io.host.in.fire\n",
    "    io.out.bits := Mux(io.host.in.fire, io.host.in.bits, io.in.bits)\n",
    "}\n",
    "\n",
    "class RingNetwork[T <: chisel3.Data](p: XBarParams[T]) extends Module {\n",
    "    val io = IO(new Bundle {\n",
    "        val ports = Vec(p.numHosts, new PortIO(p))\n",
    "    })\n",
    "    val routers = Seq.tabulate(p.numHosts){ id => new RingRouter(p, id)}\n",
    "    routers.foldLeft(routers.last){ (prev, curr) => prev.io.out <> curr.io.in; curr}\n",
    "    routers.zip(io.ports).foreach { case (router, port) => router.io.host <> port}\n",
    "}"
   ]
  },
  {
   "cell_type": "markdown",
   "id": "rural-hybrid",
   "metadata": {
    "slideshow": {
     "slide_type": "slide"
    }
   },
   "source": [
    "## Looking for Commonality between `XBar` & `RingNetwork`\n",
    "\n",
    "* For users, choosing one or the other requires some code changes\n",
    "* _Commonality:_ both provide abstraction of network with decoupled bidirectional ports (interface)"
   ]
  },
  {
   "cell_type": "code",
   "execution_count": null,
   "id": "asian-louisville",
   "metadata": {},
   "outputs": [],
   "source": [
    "case class NetworkParams[T <: chisel3.Data](numHosts: Int, payloadT: T) {\n",
    "    def addrBitW() = log2Ceil(numHosts + 1)\n",
    "}\n",
    "\n",
    "class Message[T <: chisel3.Data](p: NetworkParams[T]) extends Bundle {\n",
    "    val addr = UInt(p.addrBitW.W)\n",
    "    val data = p.payloadT\n",
    "}\n",
    "\n",
    "class PortIO[T <: chisel3.Data](p: NetworkParams[T]) extends Bundle {\n",
    "    val in = Flipped(Decoupled(new Message(p)))\n",
    "    val out = Decoupled(new Message(p))\n",
    "}\n",
    "\n",
    "abstract class Network[T <: chisel3.Data](p: NetworkParams[T]) extends Module {\n",
    "    val io = IO(new Bundle {\n",
    "        val ports = Vec(p.numHosts, new PortIO(p))\n",
    "    })\n",
    "}"
   ]
  },
  {
   "cell_type": "markdown",
   "id": "corporate-minute",
   "metadata": {
    "slideshow": {
     "slide_type": "slide"
    }
   },
   "source": [
    "## `XBar` Redone with Inherited Interface"
   ]
  },
  {
   "cell_type": "code",
   "execution_count": null,
   "id": "beneficial-clerk",
   "metadata": {
    "slideshow": {
     "slide_type": "-"
    }
   },
   "outputs": [],
   "source": [
    "class XBar[T <: chisel3.Data](p: NetworkParams[T]) extends Network[T](p) {\n",
    "    val arbs = Seq.fill(p.numHosts)(Module(new RRArbiter(new Message(p), p.numHosts)))\n",
    "    for (ip <- 0 until p.numHosts) {\n",
    "        io.ports(ip).in.ready := arbs.map{ _.io.in(ip).ready }.reduce{ _ || _ }\n",
    "    }\n",
    "    for (op <- 0 until p.numHosts) {\n",
    "        arbs(op).io.in.zip(io.ports).foreach { case (arbIn, port) =>\n",
    "            arbIn.bits <> port.in.bits\n",
    "            arbIn.valid := port.in.valid && (port.in.bits.addr === op.U)\n",
    "        }\n",
    "        io.ports(op).out <> arbs(op).io.out\n",
    "    }\n",
    "}\n",
    "\n",
    "// declaration example: new XBar(NetworkParams(4,UInt(64.W)))"
   ]
  },
  {
   "cell_type": "markdown",
   "id": "employed-infrared",
   "metadata": {
    "slideshow": {
     "slide_type": "slide"
    }
   },
   "source": [
    "## `RingNetwork` Redone with Inherited Interface"
   ]
  },
  {
   "cell_type": "code",
   "execution_count": null,
   "id": "helpful-intelligence",
   "metadata": {},
   "outputs": [],
   "source": [
    "class RingRouter[T <: chisel3.Data](p: NetworkParams[T], id: Int) extends Module {\n",
    "    val io = IO(new Bundle{\n",
    "        val in = Flipped(Decoupled(new Message(p)))\n",
    "        val out = Decoupled(new Message(p))\n",
    "        val host = new PortIO(p)\n",
    "    })\n",
    "    val forMe = (io.in.bits.addr === id.U) && io.in.valid\n",
    "    // INCOMPLETE, but gives spirit\n",
    "    io.host.in.ready := io.out.ready\n",
    "    io.host.out.valid := forMe\n",
    "    io.host.out.bits := io.in.bits\n",
    "    io.in.ready := io.host.out.ready && io.out.ready\n",
    "    io.out.valid := (io.in.fire && !forMe) || io.host.in.fire\n",
    "    io.out.bits := Mux(io.host.in.fire, io.host.in.bits, io.in.bits)\n",
    "}\n",
    "\n",
    "class RingNetwork[T <: chisel3.Data](p: NetworkParams[T]) extends Network[T](p) {\n",
    "    val routers = Seq.tabulate(p.numHosts){ id => new RingRouter(p, id)}\n",
    "    routers.foldLeft(routers.last){ (prev, curr) => prev.io.out <> curr.io.in; curr}\n",
    "    routers.zip(io.ports).foreach { case (router, port) => router.io.host <> port}\n",
    "}"
   ]
  },
  {
   "cell_type": "markdown",
   "id": "adequate-tuesday",
   "metadata": {
    "slideshow": {
     "slide_type": "slide"
    }
   },
   "source": [
    "## Improve Ring by Sending Message in Shorter Direction\n",
    "\n",
    "* Make links between routers _bidirectional_ and send message to closer one\n",
    "  * Reduces number of hops\n",
    "  * Will complicate deadlocks and such, but will overlook that for today\n",
    "* Recognize opportunity for _reuse_\n",
    "  * Router (internally) is basically a crossbar (switch) with routing logic\n",
    "  * _Routing logic:_ current router & destination address -> next port\n",
    "\n",
    "<img src=\"images/ring2.svg\" alt=\"2-way ring network\" style=\"width:70%;margin-left:auto;margin-right:auto\"/>"
   ]
  },
  {
   "cell_type": "markdown",
   "id": "satisfied-companion",
   "metadata": {
    "slideshow": {
     "slide_type": "slide"
    }
   },
   "source": [
    "## `RingRouter` Revised for Bidirectional & Use of `XBar`"
   ]
  },
  {
   "cell_type": "code",
   "execution_count": null,
   "id": "israeli-committee",
   "metadata": {
    "slideshow": {
     "slide_type": "-"
    }
   },
   "outputs": [],
   "source": [
    "class RingRouter[T <: chisel3.Data](p: NetworkParams[T], id: Int) extends Module {\n",
    "    val io = IO(new Bundle{\n",
    "        val ports = Vec(3, new PortIO(p)) // port(2) for host\n",
    "    })\n",
    "\n",
    "    def nextHop(destAddr: UInt): UInt = { // routing logic\n",
    "        val distTowards0 = Mux(destAddr < id.U, id.U - destAddr, id.U + (p.numHosts.U - destAddr))\n",
    "        val distTowards1 = Mux(destAddr > id.U, destAddr - id.U, (p.numHosts.U - id.U) + destAddr)\n",
    "        Mux(destAddr === id.U, 2.U, Mux(distTowards0 < distTowards1, 0.U, 1.U))\n",
    "    }\n",
    "\n",
    "    val xbarParams = NetworkParams(3, new Message(p))\n",
    "    val xbar = new XBar(xbarParams)\n",
    "    val portsRouted = io.ports map { port =>  \n",
    "        val routed = Wire(new PortIO(xbarParams))\n",
    "        // INCOMPLETE, need to connect ready & valids\n",
    "        routed.in.bits.addr := nextHop(port.in.bits.addr)\n",
    "        routed.in.bits.data := port.in.bits\n",
    "        port.out.bits := routed.out.bits.data\n",
    "        routed\n",
    "    }\n",
    "\n",
    "    portsRouted.zip(xbar.io.ports).foreach{ case (extPort, xbarPort) => extPort <> xbarPort }\n",
    "}\n",
    "\n",
    "class RingNetwork[T <: chisel3.Data](p: NetworkParams[T]) extends Network[T](p) {\n",
    "    val routers = Seq.tabulate(p.numHosts){ id => new RingRouter(p, id)}\n",
    "    routers.foldLeft(routers.last){ (prev, curr) => prev.io.ports(1) <> curr.io.ports(0); curr }\n",
    "    routers.zip(io.ports).foreach { case (router, port) => router.io.ports(2) <> port}\n",
    "}"
   ]
  },
  {
   "cell_type": "markdown",
   "id": "awful-association",
   "metadata": {
    "slideshow": {
     "slide_type": "slide"
    }
   },
   "source": [
    "## Assessing Revised `RingNetwork`\n",
    "\n",
    "* Parameterized number of hosts √\n",
    "* Parameterized data type √\n",
    "* Sends messages in shorter direction √\n",
    "* _Missing:_ graceful interchangability with `XBar`"
   ]
  },
  {
   "cell_type": "markdown",
   "id": "toxic-mortgage",
   "metadata": {
    "slideshow": {
     "slide_type": "slide"
    }
   },
   "source": [
    "## Making a `Network` Factory (1/2)\n",
    "\n",
    "* Can pattern match on params for type"
   ]
  },
  {
   "cell_type": "code",
   "execution_count": null,
   "id": "seeing-groove",
   "metadata": {},
   "outputs": [],
   "source": [
    "abstract class NetworkParams[T <: chisel3.Data] {\n",
    "    def numHosts: Int\n",
    "    def payloadT: T\n",
    "    def addrBitW() = log2Ceil(numHosts + 1)\n",
    "}\n",
    "\n",
    "case class XBarParams[T <: chisel3.Data](numHosts: Int, payloadT: T) extends NetworkParams[T]\n",
    "\n",
    "case class RingParams[T <: chisel3.Data](numHosts: Int, payloadT: T) extends NetworkParams[T]"
   ]
  },
  {
   "cell_type": "code",
   "execution_count": null,
   "id": "random-payday",
   "metadata": {},
   "outputs": [],
   "source": [
    "// need to eval next slide first\n",
    "\n",
    "object Network {\n",
    "    def apply[T <: chisel3.Data](p: NetworkParams[T]): Network[T] = p match {\n",
    "        case xp: XBarParams[T] => new XBar(xp)\n",
    "        case rp: RingParams[T] => new RingNetwork(rp)\n",
    "    }\n",
    "}\n",
    "\n",
    "// Network(XBarParams(...))"
   ]
  },
  {
   "cell_type": "markdown",
   "id": "excellent-visibility",
   "metadata": {
    "slideshow": {
     "slide_type": "slide"
    }
   },
   "source": [
    "## Making a `Network` Factory (2/2)"
   ]
  },
  {
   "cell_type": "code",
   "execution_count": null,
   "id": "identified-python",
   "metadata": {},
   "outputs": [],
   "source": [
    "class Message[T <: chisel3.Data](p: NetworkParams[T]) extends Bundle {\n",
    "    val addr = UInt(p.addrBitW.W)\n",
    "    val data = p.payloadT\n",
    "}\n",
    "\n",
    "class PortIO[T <: chisel3.Data](p: NetworkParams[T]) extends Bundle {\n",
    "    val in = Flipped(Decoupled(new Message(p)))\n",
    "    val out = Decoupled(new Message(p))\n",
    "}\n",
    "\n",
    "abstract class Network[T <: chisel3.Data](p: NetworkParams[T]) extends Module {\n",
    "    val io = IO(new Bundle {\n",
    "        val ports = Vec(p.numHosts, new PortIO(p))\n",
    "    })\n",
    "}\n",
    "\n",
    "class XBar[T <: chisel3.Data](p: XBarParams[T]) extends Network[T](p) {\n",
    "    val arbs = Seq.fill(p.numHosts)(Module(new RRArbiter(new Message(p), p.numHosts)))\n",
    "    for (ip <- 0 until p.numHosts) {\n",
    "        io.ports(ip).in.ready := arbs.map{ _.io.in(ip).ready }.reduce{ _ || _ }\n",
    "    }\n",
    "    for (op <- 0 until p.numHosts) {\n",
    "        arbs(op).io.in.zip(io.ports).foreach { case (arbIn, port) =>\n",
    "            arbIn.bits <> port.in.bits\n",
    "            arbIn.valid := port.in.valid && (port.in.bits.addr === op.U)\n",
    "        }\n",
    "        io.ports(op).out <> arbs(op).io.out\n",
    "    }\n",
    "}\n",
    "\n",
    "class RingRouter[T <: chisel3.Data](p: RingParams[T], id: Int) extends Module {\n",
    "    val io = IO(new Bundle{\n",
    "        val ports = Vec(3, new PortIO(p)) // port(2) for host\n",
    "    })\n",
    "\n",
    "    val xbarParams = XBarParams(3, new Message(p))\n",
    "    val xbar = new XBar(xbarParams)\n",
    "\n",
    "    def nextHop(destAddr: UInt): UInt = {\n",
    "        val distTowards0 = Mux(destAddr < id.U, id.U - destAddr, id.U + (p.numHosts.U - destAddr))\n",
    "        val distTowards1 = Mux(destAddr > id.U, destAddr - id.U, (p.numHosts.U - id.U) + destAddr)\n",
    "        Mux(destAddr === id.U, 2.U, Mux(distTowards0 < distTowards1, 0.U, 1.U))\n",
    "    }\n",
    "    val portsRouted = io.ports map { port =>  \n",
    "        val routed = Wire(new PortIO(xbarParams))\n",
    "        // INCOMPLETE, need to connect ready & valids\n",
    "        routed.in.bits.addr := nextHop(port.in.bits.addr)\n",
    "        routed.in.bits.data := port.in.bits\n",
    "        port.out.bits := routed.out.bits.data\n",
    "        routed\n",
    "    }\n",
    "\n",
    "    portsRouted.zip(xbar.io.ports).foreach{ case (extPort, xbarPort) => extPort <> xbarPort }\n",
    "}\n",
    "\n",
    "class RingNetwork[T <: chisel3.Data](p: RingParams[T]) extends Network[T](p) {\n",
    "    val routers = Seq.tabulate(p.numHosts){ id => new RingRouter(p, id)}\n",
    "    routers.foldLeft(routers.last){ (prev, curr) => prev.io.ports(1) <> curr.io.ports(0); curr }\n",
    "    routers.zip(io.ports).foreach { case (router, port) => router.io.ports(2) <> port}\n",
    "}"
   ]
  },
  {
   "cell_type": "markdown",
   "id": "sunrise-equation",
   "metadata": {
    "slideshow": {
     "slide_type": "slide"
    }
   },
   "source": [
    "## Let's Add More Network Topologies\n",
    "\n",
    "* What about a _mesh_ or a _torus_ instead of just a ring?\n",
    "* Can we share components between these networks?\n",
    "* Common abstractions:\n",
    "  * Router (including routing logic)\n",
    "  * Router interconnections"
   ]
  },
  {
   "cell_type": "markdown",
   "id": "cubic-tsunami",
   "metadata": {
    "slideshow": {
     "slide_type": "slide"
    }
   },
   "source": [
    "## Torus Topology\n",
    "\n",
    "<img src=\"images/torus.svg\" alt=\"torus network\" style=\"width:70%;margin-left:auto;margin-right:auto\"/>"
   ]
  },
  {
   "cell_type": "markdown",
   "id": "postal-surge",
   "metadata": {
    "slideshow": {
     "slide_type": "slide"
    }
   },
   "source": [
    "## Generalizing Router"
   ]
  },
  {
   "cell_type": "code",
   "execution_count": null,
   "id": "unexpected-sharing",
   "metadata": {
    "slideshow": {
     "slide_type": "-"
    }
   },
   "outputs": [],
   "source": [
    "abstract class Router[T <: chisel3.Data] (p: NetworkParams[T], numPorts: Int, id: Int) extends Module {\n",
    "    val io = IO(new Bundle{\n",
    "        val ports = Vec(numPorts, new PortIO(p))\n",
    "        // convention: last port is for attached host\n",
    "    })\n",
    "\n",
    "    def nextHop(destAddr: UInt): UInt\n",
    "    \n",
    "    val xbarParams = XBarParams(numPorts, new Message(p))\n",
    "    val xbar = new XBar(xbarParams)\n",
    "    val portsRouted = io.ports map { port =>  \n",
    "        val routed = Wire(new PortIO(xbarParams))\n",
    "        // INCOMPLETE, need to connect ready & valids\n",
    "        routed.in.bits.addr := nextHop(port.in.bits.addr)\n",
    "        routed.in.bits.data := port.in.bits\n",
    "        port.out.bits := routed.out.bits.data\n",
    "        routed\n",
    "    }\n",
    "    portsRouted.zip(xbar.io.ports).foreach{ case (extPort, xbarPort) => extPort <> xbarPort }\n",
    "}\n",
    "\n",
    "abstract class MultiHopNetwork[T <: chisel3.Data](p: NetworkParams[T]) extends Network[T](p) {\n",
    "    val routers: Seq[Router[T]]\n",
    "    def connectRouters()\n",
    "    connectRouters()\n",
    "    routers.zip(io.ports).foreach { case (router, port) => router.io.ports.last <> port}\n",
    "}"
   ]
  },
  {
   "cell_type": "markdown",
   "id": "headed-penguin",
   "metadata": {
    "slideshow": {
     "slide_type": "slide"
    }
   },
   "source": [
    "## `RingNetwork` Revised with `MultiHopNetwork`"
   ]
  },
  {
   "cell_type": "code",
   "execution_count": null,
   "id": "subjective-windsor",
   "metadata": {},
   "outputs": [],
   "source": [
    "class RingRouter[T <: chisel3.Data](p: RingParams[T], id: Int) extends Router[T](p,3,id) {\n",
    "    def nextHop(destAddr: UInt): UInt = {\n",
    "        val distTowards0 = Mux(destAddr < id.U, id.U - destAddr, id.U + (p.numHosts.U - destAddr))\n",
    "        val distTowards1 = Mux(destAddr > id.U, destAddr - id.U, (p.numHosts.U - id.U) + destAddr)\n",
    "        Mux(destAddr === id.U, 2.U, Mux(distTowards0 < distTowards1, 0.U, 1.U))\n",
    "    }\n",
    "}\n",
    "\n",
    "class RingNetwork[T <: chisel3.Data](p: RingParams[T]) extends Network[T](p) {\n",
    "    val routers = Seq.tabulate(p.numHosts){ id => new RingRouter(p, id)}\n",
    "    def connectRouters() {\n",
    "        routers.foldLeft(routers.last){ (prev, curr) => prev.io.ports(1) <> curr.io.ports(0); curr }\n",
    "    }\n",
    "}"
   ]
  },
  {
   "cell_type": "markdown",
   "id": "secure-gambling",
   "metadata": {
    "slideshow": {
     "slide_type": "slide"
    }
   },
   "source": [
    "## What About a 2D Torus?"
   ]
  },
  {
   "cell_type": "code",
   "execution_count": null,
   "id": "positive-response",
   "metadata": {},
   "outputs": [],
   "source": [
    "case class TorusParams[T <: chisel3.Data](numHosts: Int, payloadT: T, numRows: Int) extends NetworkParams[T] {\n",
    "    require(numHosts % numRows == 0)\n",
    "    val numCols = numHosts / numRows\n",
    "}\n",
    "\n",
    "class TorusRouter[T <: chisel3.Data](p: TorusParams[T], id: Int) extends Router[T](p,5,id) {\n",
    "    def nextHop(destAddr: UInt): UInt = {\n",
    "        // FILL IN routing logic, e.g. dimension-ordered routing\n",
    "        destAddr // INCORRECT, but will allow to compile \n",
    "    }\n",
    "}\n",
    "\n",
    "class TorusNetwork[T <: chisel3.Data](p: TorusParams[T]) extends MultiHopNetwork[T](p) {\n",
    "    val routers = Seq.tabulate(p.numHosts){ id => new TorusRouter(p, id)}\n",
    "    def connectRouters() {\n",
    "        // FILL IN 2D connectivity\n",
    "    }\n",
    "}"
   ]
  },
  {
   "cell_type": "markdown",
   "id": "intellectual-nancy",
   "metadata": {
    "slideshow": {
     "slide_type": "slide"
    }
   },
   "source": [
    "## We Did It!\n",
    "\n",
    "* Reused common components between network types via _inheritance_\n",
    "  * Inherited interfaces as well as standard connections\n",
    "  * Each network focuses on what makes it unique\n",
    "  * Used case classes to pass around parameters\n",
    "* Can even integrate behind a factory"
   ]
  },
  {
   "cell_type": "code",
   "execution_count": null,
   "id": "pressing-start",
   "metadata": {},
   "outputs": [],
   "source": [
    "object Network {\n",
    "    def apply[T <: chisel3.Data](p: NetworkParams[T]): Network[T] = p match {\n",
    "        case xp: XBarParams[T] => new XBar(xp)\n",
    "        case rp: RingParams[T] => new RingNetwork(rp)\n",
    "        case tp: TorusParams[T] => new TorusNetwork(tp)\n",
    "    }\n",
    "}"
   ]
  },
  {
   "cell_type": "markdown",
   "id": "second-story",
   "metadata": {
    "slideshow": {
     "slide_type": "slide"
    }
   },
   "source": [
    "## Takeaways\n",
    "\n",
    "* With progressive design, don't be afraid to make specific/concrete at first\n",
    "  * Generalize when there is more than one instance\n",
    "* Keep an eye out for _reuse_ opportunities\n",
    "  * Copying & pasting (to start a module) is a sign there may be significant overlap\n",
    "* _Inheritance_ is a powerful tool to reuse implementations and interfaces\n",
    "* Can apply generics (templating) to increase flexibility"
   ]
  }
 ],
 "metadata": {
  "celltoolbar": "Slideshow",
  "kernelspec": {
   "display_name": "Scala",
   "language": "scala",
   "name": "scala"
  },
  "language_info": {
   "codemirror_mode": "text/x-scala",
   "file_extension": ".sc",
   "mimetype": "text/x-scala",
   "name": "scala",
   "nbconvert_exporter": "script",
   "version": "2.13.4"
  }
 },
 "nbformat": 4,
 "nbformat_minor": 5
}
